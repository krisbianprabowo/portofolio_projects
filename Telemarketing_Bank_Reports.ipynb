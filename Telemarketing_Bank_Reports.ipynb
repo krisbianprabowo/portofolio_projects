{
 "cells": [
  {
   "cell_type": "markdown",
   "metadata": {},
   "source": [
    "# **MILESTONE 1 - PHASE 1**\n",
    "\n",
    "Nama : Krisbiantoro Prabowo\n",
    "\n",
    "Batch : 008\n",
    "<hr>"
   ]
  },
  {
   "cell_type": "markdown",
   "metadata": {},
   "source": [
    "## **1. Description**\n",
    "### 1.1 Objective\n",
    "\n",
    "**Milestones 1** ini dibuat guna mengevaluasi Pembelajaran Phase 1 dalam konsep Supervised Learning sebagai berikut:\n",
    "\n",
    "- Mampu memahami konsep supervised learning\n",
    "- Mampu mempersiapkan data untuk digunakan dalam model supervised learning\n",
    "- Mampu mengimplementasikan supervised learning dengan data yang diberikan\n",
    "- Mampu melakukan evaluasi model\n",
    "- Mampu melakukan model tuning\n",
    "\n",
    "<hr>"
   ]
  },
  {
   "cell_type": "markdown",
   "metadata": {},
   "source": [
    "## **2. Import Libraries**\n",
    "> Cell pertama pada notebook harus berisi dan hanya berisi semua library yang digunakan dalam project."
   ]
  },
  {
   "cell_type": "code",
   "execution_count": 344,
   "metadata": {},
   "outputs": [],
   "source": [
    "import pandas as pd\n",
    "import matplotlib.pyplot as plt\n",
    "import seaborn as sns\n",
    "import numpy as np\n",
    "pd.options.mode.chained_assignment = None \n",
    "pd.set_option('display.max_columns', None)"
   ]
  },
  {
   "cell_type": "code",
   "execution_count": 345,
   "metadata": {},
   "outputs": [],
   "source": [
    "colors = sns.color_palette(\"Set2\")\n",
    "colors2 = sns.color_palette(\"Paired\")\n",
    "sns.set_style(\"whitegrid\")"
   ]
  },
  {
   "cell_type": "markdown",
   "metadata": {},
   "source": [
    "## **3. Data Loading**\n",
    "\n",
    "> Bagian ini berisi proses penyiapan data sebelum dilakukan eksplorasi data lebih lanjut. Proses Data Loading dapat berupa memberi nama baru untuk setiap kolom, mengecek ukuran dataset, dll."
   ]
  },
  {
   "cell_type": "code",
   "execution_count": 642,
   "metadata": {},
   "outputs": [],
   "source": [
    "df = pd.read_csv('bank-additional/bank-additional-full.csv', sep=';')"
   ]
  },
  {
   "cell_type": "code",
   "execution_count": 347,
   "metadata": {},
   "outputs": [
    {
     "data": {
      "text/html": [
       "<div>\n",
       "<style scoped>\n",
       "    .dataframe tbody tr th:only-of-type {\n",
       "        vertical-align: middle;\n",
       "    }\n",
       "\n",
       "    .dataframe tbody tr th {\n",
       "        vertical-align: top;\n",
       "    }\n",
       "\n",
       "    .dataframe thead th {\n",
       "        text-align: right;\n",
       "    }\n",
       "</style>\n",
       "<table border=\"1\" class=\"dataframe\">\n",
       "  <thead>\n",
       "    <tr style=\"text-align: right;\">\n",
       "      <th></th>\n",
       "      <th>age</th>\n",
       "      <th>job</th>\n",
       "      <th>marital</th>\n",
       "      <th>education</th>\n",
       "      <th>default</th>\n",
       "      <th>housing</th>\n",
       "      <th>loan</th>\n",
       "      <th>contact</th>\n",
       "      <th>month</th>\n",
       "      <th>day_of_week</th>\n",
       "      <th>duration</th>\n",
       "      <th>campaign</th>\n",
       "      <th>pdays</th>\n",
       "      <th>previous</th>\n",
       "      <th>poutcome</th>\n",
       "      <th>emp.var.rate</th>\n",
       "      <th>cons.price.idx</th>\n",
       "      <th>cons.conf.idx</th>\n",
       "      <th>euribor3m</th>\n",
       "      <th>nr.employed</th>\n",
       "      <th>y</th>\n",
       "    </tr>\n",
       "  </thead>\n",
       "  <tbody>\n",
       "    <tr>\n",
       "      <th>0</th>\n",
       "      <td>56</td>\n",
       "      <td>housemaid</td>\n",
       "      <td>married</td>\n",
       "      <td>basic.4y</td>\n",
       "      <td>no</td>\n",
       "      <td>no</td>\n",
       "      <td>no</td>\n",
       "      <td>telephone</td>\n",
       "      <td>may</td>\n",
       "      <td>mon</td>\n",
       "      <td>261</td>\n",
       "      <td>1</td>\n",
       "      <td>999</td>\n",
       "      <td>0</td>\n",
       "      <td>nonexistent</td>\n",
       "      <td>1.1</td>\n",
       "      <td>93.994</td>\n",
       "      <td>-36.4</td>\n",
       "      <td>4.857</td>\n",
       "      <td>5191.0</td>\n",
       "      <td>no</td>\n",
       "    </tr>\n",
       "    <tr>\n",
       "      <th>1</th>\n",
       "      <td>57</td>\n",
       "      <td>services</td>\n",
       "      <td>married</td>\n",
       "      <td>high.school</td>\n",
       "      <td>unknown</td>\n",
       "      <td>no</td>\n",
       "      <td>no</td>\n",
       "      <td>telephone</td>\n",
       "      <td>may</td>\n",
       "      <td>mon</td>\n",
       "      <td>149</td>\n",
       "      <td>1</td>\n",
       "      <td>999</td>\n",
       "      <td>0</td>\n",
       "      <td>nonexistent</td>\n",
       "      <td>1.1</td>\n",
       "      <td>93.994</td>\n",
       "      <td>-36.4</td>\n",
       "      <td>4.857</td>\n",
       "      <td>5191.0</td>\n",
       "      <td>no</td>\n",
       "    </tr>\n",
       "    <tr>\n",
       "      <th>2</th>\n",
       "      <td>37</td>\n",
       "      <td>services</td>\n",
       "      <td>married</td>\n",
       "      <td>high.school</td>\n",
       "      <td>no</td>\n",
       "      <td>yes</td>\n",
       "      <td>no</td>\n",
       "      <td>telephone</td>\n",
       "      <td>may</td>\n",
       "      <td>mon</td>\n",
       "      <td>226</td>\n",
       "      <td>1</td>\n",
       "      <td>999</td>\n",
       "      <td>0</td>\n",
       "      <td>nonexistent</td>\n",
       "      <td>1.1</td>\n",
       "      <td>93.994</td>\n",
       "      <td>-36.4</td>\n",
       "      <td>4.857</td>\n",
       "      <td>5191.0</td>\n",
       "      <td>no</td>\n",
       "    </tr>\n",
       "    <tr>\n",
       "      <th>3</th>\n",
       "      <td>40</td>\n",
       "      <td>admin.</td>\n",
       "      <td>married</td>\n",
       "      <td>basic.6y</td>\n",
       "      <td>no</td>\n",
       "      <td>no</td>\n",
       "      <td>no</td>\n",
       "      <td>telephone</td>\n",
       "      <td>may</td>\n",
       "      <td>mon</td>\n",
       "      <td>151</td>\n",
       "      <td>1</td>\n",
       "      <td>999</td>\n",
       "      <td>0</td>\n",
       "      <td>nonexistent</td>\n",
       "      <td>1.1</td>\n",
       "      <td>93.994</td>\n",
       "      <td>-36.4</td>\n",
       "      <td>4.857</td>\n",
       "      <td>5191.0</td>\n",
       "      <td>no</td>\n",
       "    </tr>\n",
       "    <tr>\n",
       "      <th>4</th>\n",
       "      <td>56</td>\n",
       "      <td>services</td>\n",
       "      <td>married</td>\n",
       "      <td>high.school</td>\n",
       "      <td>no</td>\n",
       "      <td>no</td>\n",
       "      <td>yes</td>\n",
       "      <td>telephone</td>\n",
       "      <td>may</td>\n",
       "      <td>mon</td>\n",
       "      <td>307</td>\n",
       "      <td>1</td>\n",
       "      <td>999</td>\n",
       "      <td>0</td>\n",
       "      <td>nonexistent</td>\n",
       "      <td>1.1</td>\n",
       "      <td>93.994</td>\n",
       "      <td>-36.4</td>\n",
       "      <td>4.857</td>\n",
       "      <td>5191.0</td>\n",
       "      <td>no</td>\n",
       "    </tr>\n",
       "    <tr>\n",
       "      <th>...</th>\n",
       "      <td>...</td>\n",
       "      <td>...</td>\n",
       "      <td>...</td>\n",
       "      <td>...</td>\n",
       "      <td>...</td>\n",
       "      <td>...</td>\n",
       "      <td>...</td>\n",
       "      <td>...</td>\n",
       "      <td>...</td>\n",
       "      <td>...</td>\n",
       "      <td>...</td>\n",
       "      <td>...</td>\n",
       "      <td>...</td>\n",
       "      <td>...</td>\n",
       "      <td>...</td>\n",
       "      <td>...</td>\n",
       "      <td>...</td>\n",
       "      <td>...</td>\n",
       "      <td>...</td>\n",
       "      <td>...</td>\n",
       "      <td>...</td>\n",
       "    </tr>\n",
       "    <tr>\n",
       "      <th>41183</th>\n",
       "      <td>73</td>\n",
       "      <td>retired</td>\n",
       "      <td>married</td>\n",
       "      <td>professional.course</td>\n",
       "      <td>no</td>\n",
       "      <td>yes</td>\n",
       "      <td>no</td>\n",
       "      <td>cellular</td>\n",
       "      <td>nov</td>\n",
       "      <td>fri</td>\n",
       "      <td>334</td>\n",
       "      <td>1</td>\n",
       "      <td>999</td>\n",
       "      <td>0</td>\n",
       "      <td>nonexistent</td>\n",
       "      <td>-1.1</td>\n",
       "      <td>94.767</td>\n",
       "      <td>-50.8</td>\n",
       "      <td>1.028</td>\n",
       "      <td>4963.6</td>\n",
       "      <td>yes</td>\n",
       "    </tr>\n",
       "    <tr>\n",
       "      <th>41184</th>\n",
       "      <td>46</td>\n",
       "      <td>blue-collar</td>\n",
       "      <td>married</td>\n",
       "      <td>professional.course</td>\n",
       "      <td>no</td>\n",
       "      <td>no</td>\n",
       "      <td>no</td>\n",
       "      <td>cellular</td>\n",
       "      <td>nov</td>\n",
       "      <td>fri</td>\n",
       "      <td>383</td>\n",
       "      <td>1</td>\n",
       "      <td>999</td>\n",
       "      <td>0</td>\n",
       "      <td>nonexistent</td>\n",
       "      <td>-1.1</td>\n",
       "      <td>94.767</td>\n",
       "      <td>-50.8</td>\n",
       "      <td>1.028</td>\n",
       "      <td>4963.6</td>\n",
       "      <td>no</td>\n",
       "    </tr>\n",
       "    <tr>\n",
       "      <th>41185</th>\n",
       "      <td>56</td>\n",
       "      <td>retired</td>\n",
       "      <td>married</td>\n",
       "      <td>university.degree</td>\n",
       "      <td>no</td>\n",
       "      <td>yes</td>\n",
       "      <td>no</td>\n",
       "      <td>cellular</td>\n",
       "      <td>nov</td>\n",
       "      <td>fri</td>\n",
       "      <td>189</td>\n",
       "      <td>2</td>\n",
       "      <td>999</td>\n",
       "      <td>0</td>\n",
       "      <td>nonexistent</td>\n",
       "      <td>-1.1</td>\n",
       "      <td>94.767</td>\n",
       "      <td>-50.8</td>\n",
       "      <td>1.028</td>\n",
       "      <td>4963.6</td>\n",
       "      <td>no</td>\n",
       "    </tr>\n",
       "    <tr>\n",
       "      <th>41186</th>\n",
       "      <td>44</td>\n",
       "      <td>technician</td>\n",
       "      <td>married</td>\n",
       "      <td>professional.course</td>\n",
       "      <td>no</td>\n",
       "      <td>no</td>\n",
       "      <td>no</td>\n",
       "      <td>cellular</td>\n",
       "      <td>nov</td>\n",
       "      <td>fri</td>\n",
       "      <td>442</td>\n",
       "      <td>1</td>\n",
       "      <td>999</td>\n",
       "      <td>0</td>\n",
       "      <td>nonexistent</td>\n",
       "      <td>-1.1</td>\n",
       "      <td>94.767</td>\n",
       "      <td>-50.8</td>\n",
       "      <td>1.028</td>\n",
       "      <td>4963.6</td>\n",
       "      <td>yes</td>\n",
       "    </tr>\n",
       "    <tr>\n",
       "      <th>41187</th>\n",
       "      <td>74</td>\n",
       "      <td>retired</td>\n",
       "      <td>married</td>\n",
       "      <td>professional.course</td>\n",
       "      <td>no</td>\n",
       "      <td>yes</td>\n",
       "      <td>no</td>\n",
       "      <td>cellular</td>\n",
       "      <td>nov</td>\n",
       "      <td>fri</td>\n",
       "      <td>239</td>\n",
       "      <td>3</td>\n",
       "      <td>999</td>\n",
       "      <td>1</td>\n",
       "      <td>failure</td>\n",
       "      <td>-1.1</td>\n",
       "      <td>94.767</td>\n",
       "      <td>-50.8</td>\n",
       "      <td>1.028</td>\n",
       "      <td>4963.6</td>\n",
       "      <td>no</td>\n",
       "    </tr>\n",
       "  </tbody>\n",
       "</table>\n",
       "<p>41188 rows × 21 columns</p>\n",
       "</div>"
      ],
      "text/plain": [
       "       age          job  marital            education  default housing loan  \\\n",
       "0       56    housemaid  married             basic.4y       no      no   no   \n",
       "1       57     services  married          high.school  unknown      no   no   \n",
       "2       37     services  married          high.school       no     yes   no   \n",
       "3       40       admin.  married             basic.6y       no      no   no   \n",
       "4       56     services  married          high.school       no      no  yes   \n",
       "...    ...          ...      ...                  ...      ...     ...  ...   \n",
       "41183   73      retired  married  professional.course       no     yes   no   \n",
       "41184   46  blue-collar  married  professional.course       no      no   no   \n",
       "41185   56      retired  married    university.degree       no     yes   no   \n",
       "41186   44   technician  married  professional.course       no      no   no   \n",
       "41187   74      retired  married  professional.course       no     yes   no   \n",
       "\n",
       "         contact month day_of_week  duration  campaign  pdays  previous  \\\n",
       "0      telephone   may         mon       261         1    999         0   \n",
       "1      telephone   may         mon       149         1    999         0   \n",
       "2      telephone   may         mon       226         1    999         0   \n",
       "3      telephone   may         mon       151         1    999         0   \n",
       "4      telephone   may         mon       307         1    999         0   \n",
       "...          ...   ...         ...       ...       ...    ...       ...   \n",
       "41183   cellular   nov         fri       334         1    999         0   \n",
       "41184   cellular   nov         fri       383         1    999         0   \n",
       "41185   cellular   nov         fri       189         2    999         0   \n",
       "41186   cellular   nov         fri       442         1    999         0   \n",
       "41187   cellular   nov         fri       239         3    999         1   \n",
       "\n",
       "          poutcome  emp.var.rate  cons.price.idx  cons.conf.idx  euribor3m  \\\n",
       "0      nonexistent           1.1          93.994          -36.4      4.857   \n",
       "1      nonexistent           1.1          93.994          -36.4      4.857   \n",
       "2      nonexistent           1.1          93.994          -36.4      4.857   \n",
       "3      nonexistent           1.1          93.994          -36.4      4.857   \n",
       "4      nonexistent           1.1          93.994          -36.4      4.857   \n",
       "...            ...           ...             ...            ...        ...   \n",
       "41183  nonexistent          -1.1          94.767          -50.8      1.028   \n",
       "41184  nonexistent          -1.1          94.767          -50.8      1.028   \n",
       "41185  nonexistent          -1.1          94.767          -50.8      1.028   \n",
       "41186  nonexistent          -1.1          94.767          -50.8      1.028   \n",
       "41187      failure          -1.1          94.767          -50.8      1.028   \n",
       "\n",
       "       nr.employed    y  \n",
       "0           5191.0   no  \n",
       "1           5191.0   no  \n",
       "2           5191.0   no  \n",
       "3           5191.0   no  \n",
       "4           5191.0   no  \n",
       "...            ...  ...  \n",
       "41183       4963.6  yes  \n",
       "41184       4963.6   no  \n",
       "41185       4963.6   no  \n",
       "41186       4963.6  yes  \n",
       "41187       4963.6   no  \n",
       "\n",
       "[41188 rows x 21 columns]"
      ]
     },
     "execution_count": 347,
     "metadata": {},
     "output_type": "execute_result"
    }
   ],
   "source": [
    "df"
   ]
  },
  {
   "cell_type": "markdown",
   "metadata": {},
   "source": [
    "## **4. Exploratory Data Analysis**\n",
    "> Bagian ini berisi eksplorasi data pada dataset diatas dengan menggunakan query, grouping, visualisasi sederhana, dan lain sebagainya."
   ]
  },
  {
   "cell_type": "code",
   "execution_count": 348,
   "metadata": {},
   "outputs": [
    {
     "name": "stdout",
     "output_type": "stream",
     "text": [
      "Numeric Columns:  ['age', 'duration', 'campaign', 'pdays', 'previous', 'emp.var.rate', 'cons.price.idx', 'cons.conf.idx', 'euribor3m', 'nr.employed']\n",
      "Categorical Columns:  ['job', 'marital', 'education', 'default', 'housing', 'loan', 'contact', 'month', 'day_of_week', 'poutcome', 'y']\n"
     ]
    }
   ],
   "source": [
    "num_columns = df.select_dtypes(include=np.number).columns.tolist()\n",
    "cat_columns = df.select_dtypes(include=['object']).columns.tolist()\n",
    "\n",
    "print('Numeric Columns: ', num_columns)\n",
    "print('Categorical Columns: ', cat_columns)"
   ]
  },
  {
   "cell_type": "markdown",
   "metadata": {},
   "source": [
    "- Dataset terdiri dari 10 Kolom `Numerik` dan 11 Kolom `Kategorik`, dimana salah satu dari kolom `Kategorik` merupakan label/target yang nantinya akan kita gunakan sebagai perbandingan dalam evaluasi model-model machine learning yang telah dikembangkan."
   ]
  },
  {
   "cell_type": "code",
   "execution_count": 643,
   "metadata": {},
   "outputs": [
    {
     "data": {
      "text/html": [
       "<div>\n",
       "<style scoped>\n",
       "    .dataframe tbody tr th:only-of-type {\n",
       "        vertical-align: middle;\n",
       "    }\n",
       "\n",
       "    .dataframe tbody tr th {\n",
       "        vertical-align: top;\n",
       "    }\n",
       "\n",
       "    .dataframe thead th {\n",
       "        text-align: right;\n",
       "    }\n",
       "</style>\n",
       "<table border=\"1\" class=\"dataframe\">\n",
       "  <thead>\n",
       "    <tr style=\"text-align: right;\">\n",
       "      <th></th>\n",
       "      <th>age</th>\n",
       "      <th>duration</th>\n",
       "      <th>campaign</th>\n",
       "      <th>pdays</th>\n",
       "      <th>previous</th>\n",
       "      <th>emp.var.rate</th>\n",
       "      <th>cons.price.idx</th>\n",
       "      <th>cons.conf.idx</th>\n",
       "      <th>euribor3m</th>\n",
       "      <th>nr.employed</th>\n",
       "    </tr>\n",
       "  </thead>\n",
       "  <tbody>\n",
       "    <tr>\n",
       "      <th>count</th>\n",
       "      <td>41188.00000</td>\n",
       "      <td>41188.000000</td>\n",
       "      <td>41188.000000</td>\n",
       "      <td>41188.000000</td>\n",
       "      <td>41188.000000</td>\n",
       "      <td>41188.000000</td>\n",
       "      <td>41188.000000</td>\n",
       "      <td>41188.000000</td>\n",
       "      <td>41188.000000</td>\n",
       "      <td>41188.000000</td>\n",
       "    </tr>\n",
       "    <tr>\n",
       "      <th>mean</th>\n",
       "      <td>40.02406</td>\n",
       "      <td>258.285010</td>\n",
       "      <td>2.567593</td>\n",
       "      <td>962.475454</td>\n",
       "      <td>0.172963</td>\n",
       "      <td>0.081886</td>\n",
       "      <td>93.575664</td>\n",
       "      <td>-40.502600</td>\n",
       "      <td>3.621291</td>\n",
       "      <td>5167.035911</td>\n",
       "    </tr>\n",
       "    <tr>\n",
       "      <th>std</th>\n",
       "      <td>10.42125</td>\n",
       "      <td>259.279249</td>\n",
       "      <td>2.770014</td>\n",
       "      <td>186.910907</td>\n",
       "      <td>0.494901</td>\n",
       "      <td>1.570960</td>\n",
       "      <td>0.578840</td>\n",
       "      <td>4.628198</td>\n",
       "      <td>1.734447</td>\n",
       "      <td>72.251528</td>\n",
       "    </tr>\n",
       "    <tr>\n",
       "      <th>min</th>\n",
       "      <td>17.00000</td>\n",
       "      <td>0.000000</td>\n",
       "      <td>1.000000</td>\n",
       "      <td>0.000000</td>\n",
       "      <td>0.000000</td>\n",
       "      <td>-3.400000</td>\n",
       "      <td>92.201000</td>\n",
       "      <td>-50.800000</td>\n",
       "      <td>0.634000</td>\n",
       "      <td>4963.600000</td>\n",
       "    </tr>\n",
       "    <tr>\n",
       "      <th>25%</th>\n",
       "      <td>32.00000</td>\n",
       "      <td>102.000000</td>\n",
       "      <td>1.000000</td>\n",
       "      <td>999.000000</td>\n",
       "      <td>0.000000</td>\n",
       "      <td>-1.800000</td>\n",
       "      <td>93.075000</td>\n",
       "      <td>-42.700000</td>\n",
       "      <td>1.344000</td>\n",
       "      <td>5099.100000</td>\n",
       "    </tr>\n",
       "    <tr>\n",
       "      <th>50%</th>\n",
       "      <td>38.00000</td>\n",
       "      <td>180.000000</td>\n",
       "      <td>2.000000</td>\n",
       "      <td>999.000000</td>\n",
       "      <td>0.000000</td>\n",
       "      <td>1.100000</td>\n",
       "      <td>93.749000</td>\n",
       "      <td>-41.800000</td>\n",
       "      <td>4.857000</td>\n",
       "      <td>5191.000000</td>\n",
       "    </tr>\n",
       "    <tr>\n",
       "      <th>75%</th>\n",
       "      <td>47.00000</td>\n",
       "      <td>319.000000</td>\n",
       "      <td>3.000000</td>\n",
       "      <td>999.000000</td>\n",
       "      <td>0.000000</td>\n",
       "      <td>1.400000</td>\n",
       "      <td>93.994000</td>\n",
       "      <td>-36.400000</td>\n",
       "      <td>4.961000</td>\n",
       "      <td>5228.100000</td>\n",
       "    </tr>\n",
       "    <tr>\n",
       "      <th>max</th>\n",
       "      <td>98.00000</td>\n",
       "      <td>4918.000000</td>\n",
       "      <td>56.000000</td>\n",
       "      <td>999.000000</td>\n",
       "      <td>7.000000</td>\n",
       "      <td>1.400000</td>\n",
       "      <td>94.767000</td>\n",
       "      <td>-26.900000</td>\n",
       "      <td>5.045000</td>\n",
       "      <td>5228.100000</td>\n",
       "    </tr>\n",
       "  </tbody>\n",
       "</table>\n",
       "</div>"
      ],
      "text/plain": [
       "               age      duration      campaign         pdays      previous  \\\n",
       "count  41188.00000  41188.000000  41188.000000  41188.000000  41188.000000   \n",
       "mean      40.02406    258.285010      2.567593    962.475454      0.172963   \n",
       "std       10.42125    259.279249      2.770014    186.910907      0.494901   \n",
       "min       17.00000      0.000000      1.000000      0.000000      0.000000   \n",
       "25%       32.00000    102.000000      1.000000    999.000000      0.000000   \n",
       "50%       38.00000    180.000000      2.000000    999.000000      0.000000   \n",
       "75%       47.00000    319.000000      3.000000    999.000000      0.000000   \n",
       "max       98.00000   4918.000000     56.000000    999.000000      7.000000   \n",
       "\n",
       "       emp.var.rate  cons.price.idx  cons.conf.idx     euribor3m   nr.employed  \n",
       "count  41188.000000    41188.000000   41188.000000  41188.000000  41188.000000  \n",
       "mean       0.081886       93.575664     -40.502600      3.621291   5167.035911  \n",
       "std        1.570960        0.578840       4.628198      1.734447     72.251528  \n",
       "min       -3.400000       92.201000     -50.800000      0.634000   4963.600000  \n",
       "25%       -1.800000       93.075000     -42.700000      1.344000   5099.100000  \n",
       "50%        1.100000       93.749000     -41.800000      4.857000   5191.000000  \n",
       "75%        1.400000       93.994000     -36.400000      4.961000   5228.100000  \n",
       "max        1.400000       94.767000     -26.900000      5.045000   5228.100000  "
      ]
     },
     "execution_count": 643,
     "metadata": {},
     "output_type": "execute_result"
    }
   ],
   "source": [
    "df.describe()"
   ]
  },
  {
   "cell_type": "markdown",
   "metadata": {},
   "source": [
    "### 4.1. Perbandingan Jumlah Nasabah Yang Mengikuti Program Deposito Berjangka"
   ]
  },
  {
   "cell_type": "code",
   "execution_count": 350,
   "metadata": {},
   "outputs": [
    {
     "data": {
      "image/png": "[encoded data removed]",
      "text/plain": [
       "<Figure size 864x288 with 2 Axes>"
      ]
     },
     "metadata": {},
     "output_type": "display_data"
    }
   ],
   "source": [
    "plt.figure(figsize=(12,4))\n",
    "plt.subplot(1,2,1)\n",
    "ax = sns.countplot(x='y', data=df, palette=colors)\n",
    "ax.bar_label(ax.containers[0], fontsize=12)\n",
    "plt.title('Has Subcribed to Term Deposit')\n",
    "\n",
    "plt.subplot(1,2,2)\n",
    "plt.pie(df['y'].value_counts(), labels=df['y'].unique() ,colors = colors, explode= (0, 0.1), autopct='%.2f%%')\n",
    "plt.title('Has Subcribed to Term Deposit')\n",
    "plt.legend()\n",
    "plt.show()"
   ]
  },
  {
   "cell_type": "markdown",
   "metadata": {},
   "source": [
    "- Dari 41188 daftar nama nasabah yang terdapat pada bank ABC, sebanyak 4640 atau 11.27% mengikuti program deposito berjangka. Sedangkan nasabah lainnya yang berjumlah 36548 atau 88.73% tidak mengikuti program ini. Hal ini menandakan kolom label/target bersifat `imbalance` yang berarti besar kemungknan `f1 score` yang dihasilkan pada salah satu kolom khususnya label yes akan jauh lebih rendah dibandingkan dengan label no."
   ]
  },
  {
   "cell_type": "markdown",
   "metadata": {},
   "source": [
    "### 4.2. Perbandingan Pekerjaan Nasabah Yang Mengikuti Program Deposito Berjangka"
   ]
  },
  {
   "cell_type": "code",
   "execution_count": 650,
   "metadata": {},
   "outputs": [
    {
     "data": {
      "image/png": "[encoded data removed]",
      "text/plain": [
       "<Figure size 1296x288 with 2 Axes>"
      ]
     },
     "metadata": {},
     "output_type": "display_data"
    },
    {
     "data": {
      "image/png": "[encoded data removed]",
      "text/plain": [
       "<Figure size 1080x288 with 1 Axes>"
      ]
     },
     "metadata": {},
     "output_type": "display_data"
    }
   ],
   "source": [
    "plt.figure(figsize=(18,4))\n",
    "plt.subplot(1,2,1)\n",
    "ax = sns.countplot(x='job', data=df.query('y==\"yes\"'), order=df['job'].value_counts().index)\n",
    "ax.bar_label(ax.containers[0], fontsize=12)\n",
    "plt.title('Job which has subscribed to Term Deposit')\n",
    "plt.xticks(rotation=45, ha='right')\n",
    "\n",
    "plt.subplot(1,2,2)\n",
    "ax = sns.countplot(x='job', data=df.query('y==\"no\"'), order=df['job'].value_counts().index)\n",
    "ax.bar_label(ax.containers[0], fontsize=12)\n",
    "plt.title('Job which has not Subcribed to Term Deposit')\n",
    "plt.xticks(rotation=45, ha='right')\n",
    "\n",
    "\n",
    "###############################\n",
    "\n",
    "ratio_job = df.query('y==\"yes\"').value_counts('job')\n",
    "ratio_job = ratio_job.astype(np.float64)\n",
    "for i, (k,v) in enumerate(ratio_job.items()):\n",
    "    ratio_job[k]= (ratio_job[k]/df[(df['job']==k)].value_counts('job')*100).round(2)\n",
    "\n",
    "plt.figure(figsize=(15,4))\n",
    "plt.subplot(1,2,1)\n",
    "ax = sns.barplot(y=ratio_job.index, x=ratio_job.values, order=df['job'].value_counts().index)\n",
    "ax.bar_label(ax.containers[0], fontsize=12)\n",
    "plt.title('Percentage Which Has Subcribed From Each job')\n",
    "plt.xticks(rotation=45, ha='right')\n",
    "plt.show()\n"
   ]
  },
  {
   "cell_type": "markdown",
   "metadata": {},
   "source": [
    "- Dari visual diatas, didapatkan informasi bahwa:\n",
    "    - Banyak pekerjaan yang dilakukan nasabah adalah `admin`, kemudian diikuti oleh `blue-collar`, `technician`, dan yang terakhir adalah `unknown`.\n",
    "    - Untuk kategori `unknown`, hal ini bisa saja dari pihak nasabah memilih untuk tidak ingin memberi tahu apa pekerjaan yang ia miliki\n",
    "    - Dari persentase tiap pekerjaan antara mereka yang mengikuti program dan mana yang tidak mengikuti program. `Student` ternyata memiliki rasio yang paling tertinggi hingga 31.43%. Hal ini cukup unik karena umumnya student masih belum memiliki pendapatan yang tetap. Tampaknya dari pihak bank melakukan sebuah promo yang menargetkan kelompok ini dengan minimum deposit yang sangat minim begitupun juga dengan bunga yang cukup tinggi yang dimana tentu saja jumlah maksimal deposit bibatasi. Faktor lain juga bisa dikarenakan kelompok ini di rentang umur mereka, mereka cenderung tertarik mencari ataupun mempelajari bidang keuangan seperti investasi, trading, reksadana, bond, dan lain sebagainya. Sehingga merekapun punya dorongan untuk mencoba mengikuti salah satunya termasuk mengikuti deposito berjangka yang ditawarkan secara khusus untuk kelompok-kelompok ini dari pihak bank\n",
    "    - Selanjutnya diikuti oleh mereka yang pensiun/`retired`. Hal ini wajar, mengingat mereka yang pensiun cenderung ingin menjaga aset atau keuangan mereka di masa tua, sehingga uang yang telah dihasilkan saat mereka masih aktif bekerja mereka gunakan untuk mengikuti program investasi\n",
    "    - Hal yang unik terlihat pada `entrepreneur` dimana hanya sekitar 8.52% saja yang mengikuti program deposito berjangka. Mungkin saja banyak faktor yang terjadi seperti, mereka lebih tertarik untuk mengikutinya melalui penyedia layanan bank lainnya yang memiliki promosi/ketentuan yang lebih baik dari bank ABC. Karena biasanya `entreprenur` membuka rekening lebih dari satu bank, dan bisa saja mereka tidak mengikuti program ini karena ditakutkan uang yang mereka simpan diperlukan sewaktu-waktu untuk keperluan usaha mereka\n",
    "    "
   ]
  },
  {
   "cell_type": "code",
   "execution_count": 352,
   "metadata": {},
   "outputs": [
    {
     "data": {
      "text/plain": [
       "job\n",
       "admin.    10422\n",
       "dtype: int64"
      ]
     },
     "execution_count": 352,
     "metadata": {},
     "output_type": "execute_result"
    }
   ],
   "source": [
    "df.query(\"job=='admin.'\").value_counts('job')"
   ]
  },
  {
   "cell_type": "markdown",
   "metadata": {},
   "source": [
    "### 4.3. Cicilan/Pinjaman Yang Dimiliki Oleh Nasabah"
   ]
  },
  {
   "cell_type": "code",
   "execution_count": 353,
   "metadata": {},
   "outputs": [
    {
     "data": {
      "image/png": "[encoded data removed]",
      "text/plain": [
       "<Figure size 1584x360 with 3 Axes>"
      ]
     },
     "metadata": {},
     "output_type": "display_data"
    }
   ],
   "source": [
    "plt.figure(figsize=(22,5))\n",
    "plt.subplot(1,3,1)\n",
    "ax = sns.countplot(x='default', data=df.query('y==\"yes\"'), palette=colors)\n",
    "ax.bar_label(ax.containers[0], fontsize=12)\n",
    "plt.title('Has Credit in Default?')\n",
    "\n",
    "plt.subplot(1,3,2)\n",
    "ax = sns.countplot(x='housing', data=df.query('y==\"yes\"'), palette=colors)\n",
    "ax.bar_label(ax.containers[0], fontsize=12)\n",
    "plt.title('Has Housing Loan?')\n",
    "\n",
    "plt.subplot(1,3,3)\n",
    "ax = sns.countplot(x='loan', data=df.query('y==\"yes\"'), palette=colors)\n",
    "ax.bar_label(ax.containers[0], fontsize=12)\n",
    "plt.title('Has Personal Loan?')\n",
    "\n",
    "plt.show()"
   ]
  },
  {
   "cell_type": "markdown",
   "metadata": {},
   "source": [
    "- Nasabah yang mengikuti program deposito berjangka, sebanyak 4197 tidak mengalami permasalahan dalam penggunaan kartu kreditnya. Namun sebanyak 443 tidak diketahui apakah pernah mengalami permasalahan dalam kartu kredit meskipun terjadi di bank lainnya, mungkin ini bisa saja karena pihak nasabah tidak ingin memberi tahu informasi tersebut sehingga dikategorikan dengan unknown. Karena bisa saja ini masih sah-sah diterima oleh bank dengan catatan jika mereka ingin mengaktivasi layanan kredit pada bank ini harus melewati prosedur tertentu.\n",
    "- lebih dari 50% nasabah atau sebanyak 2507 nasabah telah memiliki cicilan rumah, ini sangat umum terjadi pada era ini, dikarenakan harga rumah yang mahal dan tidak memungkinkanya nasabah untuk membeli rumah secara kontan/cash\n",
    "- Banyak nasabah yang mengikuti program ini tidak memiliki pinjaman pribadi terhadap pihak-pihak tertentu. Karena bisa saja mereka yang masih punya pinjaman berpikir untuk lebih memilih melunaskan hutangnya terlebih dahulu sebelum mengikuti program ini"
   ]
  },
  {
   "cell_type": "markdown",
   "metadata": {},
   "source": [
    "### 4.4. Hasil Pada Kampanye Sebelumnya"
   ]
  },
  {
   "cell_type": "code",
   "execution_count": 355,
   "metadata": {},
   "outputs": [
    {
     "data": {
      "image/png": "[encoded data removed]",
      "text/plain": [
       "<Figure size 1296x288 with 2 Axes>"
      ]
     },
     "metadata": {},
     "output_type": "display_data"
    },
    {
     "data": {
      "image/png": "[encoded data removed]",
      "text/plain": [
       "<Figure size 1080x288 with 1 Axes>"
      ]
     },
     "metadata": {},
     "output_type": "display_data"
    }
   ],
   "source": [
    "plt.figure(figsize=(18, 4))\n",
    "plt.subplot(1,2,1)\n",
    "ax = sns.countplot(x='poutcome', data=df, palette=colors)\n",
    "ax.bar_label(ax.containers[0], fontsize=12)\n",
    "plt.title('Previous Campaign Result')\n",
    "\n",
    "plt.subplot(1,2,2)\n",
    "ax = sns.countplot(x='previous', data=df, palette=colors)\n",
    "ax.bar_label(ax.containers[0], fontsize=12)\n",
    "plt.title('Previous Campaign Contacted')\n",
    "\n",
    "plt.figure(figsize=(15,4))\n",
    "\n",
    "plt.subplot(1,2,1)\n",
    "plt.pie(df.query('poutcome!=\"nonexistent\"').value_counts('poutcome'), labels=df[(df['poutcome']!=\"nonexistent\")].value_counts('poutcome').index ,colors = colors, explode= (0, 0.1), autopct='%.2f%%')\n",
    "plt.title('Previous Campaign Result in Percentage')\n",
    "plt.legend()\n",
    "\n",
    "plt.show()"
   ]
  },
  {
   "cell_type": "markdown",
   "metadata": {},
   "source": [
    "- Dari kampanya yang dilakukan sebelum kampanye ini, nasabah yang dikontak hanya sebanyak 5625 nasabah\n",
    "- Dimana mayoritas nasabah atau sebanyak 4561 nasabah hanya dikontak satu kali dalam kampanye ini\n",
    "- Hanya terdapat satu nasabah yang dihubungi hingga 7 kali dan 5 nasabah hingga 6 kali pada kampanye sebelumnya\n",
    "- Persentase keberhasilan pada kampanye sebelumnya sebesar 24.41%\n",
    "- Mayoritas nasabah tidak dihubungi pada kampanye sebelumnya, mungkin memang hanya event atau promo khusus dengan ketentuan tertentu yang harus dipenuhi oleh nasabah"
   ]
  },
  {
   "cell_type": "markdown",
   "metadata": {},
   "source": [
    "### 4.5. Selisih Yang Terjadi Pada Kampanye Sebelumnya"
   ]
  },
  {
   "cell_type": "code",
   "execution_count": 356,
   "metadata": {},
   "outputs": [
    {
     "name": "stdout",
     "output_type": "stream",
     "text": [
      "Selisih Antara Outcome(NonExisstent) dengan Previous:  0\n"
     ]
    }
   ],
   "source": [
    "poutcome_index = df.query('poutcome==\"nonexistent\"').index\n",
    "previous_index = df.query('previous==0').index\n",
    "pdays_index = df.query('pdays==999').index\n",
    "\n",
    "print('Selisih Antara Outcome(NonExisstent) dengan Previous: ', len(list(set(poutcome_index)-set(previous_index))))"
   ]
  },
  {
   "cell_type": "code",
   "execution_count": 357,
   "metadata": {},
   "outputs": [],
   "source": [
    "count_prev = df.query('previous==0').value_counts('previous').tolist()\n",
    "count_pday = df.query('pdays==999').value_counts('pdays').tolist()\n",
    "count_both = count_prev+count_pday\n"
   ]
  },
  {
   "cell_type": "code",
   "execution_count": 653,
   "metadata": {},
   "outputs": [
    {
     "data": {
      "text/plain": [
       "poutcome\n",
       "failure    4110\n",
       "dtype: int64"
      ]
     },
     "execution_count": 653,
     "metadata": {},
     "output_type": "execute_result"
    }
   ],
   "source": [
    "df.query('pdays==999 & previous!=0').value_counts('poutcome')"
   ]
  },
  {
   "cell_type": "code",
   "execution_count": 358,
   "metadata": {},
   "outputs": [
    {
     "data": {
      "image/png": "[encoded data removed]",
      "text/plain": [
       "<Figure size 432x288 with 1 Axes>"
      ]
     },
     "metadata": {},
     "output_type": "display_data"
    },
    {
     "name": "stdout",
     "output_type": "stream",
     "text": [
      "Selisih Antara Previous dan Pdays:  4110\n",
      "Selisih Antara Previous dan Pdays dimana Previous==0:  0\n"
     ]
    }
   ],
   "source": [
    "ax = sns.barplot(y=count_both, x= [\"Previous\", \"Pdays\"], palette=colors)\n",
    "ax.bar_label(ax.containers[0], fontsize=12)\n",
    "plt.title('Previous Campaign Contacted VS Pdays')\n",
    "plt.show()\n",
    "\n",
    "print('Selisih Antara Previous dan Pdays: ', len(list(set(pdays_index)-set(previous_index))))\n",
    "pdays0_index = df.query('pdays==999 & previous==0').index\n",
    "print('Selisih Antara Previous dan Pdays dimana Previous==0: ', len(list(set(pdays0_index)-set(previous_index))))"
   ]
  },
  {
   "cell_type": "markdown",
   "metadata": {},
   "source": [
    "- Terdapat sebuah kejanggalan dimana berdasarkan nilai pada kolom `previous`, jumlah nasabah yang dihubungi sebanyak 35563 nasabah. Sedangkan jika dibandingkan dengan jumlah nasabah yang terakhir dikontak dari kampanye sebelumnya(`pdays`) terdapat hingga 39673 nasabah.\n",
    "- Selisih yang dihasilkan cukup tinggi yang dimana dari pengecekan sebelumnya sebanyak 35563 nasabah yang terdapat pada `pdays` memang benar-benar tidak dihubungi sama sekali pada kampanye sebelumnya.\n",
    "- Selisihnya atau sebanyak 4110 nasabah ada kemungkinan pernah dihubungi, dimana mereka ternyata memiliki status `failure` atau tidak berhasil pada kampanye yang sebelumnya\n",
    "- Oleh karena itu khusus pada nasabah ini (4110) akan kita isi nilainya dengan nilai mean/median pada tahap data prepocessing bagian `handling missing value`\n",
    "- Sisa nasabah yang terbukti benar-benar tidak dihubungi/mengikuti program sebelumnya, akan dikelompokkan jadi satu. Hal ini berarti kita akan sekaligus melakukan `feature creation` untuk menentukan kelompok nasabah berdasarkan rentang waktu terakhir dihubungi(berdasarkan kolom `pdays`)"
   ]
  },
  {
   "cell_type": "code",
   "execution_count": 662,
   "metadata": {},
   "outputs": [
    {
     "data": {
      "text/plain": [
       "[306]"
      ]
     },
     "execution_count": 662,
     "metadata": {},
     "output_type": "execute_result"
    }
   ],
   "source": [
    "count_camp = df.query('campaign>4 & y==\"yes\"').value_counts('y').tolist()\n",
    "count_camp4= df.query('campaign<=4 & y==\"yes\"').value_counts('y').tolist()\n",
    "count_both = count_camp+count_camp4\n",
    "\n"
   ]
  },
  {
   "cell_type": "markdown",
   "metadata": {},
   "source": [
    "### 4.6. Kecenderungan Pada Intensitas Jumlah Kontak Yang Dilakukan"
   ]
  },
  {
   "cell_type": "code",
   "execution_count": 667,
   "metadata": {},
   "outputs": [
    {
     "data": {
      "image/png": "[encoded data removed]",
      "text/plain": [
       "<Figure size 1080x288 with 2 Axes>"
      ]
     },
     "metadata": {},
     "output_type": "display_data"
    },
    {
     "data": {
      "image/png": "[encoded data removed]",
      "text/plain": [
       "<Figure size 1080x288 with 2 Axes>"
      ]
     },
     "metadata": {},
     "output_type": "display_data"
    }
   ],
   "source": [
    "campaign_more = df.query('campaign>4').value_counts('y')/df.query('campaign>4').value_counts('y').sum()*100\n",
    "campaign_less = df.query('campaign<=4').value_counts('y')/df.query('campaign<=4').value_counts('y').sum()*100\n",
    "plt.figure(figsize=(15,4))\n",
    "\n",
    "plt.subplot(1,2,1)\n",
    "plt.pie(campaign_more, labels= campaign_more.index, colors = colors, explode= (0, 0.1), autopct='%.2f%%')\n",
    "plt.title('Campaign Result in Percentage for Campaign>4')\n",
    "plt.legend()\n",
    "\n",
    "plt.subplot(1,2,2)\n",
    "plt.pie(campaign_less, labels= campaign_less.index, colors = colors, explode= (0, 0.1), autopct='%.2f%%')\n",
    "plt.title('Campaign Result in Percentage for Campaign<=4')\n",
    "plt.legend()\n",
    "\n",
    "plt.figure(figsize=(15,4))\n",
    "plt.subplot(1,2,1)\n",
    "ax = sns.barplot(y=count_both, x= [\"Campaign>4\", \"Campaign<=4\"], palette=colors)\n",
    "ax.bar_label(ax.containers[0], fontsize=12)\n",
    "plt.title('Campaign <=4 VS Campaign>4')\n",
    "\n",
    "plt.subplot(1,2,2)\n",
    "plt.pie(count_both, labels= [\"Campaign>4\", \"Campaign<=4\"], colors = colors, explode= (0, 0.1), autopct='%.2f%%')\n",
    "plt.title('Campaign Result in Percentage')\n",
    "plt.legend()\n",
    "plt.show()\n"
   ]
  },
  {
   "cell_type": "markdown",
   "metadata": {},
   "source": [
    "- Balik lagi ke kampanye sekarang atau program deposito berjangka ini, didapatkan bahwa nasabah yang dihubungi <=4 kali justru memiliki rasio yang tinggi sebanyak 11.97%. Mereka juga berkontribusi jauh sekali dibandingkan >4 hingga 4334 nasabah atau mewakili sebesar 93.41% dari total nasabah yang mengikuti program deposito berjangka\n",
    "- Mereka yang dihubungi lebih dari 4x hanya mewakili sebagian kecil atau sebesar 6.59% dari keseluruhan nasabah yang mengikuti program ini. Dan rasio yang mengikuti dibandingkan yang tidak sangatlah kecil hanya 6.14%"
   ]
  },
  {
   "cell_type": "markdown",
   "metadata": {},
   "source": [
    "### 4.7. Kecenderungan Pada Intensitas Durasi Kontak"
   ]
  },
  {
   "cell_type": "code",
   "execution_count": 360,
   "metadata": {},
   "outputs": [
    {
     "data": {
      "text/plain": [
       "<matplotlib.legend.Legend at 0x7fee8a7e4610>"
      ]
     },
     "execution_count": 360,
     "metadata": {},
     "output_type": "execute_result"
    },
    {
     "data": {
      "image/png": "[encoded data removed]",
      "text/plain": [
       "<Figure size 1080x288 with 2 Axes>"
      ]
     },
     "metadata": {},
     "output_type": "display_data"
    }
   ],
   "source": [
    "campdur_more = df.query('duration>=180').value_counts('y')\n",
    "campdur_less = df.query('duration<180').value_counts('y')\n",
    "plt.figure(figsize=(15,4))\n",
    "\n",
    "plt.subplot(1,2,1)\n",
    "plt.pie(campdur_more, labels= campdur_more.index, colors = colors, explode= (0, 0.1), autopct='%.2f%%')\n",
    "plt.title('Campaign Result in Percentage for Duration>180')\n",
    "plt.legend()\n",
    "\n",
    "plt.subplot(1,2,2)\n",
    "plt.pie(campdur_less, labels= campdur_less.index, colors = colors, explode= (0, 0.1), autopct='%.2f%%')\n",
    "plt.title('Campaign Result in Percentage for Duration<=180')\n",
    "plt.legend()"
   ]
  },
  {
   "cell_type": "markdown",
   "metadata": {},
   "source": [
    "- Durasi atau lamanya waktu yang dihabiskan dalam kontak terakhir, ternyata sangat mempengaruhi keputusan pelanggan untuk mengikuti program ini.\n",
    "- Hal ini terbukti dimana durasi telpon yang melebihi 180 detik atau lebih dari 3 menit, 19.82% dari mereka akhirnya mengikuti program\n",
    "- Sedangkan durasi telpon kkurang dari 180 detik, hanya sekitar 2.7% saja yang pada akhirnya mengikuti program. Ini wajar terjadi karena durasi telpon yang singkat menandakan bahwa pihak nasabah yang menerima telpon tidak tertarik dengan kampanye/program yang sedang dilaksanakan oleh pihak bank ABC"
   ]
  },
  {
   "cell_type": "markdown",
   "metadata": {},
   "source": [
    "### 4.7. Column Analysis"
   ]
  },
  {
   "cell_type": "code",
   "execution_count": 361,
   "metadata": {},
   "outputs": [
    {
     "data": {
      "text/html": [
       "<div>\n",
       "<style scoped>\n",
       "    .dataframe tbody tr th:only-of-type {\n",
       "        vertical-align: middle;\n",
       "    }\n",
       "\n",
       "    .dataframe tbody tr th {\n",
       "        vertical-align: top;\n",
       "    }\n",
       "\n",
       "    .dataframe thead th {\n",
       "        text-align: right;\n",
       "    }\n",
       "</style>\n",
       "<table border=\"1\" class=\"dataframe\">\n",
       "  <thead>\n",
       "    <tr style=\"text-align: right;\">\n",
       "      <th></th>\n",
       "      <th>age</th>\n",
       "      <th>duration</th>\n",
       "      <th>campaign</th>\n",
       "      <th>pdays</th>\n",
       "      <th>previous</th>\n",
       "      <th>emp.var.rate</th>\n",
       "      <th>cons.price.idx</th>\n",
       "      <th>cons.conf.idx</th>\n",
       "      <th>euribor3m</th>\n",
       "      <th>nr.employed</th>\n",
       "    </tr>\n",
       "  </thead>\n",
       "  <tbody>\n",
       "    <tr>\n",
       "      <th>age</th>\n",
       "      <td>1.000000</td>\n",
       "      <td>-0.000866</td>\n",
       "      <td>0.004594</td>\n",
       "      <td>-0.034369</td>\n",
       "      <td>0.024365</td>\n",
       "      <td>-0.000371</td>\n",
       "      <td>0.000857</td>\n",
       "      <td>0.129372</td>\n",
       "      <td>0.010767</td>\n",
       "      <td>-0.017725</td>\n",
       "    </tr>\n",
       "    <tr>\n",
       "      <th>duration</th>\n",
       "      <td>-0.000866</td>\n",
       "      <td>1.000000</td>\n",
       "      <td>-0.071699</td>\n",
       "      <td>-0.047577</td>\n",
       "      <td>0.020640</td>\n",
       "      <td>-0.027968</td>\n",
       "      <td>0.005312</td>\n",
       "      <td>-0.008173</td>\n",
       "      <td>-0.032897</td>\n",
       "      <td>-0.044703</td>\n",
       "    </tr>\n",
       "    <tr>\n",
       "      <th>campaign</th>\n",
       "      <td>0.004594</td>\n",
       "      <td>-0.071699</td>\n",
       "      <td>1.000000</td>\n",
       "      <td>0.052584</td>\n",
       "      <td>-0.079141</td>\n",
       "      <td>0.150754</td>\n",
       "      <td>0.127836</td>\n",
       "      <td>-0.013733</td>\n",
       "      <td>0.135133</td>\n",
       "      <td>0.144095</td>\n",
       "    </tr>\n",
       "    <tr>\n",
       "      <th>pdays</th>\n",
       "      <td>-0.034369</td>\n",
       "      <td>-0.047577</td>\n",
       "      <td>0.052584</td>\n",
       "      <td>1.000000</td>\n",
       "      <td>-0.587514</td>\n",
       "      <td>0.271004</td>\n",
       "      <td>0.078889</td>\n",
       "      <td>-0.091342</td>\n",
       "      <td>0.296899</td>\n",
       "      <td>0.372605</td>\n",
       "    </tr>\n",
       "    <tr>\n",
       "      <th>previous</th>\n",
       "      <td>0.024365</td>\n",
       "      <td>0.020640</td>\n",
       "      <td>-0.079141</td>\n",
       "      <td>-0.587514</td>\n",
       "      <td>1.000000</td>\n",
       "      <td>-0.420489</td>\n",
       "      <td>-0.203130</td>\n",
       "      <td>-0.050936</td>\n",
       "      <td>-0.454494</td>\n",
       "      <td>-0.501333</td>\n",
       "    </tr>\n",
       "    <tr>\n",
       "      <th>emp.var.rate</th>\n",
       "      <td>-0.000371</td>\n",
       "      <td>-0.027968</td>\n",
       "      <td>0.150754</td>\n",
       "      <td>0.271004</td>\n",
       "      <td>-0.420489</td>\n",
       "      <td>1.000000</td>\n",
       "      <td>0.775334</td>\n",
       "      <td>0.196041</td>\n",
       "      <td>0.972245</td>\n",
       "      <td>0.906970</td>\n",
       "    </tr>\n",
       "    <tr>\n",
       "      <th>cons.price.idx</th>\n",
       "      <td>0.000857</td>\n",
       "      <td>0.005312</td>\n",
       "      <td>0.127836</td>\n",
       "      <td>0.078889</td>\n",
       "      <td>-0.203130</td>\n",
       "      <td>0.775334</td>\n",
       "      <td>1.000000</td>\n",
       "      <td>0.058986</td>\n",
       "      <td>0.688230</td>\n",
       "      <td>0.522034</td>\n",
       "    </tr>\n",
       "    <tr>\n",
       "      <th>cons.conf.idx</th>\n",
       "      <td>0.129372</td>\n",
       "      <td>-0.008173</td>\n",
       "      <td>-0.013733</td>\n",
       "      <td>-0.091342</td>\n",
       "      <td>-0.050936</td>\n",
       "      <td>0.196041</td>\n",
       "      <td>0.058986</td>\n",
       "      <td>1.000000</td>\n",
       "      <td>0.277686</td>\n",
       "      <td>0.100513</td>\n",
       "    </tr>\n",
       "    <tr>\n",
       "      <th>euribor3m</th>\n",
       "      <td>0.010767</td>\n",
       "      <td>-0.032897</td>\n",
       "      <td>0.135133</td>\n",
       "      <td>0.296899</td>\n",
       "      <td>-0.454494</td>\n",
       "      <td>0.972245</td>\n",
       "      <td>0.688230</td>\n",
       "      <td>0.277686</td>\n",
       "      <td>1.000000</td>\n",
       "      <td>0.945154</td>\n",
       "    </tr>\n",
       "    <tr>\n",
       "      <th>nr.employed</th>\n",
       "      <td>-0.017725</td>\n",
       "      <td>-0.044703</td>\n",
       "      <td>0.144095</td>\n",
       "      <td>0.372605</td>\n",
       "      <td>-0.501333</td>\n",
       "      <td>0.906970</td>\n",
       "      <td>0.522034</td>\n",
       "      <td>0.100513</td>\n",
       "      <td>0.945154</td>\n",
       "      <td>1.000000</td>\n",
       "    </tr>\n",
       "  </tbody>\n",
       "</table>\n",
       "</div>"
      ],
      "text/plain": [
       "                     age  duration  campaign     pdays  previous  \\\n",
       "age             1.000000 -0.000866  0.004594 -0.034369  0.024365   \n",
       "duration       -0.000866  1.000000 -0.071699 -0.047577  0.020640   \n",
       "campaign        0.004594 -0.071699  1.000000  0.052584 -0.079141   \n",
       "pdays          -0.034369 -0.047577  0.052584  1.000000 -0.587514   \n",
       "previous        0.024365  0.020640 -0.079141 -0.587514  1.000000   \n",
       "emp.var.rate   -0.000371 -0.027968  0.150754  0.271004 -0.420489   \n",
       "cons.price.idx  0.000857  0.005312  0.127836  0.078889 -0.203130   \n",
       "cons.conf.idx   0.129372 -0.008173 -0.013733 -0.091342 -0.050936   \n",
       "euribor3m       0.010767 -0.032897  0.135133  0.296899 -0.454494   \n",
       "nr.employed    -0.017725 -0.044703  0.144095  0.372605 -0.501333   \n",
       "\n",
       "                emp.var.rate  cons.price.idx  cons.conf.idx  euribor3m  \\\n",
       "age                -0.000371        0.000857       0.129372   0.010767   \n",
       "duration           -0.027968        0.005312      -0.008173  -0.032897   \n",
       "campaign            0.150754        0.127836      -0.013733   0.135133   \n",
       "pdays               0.271004        0.078889      -0.091342   0.296899   \n",
       "previous           -0.420489       -0.203130      -0.050936  -0.454494   \n",
       "emp.var.rate        1.000000        0.775334       0.196041   0.972245   \n",
       "cons.price.idx      0.775334        1.000000       0.058986   0.688230   \n",
       "cons.conf.idx       0.196041        0.058986       1.000000   0.277686   \n",
       "euribor3m           0.972245        0.688230       0.277686   1.000000   \n",
       "nr.employed         0.906970        0.522034       0.100513   0.945154   \n",
       "\n",
       "                nr.employed  \n",
       "age               -0.017725  \n",
       "duration          -0.044703  \n",
       "campaign           0.144095  \n",
       "pdays              0.372605  \n",
       "previous          -0.501333  \n",
       "emp.var.rate       0.906970  \n",
       "cons.price.idx     0.522034  \n",
       "cons.conf.idx      0.100513  \n",
       "euribor3m          0.945154  \n",
       "nr.employed        1.000000  "
      ]
     },
     "execution_count": 361,
     "metadata": {},
     "output_type": "execute_result"
    }
   ],
   "source": [
    "df.corr()"
   ]
  },
  {
   "cell_type": "code",
   "execution_count": 362,
   "metadata": {},
   "outputs": [
    {
     "name": "stdout",
     "output_type": "stream",
     "text": [
      "Column: age\n",
      "low: [8]\n",
      "====================\n",
      "Column: duration\n",
      "low: [9]\n",
      "====================\n",
      "Column: campaign\n",
      "low: [5]\n",
      "====================\n",
      "Column: pdays\n",
      "low: [5]\n",
      "====================\n",
      "Column: previous\n",
      "low: [4]\n",
      "====================\n",
      "Column: emp.var.rate\n",
      "low: [2]\n",
      "====================\n",
      "Column: cons.price.idx\n",
      "low: [4]\n",
      "====================\n",
      "Column: cons.conf.idx\n",
      "low: [5]\n",
      "====================\n",
      "Column: euribor3m\n",
      "low: [2]\n",
      "====================\n",
      "Column: nr.employed\n",
      "low: [2]\n",
      "====================\n"
     ]
    }
   ],
   "source": [
    "df_cor=df.corr()\n",
    "for i in df_cor:\n",
    "    j=0\n",
    "    df_cor[i] = np.where(df_cor[i].abs()>0.1, df_cor[i], 'low')\n",
    "\n",
    "for i in df_cor:\n",
    "    print(f'Column: {i}')\n",
    "    low_corr = df_cor[i][(df_cor[i] == \"low\")].value_counts().tolist()\n",
    "    if low_corr:\n",
    "        print('low:',low_corr)\n",
    "    else:\n",
    "        print('low:',0)\n",
    "    print(\"=\"*20)\n"
   ]
  },
  {
   "cell_type": "markdown",
   "metadata": {},
   "source": [
    "- Nilai korelasi pada kolom-kolom numerik bervariasi namun cenderung banyak yang rendah. Dimana kolom `duration` bahkan memiliki korelasi rendah dengan semua kolom numerik"
   ]
  },
  {
   "cell_type": "code",
   "execution_count": 363,
   "metadata": {},
   "outputs": [
    {
     "data": {
      "text/html": [
       "<div>\n",
       "<style scoped>\n",
       "    .dataframe tbody tr th:only-of-type {\n",
       "        vertical-align: middle;\n",
       "    }\n",
       "\n",
       "    .dataframe tbody tr th {\n",
       "        vertical-align: top;\n",
       "    }\n",
       "\n",
       "    .dataframe thead th {\n",
       "        text-align: right;\n",
       "    }\n",
       "</style>\n",
       "<table border=\"1\" class=\"dataframe\">\n",
       "  <thead>\n",
       "    <tr style=\"text-align: right;\">\n",
       "      <th></th>\n",
       "      <th>columns</th>\n",
       "      <th>skew</th>\n",
       "      <th>status</th>\n",
       "    </tr>\n",
       "  </thead>\n",
       "  <tbody>\n",
       "    <tr>\n",
       "      <th>0</th>\n",
       "      <td>age</td>\n",
       "      <td>0.784697</td>\n",
       "      <td>Skewed</td>\n",
       "    </tr>\n",
       "    <tr>\n",
       "      <th>1</th>\n",
       "      <td>duration</td>\n",
       "      <td>3.263141</td>\n",
       "      <td>Skewed</td>\n",
       "    </tr>\n",
       "    <tr>\n",
       "      <th>2</th>\n",
       "      <td>campaign</td>\n",
       "      <td>4.762507</td>\n",
       "      <td>Skewed</td>\n",
       "    </tr>\n",
       "    <tr>\n",
       "      <th>3</th>\n",
       "      <td>pdays</td>\n",
       "      <td>-4.922190</td>\n",
       "      <td>Skewed</td>\n",
       "    </tr>\n",
       "    <tr>\n",
       "      <th>4</th>\n",
       "      <td>previous</td>\n",
       "      <td>3.832042</td>\n",
       "      <td>Skewed</td>\n",
       "    </tr>\n",
       "    <tr>\n",
       "      <th>5</th>\n",
       "      <td>emp.var.rate</td>\n",
       "      <td>-0.724096</td>\n",
       "      <td>Skewed</td>\n",
       "    </tr>\n",
       "    <tr>\n",
       "      <th>6</th>\n",
       "      <td>cons.price.idx</td>\n",
       "      <td>-0.230888</td>\n",
       "      <td>Normal</td>\n",
       "    </tr>\n",
       "    <tr>\n",
       "      <th>7</th>\n",
       "      <td>cons.conf.idx</td>\n",
       "      <td>0.303180</td>\n",
       "      <td>Normal</td>\n",
       "    </tr>\n",
       "    <tr>\n",
       "      <th>8</th>\n",
       "      <td>euribor3m</td>\n",
       "      <td>-0.709188</td>\n",
       "      <td>Skewed</td>\n",
       "    </tr>\n",
       "    <tr>\n",
       "      <th>9</th>\n",
       "      <td>nr.employed</td>\n",
       "      <td>-1.044262</td>\n",
       "      <td>Skewed</td>\n",
       "    </tr>\n",
       "  </tbody>\n",
       "</table>\n",
       "</div>"
      ],
      "text/plain": [
       "          columns      skew  status\n",
       "0             age  0.784697  Skewed\n",
       "1        duration  3.263141  Skewed\n",
       "2        campaign  4.762507  Skewed\n",
       "3           pdays -4.922190  Skewed\n",
       "4        previous  3.832042  Skewed\n",
       "5    emp.var.rate -0.724096  Skewed\n",
       "6  cons.price.idx -0.230888  Normal\n",
       "7   cons.conf.idx  0.303180  Normal\n",
       "8       euribor3m -0.709188  Skewed\n",
       "9     nr.employed -1.044262  Skewed"
      ]
     },
     "execution_count": 363,
     "metadata": {},
     "output_type": "execute_result"
    }
   ],
   "source": [
    "skewness = pd.DataFrame({'columns':df.describe().columns, 'skew' : df.skew(axis=0)})\n",
    "skewness.reset_index(drop=True, inplace=True)\n",
    "skewness['status'] = np.where(skewness['skew'].abs()>0.5, 'Skewed', 'Normal')\n",
    "skewness"
   ]
  },
  {
   "cell_type": "markdown",
   "metadata": {},
   "source": [
    "- Hanya terdapat dua kolom numerik saja yang memiliki pendistribusian data `normal`. Selebihnya kolom-kolom ini bersifat `skewed`"
   ]
  },
  {
   "cell_type": "code",
   "execution_count": 364,
   "metadata": {},
   "outputs": [
    {
     "name": "stdout",
     "output_type": "stream",
     "text": [
      "<class 'pandas.core.frame.DataFrame'>\n",
      "RangeIndex: 41188 entries, 0 to 41187\n",
      "Data columns (total 21 columns):\n",
      " #   Column          Non-Null Count  Dtype  \n",
      "---  ------          --------------  -----  \n",
      " 0   age             41188 non-null  int64  \n",
      " 1   job             41188 non-null  object \n",
      " 2   marital         41188 non-null  object \n",
      " 3   education       41188 non-null  object \n",
      " 4   default         41188 non-null  object \n",
      " 5   housing         41188 non-null  object \n",
      " 6   loan            41188 non-null  object \n",
      " 7   contact         41188 non-null  object \n",
      " 8   month           41188 non-null  object \n",
      " 9   day_of_week     41188 non-null  object \n",
      " 10  duration        41188 non-null  int64  \n",
      " 11  campaign        41188 non-null  int64  \n",
      " 12  pdays           41188 non-null  int64  \n",
      " 13  previous        41188 non-null  int64  \n",
      " 14  poutcome        41188 non-null  object \n",
      " 15  emp.var.rate    41188 non-null  float64\n",
      " 16  cons.price.idx  41188 non-null  float64\n",
      " 17  cons.conf.idx   41188 non-null  float64\n",
      " 18  euribor3m       41188 non-null  float64\n",
      " 19  nr.employed     41188 non-null  float64\n",
      " 20  y               41188 non-null  object \n",
      "dtypes: float64(5), int64(5), object(11)\n",
      "memory usage: 6.6+ MB\n"
     ]
    }
   ],
   "source": [
    "df.info()"
   ]
  },
  {
   "cell_type": "markdown",
   "metadata": {},
   "source": [
    "- Jika hanya melihat dari jumlah baris pada kolom, tidak terdapat `missing value` yang terdeteksi. Namun jika melihat statistik deskriptif tiap-tiap kolom, ternyata ditemukan bahwa kolom `pdays` memiliki nilai yaitu `999` yang menandakan bahwa nasabah belum pernah dihubungi sama sekali\n",
    "- Nilai ini akan kita anggap sebagai `missing value` dan nantinya nilai ini akan diubah menjadi `nan/null`"
   ]
  },
  {
   "cell_type": "code",
   "execution_count": 365,
   "metadata": {},
   "outputs": [
    {
     "name": "stdout",
     "output_type": "stream",
     "text": [
      "Cat Columns: job\n",
      "12\n",
      "====================\n",
      "Cat Columns: marital\n",
      "4\n",
      "====================\n",
      "Cat Columns: education\n",
      "8\n",
      "====================\n",
      "Cat Columns: default\n",
      "3\n",
      "====================\n",
      "Cat Columns: housing\n",
      "3\n",
      "====================\n",
      "Cat Columns: loan\n",
      "3\n",
      "====================\n",
      "Cat Columns: contact\n",
      "2\n",
      "====================\n",
      "Cat Columns: month\n",
      "10\n",
      "====================\n",
      "Cat Columns: day_of_week\n",
      "5\n",
      "====================\n",
      "Cat Columns: poutcome\n",
      "3\n",
      "====================\n",
      "Cat Columns: y\n",
      "2\n",
      "====================\n"
     ]
    }
   ],
   "source": [
    "for i in cat_columns:\n",
    "    print(f'Cat Columns: {i}')\n",
    "    print(f'{df[i].nunique()}')\n",
    "    print('='*20)"
   ]
  },
  {
   "cell_type": "markdown",
   "metadata": {},
   "source": [
    "- Dari jumlah nilai unik pada tiap-tiap kolom, tampaknya tidak ada kolom yang memiliki tingkat `kardinalitas` yang tinggi\n",
    "- Oleh karean itu nantinya tidak ada penanganan kardinalitas pada kolom-kolom ini "
   ]
  },
  {
   "cell_type": "markdown",
   "metadata": {},
   "source": [
    "## **5. Data Preprocessing**\n",
    "> Bagian ini berisi proses penyiapan data untuk proses pelatihan model, seperti pembagian data menjadi train-dev-test, transformasi data (normalisasi, encoding, dll.), dan proses-proses lain yang dibutuhkan."
   ]
  },
  {
   "cell_type": "markdown",
   "metadata": {},
   "source": [
    "### 5.1 Cleaning Dataset"
   ]
  },
  {
   "cell_type": "markdown",
   "metadata": {},
   "source": [
    "- Berdasarkan informasi attribut kolom disebutkan bahwa nilai 999 pada pdays menandakan bahwa nasabah pada dasarnya tidak dihubungi pada kampanye yang sebelumnya telah dilaksanakan. Maka kita akan mengubah nilai-nilai ini dengan `null/nan`"
   ]
  },
  {
   "cell_type": "code",
   "execution_count": 366,
   "metadata": {},
   "outputs": [],
   "source": [
    "df['pdays'].replace(to_replace={999: np.nan}, inplace=True)"
   ]
  },
  {
   "cell_type": "code",
   "execution_count": 367,
   "metadata": {},
   "outputs": [
    {
     "data": {
      "text/html": [
       "<div>\n",
       "<style scoped>\n",
       "    .dataframe tbody tr th:only-of-type {\n",
       "        vertical-align: middle;\n",
       "    }\n",
       "\n",
       "    .dataframe tbody tr th {\n",
       "        vertical-align: top;\n",
       "    }\n",
       "\n",
       "    .dataframe thead th {\n",
       "        text-align: right;\n",
       "    }\n",
       "</style>\n",
       "<table border=\"1\" class=\"dataframe\">\n",
       "  <thead>\n",
       "    <tr style=\"text-align: right;\">\n",
       "      <th></th>\n",
       "      <th>age</th>\n",
       "      <th>duration</th>\n",
       "      <th>campaign</th>\n",
       "      <th>pdays</th>\n",
       "      <th>previous</th>\n",
       "      <th>emp.var.rate</th>\n",
       "      <th>cons.price.idx</th>\n",
       "      <th>cons.conf.idx</th>\n",
       "      <th>euribor3m</th>\n",
       "      <th>nr.employed</th>\n",
       "    </tr>\n",
       "  </thead>\n",
       "  <tbody>\n",
       "    <tr>\n",
       "      <th>count</th>\n",
       "      <td>41188.00000</td>\n",
       "      <td>41188.000000</td>\n",
       "      <td>41188.000000</td>\n",
       "      <td>1515.000000</td>\n",
       "      <td>41188.000000</td>\n",
       "      <td>41188.000000</td>\n",
       "      <td>41188.000000</td>\n",
       "      <td>41188.000000</td>\n",
       "      <td>41188.000000</td>\n",
       "      <td>41188.000000</td>\n",
       "    </tr>\n",
       "    <tr>\n",
       "      <th>mean</th>\n",
       "      <td>40.02406</td>\n",
       "      <td>258.285010</td>\n",
       "      <td>2.567593</td>\n",
       "      <td>6.014521</td>\n",
       "      <td>0.172963</td>\n",
       "      <td>0.081886</td>\n",
       "      <td>93.575664</td>\n",
       "      <td>-40.502600</td>\n",
       "      <td>3.621291</td>\n",
       "      <td>5167.035911</td>\n",
       "    </tr>\n",
       "    <tr>\n",
       "      <th>std</th>\n",
       "      <td>10.42125</td>\n",
       "      <td>259.279249</td>\n",
       "      <td>2.770014</td>\n",
       "      <td>3.824906</td>\n",
       "      <td>0.494901</td>\n",
       "      <td>1.570960</td>\n",
       "      <td>0.578840</td>\n",
       "      <td>4.628198</td>\n",
       "      <td>1.734447</td>\n",
       "      <td>72.251528</td>\n",
       "    </tr>\n",
       "    <tr>\n",
       "      <th>min</th>\n",
       "      <td>17.00000</td>\n",
       "      <td>0.000000</td>\n",
       "      <td>1.000000</td>\n",
       "      <td>0.000000</td>\n",
       "      <td>0.000000</td>\n",
       "      <td>-3.400000</td>\n",
       "      <td>92.201000</td>\n",
       "      <td>-50.800000</td>\n",
       "      <td>0.634000</td>\n",
       "      <td>4963.600000</td>\n",
       "    </tr>\n",
       "    <tr>\n",
       "      <th>25%</th>\n",
       "      <td>32.00000</td>\n",
       "      <td>102.000000</td>\n",
       "      <td>1.000000</td>\n",
       "      <td>3.000000</td>\n",
       "      <td>0.000000</td>\n",
       "      <td>-1.800000</td>\n",
       "      <td>93.075000</td>\n",
       "      <td>-42.700000</td>\n",
       "      <td>1.344000</td>\n",
       "      <td>5099.100000</td>\n",
       "    </tr>\n",
       "    <tr>\n",
       "      <th>50%</th>\n",
       "      <td>38.00000</td>\n",
       "      <td>180.000000</td>\n",
       "      <td>2.000000</td>\n",
       "      <td>6.000000</td>\n",
       "      <td>0.000000</td>\n",
       "      <td>1.100000</td>\n",
       "      <td>93.749000</td>\n",
       "      <td>-41.800000</td>\n",
       "      <td>4.857000</td>\n",
       "      <td>5191.000000</td>\n",
       "    </tr>\n",
       "    <tr>\n",
       "      <th>75%</th>\n",
       "      <td>47.00000</td>\n",
       "      <td>319.000000</td>\n",
       "      <td>3.000000</td>\n",
       "      <td>7.000000</td>\n",
       "      <td>0.000000</td>\n",
       "      <td>1.400000</td>\n",
       "      <td>93.994000</td>\n",
       "      <td>-36.400000</td>\n",
       "      <td>4.961000</td>\n",
       "      <td>5228.100000</td>\n",
       "    </tr>\n",
       "    <tr>\n",
       "      <th>max</th>\n",
       "      <td>98.00000</td>\n",
       "      <td>4918.000000</td>\n",
       "      <td>56.000000</td>\n",
       "      <td>27.000000</td>\n",
       "      <td>7.000000</td>\n",
       "      <td>1.400000</td>\n",
       "      <td>94.767000</td>\n",
       "      <td>-26.900000</td>\n",
       "      <td>5.045000</td>\n",
       "      <td>5228.100000</td>\n",
       "    </tr>\n",
       "  </tbody>\n",
       "</table>\n",
       "</div>"
      ],
      "text/plain": [
       "               age      duration      campaign        pdays      previous  \\\n",
       "count  41188.00000  41188.000000  41188.000000  1515.000000  41188.000000   \n",
       "mean      40.02406    258.285010      2.567593     6.014521      0.172963   \n",
       "std       10.42125    259.279249      2.770014     3.824906      0.494901   \n",
       "min       17.00000      0.000000      1.000000     0.000000      0.000000   \n",
       "25%       32.00000    102.000000      1.000000     3.000000      0.000000   \n",
       "50%       38.00000    180.000000      2.000000     6.000000      0.000000   \n",
       "75%       47.00000    319.000000      3.000000     7.000000      0.000000   \n",
       "max       98.00000   4918.000000     56.000000    27.000000      7.000000   \n",
       "\n",
       "       emp.var.rate  cons.price.idx  cons.conf.idx     euribor3m   nr.employed  \n",
       "count  41188.000000    41188.000000   41188.000000  41188.000000  41188.000000  \n",
       "mean       0.081886       93.575664     -40.502600      3.621291   5167.035911  \n",
       "std        1.570960        0.578840       4.628198      1.734447     72.251528  \n",
       "min       -3.400000       92.201000     -50.800000      0.634000   4963.600000  \n",
       "25%       -1.800000       93.075000     -42.700000      1.344000   5099.100000  \n",
       "50%        1.100000       93.749000     -41.800000      4.857000   5191.000000  \n",
       "75%        1.400000       93.994000     -36.400000      4.961000   5228.100000  \n",
       "max        1.400000       94.767000     -26.900000      5.045000   5228.100000  "
      ]
     },
     "execution_count": 367,
     "metadata": {},
     "output_type": "execute_result"
    }
   ],
   "source": [
    "df.describe()"
   ]
  },
  {
   "cell_type": "markdown",
   "metadata": {},
   "source": [
    "- Setelah cleaning didapatkan bahwa nilai median untuk `pdays` sebesar 6.0 sedangkan Q3 sebesar 7.0."
   ]
  },
  {
   "cell_type": "code",
   "execution_count": 368,
   "metadata": {},
   "outputs": [
    {
     "name": "stdout",
     "output_type": "stream",
     "text": [
      "Jumlah data pada kolom pdays setelah cleaning:  3.68 %\n"
     ]
    }
   ],
   "source": [
    "print(\"Jumlah data pada kolom pdays setelah cleaning: \",np.round(100-(df['pdays'].isnull().sum()/df.shape[0]*100), 2),\"%\")"
   ]
  },
  {
   "cell_type": "markdown",
   "metadata": {},
   "source": [
    "### 5.1 Set Data Inference\n",
    "\n",
    "- Kita akan mengambil sampel secara acak dari dataset utama, yang nantinya akan dijadikan sebagai dataset `inference` atau dataset asing. Hal ini berguna agar pada tahap pengujian `inference` kita dapat mengetahui apakah model juga sudah cukup baik menentukan apakah nasabah akan berlangganan `deposito berjangka` dengan nilai parameter/variabel yang belum pernah `dikenal` sebelumnya."
   ]
  },
  {
   "cell_type": "code",
   "execution_count": 369,
   "metadata": {},
   "outputs": [],
   "source": [
    "df_inf = df.sample(100, random_state=40)"
   ]
  },
  {
   "cell_type": "code",
   "execution_count": 370,
   "metadata": {},
   "outputs": [],
   "source": [
    "df = df.drop(df_inf.index)"
   ]
  },
  {
   "cell_type": "code",
   "execution_count": 371,
   "metadata": {},
   "outputs": [],
   "source": [
    "# reset index\n",
    "\n",
    "df.reset_index(drop=True, inplace=True)\n",
    "df_inf.reset_index(drop=True, inplace=True)"
   ]
  },
  {
   "cell_type": "markdown",
   "metadata": {},
   "source": [
    "### 5.3 Split Dataset"
   ]
  },
  {
   "cell_type": "code",
   "execution_count": 372,
   "metadata": {},
   "outputs": [],
   "source": [
    "X = df.drop('y', axis=1)\n",
    "y = df['y']"
   ]
  },
  {
   "cell_type": "markdown",
   "metadata": {},
   "source": [
    "#### 5.3.1 Split into Data Train and Dataset"
   ]
  },
  {
   "cell_type": "code",
   "execution_count": 373,
   "metadata": {},
   "outputs": [],
   "source": [
    "# Splitting Dataset\n",
    "from sklearn.model_selection import train_test_split\n",
    "\n",
    "X_train, X_test, y_train, y_test = train_test_split(X, y, test_size=0.20, random_state=40, stratify= y)"
   ]
  },
  {
   "cell_type": "markdown",
   "metadata": {},
   "source": [
    "#### 5.3.2 Checking Data and Column Distributions"
   ]
  },
  {
   "cell_type": "code",
   "execution_count": 374,
   "metadata": {},
   "outputs": [],
   "source": [
    "preprocess_handling = pd.DataFrame({'columns':X_train.describe().columns, 'skew' : df.skew(axis=0)})\n",
    "preprocess_handling.reset_index(drop=True, inplace=True)\n",
    "\n",
    "preprocess_handling['status'] = np.where(preprocess_handling['skew'].abs()>0.5, 'Skewed', 'Normal')"
   ]
  },
  {
   "cell_type": "code",
   "execution_count": 375,
   "metadata": {},
   "outputs": [
    {
     "data": {
      "text/html": [
       "<div>\n",
       "<style scoped>\n",
       "    .dataframe tbody tr th:only-of-type {\n",
       "        vertical-align: middle;\n",
       "    }\n",
       "\n",
       "    .dataframe tbody tr th {\n",
       "        vertical-align: top;\n",
       "    }\n",
       "\n",
       "    .dataframe thead th {\n",
       "        text-align: right;\n",
       "    }\n",
       "</style>\n",
       "<table border=\"1\" class=\"dataframe\">\n",
       "  <thead>\n",
       "    <tr style=\"text-align: right;\">\n",
       "      <th></th>\n",
       "      <th>columns</th>\n",
       "      <th>skew</th>\n",
       "      <th>status</th>\n",
       "    </tr>\n",
       "  </thead>\n",
       "  <tbody>\n",
       "    <tr>\n",
       "      <th>0</th>\n",
       "      <td>age</td>\n",
       "      <td>0.785045</td>\n",
       "      <td>Skewed</td>\n",
       "    </tr>\n",
       "    <tr>\n",
       "      <th>1</th>\n",
       "      <td>duration</td>\n",
       "      <td>3.264358</td>\n",
       "      <td>Skewed</td>\n",
       "    </tr>\n",
       "    <tr>\n",
       "      <th>2</th>\n",
       "      <td>campaign</td>\n",
       "      <td>4.761868</td>\n",
       "      <td>Skewed</td>\n",
       "    </tr>\n",
       "    <tr>\n",
       "      <th>3</th>\n",
       "      <td>pdays</td>\n",
       "      <td>1.458191</td>\n",
       "      <td>Skewed</td>\n",
       "    </tr>\n",
       "    <tr>\n",
       "      <th>4</th>\n",
       "      <td>previous</td>\n",
       "      <td>3.831856</td>\n",
       "      <td>Skewed</td>\n",
       "    </tr>\n",
       "    <tr>\n",
       "      <th>5</th>\n",
       "      <td>emp.var.rate</td>\n",
       "      <td>-0.723685</td>\n",
       "      <td>Skewed</td>\n",
       "    </tr>\n",
       "    <tr>\n",
       "      <th>6</th>\n",
       "      <td>cons.price.idx</td>\n",
       "      <td>-0.230271</td>\n",
       "      <td>Normal</td>\n",
       "    </tr>\n",
       "    <tr>\n",
       "      <th>7</th>\n",
       "      <td>cons.conf.idx</td>\n",
       "      <td>0.303204</td>\n",
       "      <td>Normal</td>\n",
       "    </tr>\n",
       "    <tr>\n",
       "      <th>8</th>\n",
       "      <td>euribor3m</td>\n",
       "      <td>-0.709045</td>\n",
       "      <td>Skewed</td>\n",
       "    </tr>\n",
       "    <tr>\n",
       "      <th>9</th>\n",
       "      <td>nr.employed</td>\n",
       "      <td>-1.044073</td>\n",
       "      <td>Skewed</td>\n",
       "    </tr>\n",
       "  </tbody>\n",
       "</table>\n",
       "</div>"
      ],
      "text/plain": [
       "          columns      skew  status\n",
       "0             age  0.785045  Skewed\n",
       "1        duration  3.264358  Skewed\n",
       "2        campaign  4.761868  Skewed\n",
       "3           pdays  1.458191  Skewed\n",
       "4        previous  3.831856  Skewed\n",
       "5    emp.var.rate -0.723685  Skewed\n",
       "6  cons.price.idx -0.230271  Normal\n",
       "7   cons.conf.idx  0.303204  Normal\n",
       "8       euribor3m -0.709045  Skewed\n",
       "9     nr.employed -1.044073  Skewed"
      ]
     },
     "execution_count": 375,
     "metadata": {},
     "output_type": "execute_result"
    }
   ],
   "source": [
    "preprocess_handling"
   ]
  },
  {
   "cell_type": "markdown",
   "metadata": {},
   "source": [
    "- Pendistribusian data tiap kolom fitur akan digunakan sebagai acuan saat memperlakukan kolom dalam tahap `handling outlier` dan `handling missing value`"
   ]
  },
  {
   "cell_type": "code",
   "execution_count": 376,
   "metadata": {},
   "outputs": [
    {
     "data": {
      "text/html": [
       "<div>\n",
       "<style scoped>\n",
       "    .dataframe tbody tr th:only-of-type {\n",
       "        vertical-align: middle;\n",
       "    }\n",
       "\n",
       "    .dataframe tbody tr th {\n",
       "        vertical-align: top;\n",
       "    }\n",
       "\n",
       "    .dataframe thead th {\n",
       "        text-align: right;\n",
       "    }\n",
       "</style>\n",
       "<table border=\"1\" class=\"dataframe\">\n",
       "  <thead>\n",
       "    <tr style=\"text-align: right;\">\n",
       "      <th></th>\n",
       "      <th>age</th>\n",
       "      <th>duration</th>\n",
       "      <th>campaign</th>\n",
       "      <th>pdays</th>\n",
       "      <th>previous</th>\n",
       "      <th>emp.var.rate</th>\n",
       "      <th>cons.price.idx</th>\n",
       "      <th>cons.conf.idx</th>\n",
       "      <th>euribor3m</th>\n",
       "      <th>nr.employed</th>\n",
       "    </tr>\n",
       "  </thead>\n",
       "  <tbody>\n",
       "    <tr>\n",
       "      <th>count</th>\n",
       "      <td>32870.000000</td>\n",
       "      <td>32870.000000</td>\n",
       "      <td>32870.000000</td>\n",
       "      <td>1208.000000</td>\n",
       "      <td>32870.000000</td>\n",
       "      <td>32870.000000</td>\n",
       "      <td>32870.000000</td>\n",
       "      <td>32870.000000</td>\n",
       "      <td>32870.000000</td>\n",
       "      <td>32870.000000</td>\n",
       "    </tr>\n",
       "    <tr>\n",
       "      <th>mean</th>\n",
       "      <td>40.031609</td>\n",
       "      <td>258.493094</td>\n",
       "      <td>2.577122</td>\n",
       "      <td>5.997517</td>\n",
       "      <td>0.173715</td>\n",
       "      <td>0.079559</td>\n",
       "      <td>93.576052</td>\n",
       "      <td>-40.504165</td>\n",
       "      <td>3.617961</td>\n",
       "      <td>5166.879462</td>\n",
       "    </tr>\n",
       "    <tr>\n",
       "      <th>std</th>\n",
       "      <td>10.398521</td>\n",
       "      <td>259.857200</td>\n",
       "      <td>2.790646</td>\n",
       "      <td>3.848949</td>\n",
       "      <td>0.495318</td>\n",
       "      <td>1.571836</td>\n",
       "      <td>0.580234</td>\n",
       "      <td>4.636269</td>\n",
       "      <td>1.735841</td>\n",
       "      <td>72.346580</td>\n",
       "    </tr>\n",
       "    <tr>\n",
       "      <th>min</th>\n",
       "      <td>17.000000</td>\n",
       "      <td>0.000000</td>\n",
       "      <td>1.000000</td>\n",
       "      <td>0.000000</td>\n",
       "      <td>0.000000</td>\n",
       "      <td>-3.400000</td>\n",
       "      <td>92.201000</td>\n",
       "      <td>-50.800000</td>\n",
       "      <td>0.634000</td>\n",
       "      <td>4963.600000</td>\n",
       "    </tr>\n",
       "    <tr>\n",
       "      <th>25%</th>\n",
       "      <td>32.000000</td>\n",
       "      <td>102.000000</td>\n",
       "      <td>1.000000</td>\n",
       "      <td>3.000000</td>\n",
       "      <td>0.000000</td>\n",
       "      <td>-1.800000</td>\n",
       "      <td>93.075000</td>\n",
       "      <td>-42.700000</td>\n",
       "      <td>1.344000</td>\n",
       "      <td>5099.100000</td>\n",
       "    </tr>\n",
       "    <tr>\n",
       "      <th>50%</th>\n",
       "      <td>38.000000</td>\n",
       "      <td>179.000000</td>\n",
       "      <td>2.000000</td>\n",
       "      <td>6.000000</td>\n",
       "      <td>0.000000</td>\n",
       "      <td>1.100000</td>\n",
       "      <td>93.749000</td>\n",
       "      <td>-41.800000</td>\n",
       "      <td>4.857000</td>\n",
       "      <td>5191.000000</td>\n",
       "    </tr>\n",
       "    <tr>\n",
       "      <th>75%</th>\n",
       "      <td>47.000000</td>\n",
       "      <td>319.000000</td>\n",
       "      <td>3.000000</td>\n",
       "      <td>7.000000</td>\n",
       "      <td>0.000000</td>\n",
       "      <td>1.400000</td>\n",
       "      <td>93.994000</td>\n",
       "      <td>-36.400000</td>\n",
       "      <td>4.961000</td>\n",
       "      <td>5228.100000</td>\n",
       "    </tr>\n",
       "    <tr>\n",
       "      <th>max</th>\n",
       "      <td>98.000000</td>\n",
       "      <td>4918.000000</td>\n",
       "      <td>56.000000</td>\n",
       "      <td>27.000000</td>\n",
       "      <td>7.000000</td>\n",
       "      <td>1.400000</td>\n",
       "      <td>94.767000</td>\n",
       "      <td>-26.900000</td>\n",
       "      <td>5.045000</td>\n",
       "      <td>5228.100000</td>\n",
       "    </tr>\n",
       "  </tbody>\n",
       "</table>\n",
       "</div>"
      ],
      "text/plain": [
       "                age      duration      campaign        pdays      previous  \\\n",
       "count  32870.000000  32870.000000  32870.000000  1208.000000  32870.000000   \n",
       "mean      40.031609    258.493094      2.577122     5.997517      0.173715   \n",
       "std       10.398521    259.857200      2.790646     3.848949      0.495318   \n",
       "min       17.000000      0.000000      1.000000     0.000000      0.000000   \n",
       "25%       32.000000    102.000000      1.000000     3.000000      0.000000   \n",
       "50%       38.000000    179.000000      2.000000     6.000000      0.000000   \n",
       "75%       47.000000    319.000000      3.000000     7.000000      0.000000   \n",
       "max       98.000000   4918.000000     56.000000    27.000000      7.000000   \n",
       "\n",
       "       emp.var.rate  cons.price.idx  cons.conf.idx     euribor3m   nr.employed  \n",
       "count  32870.000000    32870.000000   32870.000000  32870.000000  32870.000000  \n",
       "mean       0.079559       93.576052     -40.504165      3.617961   5166.879462  \n",
       "std        1.571836        0.580234       4.636269      1.735841     72.346580  \n",
       "min       -3.400000       92.201000     -50.800000      0.634000   4963.600000  \n",
       "25%       -1.800000       93.075000     -42.700000      1.344000   5099.100000  \n",
       "50%        1.100000       93.749000     -41.800000      4.857000   5191.000000  \n",
       "75%        1.400000       93.994000     -36.400000      4.961000   5228.100000  \n",
       "max        1.400000       94.767000     -26.900000      5.045000   5228.100000  "
      ]
     },
     "execution_count": 376,
     "metadata": {},
     "output_type": "execute_result"
    }
   ],
   "source": [
    "X_train.describe()"
   ]
  },
  {
   "cell_type": "markdown",
   "metadata": {},
   "source": [
    "Angka pada `Q3` kebetulan sama dengan akumulasi satu minggu(7hari), Oleh karena itu angka ini akan kita gunakan pada tahap `Feature Creation` yang dimana kolom baru akan mengacu pada kolom `pdays`"
   ]
  },
  {
   "cell_type": "code",
   "execution_count": 377,
   "metadata": {},
   "outputs": [
    {
     "name": "stdout",
     "output_type": "stream",
     "text": [
      "Numeric Columns:  ['age', 'duration', 'campaign', 'pdays', 'previous', 'emp.var.rate', 'cons.price.idx', 'cons.conf.idx', 'euribor3m', 'nr.employed']\n",
      "==================================================\n",
      "Categorical Columns:  ['job', 'marital', 'education', 'default', 'housing', 'loan', 'contact', 'month', 'day_of_week', 'poutcome']\n"
     ]
    }
   ],
   "source": [
    "num_columns = X_train.select_dtypes(include=np.number).columns.tolist()\n",
    "cat_columns = X_train.select_dtypes(include=['object']).columns.tolist()\n",
    "\n",
    "print('Numeric Columns: ', num_columns)\n",
    "print('='*50)\n",
    "print('Categorical Columns: ', cat_columns)"
   ]
  },
  {
   "cell_type": "markdown",
   "metadata": {},
   "source": [
    "### 5.4 Handling Outliers"
   ]
  },
  {
   "cell_type": "markdown",
   "metadata": {},
   "source": [
    "- Buatlah fungsi untuk menangani baik kolom yang terdistribusi `normal` dan juga kolom yang terdistribusi `skewed`"
   ]
  },
  {
   "cell_type": "code",
   "execution_count": 378,
   "metadata": {},
   "outputs": [],
   "source": [
    "# Function to find upper and lower boundaries for normally distributed variables\n",
    "# Calculate the boundaries outside which sit the outliers for a Gaussian distribution\n",
    "\n",
    "def find_normal_boundaries(df, variable):\n",
    "    upper_boundary = df[variable].mean() + 3 * df[variable].std()\n",
    "    lower_boundary = df[variable].mean() - 3 * df[variable].std()\n",
    "\n",
    "    return upper_boundary, lower_boundary\n",
    "    \n",
    "# Since it's skewed, we are using IQR to handle outliers\n",
    "\n",
    "def find_skewed_boundaries(df, variable, distance):\n",
    "    IQR = df[variable].quantile(0.75) - df[variable].quantile(0.25)\n",
    "\n",
    "    lower = df[variable].quantile(0.25) - distance * IQR\n",
    "    upper = df[variable].quantile(0.75) + distance * IQR\n",
    "\n",
    "    return upper, lower"
   ]
  },
  {
   "cell_type": "markdown",
   "metadata": {},
   "source": [
    "- Buat fungsi untuk menampilkan visual pendistrbusian data tiap-tiap kolom fitur baik sebelum ditangani maupun setelah ditangani `outlier`-nya "
   ]
  },
  {
   "cell_type": "code",
   "execution_count": 603,
   "metadata": {},
   "outputs": [],
   "source": [
    "\n",
    "# Function to create histogram and boxplot for each features\n",
    "\n",
    "def diagnostic_plots(df, df_trim, variable):\n",
    "    #Define figure size\n",
    "    plt.figure(figsize=(16,4))\n",
    "\n",
    "    #Histogram\n",
    "    plt.subplot(1, 3, 1)\n",
    "    sns.histplot(df_trim[variable], bins=30, kde=True, color='#006699')\n",
    "    plt.title(f'Histogram of {variable}')\n",
    "\n",
    "    #Boxplot Before\n",
    "    plt.subplot(1,3, 2)\n",
    "    sns.boxplot(y=df[variable])\n",
    "    plt.title(f'Before Handling in {variable}')\n",
    "\n",
    "    #Boxplot After\n",
    "    plt.subplot(1,3, 3)\n",
    "    sns.boxplot(y=df_trim[variable])\n",
    "    plt.title(f'After Handling in {variable}')\n",
    "\n",
    "    plt.show()"
   ]
  },
  {
   "cell_type": "markdown",
   "metadata": {},
   "source": [
    "#### 5.4.1 Detect Outliers\n",
    "- Sebelum melakukan penanganan pada `outliers`, alangkah baiknya kita check terlebih dahulu apakah kolom tersebut memiliki `outlier` dan seberapa banyak `outlier` tersebut dibandingkan dengan total keseluruhan data yang terdapat pada data `Training`."
   ]
  },
  {
   "cell_type": "code",
   "execution_count": 380,
   "metadata": {},
   "outputs": [
    {
     "name": "stdout",
     "output_type": "stream",
     "text": [
      "Batas lower dan upper untuk age:(9.5, 69.5)\n",
      "==============================\n",
      "Batas lower dan upper untuk duration:(-223.5, 644.5)\n",
      "==============================\n",
      "Batas lower dan upper untuk campaign:(-2.0, 6.0)\n",
      "==============================\n",
      "Batas lower dan upper untuk pdays:(-3.0, 13.0)\n",
      "==============================\n",
      "Batas lower dan upper untuk previous:(0.0, 0.0)\n",
      "==============================\n",
      "Batas lower dan upper untuk emp.var.rate:(-6.6000000000000005, 6.200000000000001)\n",
      "==============================\n",
      "Batas lower dan upper untuk cons.price.idx:(91.83535048022983, 95.31675374855885)\n",
      "==============================\n",
      "Batas lower dan upper untuk cons.conf.idx:(-54.412972931593366, -26.59535685239684)\n",
      "==============================\n",
      "Batas lower dan upper untuk euribor3m:(-4.081499999999999, 10.3865)\n",
      "==============================\n",
      "Batas lower dan upper untuk nr.employed:(4905.6, 5421.6)\n",
      "==============================\n"
     ]
    }
   ],
   "source": [
    "j = 0\n",
    "outliers={}\n",
    "for i in X_train.describe().columns:\n",
    "    if preprocess_handling['status'].loc[(preprocess_handling['columns']==i)].values[0]== 'Normal':\n",
    "        upper_boundary, lower_boundary = find_normal_boundaries(X_train, i)\n",
    "        print(f\"Batas lower dan upper untuk {i}:{lower_boundary, upper_boundary}\")\n",
    "        outliers[f\"outliers{j}\"] = np.where(X_train[i] > upper_boundary, True, np.where(X_train[i] < lower_boundary, True, False))\n",
    "    else:\n",
    "        upper_boundary, lower_boundary = find_skewed_boundaries(X_train, i, 1.5)\n",
    "        print(f\"Batas lower dan upper untuk {i}:{lower_boundary, upper_boundary}\")\n",
    "        outliers[f\"outliers{j}\"] = np.where(X_train[i] > upper_boundary, True, np.where(X_train[i] < lower_boundary, True, False))\n",
    "    print(\"=\"*30)\n",
    "    j+=1"
   ]
  },
  {
   "cell_type": "markdown",
   "metadata": {},
   "source": [
    "- Setelah pendeteksian nilai ambang batas, saya menetapkan perlakukan terhadap kolom:\n",
    "    - `Trimming`: Jika outlier dibawah 5%\n",
    "    - `Capping`: Jika outlier berada direntang 5-15%\n",
    "    - `Keep`: Jika outlier berada di atas 15%"
   ]
  },
  {
   "cell_type": "code",
   "execution_count": 381,
   "metadata": {},
   "outputs": [],
   "source": [
    "for i, (k, v) in enumerate(outliers.items()):\n",
    "    X_train_trimmed_sim = X_train.loc[~outliers[k]]\n",
    "    preprocess_handling.loc[i,'trimmed_row'] = X_train.shape[0] - X_train_trimmed_sim.shape[0]\n",
    "    preprocess_handling.loc[i,'percentage'] = np.round(100-(X_train_trimmed_sim.shape[0]/X_train.shape[0]*100), 2)\n",
    "    preprocess_handling.loc[i,'action'] = np.where(preprocess_handling.loc[i,'percentage']>15, 'Keep', \n",
    "                                        np.where(preprocess_handling.loc[i,'percentage']>5, 'Capping', 'Trim'))\n",
    "\n",
    "# Keep Outlier for Previous\n",
    "    preprocess_handling.loc[4,'action'] = \"Keep\"\n"
   ]
  },
  {
   "cell_type": "code",
   "execution_count": 382,
   "metadata": {},
   "outputs": [
    {
     "data": {
      "text/html": [
       "<div>\n",
       "<style scoped>\n",
       "    .dataframe tbody tr th:only-of-type {\n",
       "        vertical-align: middle;\n",
       "    }\n",
       "\n",
       "    .dataframe tbody tr th {\n",
       "        vertical-align: top;\n",
       "    }\n",
       "\n",
       "    .dataframe thead th {\n",
       "        text-align: right;\n",
       "    }\n",
       "</style>\n",
       "<table border=\"1\" class=\"dataframe\">\n",
       "  <thead>\n",
       "    <tr style=\"text-align: right;\">\n",
       "      <th></th>\n",
       "      <th>columns</th>\n",
       "      <th>skew</th>\n",
       "      <th>status</th>\n",
       "      <th>trimmed_row</th>\n",
       "      <th>percentage</th>\n",
       "      <th>action</th>\n",
       "    </tr>\n",
       "  </thead>\n",
       "  <tbody>\n",
       "    <tr>\n",
       "      <th>0</th>\n",
       "      <td>age</td>\n",
       "      <td>0.785045</td>\n",
       "      <td>Skewed</td>\n",
       "      <td>362.0</td>\n",
       "      <td>1.10</td>\n",
       "      <td>Trim</td>\n",
       "    </tr>\n",
       "    <tr>\n",
       "      <th>1</th>\n",
       "      <td>duration</td>\n",
       "      <td>3.264358</td>\n",
       "      <td>Skewed</td>\n",
       "      <td>2394.0</td>\n",
       "      <td>7.28</td>\n",
       "      <td>Capping</td>\n",
       "    </tr>\n",
       "    <tr>\n",
       "      <th>2</th>\n",
       "      <td>campaign</td>\n",
       "      <td>4.761868</td>\n",
       "      <td>Skewed</td>\n",
       "      <td>1948.0</td>\n",
       "      <td>5.93</td>\n",
       "      <td>Capping</td>\n",
       "    </tr>\n",
       "    <tr>\n",
       "      <th>3</th>\n",
       "      <td>pdays</td>\n",
       "      <td>1.458191</td>\n",
       "      <td>Skewed</td>\n",
       "      <td>67.0</td>\n",
       "      <td>0.20</td>\n",
       "      <td>Trim</td>\n",
       "    </tr>\n",
       "    <tr>\n",
       "      <th>4</th>\n",
       "      <td>previous</td>\n",
       "      <td>3.831856</td>\n",
       "      <td>Skewed</td>\n",
       "      <td>4527.0</td>\n",
       "      <td>13.77</td>\n",
       "      <td>Keep</td>\n",
       "    </tr>\n",
       "    <tr>\n",
       "      <th>5</th>\n",
       "      <td>emp.var.rate</td>\n",
       "      <td>-0.723685</td>\n",
       "      <td>Skewed</td>\n",
       "      <td>0.0</td>\n",
       "      <td>0.00</td>\n",
       "      <td>Trim</td>\n",
       "    </tr>\n",
       "    <tr>\n",
       "      <th>6</th>\n",
       "      <td>cons.price.idx</td>\n",
       "      <td>-0.230271</td>\n",
       "      <td>Normal</td>\n",
       "      <td>0.0</td>\n",
       "      <td>0.00</td>\n",
       "      <td>Trim</td>\n",
       "    </tr>\n",
       "    <tr>\n",
       "      <th>7</th>\n",
       "      <td>cons.conf.idx</td>\n",
       "      <td>0.303204</td>\n",
       "      <td>Normal</td>\n",
       "      <td>0.0</td>\n",
       "      <td>0.00</td>\n",
       "      <td>Trim</td>\n",
       "    </tr>\n",
       "    <tr>\n",
       "      <th>8</th>\n",
       "      <td>euribor3m</td>\n",
       "      <td>-0.709045</td>\n",
       "      <td>Skewed</td>\n",
       "      <td>0.0</td>\n",
       "      <td>0.00</td>\n",
       "      <td>Trim</td>\n",
       "    </tr>\n",
       "    <tr>\n",
       "      <th>9</th>\n",
       "      <td>nr.employed</td>\n",
       "      <td>-1.044073</td>\n",
       "      <td>Skewed</td>\n",
       "      <td>0.0</td>\n",
       "      <td>0.00</td>\n",
       "      <td>Trim</td>\n",
       "    </tr>\n",
       "  </tbody>\n",
       "</table>\n",
       "</div>"
      ],
      "text/plain": [
       "          columns      skew  status  trimmed_row  percentage   action\n",
       "0             age  0.785045  Skewed        362.0        1.10     Trim\n",
       "1        duration  3.264358  Skewed       2394.0        7.28  Capping\n",
       "2        campaign  4.761868  Skewed       1948.0        5.93  Capping\n",
       "3           pdays  1.458191  Skewed         67.0        0.20     Trim\n",
       "4        previous  3.831856  Skewed       4527.0       13.77     Keep\n",
       "5    emp.var.rate -0.723685  Skewed          0.0        0.00     Trim\n",
       "6  cons.price.idx -0.230271  Normal          0.0        0.00     Trim\n",
       "7   cons.conf.idx  0.303204  Normal          0.0        0.00     Trim\n",
       "8       euribor3m -0.709045  Skewed          0.0        0.00     Trim\n",
       "9     nr.employed -1.044073  Skewed          0.0        0.00     Trim"
      ]
     },
     "execution_count": 382,
     "metadata": {},
     "output_type": "execute_result"
    }
   ],
   "source": [
    "preprocess_handling"
   ]
  },
  {
   "cell_type": "markdown",
   "metadata": {},
   "source": [
    "- Dari rangkuman hasil pendeteksian `outlier`, kita mendapatkan informasi bahwa:\n",
    "    - Kolom `previous` merupakan kolom yang memiliki persentase outlier yang tinggi sebesar 13.77%\n",
    "    - Namun ada pengecualian dalam menangani `outlier` untuk kolom `previous`. Ini dikarenakan pada kolom ini outlier yang dideteksi ialah yang melebihi atau kurang dari **0**.\n",
    "    - Padahal pada kolom ini menjelaskan bahwa seberapa banyak nasabah dihubungi pada kampanye sebelumnya\n",
    "    - Jika kita mengubahnya dengan 0, berarti seluruh nasabah tidak pernah dihubungi sama sekali, sedangkan terdapat kolom lain yang menjelaskan bahwa nasabah pernah dihubungi, yang terdapat pada kolom `pdays`(hari terakhir dihubungi) dan `poutcome`(hasil yang didapatkan)\n",
    "    - Oleh karena itu meskipun `outlier` yang dideteksi melebihi 5% dan dibawah 15% sehingga harus melewati tahap `capping`, akan kita kecualikan dan hanya diperlakukan dengan dibiarkan saja(`keep`)\n",
    "    - Sedangkan pada kolom `Duration` dan `Campaign` akan kita lakukan proses `capping`\n",
    "    - Sisa kolom yang memiliki `outlier` akan dihapus karena hanya memiliki `outlier` kurang dari 5%."
   ]
  },
  {
   "cell_type": "markdown",
   "metadata": {},
   "source": [
    "#### 5.4.2 Handling Outliers"
   ]
  },
  {
   "cell_type": "markdown",
   "metadata": {},
   "source": [
    "##### A. Trimming Outliers"
   ]
  },
  {
   "cell_type": "code",
   "execution_count": 383,
   "metadata": {},
   "outputs": [],
   "source": [
    "outliers_tot = outliers['outliers0']\n",
    "for i, (k, v) in enumerate(outliers.items()):\n",
    "    if i not in [1, 2, 4]:\n",
    "        outliers_tot += outliers[k]"
   ]
  },
  {
   "cell_type": "code",
   "execution_count": 384,
   "metadata": {},
   "outputs": [
    {
     "name": "stdout",
     "output_type": "stream",
     "text": [
      "Jumlah baris pada X_train SEBELUM di Trimming: 32870\n",
      "Jumlah baris pada X_train SETELAH di Trimming: 32442\n",
      "% Outlier dari Keseluruhan Data: 1.30%\n"
     ]
    }
   ],
   "source": [
    "X_train_trimmed = X_train.loc[~outliers_tot]\n",
    "y_train_trimmed = y_train.loc[~outliers_tot]\n",
    "\n",
    "print(f\"Jumlah baris pada X_train SEBELUM di Trimming: {X_train.shape[0]}\")\n",
    "print(f\"Jumlah baris pada X_train SETELAH di Trimming: {X_train_trimmed.shape[0]}\")\n",
    "print(f\"% Outlier dari Keseluruhan Data: {100-(X_train_trimmed.shape[0]/X_train.shape[0]*100):.2f}%\")"
   ]
  },
  {
   "cell_type": "markdown",
   "metadata": {},
   "source": [
    "- Sebanyak 1.3% Dari data `Train` telah dihapus dari tahap penanganan `outlier`"
   ]
  },
  {
   "cell_type": "code",
   "execution_count": 385,
   "metadata": {},
   "outputs": [],
   "source": [
    "# Reset Index\n",
    "\n",
    "X_train_trimmed.reset_index(drop=True, inplace=True)\n",
    "y_train_trimmed.reset_index(drop=True, inplace=True)"
   ]
  },
  {
   "cell_type": "markdown",
   "metadata": {},
   "source": [
    "##### B. Capping Outliers"
   ]
  },
  {
   "cell_type": "code",
   "execution_count": 386,
   "metadata": {},
   "outputs": [],
   "source": [
    "from feature_engine.outliers import Winsorizer\n",
    "\n",
    "# Create the capper\n",
    "\n",
    "windsoriser = Winsorizer(capping_method='iqr', # choose iqr for IQR rule boundaries or gaussian for mean and std\n",
    "                          tail='both', # cap left, right or both tails \n",
    "                          fold=1.5,\n",
    "                          variables=['duration', 'campaign'],\n",
    "                          missing_values='ignore')\n",
    "\n",
    "windsoriser.fit(X_train_trimmed)\n",
    "\n",
    "X_train_capped = windsoriser.transform(X_train_trimmed)"
   ]
  },
  {
   "cell_type": "markdown",
   "metadata": {},
   "source": [
    "##### C. Keeping Outliers"
   ]
  },
  {
   "cell_type": "code",
   "execution_count": 387,
   "metadata": {},
   "outputs": [
    {
     "data": {
      "text/plain": [
       "count    32442.000000\n",
       "mean         0.165218\n",
       "std          0.478264\n",
       "min          0.000000\n",
       "25%          0.000000\n",
       "50%          0.000000\n",
       "75%          0.000000\n",
       "max          7.000000\n",
       "Name: previous, dtype: float64"
      ]
     },
     "execution_count": 387,
     "metadata": {},
     "output_type": "execute_result"
    }
   ],
   "source": [
    "X_train_capped['previous'].describe()"
   ]
  },
  {
   "cell_type": "markdown",
   "metadata": {},
   "source": [
    "##### D. Handling Outliers Result"
   ]
  },
  {
   "cell_type": "code",
   "execution_count": 604,
   "metadata": {},
   "outputs": [
    {
     "data": {
      "image/png": "[encoded data removed]",
      "text/plain": [
       "<Figure size 1152x288 with 3 Axes>"
      ]
     },
     "metadata": {},
     "output_type": "display_data"
    },
    {
     "data": {
      "image/png": "[encoded data removed]",
      "text/plain": [
       "<Figure size 1152x288 with 3 Axes>"
      ]
     },
     "metadata": {},
     "output_type": "display_data"
    },
    {
     "data": {
      "image/png": "[encoded data removed]",
      "text/plain": [
       "<Figure size 1152x288 with 3 Axes>"
      ]
     },
     "metadata": {},
     "output_type": "display_data"
    },
    {
     "data": {
      "image/png": "[encoded data removed]",
      "text/plain": [
       "<Figure size 1152x288 with 3 Axes>"
      ]
     },
     "metadata": {},
     "output_type": "display_data"
    },
    {
     "data": {
      "image/png": "[encoded data removed]",
      "text/plain": [
       "<Figure size 1152x288 with 3 Axes>"
      ]
     },
     "metadata": {},
     "output_type": "display_data"
    },
    {
     "data": {
      "image/png": "[encoded data removed]",
      "text/plain": [
       "<Figure size 1152x288 with 3 Axes>"
      ]
     },
     "metadata": {},
     "output_type": "display_data"
    },
    {
     "data": {
      "image/png": "[encoded data removed]",
      "text/plain": [
       "<Figure size 1152x288 with 3 Axes>"
      ]
     },
     "metadata": {},
     "output_type": "display_data"
    },
    {
     "data": {
      "image/png": "[encoded data removed]",
      "text/plain": [
       "<Figure size 1152x288 with 3 Axes>"
      ]
     },
     "metadata": {},
     "output_type": "display_data"
    },
    {
     "data": {
      "image/png": "[encoded data removed]",
      "text/plain": [
       "<Figure size 1152x288 with 3 Axes>"
      ]
     },
     "metadata": {},
     "output_type": "display_data"
    },
    {
     "data": {
      "image/png": "[encoded data removed]",
      "text/plain": [
       "<Figure size 1152x288 with 3 Axes>"
      ]
     },
     "metadata": {},
     "output_type": "display_data"
    }
   ],
   "source": [
    "for i in X_train_capped.describe().columns:\n",
    "    diagnostic_plots(X_train, X_train_capped, i)"
   ]
  },
  {
   "cell_type": "markdown",
   "metadata": {},
   "source": [
    "- Visual diatas merupakan hasil penanganan `outlier` sebelum dan sesudahnya.\n",
    "- Terlihat pada kolom `pdays` outlier masih ada namun sudah berkurang lebih banyak jika dibandingkan dengan sebelumnya\n",
    "- pada `cons.conf.idx` tidak dilakukan penanganan, karena masih belum dianggap `outlier` dengan melakukan perhitungan `z score`"
   ]
  },
  {
   "cell_type": "code",
   "execution_count": 389,
   "metadata": {},
   "outputs": [
    {
     "data": {
      "text/html": [
       "<div>\n",
       "<style scoped>\n",
       "    .dataframe tbody tr th:only-of-type {\n",
       "        vertical-align: middle;\n",
       "    }\n",
       "\n",
       "    .dataframe tbody tr th {\n",
       "        vertical-align: top;\n",
       "    }\n",
       "\n",
       "    .dataframe thead th {\n",
       "        text-align: right;\n",
       "    }\n",
       "</style>\n",
       "<table border=\"1\" class=\"dataframe\">\n",
       "  <thead>\n",
       "    <tr style=\"text-align: right;\">\n",
       "      <th></th>\n",
       "      <th>age</th>\n",
       "      <th>duration</th>\n",
       "      <th>campaign</th>\n",
       "      <th>pdays</th>\n",
       "      <th>previous</th>\n",
       "      <th>emp.var.rate</th>\n",
       "      <th>cons.price.idx</th>\n",
       "      <th>cons.conf.idx</th>\n",
       "      <th>euribor3m</th>\n",
       "      <th>nr.employed</th>\n",
       "    </tr>\n",
       "  </thead>\n",
       "  <tbody>\n",
       "    <tr>\n",
       "      <th>count</th>\n",
       "      <td>32442.000000</td>\n",
       "      <td>32442.000000</td>\n",
       "      <td>32442.000000</td>\n",
       "      <td>1069.000000</td>\n",
       "      <td>32442.000000</td>\n",
       "      <td>32442.000000</td>\n",
       "      <td>32442.000000</td>\n",
       "      <td>32442.000000</td>\n",
       "      <td>32442.000000</td>\n",
       "      <td>32442.000000</td>\n",
       "    </tr>\n",
       "    <tr>\n",
       "      <th>mean</th>\n",
       "      <td>39.625979</td>\n",
       "      <td>234.579711</td>\n",
       "      <td>2.285371</td>\n",
       "      <td>5.388213</td>\n",
       "      <td>0.165218</td>\n",
       "      <td>0.110511</td>\n",
       "      <td>93.580636</td>\n",
       "      <td>-40.551683</td>\n",
       "      <td>3.653854</td>\n",
       "      <td>5168.747926</td>\n",
       "    </tr>\n",
       "    <tr>\n",
       "      <th>std</th>\n",
       "      <td>9.675598</td>\n",
       "      <td>177.666885</td>\n",
       "      <td>1.558019</td>\n",
       "      <td>2.925718</td>\n",
       "      <td>0.478264</td>\n",
       "      <td>1.555931</td>\n",
       "      <td>0.575077</td>\n",
       "      <td>4.575481</td>\n",
       "      <td>1.718451</td>\n",
       "      <td>70.781150</td>\n",
       "    </tr>\n",
       "    <tr>\n",
       "      <th>min</th>\n",
       "      <td>17.000000</td>\n",
       "      <td>0.000000</td>\n",
       "      <td>1.000000</td>\n",
       "      <td>0.000000</td>\n",
       "      <td>0.000000</td>\n",
       "      <td>-3.400000</td>\n",
       "      <td>92.201000</td>\n",
       "      <td>-50.800000</td>\n",
       "      <td>0.634000</td>\n",
       "      <td>4963.600000</td>\n",
       "    </tr>\n",
       "    <tr>\n",
       "      <th>25%</th>\n",
       "      <td>32.000000</td>\n",
       "      <td>102.000000</td>\n",
       "      <td>1.000000</td>\n",
       "      <td>3.000000</td>\n",
       "      <td>0.000000</td>\n",
       "      <td>-1.800000</td>\n",
       "      <td>93.075000</td>\n",
       "      <td>-42.700000</td>\n",
       "      <td>1.354000</td>\n",
       "      <td>5099.100000</td>\n",
       "    </tr>\n",
       "    <tr>\n",
       "      <th>50%</th>\n",
       "      <td>38.000000</td>\n",
       "      <td>179.000000</td>\n",
       "      <td>2.000000</td>\n",
       "      <td>6.000000</td>\n",
       "      <td>0.000000</td>\n",
       "      <td>1.100000</td>\n",
       "      <td>93.749000</td>\n",
       "      <td>-41.800000</td>\n",
       "      <td>4.857000</td>\n",
       "      <td>5191.000000</td>\n",
       "    </tr>\n",
       "    <tr>\n",
       "      <th>75%</th>\n",
       "      <td>47.000000</td>\n",
       "      <td>319.000000</td>\n",
       "      <td>3.000000</td>\n",
       "      <td>6.000000</td>\n",
       "      <td>0.000000</td>\n",
       "      <td>1.400000</td>\n",
       "      <td>93.994000</td>\n",
       "      <td>-36.400000</td>\n",
       "      <td>4.961000</td>\n",
       "      <td>5228.100000</td>\n",
       "    </tr>\n",
       "    <tr>\n",
       "      <th>max</th>\n",
       "      <td>69.000000</td>\n",
       "      <td>644.500000</td>\n",
       "      <td>6.000000</td>\n",
       "      <td>13.000000</td>\n",
       "      <td>7.000000</td>\n",
       "      <td>1.400000</td>\n",
       "      <td>94.767000</td>\n",
       "      <td>-26.900000</td>\n",
       "      <td>5.045000</td>\n",
       "      <td>5228.100000</td>\n",
       "    </tr>\n",
       "  </tbody>\n",
       "</table>\n",
       "</div>"
      ],
      "text/plain": [
       "                age      duration      campaign        pdays      previous  \\\n",
       "count  32442.000000  32442.000000  32442.000000  1069.000000  32442.000000   \n",
       "mean      39.625979    234.579711      2.285371     5.388213      0.165218   \n",
       "std        9.675598    177.666885      1.558019     2.925718      0.478264   \n",
       "min       17.000000      0.000000      1.000000     0.000000      0.000000   \n",
       "25%       32.000000    102.000000      1.000000     3.000000      0.000000   \n",
       "50%       38.000000    179.000000      2.000000     6.000000      0.000000   \n",
       "75%       47.000000    319.000000      3.000000     6.000000      0.000000   \n",
       "max       69.000000    644.500000      6.000000    13.000000      7.000000   \n",
       "\n",
       "       emp.var.rate  cons.price.idx  cons.conf.idx     euribor3m   nr.employed  \n",
       "count  32442.000000    32442.000000   32442.000000  32442.000000  32442.000000  \n",
       "mean       0.110511       93.580636     -40.551683      3.653854   5168.747926  \n",
       "std        1.555931        0.575077       4.575481      1.718451     70.781150  \n",
       "min       -3.400000       92.201000     -50.800000      0.634000   4963.600000  \n",
       "25%       -1.800000       93.075000     -42.700000      1.354000   5099.100000  \n",
       "50%        1.100000       93.749000     -41.800000      4.857000   5191.000000  \n",
       "75%        1.400000       93.994000     -36.400000      4.961000   5228.100000  \n",
       "max        1.400000       94.767000     -26.900000      5.045000   5228.100000  "
      ]
     },
     "execution_count": 389,
     "metadata": {},
     "output_type": "execute_result"
    }
   ],
   "source": [
    "X_train_capped.describe()"
   ]
  },
  {
   "cell_type": "markdown",
   "metadata": {},
   "source": [
    "### 5.5 Handling Missing Value & Feature Creation"
   ]
  },
  {
   "cell_type": "markdown",
   "metadata": {},
   "source": [
    "- Check terlebih dahulu seberapa banyak `missing value` yang terdapat pada tiap-tiap kolom baik untuk data `Train` maupun data `Test`"
   ]
  },
  {
   "cell_type": "code",
   "execution_count": 390,
   "metadata": {},
   "outputs": [
    {
     "data": {
      "text/plain": [
       "96.70488872449295"
      ]
     },
     "execution_count": 390,
     "metadata": {},
     "output_type": "execute_result"
    }
   ],
   "source": [
    "X_train_capped['pdays'].isnull().sum()/X_train_capped.shape[0]*100\n"
   ]
  },
  {
   "cell_type": "code",
   "execution_count": 391,
   "metadata": {},
   "outputs": [
    {
     "data": {
      "text/plain": [
       "96.28863470430761"
      ]
     },
     "execution_count": 391,
     "metadata": {},
     "output_type": "execute_result"
    }
   ],
   "source": [
    "X_test['pdays'].isnull().sum()/X_test.shape[0]*100"
   ]
  },
  {
   "cell_type": "markdown",
   "metadata": {},
   "source": [
    "- Terdapat hingga lebih dari 96% dari kolom `pday` yang bernilai kosong baik untuk Train set maupun Test set\n",
    "- Sebelumnya saat melakukan EDA, kita menemukan suatu fakta bahwa ternyata meskipun kolom `pdays` memiliki hubungan dengan kolom `previous`, nyatanya terdapat selisih jumlah baris yang dimiliki oleh masing-masing kolom tersebut. Selisih ini menandakan bahwa ada kemungkinan bahwa nasabah telah dihubungi, namun saat pengisian kolom `pdays` terdapat `human error` yang mengakibatkan perbedaan informasi yang diberikan.\n",
    "- Nasabah yang memiliki nilai != 0 pada kolom `previous` akan diisi dengan nilai median pada kolom `pdays`\n",
    "- Sedangkan untuk yang ==0, akan tetap dibiarkan dengan `nan/null`\n",
    "- Dengan latar belakang ini, kita akan membuat sebuah `kolom baru` bernama `pdays_cat` yang akan mengelompokkan nasabah mana yang benar-benar belum dihubungi dan yang sudah dihubungi. Dimana untuk yang sudah dihubungi kita pecah lagi menjadi dua kelompok yaitu kurang dari atau sama dengan seminggu(7 hari) sesuai dengan nilai Q3 pada kolom `pdays` dan lebih dari seminggu.\n",
    "- Sehingga total kategori yang terdapat pada kolom `pdays_cat` berjumlah tiga yaitu: `not contacted`, `<=7 days`, dan `>7 days`\n",
    "- Setelah kolom `pdays_cat` telah terisi semua, nantinya kolom `pdays` akan kita hapus pada tahap `feature selection` karena telah direpresentasikan nilainya pada kolom `pdays_cat`"
   ]
  },
  {
   "cell_type": "code",
   "execution_count": 392,
   "metadata": {},
   "outputs": [],
   "source": [
    "poutcome_index = X_train_capped.query('poutcome==\"nonexistent\"').index\n",
    "previous_index = X_train_capped.query('previous==0').index\n",
    "pdays_index = X_train_capped.query('pdays!=pdays').index\n",
    "pdays0_index = X_train_capped.query('pdays!=pdays & previous==0').index\n",
    "\n",
    "poutcome_test_index = X_test.query('poutcome==\"nonexistent\"').index\n",
    "previous_test_index = X_test.query('previous==0').index\n",
    "pdays_test_index = X_test.query('pdays!=pdays').index\n",
    "pdays0_test_index = X_test.query('pdays!=pdays & previous==0').index\n"
   ]
  },
  {
   "cell_type": "code",
   "execution_count": 393,
   "metadata": {},
   "outputs": [
    {
     "data": {
      "text/plain": [
       "[]"
      ]
     },
     "execution_count": 393,
     "metadata": {},
     "output_type": "execute_result"
    }
   ],
   "source": [
    "list(set(poutcome_index)-set(previous_index))"
   ]
  },
  {
   "cell_type": "code",
   "execution_count": 394,
   "metadata": {},
   "outputs": [],
   "source": [
    "pdays_diff = list(set(pdays_index)-set(pdays0_index))\n",
    "pdays_test_diff = list(set(pdays_test_index)-set(pdays0_test_index))"
   ]
  },
  {
   "cell_type": "code",
   "execution_count": 572,
   "metadata": {},
   "outputs": [
    {
     "name": "stdout",
     "output_type": "stream",
     "text": [
      "Selisih pdays terhadap pdays yang memiliki previous==0(Train):3242\n",
      "Selisih pdays terhadap pdays yang memiliki previous==0(Test):783\n"
     ]
    }
   ],
   "source": [
    "print(f\"Selisih pdays terhadap pdays yang memiliki previous==0(Train):{pdays_diff.__len__()}\")\n",
    "print(f\"Selisih pdays terhadap pdays yang memiliki previous==0(Test):{pdays_test_diff.__len__()}\")\n",
    "\n"
   ]
  },
  {
   "cell_type": "markdown",
   "metadata": {},
   "source": [
    "- Baris index yang tidak termasuk dalam previous==0 dalam arti lain yang sebenarnya pernah dihubungi ataupun akibat `human error` dalam kesalahan input, akan kita isi dengan nilai `median` X train"
   ]
  },
  {
   "cell_type": "code",
   "execution_count": 396,
   "metadata": {},
   "outputs": [],
   "source": [
    "X_train_pdays_median = X_train_capped.median()\n",
    "X_train_capped['pdays'].loc[pdays_diff] = X_train_pdays_median\n",
    "X_test['pdays'].loc[pdays_test_diff] = X_train_pdays_median"
   ]
  },
  {
   "cell_type": "code",
   "execution_count": 397,
   "metadata": {},
   "outputs": [],
   "source": [
    "X_train_capped['pdays_cat'] = \"Not Contacted\"\n",
    "X_test['pdays_cat'] = \"Not Contacted\""
   ]
  },
  {
   "cell_type": "code",
   "execution_count": 398,
   "metadata": {},
   "outputs": [],
   "source": [
    "X_train_capped['pdays_cat'][(X_train_capped['pdays']<=7)] = '<=7 days'\n",
    "X_test['pdays_cat'][(X_test['pdays']<=7)] = '<=7 days'"
   ]
  },
  {
   "cell_type": "code",
   "execution_count": 399,
   "metadata": {},
   "outputs": [],
   "source": [
    "X_train_capped['pdays_cat'][(X_train_capped['pdays']>7)] = '>7 days'\n",
    "X_test['pdays_cat'][(X_test['pdays']>7)] = '>7 days'"
   ]
  },
  {
   "cell_type": "code",
   "execution_count": 400,
   "metadata": {},
   "outputs": [
    {
     "data": {
      "text/plain": [
       "array(['Not Contacted', '<=7 days', '>7 days'], dtype=object)"
      ]
     },
     "execution_count": 400,
     "metadata": {},
     "output_type": "execute_result"
    }
   ],
   "source": [
    "X_train_capped['pdays_cat'].unique()"
   ]
  },
  {
   "cell_type": "markdown",
   "metadata": {},
   "source": [
    "- Hasil pembuatan kategori pada kolom fitur `pdays_cat` adalah:\n",
    "    - `Not Contacted`: Jika nasabah belum dihubungi sama sekali dalam kampanye sebelumnya\n",
    "    - `<=7 days`: Nasabah pernah dihubungi minimal sekali dalam kurun waktu kurang dari 7 hari\n",
    "    - `>7 days`: Nasabah pernah dihubungi minimal sekali dan telah melewati lebih dari 7 hari"
   ]
  },
  {
   "cell_type": "code",
   "execution_count": 575,
   "metadata": {},
   "outputs": [
    {
     "data": {
      "text/plain": [
       "age                   0\n",
       "job                   0\n",
       "marital               0\n",
       "education             0\n",
       "default               0\n",
       "housing               0\n",
       "loan                  0\n",
       "contact               0\n",
       "month                 0\n",
       "day_of_week           0\n",
       "duration              0\n",
       "campaign              0\n",
       "pdays             28131\n",
       "previous              0\n",
       "poutcome              0\n",
       "emp.var.rate          0\n",
       "cons.price.idx        0\n",
       "cons.conf.idx         0\n",
       "euribor3m             0\n",
       "nr.employed           0\n",
       "pdays_cat             0\n",
       "dtype: int64"
      ]
     },
     "execution_count": 575,
     "metadata": {},
     "output_type": "execute_result"
    }
   ],
   "source": [
    "X_train_capped.isnull().sum()"
   ]
  },
  {
   "cell_type": "markdown",
   "metadata": {},
   "source": [
    "- Pada akhir tahap ini sudah tidak ditemukannya lagi `missing value` pada kolom yang dibutuhkan.\n",
    "- Kecuali pada kolom `pdays`, masih terdapat missing value yang sebelumnya digunakan sebagai `identifier` untuk mengisi nilai pada `pdays_cat`. Namun ini akan kita biarkan, karena kolom ini akan dihapus pada `feature selection`."
   ]
  },
  {
   "cell_type": "markdown",
   "metadata": {},
   "source": [
    "### 5.6 Feature Selection"
   ]
  },
  {
   "cell_type": "code",
   "execution_count": 403,
   "metadata": {},
   "outputs": [],
   "source": [
    "X_train_selected = X_train_capped.copy()\n",
    "num_columns.remove('pdays')\n",
    "cat_columns.append('pdays_cat')\n",
    "dropped_columns = ['pdays']\n",
    "X_train_selected.drop(dropped_columns, axis=1, inplace=True)\n",
    "X_test.drop(dropped_columns, axis=1, inplace=True)"
   ]
  },
  {
   "cell_type": "markdown",
   "metadata": {},
   "source": [
    "- Karena kolom `pdays` sudah diganti oleh `pdays_cat`, maka kita akan menghapus kolom ini"
   ]
  },
  {
   "cell_type": "markdown",
   "metadata": {},
   "source": [
    "### 5.7 Feature Scaling & Encoding\n",
    "\n",
    "#### 5.7.1 Splitting Columns (Numerical and Categorical)"
   ]
  },
  {
   "cell_type": "code",
   "execution_count": 405,
   "metadata": {},
   "outputs": [],
   "source": [
    "# Split on X_train\n",
    "\n",
    "X_train_num = X_train_capped[num_columns]\n",
    "X_train_cat = X_train_capped[cat_columns]\n",
    "\n",
    "# Split on X_test\n",
    "\n",
    "X_test_num = X_test[num_columns]\n",
    "X_test_cat = X_test[cat_columns]"
   ]
  },
  {
   "cell_type": "markdown",
   "metadata": {},
   "source": [
    "#### 5.7.2 Feature Scaling"
   ]
  },
  {
   "cell_type": "code",
   "execution_count": 406,
   "metadata": {},
   "outputs": [],
   "source": [
    "# Feature Scaling Using Standard Scaler\n",
    "\n",
    "from sklearn.preprocessing import StandardScaler\n",
    "\n",
    "scaler = StandardScaler()\n",
    "scaler.fit(X_train_num)\n",
    "\n",
    "X_train_num_scaled = scaler.transform(X_train_num)\n",
    "X_test_num_scaled = scaler.transform(X_test_num)"
   ]
  },
  {
   "cell_type": "markdown",
   "metadata": {},
   "source": [
    "#### 5.7.3 Feature Encoding"
   ]
  },
  {
   "cell_type": "code",
   "execution_count": 407,
   "metadata": {},
   "outputs": [],
   "source": [
    "# Feature Encoding\n",
    "\n",
    "from sklearn.preprocessing import OneHotEncoder\n",
    "encoder = OneHotEncoder()\n",
    "encoder.fit(X_train_cat)\n",
    "\n",
    "X_train_cat_encoded = encoder.transform(X_train_cat)\n",
    "X_test_cat_encoded = encoder.transform(X_test_cat)\n"
   ]
  },
  {
   "cell_type": "markdown",
   "metadata": {},
   "source": [
    "#### 5.7.4 Concatenate Numerical & Categorical"
   ]
  },
  {
   "cell_type": "code",
   "execution_count": 408,
   "metadata": {},
   "outputs": [],
   "source": [
    "# Concate Data\n",
    "\n",
    "X_train_final = np.concatenate([X_train_num_scaled, X_train_cat_encoded.toarray()], axis=1)\n",
    "X_test_final = np.concatenate([X_test_num_scaled, X_test_cat_encoded.toarray()], axis=1)"
   ]
  },
  {
   "cell_type": "markdown",
   "metadata": {},
   "source": [
    "## **6. Model Definition**\n",
    "> Bagian ini berisi cell untuk mendefinisikan model. Jelaskan alasan menggunakan suatu algoritma/model, hyperparameter yang dipakai, jenis penggunaan metrics yang dipakai, dan hal lain yang terkait dengan model."
   ]
  },
  {
   "cell_type": "code",
   "execution_count": 409,
   "metadata": {},
   "outputs": [],
   "source": [
    "from sklearn.linear_model import LogisticRegression\n",
    "\n",
    "model = LogisticRegression()"
   ]
  },
  {
   "cell_type": "code",
   "execution_count": 410,
   "metadata": {},
   "outputs": [],
   "source": [
    "from sklearn.svm import SVC\n",
    "\n",
    "clf_svc = SVC()"
   ]
  },
  {
   "cell_type": "code",
   "execution_count": 411,
   "metadata": {},
   "outputs": [],
   "source": [
    "from sklearn.tree import DecisionTreeClassifier\n",
    "\n",
    "clf_dt= DecisionTreeClassifier(random_state=4)\n"
   ]
  },
  {
   "cell_type": "code",
   "execution_count": 412,
   "metadata": {},
   "outputs": [],
   "source": [
    "from sklearn.ensemble import RandomForestClassifier\n",
    "\n",
    "clf_rnd= RandomForestClassifier(random_state=4)"
   ]
  },
  {
   "cell_type": "code",
   "execution_count": 413,
   "metadata": {},
   "outputs": [],
   "source": [
    "from sklearn.neighbors import KNeighborsClassifier\n",
    "clf_knn = KNeighborsClassifier(n_neighbors=5)"
   ]
  },
  {
   "cell_type": "code",
   "execution_count": 414,
   "metadata": {},
   "outputs": [],
   "source": [
    "from sklearn.naive_bayes import GaussianNB\n",
    "clf_nb = GaussianNB()"
   ]
  },
  {
   "cell_type": "code",
   "execution_count": 415,
   "metadata": {},
   "outputs": [],
   "source": [
    "from sklearn.ensemble import BaggingClassifier\n",
    "\n",
    "bag_clf = BaggingClassifier(\n",
    "    base_estimator=DecisionTreeClassifier(), n_estimators=500, \n",
    "    max_samples=100, bootstrap=True, random_state=4)"
   ]
  },
  {
   "cell_type": "markdown",
   "metadata": {},
   "source": [
    "## **7. Model Training**\n",
    "> Cell pada bagian ini hanya berisi code untuk melatih model dan output yang dihasilkan. Lakukan beberapa kali proses training dengan hyperparameter yang berbeda untuk melihat hasil yang didapatkan. Analisis dan narasikan hasil ini pada bagian Model Evaluation."
   ]
  },
  {
   "cell_type": "code",
   "execution_count": 416,
   "metadata": {},
   "outputs": [],
   "source": [
    "y_train_trimmed.replace(to_replace=dict(yes=1, no=0), inplace=True)\n",
    "y_test.replace(to_replace=dict(yes=1, no=0), inplace=True)"
   ]
  },
  {
   "cell_type": "code",
   "execution_count": 417,
   "metadata": {},
   "outputs": [
    {
     "name": "stderr",
     "output_type": "stream",
     "text": [
      "/Users/krisbiantoroprabowo/opt/anaconda3/lib/python3.8/site-packages/sklearn/linear_model/_logistic.py:763: ConvergenceWarning: lbfgs failed to converge (status=1):\n",
      "STOP: TOTAL NO. of ITERATIONS REACHED LIMIT.\n",
      "\n",
      "Increase the number of iterations (max_iter) or scale the data as shown in:\n",
      "    https://scikit-learn.org/stable/modules/preprocessing.html\n",
      "Please also refer to the documentation for alternative solver options:\n",
      "    https://scikit-learn.org/stable/modules/linear_model.html#logistic-regression\n",
      "  n_iter_i = _check_optimize_result(\n"
     ]
    },
    {
     "data": {
      "text/plain": [
       "LogisticRegression()"
      ]
     },
     "execution_count": 417,
     "metadata": {},
     "output_type": "execute_result"
    }
   ],
   "source": [
    "model.fit(X_train_final, y_train_trimmed)"
   ]
  },
  {
   "cell_type": "code",
   "execution_count": 418,
   "metadata": {},
   "outputs": [
    {
     "data": {
      "text/plain": [
       "SVC()"
      ]
     },
     "execution_count": 418,
     "metadata": {},
     "output_type": "execute_result"
    }
   ],
   "source": [
    "clf_svc.fit(X_train_final, y_train_trimmed)"
   ]
  },
  {
   "cell_type": "code",
   "execution_count": 419,
   "metadata": {},
   "outputs": [
    {
     "data": {
      "text/plain": [
       "DecisionTreeClassifier(random_state=4)"
      ]
     },
     "execution_count": 419,
     "metadata": {},
     "output_type": "execute_result"
    }
   ],
   "source": [
    "clf_dt.fit(X_train_final, y_train_trimmed)"
   ]
  },
  {
   "cell_type": "code",
   "execution_count": 420,
   "metadata": {},
   "outputs": [
    {
     "data": {
      "text/plain": [
       "RandomForestClassifier(random_state=4)"
      ]
     },
     "execution_count": 420,
     "metadata": {},
     "output_type": "execute_result"
    }
   ],
   "source": [
    "clf_rnd.fit(X_train_final, y_train_trimmed)"
   ]
  },
  {
   "cell_type": "code",
   "execution_count": 421,
   "metadata": {},
   "outputs": [
    {
     "data": {
      "text/plain": [
       "KNeighborsClassifier()"
      ]
     },
     "execution_count": 421,
     "metadata": {},
     "output_type": "execute_result"
    }
   ],
   "source": [
    "clf_knn.fit(X_train_final, y_train_trimmed)"
   ]
  },
  {
   "cell_type": "code",
   "execution_count": 422,
   "metadata": {},
   "outputs": [
    {
     "data": {
      "text/plain": [
       "GaussianNB()"
      ]
     },
     "execution_count": 422,
     "metadata": {},
     "output_type": "execute_result"
    }
   ],
   "source": [
    "clf_nb.fit(X_train_final, y_train_trimmed)"
   ]
  },
  {
   "cell_type": "code",
   "execution_count": 423,
   "metadata": {},
   "outputs": [
    {
     "data": {
      "text/plain": [
       "BaggingClassifier(base_estimator=DecisionTreeClassifier(), max_samples=100,\n",
       "                  n_estimators=500, random_state=4)"
      ]
     },
     "execution_count": 423,
     "metadata": {},
     "output_type": "execute_result"
    }
   ],
   "source": [
    "bag_clf.fit(X_train_final, y_train_trimmed)"
   ]
  },
  {
   "cell_type": "markdown",
   "metadata": {},
   "source": [
    "## **8. Model Evaluation**\n",
    "> Pada bagian ini, dilakukan evaluasi model yang harus menunjukkan bagaimana performa model berdasarkan metrics yang dipilih. Hal ini harus dibuktikan dengan visualisasi tren performa dan/atau tingkat kesalahan model. Lakukan analisis terkait dengan hasil pada model dan tuliskan hasil analisisnya."
   ]
  },
  {
   "cell_type": "code",
   "execution_count": 587,
   "metadata": {},
   "outputs": [],
   "source": [
    "evaluation_metrics = pd.DataFrame(columns=['Model', 'f1-score(No, Train)', 'f1-score(Yes, Train)', 'f1-score(No, Test)', 'f1-score(Yes, Test)'])"
   ]
  },
  {
   "cell_type": "markdown",
   "metadata": {},
   "source": [
    "### 8.1 Base Model"
   ]
  },
  {
   "cell_type": "markdown",
   "metadata": {},
   "source": [
    "#### 8.1.1. Logistic Regression"
   ]
  },
  {
   "cell_type": "code",
   "execution_count": 577,
   "metadata": {},
   "outputs": [
    {
     "name": "stdout",
     "output_type": "stream",
     "text": [
      "              precision    recall  f1-score   support\n",
      "\n",
      "           0       0.93      0.98      0.95     28951\n",
      "           1       0.66      0.38      0.48      3491\n",
      "\n",
      "    accuracy                           0.91     32442\n",
      "   macro avg       0.79      0.68      0.72     32442\n",
      "weighted avg       0.90      0.91      0.90     32442\n",
      "\n",
      "              precision    recall  f1-score   support\n",
      "\n",
      "           0       0.94      0.96      0.95      7293\n",
      "           1       0.62      0.56      0.59       925\n",
      "\n",
      "    accuracy                           0.91      8218\n",
      "   macro avg       0.78      0.76      0.77      8218\n",
      "weighted avg       0.91      0.91      0.91      8218\n",
      "\n"
     ]
    }
   ],
   "source": [
    "from sklearn.metrics import classification_report, confusion_matrix, f1_score\n",
    "\n",
    "y_pred_train_log = model.predict(X_train_final)\n",
    "y_pred_test_log = model.predict(X_test_final)\n",
    "print(classification_report(y_train_trimmed, y_pred_train_log))\n",
    "print(classification_report(y_test, y_pred_test_log))\n",
    "# figure size\n"
   ]
  },
  {
   "cell_type": "code",
   "execution_count": 588,
   "metadata": {},
   "outputs": [],
   "source": [
    "evaluation_metrics.loc[0] = ['Logistic Regression', 0.95, 0.48, 0.95, 0.59]"
   ]
  },
  {
   "cell_type": "markdown",
   "metadata": {},
   "source": [
    "#### 8.1.2 SVC"
   ]
  },
  {
   "cell_type": "code",
   "execution_count": 426,
   "metadata": {},
   "outputs": [
    {
     "name": "stdout",
     "output_type": "stream",
     "text": [
      "              precision    recall  f1-score   support\n",
      "\n",
      "           0       0.93      0.99      0.96     28951\n",
      "           1       0.79      0.37      0.50      3491\n",
      "\n",
      "    accuracy                           0.92     32442\n",
      "   macro avg       0.86      0.68      0.73     32442\n",
      "weighted avg       0.91      0.92      0.91     32442\n",
      "\n",
      "              precision    recall  f1-score   support\n",
      "\n",
      "           0       0.92      0.98      0.95      7293\n",
      "           1       0.69      0.37      0.49       925\n",
      "\n",
      "    accuracy                           0.91      8218\n",
      "   macro avg       0.81      0.68      0.72      8218\n",
      "weighted avg       0.90      0.91      0.90      8218\n",
      "\n"
     ]
    }
   ],
   "source": [
    "\n",
    "y_pred_train_svm = clf_svc.predict(X_train_final)\n",
    "y_pred_test_svm = clf_svc.predict(X_test_final)\n",
    "print(classification_report(y_train_trimmed, y_pred_train_svm))\n",
    "\n",
    "print(classification_report(y_test, y_pred_test_svm))\n"
   ]
  },
  {
   "cell_type": "code",
   "execution_count": 589,
   "metadata": {},
   "outputs": [],
   "source": [
    "evaluation_metrics.loc[1] = ['SVM', 0.96, 0.50, 0.95, 0.49]"
   ]
  },
  {
   "cell_type": "markdown",
   "metadata": {},
   "source": [
    "#### 8.1.3 Decision Tree"
   ]
  },
  {
   "cell_type": "code",
   "execution_count": 427,
   "metadata": {},
   "outputs": [
    {
     "name": "stdout",
     "output_type": "stream",
     "text": [
      "              precision    recall  f1-score   support\n",
      "\n",
      "           0       1.00      1.00      1.00     28951\n",
      "           1       1.00      1.00      1.00      3491\n",
      "\n",
      "    accuracy                           1.00     32442\n",
      "   macro avg       1.00      1.00      1.00     32442\n",
      "weighted avg       1.00      1.00      1.00     32442\n",
      "\n",
      "              precision    recall  f1-score   support\n",
      "\n",
      "           0       0.94      0.94      0.94      7293\n",
      "           1       0.51      0.49      0.50       925\n",
      "\n",
      "    accuracy                           0.89      8218\n",
      "   macro avg       0.72      0.71      0.72      8218\n",
      "weighted avg       0.89      0.89      0.89      8218\n",
      "\n"
     ]
    }
   ],
   "source": [
    "\n",
    "y_pred_train_dt = clf_dt.predict(X_train_final)\n",
    "y_pred_test_dt = clf_dt.predict(X_test_final)\n",
    "print(classification_report(y_train_trimmed, y_pred_train_dt))\n",
    "\n",
    "print(classification_report(y_test, y_pred_test_dt))\n"
   ]
  },
  {
   "cell_type": "code",
   "execution_count": 590,
   "metadata": {},
   "outputs": [],
   "source": [
    "evaluation_metrics.loc[2] = ['Decision Tree', 1.0, 1.0, 0.94, 0.50]"
   ]
  },
  {
   "cell_type": "markdown",
   "metadata": {},
   "source": [
    "#### 8.1.4 Random Forest Classifier"
   ]
  },
  {
   "cell_type": "code",
   "execution_count": 428,
   "metadata": {},
   "outputs": [
    {
     "name": "stdout",
     "output_type": "stream",
     "text": [
      "              precision    recall  f1-score   support\n",
      "\n",
      "           0       1.00      1.00      1.00     28951\n",
      "           1       1.00      1.00      1.00      3491\n",
      "\n",
      "    accuracy                           1.00     32442\n",
      "   macro avg       1.00      1.00      1.00     32442\n",
      "weighted avg       1.00      1.00      1.00     32442\n",
      "\n",
      "              precision    recall  f1-score   support\n",
      "\n",
      "           0       0.93      0.97      0.95      7293\n",
      "           1       0.67      0.44      0.53       925\n",
      "\n",
      "    accuracy                           0.91      8218\n",
      "   macro avg       0.80      0.71      0.74      8218\n",
      "weighted avg       0.90      0.91      0.90      8218\n",
      "\n"
     ]
    }
   ],
   "source": [
    "\n",
    "y_pred_train_rnd = clf_rnd.predict(X_train_final)\n",
    "y_pred_test_rnd = clf_rnd.predict(X_test_final)\n",
    "print(classification_report(y_train_trimmed, y_pred_train_rnd))\n",
    "\n",
    "print(classification_report(y_test, y_pred_test_rnd))\n"
   ]
  },
  {
   "cell_type": "code",
   "execution_count": 591,
   "metadata": {},
   "outputs": [],
   "source": [
    "evaluation_metrics.loc[3] = ['Random Forest', 1.0, 1.0, 0.95, 0.53]"
   ]
  },
  {
   "cell_type": "markdown",
   "metadata": {},
   "source": [
    "#### 8.1.5 K-Nearest Neighbor"
   ]
  },
  {
   "cell_type": "code",
   "execution_count": 429,
   "metadata": {},
   "outputs": [
    {
     "name": "stdout",
     "output_type": "stream",
     "text": [
      "              precision    recall  f1-score   support\n",
      "\n",
      "           0       0.94      0.98      0.96     28951\n",
      "           1       0.74      0.53      0.62      3491\n",
      "\n",
      "    accuracy                           0.93     32442\n",
      "   macro avg       0.84      0.75      0.79     32442\n",
      "weighted avg       0.92      0.93      0.92     32442\n",
      "\n",
      "              precision    recall  f1-score   support\n",
      "\n",
      "           0       0.93      0.96      0.95      7293\n",
      "           1       0.59      0.43      0.50       925\n",
      "\n",
      "    accuracy                           0.90      8218\n",
      "   macro avg       0.76      0.70      0.72      8218\n",
      "weighted avg       0.89      0.90      0.90      8218\n",
      "\n"
     ]
    }
   ],
   "source": [
    "\n",
    "y_pred_train_knn = clf_knn.predict(X_train_final)\n",
    "y_pred_test_knn = clf_knn.predict(X_test_final)\n",
    "print(classification_report(y_train_trimmed, y_pred_train_knn))\n",
    "\n",
    "print(classification_report(y_test, y_pred_test_knn))\n"
   ]
  },
  {
   "cell_type": "code",
   "execution_count": 592,
   "metadata": {},
   "outputs": [],
   "source": [
    "evaluation_metrics.loc[4] = ['K Nearest Neighbor', 0.96, 0.62, 0.95, 0.50]"
   ]
  },
  {
   "cell_type": "markdown",
   "metadata": {},
   "source": [
    "#### 8.1.6 Naive Bayes"
   ]
  },
  {
   "cell_type": "code",
   "execution_count": 430,
   "metadata": {},
   "outputs": [
    {
     "name": "stdout",
     "output_type": "stream",
     "text": [
      "              precision    recall  f1-score   support\n",
      "\n",
      "           0       0.95      0.83      0.88     28951\n",
      "           1       0.30      0.61      0.40      3491\n",
      "\n",
      "    accuracy                           0.80     32442\n",
      "   macro avg       0.62      0.72      0.64     32442\n",
      "weighted avg       0.88      0.80      0.83     32442\n",
      "\n",
      "              precision    recall  f1-score   support\n",
      "\n",
      "           0       0.95      0.82      0.88      7293\n",
      "           1       0.33      0.67      0.44       925\n",
      "\n",
      "    accuracy                           0.81      8218\n",
      "   macro avg       0.64      0.75      0.66      8218\n",
      "weighted avg       0.88      0.81      0.83      8218\n",
      "\n"
     ]
    }
   ],
   "source": [
    "\n",
    "y_pred_train_nb = clf_nb.predict(X_train_final)\n",
    "y_pred_test_nb = clf_nb.predict(X_test_final)\n",
    "print(classification_report(y_train_trimmed, y_pred_train_nb))\n",
    "\n",
    "print(classification_report(y_test, y_pred_test_nb))\n"
   ]
  },
  {
   "cell_type": "code",
   "execution_count": 594,
   "metadata": {},
   "outputs": [],
   "source": [
    "evaluation_metrics.loc[5] = ['Naive Bayes', 0.88, 0.40, 0.88, 0.44]"
   ]
  },
  {
   "cell_type": "markdown",
   "metadata": {},
   "source": [
    "#### 8.1.7 Bagging Ensembles"
   ]
  },
  {
   "cell_type": "code",
   "execution_count": 431,
   "metadata": {},
   "outputs": [
    {
     "name": "stdout",
     "output_type": "stream",
     "text": [
      "              precision    recall  f1-score   support\n",
      "\n",
      "           0       0.92      0.98      0.95     28951\n",
      "           1       0.69      0.30      0.42      3491\n",
      "\n",
      "    accuracy                           0.91     32442\n",
      "   macro avg       0.81      0.64      0.69     32442\n",
      "weighted avg       0.90      0.91      0.89     32442\n",
      "\n",
      "              precision    recall  f1-score   support\n",
      "\n",
      "           0       0.92      0.98      0.95      7293\n",
      "           1       0.69      0.32      0.44       925\n",
      "\n",
      "    accuracy                           0.91      8218\n",
      "   macro avg       0.80      0.65      0.69      8218\n",
      "weighted avg       0.89      0.91      0.89      8218\n",
      "\n"
     ]
    }
   ],
   "source": [
    "\n",
    "y_pred_train_bag = bag_clf.predict(X_train_final)\n",
    "y_pred_test_bag = bag_clf.predict(X_test_final)\n",
    "print(classification_report(y_train_trimmed, y_pred_train_bag))\n",
    "\n",
    "print(classification_report(y_test, y_pred_test_bag))\n"
   ]
  },
  {
   "cell_type": "code",
   "execution_count": 595,
   "metadata": {},
   "outputs": [],
   "source": [
    "evaluation_metrics.loc[6] = ['Bagging Ensembles', 0.95, 0.42, 0.95, 0.44]"
   ]
  },
  {
   "cell_type": "markdown",
   "metadata": {},
   "source": [
    "### 8.2 Hyperparameter Tuning With GridSearch & Cross Validation"
   ]
  },
  {
   "cell_type": "markdown",
   "metadata": {},
   "source": [
    "- Pada tahap ini kita akan melakukan pencarian `hyperparameter` terbaik menggunakan fungsi `GridSearchCV` yang dimana fungsi ini sekaligus melakukan `Cross Validation`\n",
    "- `Cross Validaiton` yang akan dilakukan pada tiap-tiap evaluasi model sebanyak 5 kali, atau seperti yang berlaku pada umumnya"
   ]
  },
  {
   "cell_type": "code",
   "execution_count": 432,
   "metadata": {},
   "outputs": [],
   "source": [
    "from sklearn.model_selection import GridSearchCV"
   ]
  },
  {
   "cell_type": "code",
   "execution_count": 480,
   "metadata": {},
   "outputs": [],
   "source": [
    "# Parameter list\n",
    "\n",
    "parameters_logreg = { 'C': [100, 200],\n",
    "                    'penalty': ['l1', 'l2'],\n",
    "                    'class_weight': ['balanced', None],\n",
    "                    'solver': ['liblinear', 'newton-cg', 'lbfgs']\n",
    "                    }\n",
    "\n",
    "parameters_svc = {'kernel': ['rbf', 'linear'], \n",
    "                'C': [ 10, 100], \n",
    "                'gamma': [0.1, 0.01]\n",
    "                }\n",
    "\n",
    "parameters_dt = {'criterion':['gini','entropy'],\n",
    "              'max_depth':np.arange(2,12, 2),\n",
    "              'min_samples_split':np.arange(2,12, 2),\n",
    "              'min_samples_leaf':np.arange(2,12, 2)\n",
    "              }\n",
    "\n",
    "parameters_rnd = {'criterion':['gini','entropy'],\n",
    "              'max_depth':np.arange(2,12, 2),\n",
    "              'min_samples_split':np.arange(2,12, 2),\n",
    "              'min_samples_leaf':np.arange(2,12, 2)\n",
    "              }\n",
    "\n",
    "parameters_knn = {'n_neighbors':np.arange(3, 8, 2),\n",
    "              'weights':['uniform', 'distance']\n",
    "              }\n",
    "\n",
    "parameters_nb = {'var_smoothing':[1e-9, 1e-8, 1e-7, 1e-6, 1e-5, 1e-4, 1e-3, 1e-2, 1e-1, 1, 10, 100, 1000]}\n",
    "\n",
    "parameters_bag = {'n_estimators':np.arange(10, 100, 10)}\n",
    "\n"
   ]
  },
  {
   "cell_type": "markdown",
   "metadata": {},
   "source": [
    "- Kita akan menambahkan nilai `recall` untuk kelas yes/positive didalam metriks untuk hasil evaluasi permodelan `hyperparameter tuning` ini."
   ]
  },
  {
   "cell_type": "code",
   "execution_count": 610,
   "metadata": {},
   "outputs": [],
   "source": [
    "tuned_evaluation_metrics = pd.DataFrame(columns=['Model', 'f1-score(No, Train)', 'f1-score(Yes, Train)', 'f1-score(No, Test)', 'f1-score(Yes, Test)', 'recall(Yes, Train)', 'recall(Yes, Test)'])"
   ]
  },
  {
   "cell_type": "markdown",
   "metadata": {},
   "source": [
    "#### 8.2.1 Logistic Regression"
   ]
  },
  {
   "cell_type": "code",
   "execution_count": 434,
   "metadata": {},
   "outputs": [
    {
     "name": "stderr",
     "output_type": "stream",
     "text": [
      "/Users/krisbiantoroprabowo/opt/anaconda3/lib/python3.8/site-packages/sklearn/model_selection/_search.py:918: UserWarning: One or more of the test scores are non-finite: [0.57078608        nan        nan 0.5708356  0.5708356  0.57090665\n",
      " 0.4770416         nan        nan 0.4773226  0.4773226  0.47750193\n",
      " 0.5707339         nan        nan 0.57078608 0.57078608 0.57090938\n",
      " 0.4773226         nan        nan 0.4770416  0.4773226  0.47695319]\n",
      "  warnings.warn(\n",
      "/Users/krisbiantoroprabowo/opt/anaconda3/lib/python3.8/site-packages/sklearn/model_selection/_search.py:918: UserWarning: One or more of the train scores are non-finite: [0.57353633        nan        nan 0.57353633 0.57353633 0.57356848\n",
      " 0.48226954        nan        nan 0.4822985  0.4822985  0.48211358\n",
      " 0.57356219        nan        nan 0.57354933 0.57353633 0.57355433\n",
      " 0.4822508         nan        nan 0.48223037 0.4822985  0.48186342]\n",
      "  warnings.warn(\n",
      "/Users/krisbiantoroprabowo/opt/anaconda3/lib/python3.8/site-packages/sklearn/linear_model/_logistic.py:763: ConvergenceWarning: lbfgs failed to converge (status=1):\n",
      "STOP: TOTAL NO. of ITERATIONS REACHED LIMIT.\n",
      "\n",
      "Increase the number of iterations (max_iter) or scale the data as shown in:\n",
      "    https://scikit-learn.org/stable/modules/preprocessing.html\n",
      "Please also refer to the documentation for alternative solver options:\n",
      "    https://scikit-learn.org/stable/modules/linear_model.html#logistic-regression\n",
      "  n_iter_i = _check_optimize_result(\n"
     ]
    },
    {
     "data": {
      "text/plain": [
       "GridSearchCV(cv=5, estimator=LogisticRegression(), n_jobs=-1,\n",
       "             param_grid={'C': [100, 200], 'class_weight': ['balanced', None],\n",
       "                         'penalty': ['l1', 'l2'],\n",
       "                         'solver': ['liblinear', 'newton-cg', 'lbfgs']},\n",
       "             return_train_score=True, scoring='f1')"
      ]
     },
     "execution_count": 434,
     "metadata": {},
     "output_type": "execute_result"
    }
   ],
   "source": [
    "logreg_grid = GridSearchCV(model, param_grid = parameters_logreg, cv=5, scoring='f1', return_train_score=True, n_jobs=-1)\n",
    "logreg_grid.fit(X_train_final, y_train_trimmed)"
   ]
  },
  {
   "cell_type": "code",
   "execution_count": 435,
   "metadata": {},
   "outputs": [
    {
     "data": {
      "text/plain": [
       "{'C': 200, 'class_weight': 'balanced', 'penalty': 'l2', 'solver': 'lbfgs'}"
      ]
     },
     "execution_count": 435,
     "metadata": {},
     "output_type": "execute_result"
    }
   ],
   "source": [
    "logreg_grid.best_params_"
   ]
  },
  {
   "cell_type": "code",
   "execution_count": 436,
   "metadata": {},
   "outputs": [
    {
     "data": {
      "text/plain": [
       "0.5709093824848325"
      ]
     },
     "execution_count": 436,
     "metadata": {},
     "output_type": "execute_result"
    }
   ],
   "source": [
    "logreg_grid.best_score_"
   ]
  },
  {
   "cell_type": "code",
   "execution_count": 437,
   "metadata": {},
   "outputs": [
    {
     "data": {
      "text/plain": [
       "LogisticRegression(C=200, class_weight='balanced')"
      ]
     },
     "execution_count": 437,
     "metadata": {},
     "output_type": "execute_result"
    }
   ],
   "source": [
    "logreg_best= logreg_grid.best_estimator_\n",
    "logreg_best"
   ]
  },
  {
   "cell_type": "code",
   "execution_count": 438,
   "metadata": {},
   "outputs": [
    {
     "name": "stdout",
     "output_type": "stream",
     "text": [
      "              precision    recall  f1-score   support\n",
      "\n",
      "           0       0.99      0.85      0.91     28951\n",
      "           1       0.42      0.91      0.57      3491\n",
      "\n",
      "    accuracy                           0.85     32442\n",
      "   macro avg       0.70      0.88      0.74     32442\n",
      "weighted avg       0.93      0.85      0.88     32442\n",
      "\n",
      "              precision    recall  f1-score   support\n",
      "\n",
      "           0       0.99      0.85      0.91      7293\n",
      "           1       0.43      0.92      0.59       925\n",
      "\n",
      "    accuracy                           0.86      8218\n",
      "   macro avg       0.71      0.88      0.75      8218\n",
      "weighted avg       0.93      0.86      0.88      8218\n",
      "\n",
      "[[6188 1105]\n",
      " [  77  848]]\n"
     ]
    }
   ],
   "source": [
    "y_pred_train_tuning_logreg = logreg_best.predict(X_train_final)\n",
    "y_pred_test_tuning_logreg = logreg_best.predict(X_test_final)\n",
    "print(classification_report(y_train_trimmed, y_pred_train_tuning_logreg))\n",
    "\n",
    "print(classification_report(y_test, y_pred_test_tuning_logreg))\n",
    "\n"
   ]
  },
  {
   "cell_type": "code",
   "execution_count": 612,
   "metadata": {},
   "outputs": [],
   "source": [
    "tuned_evaluation_metrics.loc[0] = ['Tuned LogReg', 0.91, 0.57, 0.91, 0.59, 0.91, 0.92]"
   ]
  },
  {
   "cell_type": "markdown",
   "metadata": {},
   "source": [
    "#### 8.2.2 SVC Tuning"
   ]
  },
  {
   "cell_type": "code",
   "execution_count": 444,
   "metadata": {},
   "outputs": [
    {
     "data": {
      "text/plain": [
       "GridSearchCV(cv=5, estimator=SVC(), n_jobs=-1,\n",
       "             param_grid={'C': [10, 100], 'gamma': [0.1, 0.01],\n",
       "                         'kernel': ['rbf', 'linear']},\n",
       "             return_train_score=True, scoring='f1')"
      ]
     },
     "execution_count": 444,
     "metadata": {},
     "output_type": "execute_result"
    }
   ],
   "source": [
    "svc_grid = GridSearchCV(clf_svc, param_grid = parameters_svc, cv=5, scoring='f1', return_train_score=True, n_jobs=-1)\n",
    "svc_grid.fit(X_train_final, y_train_trimmed)"
   ]
  },
  {
   "cell_type": "code",
   "execution_count": 445,
   "metadata": {},
   "outputs": [
    {
     "data": {
      "text/plain": [
       "{'C': 10, 'gamma': 0.1, 'kernel': 'rbf'}"
      ]
     },
     "execution_count": 445,
     "metadata": {},
     "output_type": "execute_result"
    }
   ],
   "source": [
    "svc_grid.best_params_"
   ]
  },
  {
   "cell_type": "code",
   "execution_count": 446,
   "metadata": {},
   "outputs": [
    {
     "data": {
      "text/plain": [
       "0.5173427069925401"
      ]
     },
     "execution_count": 446,
     "metadata": {},
     "output_type": "execute_result"
    }
   ],
   "source": [
    "svc_grid.best_score_"
   ]
  },
  {
   "cell_type": "code",
   "execution_count": 447,
   "metadata": {},
   "outputs": [
    {
     "data": {
      "text/plain": [
       "SVC(C=10, gamma=0.1)"
      ]
     },
     "execution_count": 447,
     "metadata": {},
     "output_type": "execute_result"
    }
   ],
   "source": [
    "svc_best= svc_grid.best_estimator_\n",
    "svc_best"
   ]
  },
  {
   "cell_type": "code",
   "execution_count": 448,
   "metadata": {},
   "outputs": [
    {
     "name": "stdout",
     "output_type": "stream",
     "text": [
      "              precision    recall  f1-score   support\n",
      "\n",
      "           0       0.98      0.99      0.99     28951\n",
      "           1       0.95      0.85      0.90      3491\n",
      "\n",
      "    accuracy                           0.98     32442\n",
      "   macro avg       0.97      0.92      0.94     32442\n",
      "weighted avg       0.98      0.98      0.98     32442\n",
      "\n",
      "              precision    recall  f1-score   support\n",
      "\n",
      "           0       0.94      0.94      0.94      7293\n",
      "           1       0.56      0.55      0.55       925\n",
      "\n",
      "    accuracy                           0.90      8218\n",
      "   macro avg       0.75      0.75      0.75      8218\n",
      "weighted avg       0.90      0.90      0.90      8218\n",
      "\n"
     ]
    }
   ],
   "source": [
    "y_pred_train_tuning_svc = svc_best.predict(X_train_final)\n",
    "y_pred_test_tuning_svc = svc_best.predict(X_test_final)\n",
    "print(classification_report(y_train_trimmed, y_pred_train_tuning_svc))\n",
    "\n",
    "print(classification_report(y_test, y_pred_test_tuning_svc))"
   ]
  },
  {
   "cell_type": "code",
   "execution_count": 615,
   "metadata": {},
   "outputs": [],
   "source": [
    "tuned_evaluation_metrics.loc[1] = ['Tuned SVC', 0.99, 0.90, 0.94, 0.55, 0.85, 0.55]"
   ]
  },
  {
   "cell_type": "markdown",
   "metadata": {},
   "source": [
    "#### 8.2.3 Decision Tree Tuning"
   ]
  },
  {
   "cell_type": "code",
   "execution_count": 449,
   "metadata": {},
   "outputs": [
    {
     "name": "stderr",
     "output_type": "stream",
     "text": [
      "/Users/krisbiantoroprabowo/opt/anaconda3/lib/python3.8/site-packages/joblib/externals/loky/process_executor.py:688: UserWarning: A worker stopped while some jobs were given to the executor. This can be caused by a too short worker timeout or by a memory leak.\n",
      "  warnings.warn(\n"
     ]
    },
    {
     "data": {
      "text/plain": [
       "GridSearchCV(cv=5, estimator=DecisionTreeClassifier(random_state=4), n_jobs=-1,\n",
       "             param_grid={'criterion': ['gini', 'entropy'],\n",
       "                         'max_depth': array([ 2,  4,  6,  8, 10]),\n",
       "                         'min_samples_leaf': array([ 2,  4,  6,  8, 10]),\n",
       "                         'min_samples_split': array([ 2,  4,  6,  8, 10])},\n",
       "             return_train_score=True, scoring='f1')"
      ]
     },
     "execution_count": 449,
     "metadata": {},
     "output_type": "execute_result"
    }
   ],
   "source": [
    "dt_grid = GridSearchCV(clf_dt, param_grid = parameters_dt, cv=5, scoring='f1', return_train_score=True, n_jobs=-1)\n",
    "dt_grid.fit(X_train_final, y_train_trimmed)"
   ]
  },
  {
   "cell_type": "code",
   "execution_count": 450,
   "metadata": {},
   "outputs": [
    {
     "data": {
      "text/plain": [
       "{'criterion': 'gini',\n",
       " 'max_depth': 8,\n",
       " 'min_samples_leaf': 2,\n",
       " 'min_samples_split': 6}"
      ]
     },
     "execution_count": 450,
     "metadata": {},
     "output_type": "execute_result"
    }
   ],
   "source": [
    "dt_grid.best_params_"
   ]
  },
  {
   "cell_type": "code",
   "execution_count": 451,
   "metadata": {},
   "outputs": [
    {
     "data": {
      "text/plain": [
       "0.5544198172095058"
      ]
     },
     "execution_count": 451,
     "metadata": {},
     "output_type": "execute_result"
    }
   ],
   "source": [
    "dt_grid.best_score_"
   ]
  },
  {
   "cell_type": "code",
   "execution_count": 452,
   "metadata": {},
   "outputs": [
    {
     "data": {
      "text/plain": [
       "DecisionTreeClassifier(max_depth=8, min_samples_leaf=2, min_samples_split=6,\n",
       "                       random_state=4)"
      ]
     },
     "execution_count": 452,
     "metadata": {},
     "output_type": "execute_result"
    }
   ],
   "source": [
    "dt_best= dt_grid.best_estimator_\n",
    "dt_best"
   ]
  },
  {
   "cell_type": "code",
   "execution_count": 453,
   "metadata": {},
   "outputs": [
    {
     "name": "stdout",
     "output_type": "stream",
     "text": [
      "              precision    recall  f1-score   support\n",
      "\n",
      "           0       0.95      0.97      0.96     28951\n",
      "           1       0.71      0.54      0.61      3491\n",
      "\n",
      "    accuracy                           0.93     32442\n",
      "   macro avg       0.83      0.76      0.79     32442\n",
      "weighted avg       0.92      0.93      0.92     32442\n",
      "\n",
      "              precision    recall  f1-score   support\n",
      "\n",
      "           0       0.93      0.97      0.95      7293\n",
      "           1       0.63      0.45      0.53       925\n",
      "\n",
      "    accuracy                           0.91      8218\n",
      "   macro avg       0.78      0.71      0.74      8218\n",
      "weighted avg       0.90      0.91      0.90      8218\n",
      "\n"
     ]
    }
   ],
   "source": [
    "y_pred_train_tuning_dt = dt_best.predict(X_train_final)\n",
    "y_pred_test_tuning_dt = dt_best.predict(X_test_final)\n",
    "print(classification_report(y_train_trimmed, y_pred_train_tuning_dt))\n",
    "\n",
    "print(classification_report(y_test, y_pred_test_tuning_dt))"
   ]
  },
  {
   "cell_type": "code",
   "execution_count": 637,
   "metadata": {},
   "outputs": [],
   "source": [
    "tuned_evaluation_metrics.loc[2] = ['Tuned Decision Tree', 0.96, 0.61, 0.95, 0.53, 0.54, 0.45]"
   ]
  },
  {
   "cell_type": "markdown",
   "metadata": {},
   "source": [
    "#### 8.2.4 Random Forest Tuning"
   ]
  },
  {
   "cell_type": "code",
   "execution_count": 454,
   "metadata": {},
   "outputs": [
    {
     "data": {
      "text/plain": [
       "GridSearchCV(cv=5, estimator=RandomForestClassifier(random_state=4), n_jobs=-1,\n",
       "             param_grid={'criterion': ['gini', 'entropy'],\n",
       "                         'max_depth': array([ 2,  4,  6,  8, 10]),\n",
       "                         'min_samples_leaf': array([ 2,  4,  6,  8, 10]),\n",
       "                         'min_samples_split': array([ 2,  4,  6,  8, 10])},\n",
       "             return_train_score=True, scoring='f1')"
      ]
     },
     "execution_count": 454,
     "metadata": {},
     "output_type": "execute_result"
    }
   ],
   "source": [
    "rnd_grid = GridSearchCV(clf_rnd, param_grid = parameters_rnd, cv=5, scoring='f1', return_train_score=True, n_jobs=-1)\n",
    "rnd_grid.fit(X_train_final, y_train_trimmed)"
   ]
  },
  {
   "cell_type": "code",
   "execution_count": 455,
   "metadata": {},
   "outputs": [
    {
     "data": {
      "text/plain": [
       "{'criterion': 'gini',\n",
       " 'max_depth': 10,\n",
       " 'min_samples_leaf': 2,\n",
       " 'min_samples_split': 6}"
      ]
     },
     "execution_count": 455,
     "metadata": {},
     "output_type": "execute_result"
    }
   ],
   "source": [
    "rnd_grid.best_params_"
   ]
  },
  {
   "cell_type": "code",
   "execution_count": 456,
   "metadata": {},
   "outputs": [
    {
     "data": {
      "text/plain": [
       "0.42157748870991496"
      ]
     },
     "execution_count": 456,
     "metadata": {},
     "output_type": "execute_result"
    }
   ],
   "source": [
    "rnd_grid.best_score_"
   ]
  },
  {
   "cell_type": "code",
   "execution_count": 457,
   "metadata": {},
   "outputs": [
    {
     "data": {
      "text/plain": [
       "RandomForestClassifier(max_depth=10, min_samples_leaf=2, min_samples_split=6,\n",
       "                       random_state=4)"
      ]
     },
     "execution_count": 457,
     "metadata": {},
     "output_type": "execute_result"
    }
   ],
   "source": [
    "rnd_best= rnd_grid.best_estimator_\n",
    "rnd_best"
   ]
  },
  {
   "cell_type": "code",
   "execution_count": 458,
   "metadata": {},
   "outputs": [
    {
     "name": "stdout",
     "output_type": "stream",
     "text": [
      "              precision    recall  f1-score   support\n",
      "\n",
      "           0       0.93      0.99      0.96     28951\n",
      "           1       0.87      0.35      0.50      3491\n",
      "\n",
      "    accuracy                           0.92     32442\n",
      "   macro avg       0.90      0.67      0.73     32442\n",
      "weighted avg       0.92      0.92      0.91     32442\n",
      "\n",
      "              precision    recall  f1-score   support\n",
      "\n",
      "           0       0.92      0.99      0.95      7293\n",
      "           1       0.73      0.29      0.41       925\n",
      "\n",
      "    accuracy                           0.91      8218\n",
      "   macro avg       0.82      0.64      0.68      8218\n",
      "weighted avg       0.89      0.91      0.89      8218\n",
      "\n"
     ]
    }
   ],
   "source": [
    "y_pred_train_tuning_rnd = rnd_best.predict(X_train_final)\n",
    "y_pred_test_tuning_rnd = rnd_best.predict(X_test_final)\n",
    "print(classification_report(y_train_trimmed, y_pred_train_tuning_rnd))\n",
    "\n",
    "print(classification_report(y_test, y_pred_test_tuning_rnd))"
   ]
  },
  {
   "cell_type": "code",
   "execution_count": 618,
   "metadata": {},
   "outputs": [],
   "source": [
    "tuned_evaluation_metrics.loc[4] = ['Tuned RandomForest', 0.96, 0.50, 0.95, 0.41, 0.35, 0.29]"
   ]
  },
  {
   "cell_type": "markdown",
   "metadata": {},
   "source": [
    "#### 8.2.5 K-Nearest Neighbor"
   ]
  },
  {
   "cell_type": "code",
   "execution_count": 460,
   "metadata": {},
   "outputs": [
    {
     "data": {
      "text/plain": [
       "GridSearchCV(cv=5, estimator=KNeighborsClassifier(), n_jobs=-3,\n",
       "             param_grid={'n_neighbors': array([3, 5, 7]),\n",
       "                         'weights': ['uniform', 'distance']},\n",
       "             return_train_score=True, scoring='f1')"
      ]
     },
     "execution_count": 460,
     "metadata": {},
     "output_type": "execute_result"
    }
   ],
   "source": [
    "knn_grid = GridSearchCV(clf_knn, param_grid = parameters_knn, cv=5, scoring='f1', return_train_score=True, n_jobs=-3)\n",
    "knn_grid.fit(X_train_final, y_train_trimmed)"
   ]
  },
  {
   "cell_type": "code",
   "execution_count": 461,
   "metadata": {},
   "outputs": [
    {
     "data": {
      "text/plain": [
       "{'n_neighbors': 3, 'weights': 'distance'}"
      ]
     },
     "execution_count": 461,
     "metadata": {},
     "output_type": "execute_result"
    }
   ],
   "source": [
    "knn_grid.best_params_"
   ]
  },
  {
   "cell_type": "code",
   "execution_count": 462,
   "metadata": {},
   "outputs": [
    {
     "data": {
      "text/plain": [
       "0.4534036149814389"
      ]
     },
     "execution_count": 462,
     "metadata": {},
     "output_type": "execute_result"
    }
   ],
   "source": [
    "knn_grid.best_score_"
   ]
  },
  {
   "cell_type": "code",
   "execution_count": 463,
   "metadata": {},
   "outputs": [
    {
     "data": {
      "text/plain": [
       "KNeighborsClassifier(n_neighbors=3, weights='distance')"
      ]
     },
     "execution_count": 463,
     "metadata": {},
     "output_type": "execute_result"
    }
   ],
   "source": [
    "knn_best= knn_grid.best_estimator_\n",
    "knn_best"
   ]
  },
  {
   "cell_type": "code",
   "execution_count": 465,
   "metadata": {},
   "outputs": [
    {
     "name": "stdout",
     "output_type": "stream",
     "text": [
      "              precision    recall  f1-score   support\n",
      "\n",
      "           0       1.00      1.00      1.00     28951\n",
      "           1       1.00      1.00      1.00      3491\n",
      "\n",
      "    accuracy                           1.00     32442\n",
      "   macro avg       1.00      1.00      1.00     32442\n",
      "weighted avg       1.00      1.00      1.00     32442\n",
      "\n",
      "              precision    recall  f1-score   support\n",
      "\n",
      "           0       0.93      0.95      0.94      7293\n",
      "           1       0.54      0.46      0.50       925\n",
      "\n",
      "    accuracy                           0.89      8218\n",
      "   macro avg       0.74      0.70      0.72      8218\n",
      "weighted avg       0.89      0.89      0.89      8218\n",
      "\n"
     ]
    }
   ],
   "source": [
    "y_pred_train_tuning_knn = knn_best.predict(X_train_final)\n",
    "y_pred_test_tuning_knn = knn_best.predict(X_test_final)\n",
    "print(classification_report(y_train_trimmed, y_pred_train_tuning_knn))\n",
    "\n",
    "print(classification_report(y_test, y_pred_test_tuning_knn))"
   ]
  },
  {
   "cell_type": "code",
   "execution_count": 621,
   "metadata": {},
   "outputs": [],
   "source": [
    "tuned_evaluation_metrics.loc[4] = ['Tuned K Nearest Neighbor', 1.0, 1.0, 0.94, 0.50, 1.0, 0.46]"
   ]
  },
  {
   "cell_type": "markdown",
   "metadata": {},
   "source": [
    "#### 8.2.6 Naive Bayes"
   ]
  },
  {
   "cell_type": "code",
   "execution_count": 475,
   "metadata": {},
   "outputs": [
    {
     "data": {
      "text/plain": [
       "GridSearchCV(cv=5, estimator=GaussianNB(),\n",
       "             param_grid={'var_smoothing': [1e-09, 1e-08, 1e-07, 1e-06, 1e-05,\n",
       "                                           0.0001, 0.001, 0.01, 0.1, 1, 10, 100,\n",
       "                                           1000]},\n",
       "             return_train_score=True, scoring='f1')"
      ]
     },
     "execution_count": 475,
     "metadata": {},
     "output_type": "execute_result"
    }
   ],
   "source": [
    "nb_grid = GridSearchCV(clf_nb, param_grid = parameters_nb, cv=5, scoring='f1', return_train_score=True)\n",
    "nb_grid.fit(X_train_final, y_train_trimmed)"
   ]
  },
  {
   "cell_type": "code",
   "execution_count": 476,
   "metadata": {},
   "outputs": [
    {
     "data": {
      "text/plain": [
       "{'var_smoothing': 0.1}"
      ]
     },
     "execution_count": 476,
     "metadata": {},
     "output_type": "execute_result"
    }
   ],
   "source": [
    "nb_grid.best_params_"
   ]
  },
  {
   "cell_type": "code",
   "execution_count": 477,
   "metadata": {},
   "outputs": [
    {
     "data": {
      "text/plain": [
       "0.4243413259317039"
      ]
     },
     "execution_count": 477,
     "metadata": {},
     "output_type": "execute_result"
    }
   ],
   "source": [
    "nb_grid.best_score_"
   ]
  },
  {
   "cell_type": "code",
   "execution_count": 478,
   "metadata": {},
   "outputs": [
    {
     "data": {
      "text/plain": [
       "GaussianNB(var_smoothing=0.1)"
      ]
     },
     "execution_count": 478,
     "metadata": {},
     "output_type": "execute_result"
    }
   ],
   "source": [
    "nb_best= nb_grid.best_estimator_\n",
    "nb_best"
   ]
  },
  {
   "cell_type": "code",
   "execution_count": 479,
   "metadata": {},
   "outputs": [
    {
     "name": "stdout",
     "output_type": "stream",
     "text": [
      "              precision    recall  f1-score   support\n",
      "\n",
      "           0       0.94      0.87      0.91     28951\n",
      "           1       0.35      0.55      0.42      3491\n",
      "\n",
      "    accuracy                           0.84     32442\n",
      "   macro avg       0.64      0.71      0.67     32442\n",
      "weighted avg       0.88      0.84      0.85     32442\n",
      "\n",
      "              precision    recall  f1-score   support\n",
      "\n",
      "           0       0.95      0.87      0.91      7293\n",
      "           1       0.38      0.62      0.47       925\n",
      "\n",
      "    accuracy                           0.85      8218\n",
      "   macro avg       0.67      0.75      0.69      8218\n",
      "weighted avg       0.88      0.85      0.86      8218\n",
      "\n"
     ]
    }
   ],
   "source": [
    "y_pred_train_tuning_nb = nb_best.predict(X_train_final)\n",
    "y_pred_test_tuning_nb = nb_best.predict(X_test_final)\n",
    "print(classification_report(y_train_trimmed, y_pred_train_tuning_nb))\n",
    "\n",
    "print(classification_report(y_test, y_pred_test_tuning_nb))"
   ]
  },
  {
   "cell_type": "code",
   "execution_count": 625,
   "metadata": {},
   "outputs": [],
   "source": [
    "tuned_evaluation_metrics.loc[5] = ['Tuned Naive Bayes', 0.91, 0.42, 0.91, 0.47, 0.55, 0.62]"
   ]
  },
  {
   "cell_type": "markdown",
   "metadata": {},
   "source": [
    "#### 8.2.7 Bagging Ensemble"
   ]
  },
  {
   "cell_type": "code",
   "execution_count": 482,
   "metadata": {},
   "outputs": [
    {
     "data": {
      "text/plain": [
       "GridSearchCV(cv=5,\n",
       "             estimator=BaggingClassifier(base_estimator=DecisionTreeClassifier(),\n",
       "                                         max_samples=100, n_estimators=500,\n",
       "                                         random_state=4),\n",
       "             param_grid={'n_estimators': array([10, 20, 30, 40, 50, 60, 70, 80, 90])},\n",
       "             return_train_score=True, scoring='f1')"
      ]
     },
     "execution_count": 482,
     "metadata": {},
     "output_type": "execute_result"
    }
   ],
   "source": [
    "bag_grid = GridSearchCV(bag_clf, param_grid = parameters_bag, cv=5, scoring='f1', return_train_score=True)\n",
    "bag_grid.fit(X_train_final, y_train_trimmed)"
   ]
  },
  {
   "cell_type": "code",
   "execution_count": 483,
   "metadata": {},
   "outputs": [
    {
     "data": {
      "text/plain": [
       "{'n_estimators': 40}"
      ]
     },
     "execution_count": 483,
     "metadata": {},
     "output_type": "execute_result"
    }
   ],
   "source": [
    "bag_grid.best_params_"
   ]
  },
  {
   "cell_type": "code",
   "execution_count": 484,
   "metadata": {},
   "outputs": [
    {
     "data": {
      "text/plain": [
       "0.45233570107294463"
      ]
     },
     "execution_count": 484,
     "metadata": {},
     "output_type": "execute_result"
    }
   ],
   "source": [
    "bag_grid.best_score_"
   ]
  },
  {
   "cell_type": "code",
   "execution_count": 485,
   "metadata": {},
   "outputs": [
    {
     "data": {
      "text/plain": [
       "BaggingClassifier(base_estimator=DecisionTreeClassifier(), max_samples=100,\n",
       "                  n_estimators=40, random_state=4)"
      ]
     },
     "execution_count": 485,
     "metadata": {},
     "output_type": "execute_result"
    }
   ],
   "source": [
    "bag_best = bag_grid.best_estimator_\n",
    "bag_best"
   ]
  },
  {
   "cell_type": "code",
   "execution_count": 486,
   "metadata": {},
   "outputs": [
    {
     "name": "stdout",
     "output_type": "stream",
     "text": [
      "              precision    recall  f1-score   support\n",
      "\n",
      "           0       0.93      0.98      0.95     28951\n",
      "           1       0.65      0.36      0.46      3491\n",
      "\n",
      "    accuracy                           0.91     32442\n",
      "   macro avg       0.79      0.67      0.71     32442\n",
      "weighted avg       0.90      0.91      0.90     32442\n",
      "\n",
      "              precision    recall  f1-score   support\n",
      "\n",
      "           0       0.93      0.98      0.95      7293\n",
      "           1       0.67      0.39      0.49       925\n",
      "\n",
      "    accuracy                           0.91      8218\n",
      "   macro avg       0.80      0.68      0.72      8218\n",
      "weighted avg       0.90      0.91      0.90      8218\n",
      "\n"
     ]
    }
   ],
   "source": [
    "y_pred_train_tuning_bag = bag_best.predict(X_train_final)\n",
    "y_pred_test_tuning_bag = bag_best.predict(X_test_final)\n",
    "print(classification_report(y_train_trimmed, y_pred_train_tuning_bag))\n",
    "\n",
    "print(classification_report(y_test, y_pred_test_tuning_bag))"
   ]
  },
  {
   "cell_type": "code",
   "execution_count": 624,
   "metadata": {},
   "outputs": [],
   "source": [
    "tuned_evaluation_metrics.loc[6] = ['Tuned Bagging Ensemble', 0.95, 0.46, 0.95, 0.49, 0.36, 0.39]"
   ]
  },
  {
   "cell_type": "markdown",
   "metadata": {},
   "source": [
    "#### 8.2.8 Penentuan Model Terbaik"
   ]
  },
  {
   "cell_type": "code",
   "execution_count": 557,
   "metadata": {},
   "outputs": [
    {
     "data": {
      "image/png": "[encoded data removed]",
      "text/plain": [
       "<Figure size 1440x360 with 6 Axes>"
      ]
     },
     "metadata": {},
     "output_type": "display_data"
    },
    {
     "data": {
      "image/png": "[encoded data removed]",
      "text/plain": [
       "<Figure size 1440x360 with 6 Axes>"
      ]
     },
     "metadata": {},
     "output_type": "display_data"
    }
   ],
   "source": [
    "\n",
    "#plotting confusion matrix\n",
    "plt.figure(figsize=(20,5))\n",
    "plt.subplot(1,3,1)\n",
    "logreg_matrix1= confusion_matrix(y_train_trimmed, y_pred_train_tuning_logreg)\n",
    "ax = sns.heatmap(logreg_matrix1, annot=True, cmap='Blues', fmt='g', annot_kws={\"fontsize\":14})\n",
    "ax.set_xlabel('Predicted labels')\n",
    "ax.set_ylabel('Actual labels')\n",
    "ax.set_xticklabels([\"Negatif\", \"Positif\"])\n",
    "ax.set_yticklabels([\"Negatif\", \"Positif\"])\n",
    "plt.title(\"Train LogReg\")\n",
    "\n",
    "plt.subplot(1,3,2)\n",
    "dt_matrix1= confusion_matrix(y_train_trimmed, y_pred_train_tuning_dt)\n",
    "ax = sns.heatmap(dt_matrix1, annot=True, cmap='Blues', fmt='g', annot_kws={\"fontsize\":14})\n",
    "ax.set_xlabel('Predicted labels')\n",
    "ax.set_ylabel('Actual labels')\n",
    "ax.set_xticklabels([\"Negatif\", \"Positif\"])\n",
    "ax.set_yticklabels([\"Negatif\", \"Positif\"])\n",
    "plt.title(\"Train Decision Tree\")\n",
    "\n",
    "plt.subplot(1,3,3)\n",
    "dt_matrix1= confusion_matrix(y_train_trimmed, y_pred_train_tuning_rnd)\n",
    "ax = sns.heatmap(dt_matrix1, annot=True, cmap='Blues', fmt='g', annot_kws={\"fontsize\":14})\n",
    "ax.set_xlabel('Predicted labels')\n",
    "ax.set_ylabel('Actual labels')\n",
    "ax.set_xticklabels([\"Negatif\", \"Positif\"])\n",
    "ax.set_yticklabels([\"Negatif\", \"Positif\"])\n",
    "plt.title(\"Train Random Forest\")\n",
    "\n",
    "#plotting confusion matrix\n",
    "plt.figure(figsize=(20,5))\n",
    "\n",
    "plt.subplot(1,3,1)\n",
    "logreg_matrix2= confusion_matrix(y_test, y_pred_test_tuning_logreg)\n",
    "ax = sns.heatmap(logreg_matrix2, annot=True, cmap='rocket_r', fmt='g', annot_kws={\"fontsize\":14})\n",
    "ax.set_xlabel('Predicted labels')\n",
    "ax.set_ylabel('Actual labels')\n",
    "ax.set_xticklabels([\"Negatif\", \"Positif\"])\n",
    "ax.set_yticklabels([\"Negatif\", \"Positif\"])\n",
    "plt.title(\"Test LogReg\")\n",
    "\n",
    "\n",
    "\n",
    "plt.subplot(1,3,2)\n",
    "dt_matrix2= confusion_matrix(y_test, y_pred_test_tuning_dt)\n",
    "ax = sns.heatmap(dt_matrix2, annot=True, cmap='rocket_r', fmt='g', annot_kws={\"fontsize\":14})\n",
    "ax.set_xlabel('Predicted labels')\n",
    "ax.set_ylabel('Actual labels')\n",
    "ax.set_xticklabels([\"Negatif\", \"Positif\"])\n",
    "ax.set_yticklabels([\"Negatif\", \"Positif\"])\n",
    "plt.title(\"Test Decision Tree\")\n",
    "\n",
    "plt.subplot(1,3,3)\n",
    "dt_matrix2= confusion_matrix(y_test, y_pred_test_tuning_rnd)\n",
    "ax = sns.heatmap(dt_matrix2, annot=True, cmap='rocket_r', fmt='g', annot_kws={\"fontsize\":14})\n",
    "ax.set_xlabel('Predicted labels')\n",
    "ax.set_ylabel('Actual labels')\n",
    "ax.set_xticklabels([\"Negatif\", \"Positif\"])\n",
    "ax.set_yticklabels([\"Negatif\", \"Positif\"])\n",
    "plt.title(\"Test RainForest\")\n",
    "\n",
    "plt.show()"
   ]
  },
  {
   "cell_type": "markdown",
   "metadata": {},
   "source": [
    "- Dari `Confusion Metrics` yang dihasilkan oleh model `tuned logistic regression`, `tuned decision tree`, dan `tuned random forest`(sebagai model dengan skor terendah) dapat kita tarik informasi bahwa:\n",
    "    - Model `logistic regression` sangat baik untuk menebak kelas yang benar-benar positif atau telah berlangganan deposito berjangka dalam bank. Ini dibuktikan dengan jumlah nilai pada blok `true positive` hingga dua kali dibandingkan model lain. Bahkan model `logistic regression` hanya sedikit saja salah dalam memprediksi kesalahan yang seharusnya masuk kelas positive namun saat diprediksi ternyata negatif. Jika kita bandingkan dengan kelas lain dimana `Decision Tree` salah sebanyak 1613, sedangkan `random forest` lebih parah hingga mencapai angka 2257.\n",
    "    - Namun model `logistic regression` sangat buruk untuk memprediksi kelas yang seharusnya negatif namun malah dianggap masuk ke dalam kelas `positif`\n",
    "    - `tuned random forest` sangat baik untuk memprediksi kelas yang benar-benar negatif. Namun masih buruk saat memprediksi kelas `positif`, bahkan model ini lebih banyak menmprediksi kelas yang seharusnya positif malah dianggap negatif. \n",
    "    - Hal ini juga berlaku pada `tuned SVC` namun model ini masih sedikit lebih baik untuk menebak kelas yang `positif`, meskipun pada akhirnya jumlah kelas positif yang dianggap negatif masih lebih banyak dibandingkan yang benar-benar positif.\n",
    "- Dalam kasus ini, hal yang perlu dipertimbangkan adalah sebisa mungkin kita hanya memiliki sedikit kesalahan untuk memprediksi kelas negatif yang seharusnya positif `(False Negative)` dan juga memiliki `True Positive` yang mendekati dengan jumlah aslinya. Hal ini dikarenakan tentu saja kita tidak ingin kehilangan nasabah yang sebenarnya sangat memiliki prospek tinggi untuk mengikuti deposito berjangka namun kita singkirkan atau tidak masukkan dalam daftar yang berhak ditawarkan kampanye atau promo bank lainnya di masa yang akan datang.\n",
    "- Dari pertimbangan di atas, selain mempertimbangkan `f1 score` kita juga mempertimbangkan nilai `recall` yang dihasilkan oleh model terhadap kelas `positif/yes`. Oleh karena itu, `Logistic Regression` kita pilih sebagai model terbaik. Tidak hanya memiliki rata-rata `f1 score` yang paling baik setelah melalui tahap `cross validation` sebanyak 5 kali, Model ini juga memiliki nilai `recall` yang jauh mengungguli model-model lainnya.\n",
    "- Nilai `f1 score` yang dihasilkan untuk model `Logistic regression` adalah 91/57 untuk Train set dan 91/59 untuk Test set.\n",
    "- Nilai `Recall` yang dihasilkan `Logistic regression` adalah 85/91 untuk Train set dan 85/92 untuk Test set"
   ]
  },
  {
   "cell_type": "code",
   "execution_count": 566,
   "metadata": {},
   "outputs": [
    {
     "data": {
      "text/plain": [
       "0    7293\n",
       "1     925\n",
       "Name: y, dtype: int64"
      ]
     },
     "execution_count": 566,
     "metadata": {},
     "output_type": "execute_result"
    }
   ],
   "source": [
    "y_test.value_counts()"
   ]
  },
  {
   "cell_type": "markdown",
   "metadata": {},
   "source": [
    "## **9. Model Inference**\n",
    "> Model yang sudah dilatih akan dicoba pada data yang bukan termasuk ke dalam train-set ataupun test-set. Data ini harus dalam format yang asli, bukan data yang sudah di-scaled."
   ]
  },
  {
   "cell_type": "code",
   "execution_count": 489,
   "metadata": {},
   "outputs": [
    {
     "data": {
      "text/plain": [
       "98"
      ]
     },
     "execution_count": 489,
     "metadata": {},
     "output_type": "execute_result"
    }
   ],
   "source": [
    "df_inf['pdays'].isnull().sum()"
   ]
  },
  {
   "cell_type": "code",
   "execution_count": 516,
   "metadata": {},
   "outputs": [],
   "source": [
    "df_inf['y'].replace(to_replace=dict(yes=1, no=0), inplace=True)"
   ]
  },
  {
   "cell_type": "code",
   "execution_count": 488,
   "metadata": {},
   "outputs": [],
   "source": [
    "poutcome_inf_index = df_inf.query('poutcome==\"nonexistent\"').index\n",
    "previous_inf_index = df_inf.query('previous==0').index\n",
    "pdays_inf_index = df_inf.query('pdays!=pdays').index\n",
    "pdays0_inf_index = df_inf.query('pdays!=pdays & previous==0').index"
   ]
  },
  {
   "cell_type": "code",
   "execution_count": 493,
   "metadata": {},
   "outputs": [],
   "source": [
    "pdays_inf_diff = list(set(pdays_inf_index)-set(pdays0_inf_index))"
   ]
  },
  {
   "cell_type": "code",
   "execution_count": 494,
   "metadata": {},
   "outputs": [],
   "source": [
    "df_inf['pdays'].loc[pdays_inf_diff] = 6"
   ]
  },
  {
   "cell_type": "code",
   "execution_count": 498,
   "metadata": {},
   "outputs": [],
   "source": [
    "df_inf['pdays_cat'] = \"Not Contacted\"\n",
    "df_inf['pdays_cat'][(df_inf['pdays']<=7)] = '<=7 days'\n",
    "df_inf['pdays_cat'][(df_inf['pdays']>7)] = '>7 days'"
   ]
  },
  {
   "cell_type": "code",
   "execution_count": 500,
   "metadata": {},
   "outputs": [],
   "source": [
    "# Split Numerical and Categorical Columns\n",
    "\n",
    "data_inf_num = df_inf[num_columns]\n",
    "data_inf_cat = df_inf[cat_columns]"
   ]
  },
  {
   "cell_type": "code",
   "execution_count": 504,
   "metadata": {},
   "outputs": [],
   "source": [
    "# Feature Scaling and Feature Encoding\n",
    "\n",
    "data_inf_num_scaled = scaler.transform(data_inf_num)\n",
    "data_inf_cat_encoded = encoder.transform(data_inf_cat)"
   ]
  },
  {
   "cell_type": "code",
   "execution_count": 506,
   "metadata": {},
   "outputs": [],
   "source": [
    "# Concatenate Numerical and Categorical Columns\n",
    "data_inf_final = np.concatenate([data_inf_num_scaled, data_inf_cat_encoded.toarray()], axis=1)"
   ]
  },
  {
   "cell_type": "code",
   "execution_count": 668,
   "metadata": {},
   "outputs": [],
   "source": [
    "# Predict Inference set\n",
    "\n",
    "y_pred_inf = logreg_best.predict(data_inf_final)\n",
    "y_pred_inf = pd.DataFrame(y_pred_inf, columns=['Predicted[LogReg]'])\n"
   ]
  },
  {
   "cell_type": "code",
   "execution_count": 669,
   "metadata": {},
   "outputs": [],
   "source": [
    "# Concate to Original Dataframe\n",
    "df_inf_result = pd.concat([df_inf['y'], y_pred_inf], axis=1)"
   ]
  },
  {
   "cell_type": "code",
   "execution_count": 670,
   "metadata": {},
   "outputs": [
    {
     "data": {
      "text/html": [
       "<div>\n",
       "<style scoped>\n",
       "    .dataframe tbody tr th:only-of-type {\n",
       "        vertical-align: middle;\n",
       "    }\n",
       "\n",
       "    .dataframe tbody tr th {\n",
       "        vertical-align: top;\n",
       "    }\n",
       "\n",
       "    .dataframe thead th {\n",
       "        text-align: right;\n",
       "    }\n",
       "</style>\n",
       "<table border=\"1\" class=\"dataframe\">\n",
       "  <thead>\n",
       "    <tr style=\"text-align: right;\">\n",
       "      <th></th>\n",
       "      <th>y</th>\n",
       "      <th>Predicted[LogReg]</th>\n",
       "    </tr>\n",
       "  </thead>\n",
       "  <tbody>\n",
       "    <tr>\n",
       "      <th>0</th>\n",
       "      <td>1</td>\n",
       "      <td>1</td>\n",
       "    </tr>\n",
       "    <tr>\n",
       "      <th>1</th>\n",
       "      <td>0</td>\n",
       "      <td>0</td>\n",
       "    </tr>\n",
       "    <tr>\n",
       "      <th>2</th>\n",
       "      <td>0</td>\n",
       "      <td>1</td>\n",
       "    </tr>\n",
       "    <tr>\n",
       "      <th>3</th>\n",
       "      <td>0</td>\n",
       "      <td>0</td>\n",
       "    </tr>\n",
       "    <tr>\n",
       "      <th>4</th>\n",
       "      <td>0</td>\n",
       "      <td>0</td>\n",
       "    </tr>\n",
       "    <tr>\n",
       "      <th>...</th>\n",
       "      <td>...</td>\n",
       "      <td>...</td>\n",
       "    </tr>\n",
       "    <tr>\n",
       "      <th>95</th>\n",
       "      <td>0</td>\n",
       "      <td>0</td>\n",
       "    </tr>\n",
       "    <tr>\n",
       "      <th>96</th>\n",
       "      <td>0</td>\n",
       "      <td>0</td>\n",
       "    </tr>\n",
       "    <tr>\n",
       "      <th>97</th>\n",
       "      <td>0</td>\n",
       "      <td>0</td>\n",
       "    </tr>\n",
       "    <tr>\n",
       "      <th>98</th>\n",
       "      <td>0</td>\n",
       "      <td>0</td>\n",
       "    </tr>\n",
       "    <tr>\n",
       "      <th>99</th>\n",
       "      <td>0</td>\n",
       "      <td>0</td>\n",
       "    </tr>\n",
       "  </tbody>\n",
       "</table>\n",
       "<p>100 rows × 2 columns</p>\n",
       "</div>"
      ],
      "text/plain": [
       "    y  Predicted[LogReg]\n",
       "0   1                  1\n",
       "1   0                  0\n",
       "2   0                  1\n",
       "3   0                  0\n",
       "4   0                  0\n",
       ".. ..                ...\n",
       "95  0                  0\n",
       "96  0                  0\n",
       "97  0                  0\n",
       "98  0                  0\n",
       "99  0                  0\n",
       "\n",
       "[100 rows x 2 columns]"
      ]
     },
     "execution_count": 670,
     "metadata": {},
     "output_type": "execute_result"
    }
   ],
   "source": [
    "df_inf_result"
   ]
  },
  {
   "cell_type": "code",
   "execution_count": 628,
   "metadata": {},
   "outputs": [
    {
     "data": {
      "image/png": "[encoded data removed]",
      "text/plain": [
       "<Figure size 432x288 with 2 Axes>"
      ]
     },
     "metadata": {},
     "output_type": "display_data"
    }
   ],
   "source": [
    "logreg_matrix3= confusion_matrix(df_inf['y'], y_pred_inf)\n",
    "ax = sns.heatmap(logreg_matrix3, annot=True, cmap='rocket_r', fmt='g', annot_kws={\"fontsize\":14})\n",
    "ax.set_xlabel('Predicted labels')\n",
    "ax.set_ylabel('Actual labels')\n",
    "ax.set_xticklabels([\"Negatif\", \"Positif\"])\n",
    "ax.set_yticklabels([\"Negatif\", \"Positif\"])\n",
    "plt.title(\"Inference LogReg\")\n",
    "plt.show()"
   ]
  },
  {
   "cell_type": "markdown",
   "metadata": {},
   "source": [
    "- Dengan mengaplikasikan model machine learning `tuned logistig regression` sebagai model yang paling baik diantara model lainnya, kita mendapatkan hasil bahwa:\n",
    "    - dari 14 label aktual positif, model berhasil memprediksi 10 label yang benar-benar positif. Sedangkan 4 lainnya dianggap negatif oleh label\n",
    "    - dari 86 label aktual negatif, odel berhasil memprediksi 69 label yang benar-benar negatif. Sedangkan 17 lainnya dianggap positif oleh label\n",
    "\n",
    "<hr>\n"
   ]
  },
  {
   "cell_type": "markdown",
   "metadata": {},
   "source": [
    "## **10. Conclusions**"
   ]
  },
  {
   "cell_type": "markdown",
   "metadata": {},
   "source": [
    "### 10.1 Base Model"
   ]
  },
  {
   "cell_type": "code",
   "execution_count": 605,
   "metadata": {},
   "outputs": [
    {
     "data": {
      "text/html": [
       "<div>\n",
       "<style scoped>\n",
       "    .dataframe tbody tr th:only-of-type {\n",
       "        vertical-align: middle;\n",
       "    }\n",
       "\n",
       "    .dataframe tbody tr th {\n",
       "        vertical-align: top;\n",
       "    }\n",
       "\n",
       "    .dataframe thead th {\n",
       "        text-align: right;\n",
       "    }\n",
       "</style>\n",
       "<table border=\"1\" class=\"dataframe\">\n",
       "  <thead>\n",
       "    <tr style=\"text-align: right;\">\n",
       "      <th></th>\n",
       "      <th>Model</th>\n",
       "      <th>f1-score(No, Train)</th>\n",
       "      <th>f1-score(Yes, Train)</th>\n",
       "      <th>f1-score(No, Test)</th>\n",
       "      <th>f1-score(Yes, Test)</th>\n",
       "    </tr>\n",
       "  </thead>\n",
       "  <tbody>\n",
       "    <tr>\n",
       "      <th>0</th>\n",
       "      <td>Logistic Regression</td>\n",
       "      <td>0.95</td>\n",
       "      <td>0.48</td>\n",
       "      <td>0.95</td>\n",
       "      <td>0.59</td>\n",
       "    </tr>\n",
       "    <tr>\n",
       "      <th>1</th>\n",
       "      <td>SVM</td>\n",
       "      <td>0.96</td>\n",
       "      <td>0.50</td>\n",
       "      <td>0.95</td>\n",
       "      <td>0.49</td>\n",
       "    </tr>\n",
       "    <tr>\n",
       "      <th>2</th>\n",
       "      <td>Decision Tree</td>\n",
       "      <td>1.00</td>\n",
       "      <td>1.00</td>\n",
       "      <td>0.94</td>\n",
       "      <td>0.50</td>\n",
       "    </tr>\n",
       "    <tr>\n",
       "      <th>3</th>\n",
       "      <td>Random Forest</td>\n",
       "      <td>1.00</td>\n",
       "      <td>1.00</td>\n",
       "      <td>0.95</td>\n",
       "      <td>0.53</td>\n",
       "    </tr>\n",
       "    <tr>\n",
       "      <th>4</th>\n",
       "      <td>K Nearest Neighbor</td>\n",
       "      <td>0.96</td>\n",
       "      <td>0.62</td>\n",
       "      <td>0.95</td>\n",
       "      <td>0.50</td>\n",
       "    </tr>\n",
       "    <tr>\n",
       "      <th>5</th>\n",
       "      <td>Naive Bayes</td>\n",
       "      <td>0.88</td>\n",
       "      <td>0.40</td>\n",
       "      <td>0.88</td>\n",
       "      <td>0.44</td>\n",
       "    </tr>\n",
       "    <tr>\n",
       "      <th>6</th>\n",
       "      <td>Bagging Ensembles</td>\n",
       "      <td>0.95</td>\n",
       "      <td>0.42</td>\n",
       "      <td>0.95</td>\n",
       "      <td>0.44</td>\n",
       "    </tr>\n",
       "  </tbody>\n",
       "</table>\n",
       "</div>"
      ],
      "text/plain": [
       "                 Model  f1-score(No, Train)  f1-score(Yes, Train)  \\\n",
       "0  Logistic Regression                 0.95                  0.48   \n",
       "1                  SVM                 0.96                  0.50   \n",
       "2        Decision Tree                 1.00                  1.00   \n",
       "3        Random Forest                 1.00                  1.00   \n",
       "4   K Nearest Neighbor                 0.96                  0.62   \n",
       "5          Naive Bayes                 0.88                  0.40   \n",
       "6    Bagging Ensembles                 0.95                  0.42   \n",
       "\n",
       "   f1-score(No, Test)  f1-score(Yes, Test)  \n",
       "0                0.95                 0.59  \n",
       "1                0.95                 0.49  \n",
       "2                0.94                 0.50  \n",
       "3                0.95                 0.53  \n",
       "4                0.95                 0.50  \n",
       "5                0.88                 0.44  \n",
       "6                0.95                 0.44  "
      ]
     },
     "execution_count": 605,
     "metadata": {},
     "output_type": "execute_result"
    }
   ],
   "source": [
    "evaluation_metrics"
   ]
  },
  {
   "cell_type": "markdown",
   "metadata": {},
   "source": [
    "- Dari hasil evaluasi `Base Model`, kita dapat menarik kesimpulan bahwa:\n",
    "    - `Overfitting` terjadi pada model `Decision Tree` maupun `Random Forest`. Ini dikarenakan model dapat memprediksi secara sempurna untuk Train set, namun saat diujikan dengan Test set, model masih belum baik untuk menentukan kelas yang `true positive`. Dimana banyak label/kelas seharusnya yes/positif malah dianggap no/negatif oleh model ini. Sehingga nilai `recall` yang dihasilkan jauh lebih rendah dibandingkan `precision`-nya dan mengakibatkan `f1 score` juga ikutan rendah untuk label ini\n",
    "    - `Naive Bayes` merupakan model yang paling buruk dalam memprediksi, dimana menghasilkan skor yang paling rendah dibandingkan model lainnya.\n",
    "    - `SVM` merupakan dua model yang paling baik dalam memprediksi nasabah yang sekiranya mengikuti deposito berjangka ataupun yang tidak. Kemudian diikuti oleh `KNN` meskipun pada model `KNN` ini hampir mendekati `overfitting`, namun masih layak untuk diterima karena selisih yang belum terlalu jauh pada nilai akurasinya. 93% untuk Train set dan 90% untuk Train set.\n",
    "    - Sangat wajar jika `f1 skor` yang dihasilkan pada tiap model lebih rendah untuk salah satu labelnya. Ini dikarenakan dataset yang tidak imbang antara tiap labelnya, sehingga label yang memiliki jumlah jauh lebih banyak dibandingkan label lainnya akan lebih dikenali oleh model machine learning namun cenderung lemah untuk mengenal label lainnya. Hal ini mengakibatkan label yang seharusnya positif banyak dianggap negatif oleh model, dimana hal ini disebut dengan `false negative`"
   ]
  },
  {
   "cell_type": "markdown",
   "metadata": {},
   "source": [
    "### 10.2 Hyperparameter Tuned Model"
   ]
  },
  {
   "cell_type": "code",
   "execution_count": 634,
   "metadata": {},
   "outputs": [
    {
     "data": {
      "text/html": [
       "<div>\n",
       "<style scoped>\n",
       "    .dataframe tbody tr th:only-of-type {\n",
       "        vertical-align: middle;\n",
       "    }\n",
       "\n",
       "    .dataframe tbody tr th {\n",
       "        vertical-align: top;\n",
       "    }\n",
       "\n",
       "    .dataframe thead th {\n",
       "        text-align: right;\n",
       "    }\n",
       "</style>\n",
       "<table border=\"1\" class=\"dataframe\">\n",
       "  <thead>\n",
       "    <tr style=\"text-align: right;\">\n",
       "      <th></th>\n",
       "      <th>Model</th>\n",
       "      <th>f1-score(No, Train)</th>\n",
       "      <th>f1-score(Yes, Train)</th>\n",
       "      <th>f1-score(No, Test)</th>\n",
       "      <th>f1-score(Yes, Test)</th>\n",
       "      <th>recall(Yes, Train)</th>\n",
       "      <th>recall(Yes, Test)</th>\n",
       "    </tr>\n",
       "  </thead>\n",
       "  <tbody>\n",
       "    <tr>\n",
       "      <th>0</th>\n",
       "      <td>Tuned LogReg</td>\n",
       "      <td>0.91</td>\n",
       "      <td>0.57</td>\n",
       "      <td>0.91</td>\n",
       "      <td>0.59</td>\n",
       "      <td>0.91</td>\n",
       "      <td>0.92</td>\n",
       "    </tr>\n",
       "    <tr>\n",
       "      <th>1</th>\n",
       "      <td>Tuned SVC</td>\n",
       "      <td>0.99</td>\n",
       "      <td>0.90</td>\n",
       "      <td>0.94</td>\n",
       "      <td>0.55</td>\n",
       "      <td>0.85</td>\n",
       "      <td>0.55</td>\n",
       "    </tr>\n",
       "    <tr>\n",
       "      <th>2</th>\n",
       "      <td>Tuned Decision Tree</td>\n",
       "      <td>0.69</td>\n",
       "      <td>0.61</td>\n",
       "      <td>0.95</td>\n",
       "      <td>0.53</td>\n",
       "      <td>0.54</td>\n",
       "      <td>0.45</td>\n",
       "    </tr>\n",
       "    <tr>\n",
       "      <th>4</th>\n",
       "      <td>Tuned K Nearest Neighbor</td>\n",
       "      <td>1.00</td>\n",
       "      <td>1.00</td>\n",
       "      <td>0.94</td>\n",
       "      <td>0.50</td>\n",
       "      <td>1.00</td>\n",
       "      <td>0.46</td>\n",
       "    </tr>\n",
       "    <tr>\n",
       "      <th>5</th>\n",
       "      <td>Tuned Naive Bayes</td>\n",
       "      <td>0.91</td>\n",
       "      <td>0.42</td>\n",
       "      <td>0.91</td>\n",
       "      <td>0.47</td>\n",
       "      <td>0.55</td>\n",
       "      <td>0.62</td>\n",
       "    </tr>\n",
       "    <tr>\n",
       "      <th>6</th>\n",
       "      <td>Tuned Bagging Ensemble</td>\n",
       "      <td>0.95</td>\n",
       "      <td>0.46</td>\n",
       "      <td>0.95</td>\n",
       "      <td>0.49</td>\n",
       "      <td>0.36</td>\n",
       "      <td>0.39</td>\n",
       "    </tr>\n",
       "  </tbody>\n",
       "</table>\n",
       "</div>"
      ],
      "text/plain": [
       "                      Model  f1-score(No, Train)  f1-score(Yes, Train)  \\\n",
       "0              Tuned LogReg                 0.91                  0.57   \n",
       "1                 Tuned SVC                 0.99                  0.90   \n",
       "2       Tuned Decision Tree                 0.69                  0.61   \n",
       "4  Tuned K Nearest Neighbor                 1.00                  1.00   \n",
       "5         Tuned Naive Bayes                 0.91                  0.42   \n",
       "6    Tuned Bagging Ensemble                 0.95                  0.46   \n",
       "\n",
       "   f1-score(No, Test)  f1-score(Yes, Test)  recall(Yes, Train)  \\\n",
       "0                0.91                 0.59                0.91   \n",
       "1                0.94                 0.55                0.85   \n",
       "2                0.95                 0.53                0.54   \n",
       "4                0.94                 0.50                1.00   \n",
       "5                0.91                 0.47                0.55   \n",
       "6                0.95                 0.49                0.36   \n",
       "\n",
       "   recall(Yes, Test)  \n",
       "0               0.92  \n",
       "1               0.55  \n",
       "2               0.45  \n",
       "4               0.46  \n",
       "5               0.62  \n",
       "6               0.39  "
      ]
     },
     "execution_count": 634,
     "metadata": {},
     "output_type": "execute_result"
    }
   ],
   "source": [
    "tuned_evaluation_metrics"
   ]
  },
  {
   "cell_type": "markdown",
   "metadata": {},
   "source": [
    "- Dari hasil evaluasi model yang telah dipilih `hyperparameter`-nya melalui `GridSearch` dan `CrossValidation`, kita dapat menarik kesimpulan bahwa:\n",
    "    - Seperti yang telah dibahas sebelumnya pada bagian 8.2.8 dalam menentukan model mana yang terbaik dengan pertimbangan yang sudah disebutkan, yang dimana hal-hal yang dipertimbangkan selain model mendapatkan `f1 score` yang paling baik, namun juga memiliki nilai `recall` yang paling tinggi dibandingkan model lainnya\n",
    "    - Ternyata spesifikasi ini dimiliki oleh model `Logistic Regression`, dimana model ini sangat baik sekali untuk menempatkan label yang positif di dalam kelompok yang positif juga. Meskipun ada harga yang harus dibayar, dimana model ini kebalikan dari model-model lainnya. Model ini memiliki performa yang buruk dalam menentukan label yang negatif, sehingga banyak label negatif yang justru masuk ke dalam kelas positif **(Lihat visual grafik dibawah)**.\n",
    "    - Namun jika kita menilik dari kasus nyata, hal ini masih bisa ditolerir karena bank pada akhirnya mendapatkan calon nasabah yang mengikuti deposito berjangka lebih banyak jika mengacu pada model ini. Tetapi hal ini juga terdapat sisi negatifnya, dimana karyawan atau pegawai yang bersangkutan atau memiliki tanggung jawab dalam menghubungi nasabah harus kerja lebih ekstra dan lebih berat. Ini dikarenakan jumlah nasabah yang harus dihubungi jauh lebih banyak dalam kasus jika nasabah yang harus dihubungi pada kampanye selanjutnya, hanyalah nasabah-nasabah yang belabel positif pada prediksi model `machine learning` ini.\n",
    "    - Sedangkan pada model `SVC` memiliki kekurangan pada nilai `recall`-nya. Mungkin jika saja model ini dikembangankan dan difokuskan lebih jauh, dapat menghasilkan nilai keseluruhan yang tinggi dibandingkan dengan `logistic regression`. Namun karena keterbatasan waktu dan sumber daya dikarenakan komputasi `SVC` yang memakan waktu dan sumber daya yang besar. Maka hasil inilah yang sekiranya sudah cukup untuk mewakili model `SVC`"
   ]
  },
  {
   "cell_type": "code",
   "execution_count": 640,
   "metadata": {},
   "outputs": [
    {
     "data": {
      "image/png": "[encoded data removed]",
      "text/plain": [
       "<Figure size 1440x288 with 4 Axes>"
      ]
     },
     "metadata": {},
     "output_type": "display_data"
    }
   ],
   "source": [
    "#plotting confusion matrix\n",
    "plt.figure(figsize=(20,4))\n",
    "plt.subplot(1,2,1)\n",
    "logreg_matrix1= confusion_matrix(y_train_trimmed, y_pred_train_tuning_logreg)\n",
    "ax = sns.heatmap(logreg_matrix1, annot=True, cmap='Blues', fmt='g', annot_kws={\"fontsize\":14})\n",
    "ax.set_xlabel('Predicted labels')\n",
    "ax.set_ylabel('Actual labels')\n",
    "ax.set_xticklabels([\"Negatif\", \"Positif\"])\n",
    "ax.set_yticklabels([\"Negatif\", \"Positif\"])\n",
    "plt.title(\"Train LogReg\")\n",
    "\n",
    "plt.subplot(1,2,2)\n",
    "logreg_matrix2= confusion_matrix(y_test, y_pred_test_tuning_logreg)\n",
    "ax = sns.heatmap(logreg_matrix2, annot=True, cmap='rocket_r', fmt='g', annot_kws={\"fontsize\":14})\n",
    "ax.set_xlabel('Predicted labels')\n",
    "ax.set_ylabel('Actual labels')\n",
    "ax.set_xticklabels([\"Negatif\", \"Positif\"])\n",
    "ax.set_yticklabels([\"Negatif\", \"Positif\"])\n",
    "plt.title(\"Test LogReg\")\n",
    "\n",
    "plt.show()"
   ]
  }
 ],
 "metadata": {
  "interpreter": {
   "hash": "14ea365952bdbae89a416bf9fb6d228665283457abcf209a32480eface1362a4"
  },
  "kernelspec": {
   "display_name": "Python 3.8.8 ('base')",
   "language": "python",
   "name": "python3"
  },
  "language_info": {
   "codemirror_mode": {
    "name": "ipython",
    "version": 3
   },
   "file_extension": ".py",
   "mimetype": "text/x-python",
   "name": "python",
   "nbconvert_exporter": "python",
   "pygments_lexer": "ipython3",
   "version": "3.8.8"
  },
  "orig_nbformat": 4
 },
 "nbformat": 4,
 "nbformat_minor": 2
}

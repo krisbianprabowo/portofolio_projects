{
 "cells": [
  {
   "cell_type": "markdown",
   "metadata": {},
   "source": [
    "# **MILESTONE 2 - PHASE 1**\n",
    "\n",
    "Nama : Krisbiantoro Prabowo\n",
    "\n",
    "Batch : 008\n",
    "<hr>"
   ]
  },
  {
   "cell_type": "markdown",
   "metadata": {},
   "source": [
    "## **1. Description**\n",
    "### 1.1 Objective\n",
    "- Mampu membuat berbagai `model regression` yang memprediksi harga sebuah mobil bekas pada wilayah Turki dan memilih salah satu diantaranya untuk dijadikan sebagai acuan utama saat memprediksi sebuah harga mobil bekas melalui input/masukkan user melalui website pada pengembangan selanjutnya\n",
    "\n",
    "### 1.2 Problem Statements\n",
    "\n",
    "- Diberikan sebuah dataset berupa daftar penjualan mobil bekas sepanjang tahun 2021 melalui website arabam.com. Dari dataset tersebut buatlah sebuah model regressi yang nantinya mampu memprediksi harga mobil bekas dari parameter-parameter yang telah dicantumkan. Nantinya diharapkan model ini dapat dijadikan sebuah referensi ataupun acuan baik kepada calon penjual ataupun pembeli untuk mengetahui harga mobil barang bekas dengan spesifikasi yang mereka inginkan\n",
    "\n",
    "Situs Milestone heroku: https://krisbiantoro-batch8-ml2.herokuapp.com/\n",
    "<hr>"
   ]
  },
  {
   "cell_type": "markdown",
   "metadata": {},
   "source": [
    "## **2. Import Libraries**"
   ]
  },
  {
   "cell_type": "code",
   "execution_count": 122,
   "metadata": {},
   "outputs": [],
   "source": [
    "import pandas as pd\n",
    "import matplotlib.pyplot as plt\n",
    "import seaborn as sns\n",
    "import numpy as np\n",
    "from feature_engine.outliers import Winsorizer\n",
    "from sklearn.cluster import KMeans\n",
    "import matplotlib as mpl\n",
    "from sklearn.preprocessing import MinMaxScaler,StandardScaler\n",
    "from sklearn.decomposition import PCA\n",
    "from statsmodels.stats.outliers_influence import variance_inflation_factor\n",
    "from sklearn.decomposition import PCA\n",
    "from sklearn.linear_model import LinearRegression\n",
    "from sklearn.pipeline import make_pipeline\n",
    "import pickle\n",
    "\n",
    "pd.options.mode.chained_assignment = None"
   ]
  },
  {
   "cell_type": "code",
   "execution_count": 123,
   "metadata": {},
   "outputs": [],
   "source": [
    "colors = sns.color_palette(\"Set2\")\n",
    "colors2 = sns.color_palette(\"Paired\")\n",
    "sns.set_style(\"whitegrid\")\n"
   ]
  },
  {
   "cell_type": "markdown",
   "metadata": {},
   "source": [
    "## **3. Data Loading**"
   ]
  },
  {
   "cell_type": "markdown",
   "metadata": {},
   "source": [
    "### 3.1. Loading Dataset"
   ]
  },
  {
   "cell_type": "code",
   "execution_count": 124,
   "metadata": {},
   "outputs": [],
   "source": [
    "df = pd.read_csv('arabamcom_clean.csv')"
   ]
  },
  {
   "cell_type": "code",
   "execution_count": 125,
   "metadata": {},
   "outputs": [
    {
     "data": {
      "text/html": [
       "<div>\n",
       "<style scoped>\n",
       "    .dataframe tbody tr th:only-of-type {\n",
       "        vertical-align: middle;\n",
       "    }\n",
       "\n",
       "    .dataframe tbody tr th {\n",
       "        vertical-align: top;\n",
       "    }\n",
       "\n",
       "    .dataframe thead th {\n",
       "        text-align: right;\n",
       "    }\n",
       "</style>\n",
       "<table border=\"1\" class=\"dataframe\">\n",
       "  <thead>\n",
       "    <tr style=\"text-align: right;\">\n",
       "      <th></th>\n",
       "      <th>brand</th>\n",
       "      <th>model</th>\n",
       "      <th>age</th>\n",
       "      <th>fuel_type</th>\n",
       "      <th>gear_type</th>\n",
       "      <th>engine_capacity</th>\n",
       "      <th>engine_power</th>\n",
       "      <th>km</th>\n",
       "      <th>changed_parts</th>\n",
       "      <th>painted_parts</th>\n",
       "      <th>price</th>\n",
       "    </tr>\n",
       "  </thead>\n",
       "  <tbody>\n",
       "    <tr>\n",
       "      <th>0</th>\n",
       "      <td>Renault</td>\n",
       "      <td>Fluence</td>\n",
       "      <td>8</td>\n",
       "      <td>Dizel</td>\n",
       "      <td>Otomatik</td>\n",
       "      <td>1500</td>\n",
       "      <td>110</td>\n",
       "      <td>217000</td>\n",
       "      <td>0</td>\n",
       "      <td>4</td>\n",
       "      <td>128000</td>\n",
       "    </tr>\n",
       "    <tr>\n",
       "      <th>1</th>\n",
       "      <td>Opel</td>\n",
       "      <td>Corsa</td>\n",
       "      <td>8</td>\n",
       "      <td>Dizel</td>\n",
       "      <td>Manuel</td>\n",
       "      <td>1200</td>\n",
       "      <td>75</td>\n",
       "      <td>108000</td>\n",
       "      <td>2</td>\n",
       "      <td>2</td>\n",
       "      <td>90000</td>\n",
       "    </tr>\n",
       "    <tr>\n",
       "      <th>2</th>\n",
       "      <td>Mercedes</td>\n",
       "      <td>E</td>\n",
       "      <td>8</td>\n",
       "      <td>Dizel</td>\n",
       "      <td>Otomatik</td>\n",
       "      <td>3000</td>\n",
       "      <td>265</td>\n",
       "      <td>155000</td>\n",
       "      <td>1</td>\n",
       "      <td>1</td>\n",
       "      <td>450000</td>\n",
       "    </tr>\n",
       "    <tr>\n",
       "      <th>3</th>\n",
       "      <td>Ford</td>\n",
       "      <td>Focus</td>\n",
       "      <td>9</td>\n",
       "      <td>Dizel</td>\n",
       "      <td>Manuel</td>\n",
       "      <td>1600</td>\n",
       "      <td>110</td>\n",
       "      <td>98420</td>\n",
       "      <td>0</td>\n",
       "      <td>0</td>\n",
       "      <td>130500</td>\n",
       "    </tr>\n",
       "    <tr>\n",
       "      <th>4</th>\n",
       "      <td>Toyota</td>\n",
       "      <td>Corolla</td>\n",
       "      <td>3</td>\n",
       "      <td>Benzin</td>\n",
       "      <td>Manuel</td>\n",
       "      <td>1300</td>\n",
       "      <td>99</td>\n",
       "      <td>78000</td>\n",
       "      <td>0</td>\n",
       "      <td>1</td>\n",
       "      <td>154000</td>\n",
       "    </tr>\n",
       "    <tr>\n",
       "      <th>...</th>\n",
       "      <td>...</td>\n",
       "      <td>...</td>\n",
       "      <td>...</td>\n",
       "      <td>...</td>\n",
       "      <td>...</td>\n",
       "      <td>...</td>\n",
       "      <td>...</td>\n",
       "      <td>...</td>\n",
       "      <td>...</td>\n",
       "      <td>...</td>\n",
       "      <td>...</td>\n",
       "    </tr>\n",
       "    <tr>\n",
       "      <th>2309</th>\n",
       "      <td>Hyundai</td>\n",
       "      <td>Accent</td>\n",
       "      <td>5</td>\n",
       "      <td>Dizel</td>\n",
       "      <td>Otomatik</td>\n",
       "      <td>1600</td>\n",
       "      <td>75</td>\n",
       "      <td>27550</td>\n",
       "      <td>0</td>\n",
       "      <td>0</td>\n",
       "      <td>145750</td>\n",
       "    </tr>\n",
       "    <tr>\n",
       "      <th>2310</th>\n",
       "      <td>Renault</td>\n",
       "      <td>Clio</td>\n",
       "      <td>1</td>\n",
       "      <td>Dizel</td>\n",
       "      <td>Manuel</td>\n",
       "      <td>1500</td>\n",
       "      <td>122</td>\n",
       "      <td>17000</td>\n",
       "      <td>0</td>\n",
       "      <td>1</td>\n",
       "      <td>271500</td>\n",
       "    </tr>\n",
       "    <tr>\n",
       "      <th>2311</th>\n",
       "      <td>Dacia</td>\n",
       "      <td>Sandero</td>\n",
       "      <td>1</td>\n",
       "      <td>Dizel</td>\n",
       "      <td>Manuel</td>\n",
       "      <td>1500</td>\n",
       "      <td>120</td>\n",
       "      <td>81500</td>\n",
       "      <td>0</td>\n",
       "      <td>0</td>\n",
       "      <td>186500</td>\n",
       "    </tr>\n",
       "    <tr>\n",
       "      <th>2312</th>\n",
       "      <td>Toyota</td>\n",
       "      <td>Corolla</td>\n",
       "      <td>0</td>\n",
       "      <td>Benzin</td>\n",
       "      <td>Otomatik</td>\n",
       "      <td>1800</td>\n",
       "      <td>112</td>\n",
       "      <td>15285</td>\n",
       "      <td>0</td>\n",
       "      <td>0</td>\n",
       "      <td>145900</td>\n",
       "    </tr>\n",
       "    <tr>\n",
       "      <th>2313</th>\n",
       "      <td>Ford</td>\n",
       "      <td>Focus</td>\n",
       "      <td>3</td>\n",
       "      <td>Dizel</td>\n",
       "      <td>Otomatik</td>\n",
       "      <td>1500</td>\n",
       "      <td>120</td>\n",
       "      <td>90536</td>\n",
       "      <td>1</td>\n",
       "      <td>0</td>\n",
       "      <td>184500</td>\n",
       "    </tr>\n",
       "  </tbody>\n",
       "</table>\n",
       "<p>2314 rows × 11 columns</p>\n",
       "</div>"
      ],
      "text/plain": [
       "         brand    model  age fuel_type gear_type  engine_capacity  \\\n",
       "0      Renault  Fluence    8     Dizel  Otomatik             1500   \n",
       "1         Opel    Corsa    8     Dizel    Manuel             1200   \n",
       "2     Mercedes        E    8     Dizel  Otomatik             3000   \n",
       "3         Ford    Focus    9     Dizel    Manuel             1600   \n",
       "4       Toyota  Corolla    3    Benzin    Manuel             1300   \n",
       "...        ...      ...  ...       ...       ...              ...   \n",
       "2309   Hyundai   Accent    5     Dizel  Otomatik             1600   \n",
       "2310   Renault     Clio    1     Dizel    Manuel             1500   \n",
       "2311     Dacia  Sandero    1     Dizel    Manuel             1500   \n",
       "2312    Toyota  Corolla    0    Benzin  Otomatik             1800   \n",
       "2313      Ford    Focus    3     Dizel  Otomatik             1500   \n",
       "\n",
       "      engine_power      km  changed_parts  painted_parts   price  \n",
       "0              110  217000              0              4  128000  \n",
       "1               75  108000              2              2   90000  \n",
       "2              265  155000              1              1  450000  \n",
       "3              110   98420              0              0  130500  \n",
       "4               99   78000              0              1  154000  \n",
       "...            ...     ...            ...            ...     ...  \n",
       "2309            75   27550              0              0  145750  \n",
       "2310           122   17000              0              1  271500  \n",
       "2311           120   81500              0              0  186500  \n",
       "2312           112   15285              0              0  145900  \n",
       "2313           120   90536              1              0  184500  \n",
       "\n",
       "[2314 rows x 11 columns]"
      ]
     },
     "execution_count": 125,
     "metadata": {},
     "output_type": "execute_result"
    }
   ],
   "source": [
    "df"
   ]
  },
  {
   "cell_type": "markdown",
   "metadata": {},
   "source": [
    "### 3.2. Rename Columns"
   ]
  },
  {
   "cell_type": "markdown",
   "metadata": {},
   "source": [
    "- Untuk lebih memudahkan dalam pengerjaan, seluruh nama kolom yang memiliki spasi diubah menjadi underscore(_) dan keseluruhan nama kolom menjadi lowercase"
   ]
  },
  {
   "cell_type": "code",
   "execution_count": 126,
   "metadata": {},
   "outputs": [],
   "source": [
    "df.columns = [str(x).lower() for x in df.columns]"
   ]
  },
  {
   "cell_type": "code",
   "execution_count": 127,
   "metadata": {},
   "outputs": [],
   "source": [
    "df.rename(columns={'fuel type':'fuel_type','gear type':'gear_type','engine capacity':'engine_capacity','engine power':'engine_power','changed parts':'changed_parts','painted parts':'painted_parts', 'price(turkish liras)':'price'}, inplace=True)"
   ]
  },
  {
   "cell_type": "markdown",
   "metadata": {},
   "source": [
    "## **4. Exploratory Data Analysis**"
   ]
  },
  {
   "cell_type": "markdown",
   "metadata": {},
   "source": [
    "### 4.1. Brief Information"
   ]
  },
  {
   "cell_type": "code",
   "execution_count": 128,
   "metadata": {},
   "outputs": [
    {
     "name": "stdout",
     "output_type": "stream",
     "text": [
      "<class 'pandas.core.frame.DataFrame'>\n",
      "RangeIndex: 2314 entries, 0 to 2313\n",
      "Data columns (total 11 columns):\n",
      " #   Column           Non-Null Count  Dtype \n",
      "---  ------           --------------  ----- \n",
      " 0   brand            2314 non-null   object\n",
      " 1   model            2314 non-null   object\n",
      " 2   age              2314 non-null   int64 \n",
      " 3   fuel_type        2314 non-null   object\n",
      " 4   gear_type        2314 non-null   object\n",
      " 5   engine_capacity  2314 non-null   int64 \n",
      " 6   engine_power     2314 non-null   int64 \n",
      " 7   km               2314 non-null   int64 \n",
      " 8   changed_parts    2314 non-null   int64 \n",
      " 9   painted_parts    2314 non-null   int64 \n",
      " 10  price            2314 non-null   int64 \n",
      "dtypes: int64(7), object(4)\n",
      "memory usage: 199.0+ KB\n"
     ]
    }
   ],
   "source": [
    "df.info()"
   ]
  },
  {
   "cell_type": "markdown",
   "metadata": {},
   "source": [
    "- Tidak ditemukannya missing value dari tiap kolom pada dataset ini"
   ]
  },
  {
   "cell_type": "code",
   "execution_count": 129,
   "metadata": {},
   "outputs": [
    {
     "name": "stdout",
     "output_type": "stream",
     "text": [
      "Numeric Columns:  ['age', 'engine_capacity', 'engine_power', 'km', 'changed_parts', 'painted_parts', 'price']\n",
      "Categorical Columns:  ['brand', 'model', 'fuel_type', 'gear_type']\n"
     ]
    }
   ],
   "source": [
    "num_columns = df.select_dtypes(include=np.number).columns.tolist()\n",
    "cat_columns = df.select_dtypes(include=['object']).columns.tolist()\n",
    "\n",
    "print('Numeric Columns: ', num_columns)\n",
    "print('Categorical Columns: ', cat_columns)"
   ]
  },
  {
   "cell_type": "markdown",
   "metadata": {},
   "source": [
    "- Terdapat hingga 7 kolom numerik dimana salah satunya, yaitu kolom `price` akan menjadi kolom target/label\n",
    "- Terdapat 4 kolom kategorik dimana bisa dipastikan bahwa kolom `brand` maupun `model` akan memiliki tingkat kardinalitas yang tinggi, karena kolom ini menyimpan nama merek mobil dan juga model dari tiap merek-merek tersebut"
   ]
  },
  {
   "cell_type": "markdown",
   "metadata": {},
   "source": [
    "### 4.2. Statistical Descriptive"
   ]
  },
  {
   "cell_type": "code",
   "execution_count": 130,
   "metadata": {},
   "outputs": [
    {
     "data": {
      "text/html": [
       "<div>\n",
       "<style scoped>\n",
       "    .dataframe tbody tr th:only-of-type {\n",
       "        vertical-align: middle;\n",
       "    }\n",
       "\n",
       "    .dataframe tbody tr th {\n",
       "        vertical-align: top;\n",
       "    }\n",
       "\n",
       "    .dataframe thead th {\n",
       "        text-align: right;\n",
       "    }\n",
       "</style>\n",
       "<table border=\"1\" class=\"dataframe\">\n",
       "  <thead>\n",
       "    <tr style=\"text-align: right;\">\n",
       "      <th></th>\n",
       "      <th>age</th>\n",
       "      <th>engine_capacity</th>\n",
       "      <th>engine_power</th>\n",
       "      <th>km</th>\n",
       "      <th>changed_parts</th>\n",
       "      <th>painted_parts</th>\n",
       "      <th>price</th>\n",
       "    </tr>\n",
       "  </thead>\n",
       "  <tbody>\n",
       "    <tr>\n",
       "      <th>count</th>\n",
       "      <td>2314.000000</td>\n",
       "      <td>2314.000000</td>\n",
       "      <td>2314.000000</td>\n",
       "      <td>2314.000000</td>\n",
       "      <td>2314.000000</td>\n",
       "      <td>2314.000000</td>\n",
       "      <td>2.314000e+03</td>\n",
       "    </tr>\n",
       "    <tr>\n",
       "      <th>mean</th>\n",
       "      <td>7.012100</td>\n",
       "      <td>1487.899741</td>\n",
       "      <td>110.096802</td>\n",
       "      <td>121193.769231</td>\n",
       "      <td>0.315471</td>\n",
       "      <td>1.125756</td>\n",
       "      <td>1.745757e+05</td>\n",
       "    </tr>\n",
       "    <tr>\n",
       "      <th>std</th>\n",
       "      <td>6.106762</td>\n",
       "      <td>283.804973</td>\n",
       "      <td>33.485169</td>\n",
       "      <td>83891.614042</td>\n",
       "      <td>0.755927</td>\n",
       "      <td>1.992030</td>\n",
       "      <td>1.735131e+05</td>\n",
       "    </tr>\n",
       "    <tr>\n",
       "      <th>min</th>\n",
       "      <td>0.000000</td>\n",
       "      <td>900.000000</td>\n",
       "      <td>57.000000</td>\n",
       "      <td>0.000000</td>\n",
       "      <td>0.000000</td>\n",
       "      <td>0.000000</td>\n",
       "      <td>1.175000e+04</td>\n",
       "    </tr>\n",
       "    <tr>\n",
       "      <th>25%</th>\n",
       "      <td>3.000000</td>\n",
       "      <td>1400.000000</td>\n",
       "      <td>90.000000</td>\n",
       "      <td>57000.000000</td>\n",
       "      <td>0.000000</td>\n",
       "      <td>0.000000</td>\n",
       "      <td>1.025625e+05</td>\n",
       "    </tr>\n",
       "    <tr>\n",
       "      <th>50%</th>\n",
       "      <td>5.000000</td>\n",
       "      <td>1500.000000</td>\n",
       "      <td>105.000000</td>\n",
       "      <td>106000.000000</td>\n",
       "      <td>0.000000</td>\n",
       "      <td>0.000000</td>\n",
       "      <td>1.416250e+05</td>\n",
       "    </tr>\n",
       "    <tr>\n",
       "      <th>75%</th>\n",
       "      <td>9.000000</td>\n",
       "      <td>1600.000000</td>\n",
       "      <td>120.000000</td>\n",
       "      <td>174000.000000</td>\n",
       "      <td>0.000000</td>\n",
       "      <td>2.000000</td>\n",
       "      <td>1.930000e+05</td>\n",
       "    </tr>\n",
       "    <tr>\n",
       "      <th>max</th>\n",
       "      <td>46.000000</td>\n",
       "      <td>5500.000000</td>\n",
       "      <td>463.000000</td>\n",
       "      <td>488000.000000</td>\n",
       "      <td>6.000000</td>\n",
       "      <td>12.000000</td>\n",
       "      <td>5.050000e+06</td>\n",
       "    </tr>\n",
       "  </tbody>\n",
       "</table>\n",
       "</div>"
      ],
      "text/plain": [
       "               age  engine_capacity  engine_power             km  \\\n",
       "count  2314.000000      2314.000000   2314.000000    2314.000000   \n",
       "mean      7.012100      1487.899741    110.096802  121193.769231   \n",
       "std       6.106762       283.804973     33.485169   83891.614042   \n",
       "min       0.000000       900.000000     57.000000       0.000000   \n",
       "25%       3.000000      1400.000000     90.000000   57000.000000   \n",
       "50%       5.000000      1500.000000    105.000000  106000.000000   \n",
       "75%       9.000000      1600.000000    120.000000  174000.000000   \n",
       "max      46.000000      5500.000000    463.000000  488000.000000   \n",
       "\n",
       "       changed_parts  painted_parts         price  \n",
       "count    2314.000000    2314.000000  2.314000e+03  \n",
       "mean        0.315471       1.125756  1.745757e+05  \n",
       "std         0.755927       1.992030  1.735131e+05  \n",
       "min         0.000000       0.000000  1.175000e+04  \n",
       "25%         0.000000       0.000000  1.025625e+05  \n",
       "50%         0.000000       0.000000  1.416250e+05  \n",
       "75%         0.000000       2.000000  1.930000e+05  \n",
       "max         6.000000      12.000000  5.050000e+06  "
      ]
     },
     "execution_count": 130,
     "metadata": {},
     "output_type": "execute_result"
    }
   ],
   "source": [
    "df.describe()"
   ]
  },
  {
   "cell_type": "markdown",
   "metadata": {},
   "source": [
    "- Tampaknya keseluruhan kolom akan memiliki outlier saat melakukan pendeteksian, Namun terdapat satu kolom yang sepertinya akan memiliki perlakuan khusus yaitu kolom `changed_parts`. Kolom ini berisi informasi berapa jumlah bagian mobil yang telah diganti oleh pemilik sebelumnya dan terlihat setelah dari Q3, baru terdapat data mobil yang telah diganti bagian-bagiannya. Sehingga angka-angka yang terdapat pada Q3-Q4 akan dimungkinkan berubah menjadi 0 karena hasil pendeteksian dari nilai outlier\n",
    "- Oleh karena itu, pada kolom ini tidak akan dilakukan trimming ataupun capping terlepas berapapun persentase outliernya."
   ]
  },
  {
   "cell_type": "code",
   "execution_count": 131,
   "metadata": {},
   "outputs": [
    {
     "name": "stdout",
     "output_type": "stream",
     "text": [
      "count        2314.0\n",
      "mean      174575.74\n",
      "std       173513.09\n",
      "min        11750.00\n",
      "25%       102562.50\n",
      "50%       141625.00\n",
      "75%       193000.00\n",
      "max      5050000.00\n",
      "Name: price, dtype: object\n"
     ]
    }
   ],
   "source": [
    "desc = df.describe()\n",
    "desc.iloc[1:] = desc.iloc[1:].applymap('{:.2f}'.format)\n",
    "\n",
    "print(desc.loc[:,'price'])"
   ]
  },
  {
   "cell_type": "code",
   "execution_count": 132,
   "metadata": {},
   "outputs": [],
   "source": [
    "skewness = pd.DataFrame({'columns':df.describe().columns, 'skew' : df.skew(axis=0)})\n",
    "skewness.reset_index(drop=True, inplace=True)"
   ]
  },
  {
   "cell_type": "code",
   "execution_count": 133,
   "metadata": {},
   "outputs": [
    {
     "data": {
      "text/html": [
       "<div>\n",
       "<style scoped>\n",
       "    .dataframe tbody tr th:only-of-type {\n",
       "        vertical-align: middle;\n",
       "    }\n",
       "\n",
       "    .dataframe tbody tr th {\n",
       "        vertical-align: top;\n",
       "    }\n",
       "\n",
       "    .dataframe thead th {\n",
       "        text-align: right;\n",
       "    }\n",
       "</style>\n",
       "<table border=\"1\" class=\"dataframe\">\n",
       "  <thead>\n",
       "    <tr style=\"text-align: right;\">\n",
       "      <th></th>\n",
       "      <th>columns</th>\n",
       "      <th>skew</th>\n",
       "      <th>status</th>\n",
       "    </tr>\n",
       "  </thead>\n",
       "  <tbody>\n",
       "    <tr>\n",
       "      <th>0</th>\n",
       "      <td>age</td>\n",
       "      <td>1.522297</td>\n",
       "      <td>Skewed</td>\n",
       "    </tr>\n",
       "    <tr>\n",
       "      <th>1</th>\n",
       "      <td>engine_capacity</td>\n",
       "      <td>4.671562</td>\n",
       "      <td>Skewed</td>\n",
       "    </tr>\n",
       "    <tr>\n",
       "      <th>2</th>\n",
       "      <td>engine_power</td>\n",
       "      <td>3.231640</td>\n",
       "      <td>Skewed</td>\n",
       "    </tr>\n",
       "    <tr>\n",
       "      <th>3</th>\n",
       "      <td>km</td>\n",
       "      <td>0.785513</td>\n",
       "      <td>Skewed</td>\n",
       "    </tr>\n",
       "    <tr>\n",
       "      <th>4</th>\n",
       "      <td>changed_parts</td>\n",
       "      <td>3.005731</td>\n",
       "      <td>Skewed</td>\n",
       "    </tr>\n",
       "    <tr>\n",
       "      <th>5</th>\n",
       "      <td>painted_parts</td>\n",
       "      <td>2.240202</td>\n",
       "      <td>Skewed</td>\n",
       "    </tr>\n",
       "    <tr>\n",
       "      <th>6</th>\n",
       "      <td>price</td>\n",
       "      <td>12.740844</td>\n",
       "      <td>Skewed</td>\n",
       "    </tr>\n",
       "  </tbody>\n",
       "</table>\n",
       "</div>"
      ],
      "text/plain": [
       "           columns       skew  status\n",
       "0              age   1.522297  Skewed\n",
       "1  engine_capacity   4.671562  Skewed\n",
       "2     engine_power   3.231640  Skewed\n",
       "3               km   0.785513  Skewed\n",
       "4    changed_parts   3.005731  Skewed\n",
       "5    painted_parts   2.240202  Skewed\n",
       "6            price  12.740844  Skewed"
      ]
     },
     "execution_count": 133,
     "metadata": {},
     "output_type": "execute_result"
    }
   ],
   "source": [
    "skewness['status'] = np.where(skewness['skew'].abs()>0.15, 'Skewed', 'Normal')\n",
    "skewness"
   ]
  },
  {
   "cell_type": "markdown",
   "metadata": {},
   "source": [
    "- Keseluruhan kolom bersifat skewed, namun dikarenakan kita akan menggunakan metode `linear regression` maka teknik scaling yang akan dilakukan tetaplah `standard scaler`\n",
    "- Ini dikarenakan linear regression cukup optimal untuk dijalankan dengan menggunakan angka numerik hasil dari standard scaler"
   ]
  },
  {
   "cell_type": "markdown",
   "metadata": {},
   "source": [
    "### 4.3. Columns Analysis"
   ]
  },
  {
   "cell_type": "code",
   "execution_count": 134,
   "metadata": {},
   "outputs": [
    {
     "data": {
      "text/html": [
       "<div>\n",
       "<style scoped>\n",
       "    .dataframe tbody tr th:only-of-type {\n",
       "        vertical-align: middle;\n",
       "    }\n",
       "\n",
       "    .dataframe tbody tr th {\n",
       "        vertical-align: top;\n",
       "    }\n",
       "\n",
       "    .dataframe thead th {\n",
       "        text-align: right;\n",
       "    }\n",
       "</style>\n",
       "<table border=\"1\" class=\"dataframe\">\n",
       "  <thead>\n",
       "    <tr style=\"text-align: right;\">\n",
       "      <th></th>\n",
       "      <th>age</th>\n",
       "      <th>engine_capacity</th>\n",
       "      <th>engine_power</th>\n",
       "      <th>km</th>\n",
       "      <th>changed_parts</th>\n",
       "      <th>painted_parts</th>\n",
       "      <th>price</th>\n",
       "    </tr>\n",
       "  </thead>\n",
       "  <tbody>\n",
       "    <tr>\n",
       "      <th>age</th>\n",
       "      <td>1.000000</td>\n",
       "      <td>0.231056</td>\n",
       "      <td>-0.051926</td>\n",
       "      <td>0.468833</td>\n",
       "      <td>0.189106</td>\n",
       "      <td>0.243964</td>\n",
       "      <td>-0.212250</td>\n",
       "    </tr>\n",
       "    <tr>\n",
       "      <th>engine_capacity</th>\n",
       "      <td>0.231056</td>\n",
       "      <td>1.000000</td>\n",
       "      <td>0.235699</td>\n",
       "      <td>0.165165</td>\n",
       "      <td>0.040170</td>\n",
       "      <td>0.038865</td>\n",
       "      <td>0.052689</td>\n",
       "    </tr>\n",
       "    <tr>\n",
       "      <th>engine_power</th>\n",
       "      <td>-0.051926</td>\n",
       "      <td>0.235699</td>\n",
       "      <td>1.000000</td>\n",
       "      <td>-0.020563</td>\n",
       "      <td>-0.034257</td>\n",
       "      <td>-0.023425</td>\n",
       "      <td>0.653971</td>\n",
       "    </tr>\n",
       "    <tr>\n",
       "      <th>km</th>\n",
       "      <td>0.468833</td>\n",
       "      <td>0.165165</td>\n",
       "      <td>-0.020563</td>\n",
       "      <td>1.000000</td>\n",
       "      <td>0.151118</td>\n",
       "      <td>0.173662</td>\n",
       "      <td>-0.314978</td>\n",
       "    </tr>\n",
       "    <tr>\n",
       "      <th>changed_parts</th>\n",
       "      <td>0.189106</td>\n",
       "      <td>0.040170</td>\n",
       "      <td>-0.034257</td>\n",
       "      <td>0.151118</td>\n",
       "      <td>1.000000</td>\n",
       "      <td>0.349470</td>\n",
       "      <td>-0.075628</td>\n",
       "    </tr>\n",
       "    <tr>\n",
       "      <th>painted_parts</th>\n",
       "      <td>0.243964</td>\n",
       "      <td>0.038865</td>\n",
       "      <td>-0.023425</td>\n",
       "      <td>0.173662</td>\n",
       "      <td>0.349470</td>\n",
       "      <td>1.000000</td>\n",
       "      <td>-0.085637</td>\n",
       "    </tr>\n",
       "    <tr>\n",
       "      <th>price</th>\n",
       "      <td>-0.212250</td>\n",
       "      <td>0.052689</td>\n",
       "      <td>0.653971</td>\n",
       "      <td>-0.314978</td>\n",
       "      <td>-0.075628</td>\n",
       "      <td>-0.085637</td>\n",
       "      <td>1.000000</td>\n",
       "    </tr>\n",
       "  </tbody>\n",
       "</table>\n",
       "</div>"
      ],
      "text/plain": [
       "                      age  engine_capacity  engine_power        km  \\\n",
       "age              1.000000         0.231056     -0.051926  0.468833   \n",
       "engine_capacity  0.231056         1.000000      0.235699  0.165165   \n",
       "engine_power    -0.051926         0.235699      1.000000 -0.020563   \n",
       "km               0.468833         0.165165     -0.020563  1.000000   \n",
       "changed_parts    0.189106         0.040170     -0.034257  0.151118   \n",
       "painted_parts    0.243964         0.038865     -0.023425  0.173662   \n",
       "price           -0.212250         0.052689      0.653971 -0.314978   \n",
       "\n",
       "                 changed_parts  painted_parts     price  \n",
       "age                   0.189106       0.243964 -0.212250  \n",
       "engine_capacity       0.040170       0.038865  0.052689  \n",
       "engine_power         -0.034257      -0.023425  0.653971  \n",
       "km                    0.151118       0.173662 -0.314978  \n",
       "changed_parts         1.000000       0.349470 -0.075628  \n",
       "painted_parts         0.349470       1.000000 -0.085637  \n",
       "price                -0.075628      -0.085637  1.000000  "
      ]
     },
     "execution_count": 134,
     "metadata": {},
     "output_type": "execute_result"
    }
   ],
   "source": [
    "df.corr()"
   ]
  },
  {
   "cell_type": "code",
   "execution_count": 135,
   "metadata": {},
   "outputs": [],
   "source": [
    "df_cor=df.corr()\n",
    "for i in df_cor:\n",
    "    j=0\n",
    "    df_cor[i] = np.where(df_cor[i].abs()>0.1, df_cor[i], 'low')\n"
   ]
  },
  {
   "cell_type": "code",
   "execution_count": 136,
   "metadata": {},
   "outputs": [
    {
     "name": "stdout",
     "output_type": "stream",
     "text": [
      "Column: age\n",
      "low: [1]\n",
      "====================\n",
      "Column: engine_capacity\n",
      "low: [3]\n",
      "====================\n",
      "Column: engine_power\n",
      "low: [4]\n",
      "====================\n",
      "Column: km\n",
      "low: [1]\n",
      "====================\n",
      "Column: changed_parts\n",
      "low: [3]\n",
      "====================\n",
      "Column: painted_parts\n",
      "low: [3]\n",
      "====================\n",
      "Column: price\n",
      "low: [3]\n",
      "====================\n"
     ]
    }
   ],
   "source": [
    "for i in df_cor:\n",
    "    print(f'Column: {i}')\n",
    "    low_corr = df_cor[i][(df_cor[i] == \"low\")].value_counts().tolist()\n",
    "    if low_corr:\n",
    "        print('low:',low_corr)\n",
    "    else:\n",
    "        print('low:',0)\n",
    "    print(\"=\"*20)"
   ]
  },
  {
   "cell_type": "markdown",
   "metadata": {},
   "source": [
    "- Nilai relasi antar kolom bervariasi, dimana terdapat kolom yang hanya memiliki sedikit nilai relasi rendah terhadap kolom lain yaitu `age` dan `km` dan terdapat kolom yang memiliki banyak relasi rendah terhadap kolom lain yaitu `engine_power`\n",
    "- Untuk kolom `price` sebagai target terlihat `age, km, dan engine_power` memiliki relasi cukup tinggi dengan kolom ini. Jika ingin dihubungkan sangatlah wajar mobil yang telah berumur dan memiliki angka kilometer yang sudah tinggi akan memiliki harga cenderung lebih rendah jika dibandingkan dengan model yang sama karena angka dalam kolom ini akan menentukan dari pihak pembeli apakah sekiranya mereka akan sering melakukan servis terhadap mobil yang akan mereka beli jika angka-angka pada kolom ini sudah sangat tinggi. Kemudian pada kolom `engine power`, cenderung mobil yang memiliki `engine power` tinggi juga umumnya memiliki harga dasar yang mahal sehingga saat dijualpun masih memiliki harga yang tinggi jika semata-mata dibandingkan mobil dengan `engine power` yang rendah"
   ]
  },
  {
   "cell_type": "code",
   "execution_count": 137,
   "metadata": {},
   "outputs": [
    {
     "name": "stdout",
     "output_type": "stream",
     "text": [
      "Cat Columns: brand\n",
      "32\n",
      "====================\n",
      "Cat Columns: model\n",
      "158\n",
      "====================\n",
      "Cat Columns: fuel_type\n",
      "2\n",
      "====================\n",
      "Cat Columns: gear_type\n",
      "2\n",
      "====================\n"
     ]
    }
   ],
   "source": [
    "for i in cat_columns:\n",
    "    print(f'Cat Columns: {i}')\n",
    "    print(f'{df[i].nunique()}')\n",
    "    print('='*20)"
   ]
  },
  {
   "cell_type": "markdown",
   "metadata": {},
   "source": [
    "- Kolom `brand` maupun `model` jelas memiliki tingkat kardinalitas yang tinggi\n",
    "- Ini dikarenakan kedua kolom ini menyimpan baik merek mobil maupun model dari tiap-tiap merek mobil tersebut\n",
    "- Namun penanganan yang akan kita lakukan terhadap kolom ini hanyalah sebatas mengurutkannya dari daftar mobil dengan merek ataupun model yang banyak terdaftar dalam list penjualan dari dataset ini khususnya pada data Train\n",
    "- Hal ini dimaksudkan karena merek ataupun model mobil yang cenderung banyak dijual di pasaran bisa saja cenderung akan memiliki harga jual yang tidak terlalu jatuh dari harga awalnya atau istilah lainnya akan menjadi bias/favorit dari pembeli. Meskipun terdapat faktor mobil tersebut banyak dijual karena mungkin merek/model mobil ternyata rewel atau gampang rusak sehingga mereka lebih memilih untuk menjualnya. Dari berbagai asumsi yang telah disebutkan, kita akan memilih pendapat yang pertama, sehingga teknik encoding yang akan digunakan adalah `Ordinal Encoder` dengan kategori yang telah diurutkan sebelumnya"
   ]
  },
  {
   "cell_type": "markdown",
   "metadata": {},
   "source": [
    "### 4.4. Gather Some Information"
   ]
  },
  {
   "cell_type": "markdown",
   "metadata": {},
   "source": [
    "#### 4.4.1. Show Which Brand/Model Listed Only Once In Websites"
   ]
  },
  {
   "cell_type": "markdown",
   "metadata": {},
   "source": [
    "- Karena tingkat kardinalitas yang tinggi, ada kemungkinan merek ataupun model yang terdaftar dalam website penjualan mobil bekas hanya memiliki sebanyak satu daftar penjualan saja. Ini akan menjadi masalah saat tahap feature encoding, karena jika mobil ini hanya terdapat pada test set, maka hasil encoding dari train set akan menimbulkan error. Ini dikarenakan encoding tidak mampu mengenali merk/brand yang hanya muncul pada test set\n",
    "- Oleh karena itu pada tahap preprocessing kita akan menangani kasus tersebut"
   ]
  },
  {
   "cell_type": "code",
   "execution_count": 138,
   "metadata": {},
   "outputs": [
    {
     "name": "stdout",
     "output_type": "stream",
     "text": [
      "Brand: \n",
      "====================\n",
      "Lada\n",
      "Proton\n",
      "Chrysler\n",
      "Aston\n",
      "DS\n",
      "Jumlah:  5\n",
      "--------------------\n",
      "Model: \n",
      "====================\n",
      "147\n",
      "Xsara\n",
      "Clarus\n",
      "106\n",
      "306\n",
      "C1\n",
      "190\n",
      "Omega\n",
      "Lantis\n",
      "A7\n",
      "Touran\n",
      "CLS\n",
      "Vega\n",
      "415\n",
      "Xantia\n",
      "Latitude\n",
      "159\n",
      "Favorit\n",
      "Fusion\n",
      "911\n",
      "Almera\n",
      "Carina\n",
      "Solenza\n",
      "Kadett\n",
      "Safrane\n",
      "Panda\n",
      "Sephia\n",
      "Maybach\n",
      "Cordoba\n",
      "Vel\n",
      "406\n",
      "230\n",
      "100\n",
      "Altea\n",
      "Arteon\n",
      "300\n",
      "Verso\n",
      "Colt\n",
      "S-Cross\n",
      "Murat\n",
      "DB7\n",
      "SLK\n",
      "Epica\n",
      "TT\n",
      "DS4\n",
      "V90\n",
      "Jumlah:  158\n"
     ]
    }
   ],
   "source": [
    "brand_name = df['brand'].unique().tolist()\n",
    "model_name = df['model'].unique().tolist()\n",
    "j= 0\n",
    "print(\"Brand: \")\n",
    "print(\"=\"*20)\n",
    "for i in brand_name:\n",
    "    if df.query('brand == @i').loc[:,'brand'].count() == 1:\n",
    "        print(i)\n",
    "        j+=1\n",
    "print(\"Jumlah: \", j)\n",
    "print(\"-\"*20)\n",
    "j=0\n",
    "print(\"Model: \")\n",
    "print(\"=\"*20)\n",
    "for i in model_name:\n",
    "    if df.query('model == @i').loc[:,'model'].count() == 1:\n",
    "        print(i)\n",
    "    j+=1\n",
    "print(\"Jumlah: \", j)"
   ]
  },
  {
   "cell_type": "markdown",
   "metadata": {},
   "source": [
    "- Masing-masing merek ataupun model mobil sama-sama memiliki daftar yang hanya terdapat satu saja dalam website penjualan\n",
    "- Dimana merek mobil terdapat sebanyak 5 merk, sedangkan pada model mobil terdapat hingga 158 jenis model mobil"
   ]
  },
  {
   "cell_type": "code",
   "execution_count": 139,
   "metadata": {},
   "outputs": [
    {
     "name": "stdout",
     "output_type": "stream",
     "text": [
      "<class 'pandas.core.frame.DataFrame'>\n",
      "RangeIndex: 2314 entries, 0 to 2313\n",
      "Data columns (total 11 columns):\n",
      " #   Column           Non-Null Count  Dtype \n",
      "---  ------           --------------  ----- \n",
      " 0   brand            2314 non-null   object\n",
      " 1   model            2314 non-null   object\n",
      " 2   age              2314 non-null   int64 \n",
      " 3   fuel_type        2314 non-null   object\n",
      " 4   gear_type        2314 non-null   object\n",
      " 5   engine_capacity  2314 non-null   int64 \n",
      " 6   engine_power     2314 non-null   int64 \n",
      " 7   km               2314 non-null   int64 \n",
      " 8   changed_parts    2314 non-null   int64 \n",
      " 9   painted_parts    2314 non-null   int64 \n",
      " 10  price            2314 non-null   int64 \n",
      "dtypes: int64(7), object(4)\n",
      "memory usage: 199.0+ KB\n"
     ]
    }
   ],
   "source": [
    "df.info()"
   ]
  },
  {
   "cell_type": "markdown",
   "metadata": {},
   "source": [
    "#### 4.4.2. Price Correlation With Non-Low Correlation Columns"
   ]
  },
  {
   "cell_type": "code",
   "execution_count": 140,
   "metadata": {},
   "outputs": [
    {
     "data": {
      "image/png": "[encoded data removed]",
      "text/plain": [
       "<Figure size 1296x360 with 3 Axes>"
      ]
     },
     "metadata": {},
     "output_type": "display_data"
    }
   ],
   "source": [
    "plt.figure(figsize=(18,5))\n",
    "plt.subplot(1, 3, 1)\n",
    "sns.scatterplot(x='price', y='engine_power', data=df, color='#006699')\n",
    "plt.title('Prices VS Engine Power')\n",
    "plt.subplot(1, 3, 2)\n",
    "sns.scatterplot(x='price', y='km', data=df, color='#006699')\n",
    "plt.title('Prices VS Kilometers count')\n",
    "plt.subplot(1, 3, 3)\n",
    "sns.scatterplot(x='price', y='age', data=df, color='#006699')\n",
    "plt.title('Prices VS Age of Cars')\n",
    "plt.show()"
   ]
  },
  {
   "cell_type": "markdown",
   "metadata": {},
   "source": [
    "- Dari Engine Power terlihat mobil-mobil yang memiliki engine power yang tinggi cenderung memiliki harga yang sangat tinggi juga, dimana cukup banyak harga-harga mobil yang diatas 1 juta liras(mata uang turki) memiliki engine power yang tinggi\n",
    "- Dari jumlah kilometer yang telah ditempuh oleh mobil, juga memiliki sedikit kecenderungan dimana kilometer yang tinggi juga mempengaruhi harga yang rendah sehingga korelasi pada kolom ini bernilai minus(-)\n",
    "- Sama halnya dengan kilometer, semakin bertambahnya umur terdapat kecenderungan harga pada mobil juga semakin rendah"
   ]
  },
  {
   "cell_type": "code",
   "execution_count": 141,
   "metadata": {},
   "outputs": [
    {
     "name": "stdout",
     "output_type": "stream",
     "text": [
      "count        2314.0\n",
      "mean      174575.74\n",
      "std       173513.09\n",
      "min        11750.00\n",
      "25%       102562.50\n",
      "50%       141625.00\n",
      "75%       193000.00\n",
      "max      5050000.00\n",
      "Name: price, dtype: object\n"
     ]
    }
   ],
   "source": [
    "desc = df.describe()\n",
    "desc.iloc[1:] = desc.iloc[1:].applymap('{:.2f}'.format)\n",
    "\n",
    "print(desc.loc[:,'price'])"
   ]
  },
  {
   "cell_type": "code",
   "execution_count": 142,
   "metadata": {},
   "outputs": [
    {
     "data": {
      "image/png": "[encoded data removed]",
      "text/plain": [
       "<Figure size 1296x360 with 2 Axes>"
      ]
     },
     "metadata": {},
     "output_type": "display_data"
    }
   ],
   "source": [
    "IQR = df['price'].quantile(0.75) - df['price'].quantile(0.25)\n",
    "\n",
    "plt.figure(figsize=(18,5))\n",
    "plt.subplot(1, 2, 1)\n",
    "upper = df['price'].quantile(0.75) + 1.5 * IQR\n",
    "sns.histplot(x='price', data=df[(df['price']<=upper)], color='#006699')\n",
    "plt.title('Prices Below Upper Quartile')\n",
    "\n",
    "plt.subplot(1, 2, 2)\n",
    "upper = df['price'].quantile(0.75) + 1.5 * IQR\n",
    "sns.histplot(x='price', data=df, color='#006699')\n",
    "plt.title('Full Prices Distribution')\n",
    "plt.show()"
   ]
  },
  {
   "cell_type": "markdown",
   "metadata": {},
   "source": [
    "- Mayoritas harga berada pada kisaran 100k-200k Lira, dimana jumlah mobil yang terdaftar di website penjualan kian semakin sedikit dengan bertambahnya harga pada mobil yang ditawarkan"
   ]
  },
  {
   "cell_type": "markdown",
   "metadata": {},
   "source": [
    "#### 4.4.3. Which Brands Is Listed More In Websites"
   ]
  },
  {
   "cell_type": "code",
   "execution_count": 143,
   "metadata": {},
   "outputs": [
    {
     "data": {
      "image/png": "[encoded data removed]",
      "text/plain": [
       "<Figure size 504x288 with 1 Axes>"
      ]
     },
     "metadata": {},
     "output_type": "display_data"
    }
   ],
   "source": [
    "plt.figure(figsize=(7,4))\n",
    "ax = sns.barplot(x=df['brand'].value_counts().head(10).values ,y=df['brand'].value_counts().head(10).index, palette=colors)\n",
    "ax.bar_label(ax.containers[0], fontsize=12)\n",
    "plt.title('Popular Listed Brand')\n",
    "plt.show()"
   ]
  },
  {
   "cell_type": "markdown",
   "metadata": {},
   "source": [
    "- Merk Renault merupakan merek mobil yang paling banyak terdaftar pada website penjualan mobil bekas ini. Merk ini terdaftar hingga 418 mobil dengan pilihan berbagai model\n",
    "- Kedua diikuti oleh Volkswagen sebanyak 304 mobil kemudian ketiga diikuti oleh Opel sebanyak 206 mobil\n",
    "- Jika diperhatikan 3 mobil diatas adalah mobil yang berbasis produksi di Eropa, hal ini mungkin dikarenakan faktor letak geografis dari Turki yang berada di area kawasan Eurasia"
   ]
  },
  {
   "cell_type": "markdown",
   "metadata": {},
   "source": [
    "#### 4.4.4. Which Model Is Popular In Websites"
   ]
  },
  {
   "cell_type": "code",
   "execution_count": 144,
   "metadata": {},
   "outputs": [],
   "source": [
    "topbrand_model = df.loc[df['model'].value_counts().head(25)].groupby('brand').count().loc[:,'model']"
   ]
  },
  {
   "cell_type": "code",
   "execution_count": 145,
   "metadata": {},
   "outputs": [
    {
     "data": {
      "image/png": "[encoded data removed]",
      "text/plain": [
       "<Figure size 576x432 with 1 Axes>"
      ]
     },
     "metadata": {},
     "output_type": "display_data"
    },
    {
     "name": "stdout",
     "output_type": "stream",
     "text": [
      "========================= Top Brand Comparison vs TOP 25 Model From Each Brand =========================\n"
     ]
    },
    {
     "data": {
      "image/png": "[encoded data removed]",
      "text/plain": [
       "<Figure size 1296x432 with 2 Axes>"
      ]
     },
     "metadata": {},
     "output_type": "display_data"
    }
   ],
   "source": [
    "plt.figure(figsize=(8,6))\n",
    "\n",
    "ax = sns.barplot(x=df['model'].value_counts().head(25).values ,y=df['model'].value_counts().head(25).index, palette=colors)\n",
    "ax.bar_label(ax.containers[0], fontsize=12)\n",
    "plt.title('Popular Listed Model')\n",
    "plt.show()\n",
    "print('='*25,'Top Brand Comparison vs TOP 25 Model From Each Brand','='*25)\n",
    "\n",
    "plt.figure(figsize=(18,6))\n",
    "plt.subplot(1, 2, 1)\n",
    "ax = sns.barplot(x=df['brand'].value_counts().head(10).values ,y=df['brand'].value_counts().head(10).index, palette=colors)\n",
    "ax.bar_label(ax.containers[0], fontsize=12)\n",
    "plt.title('Popular Listed Model')\n",
    "\n",
    "plt.subplot(1, 2, 2)\n",
    "ax = sns.barplot(x=topbrand_model.values ,y=topbrand_model.index, order=topbrand_model.sort_values(ascending=False).index, palette=colors)\n",
    "ax.bar_label(ax.containers[0], fontsize=12)\n",
    "plt.title('TOP 25 Model From Each Brand')\n",
    "\n",
    "plt.show()\n"
   ]
  },
  {
   "cell_type": "markdown",
   "metadata": {},
   "source": [
    "- Model Clio milik merek Renault terdaftar paling banyak diantara model lainnya hingga 150 daftar penjualan\n",
    "- Kemudian diikuti oleh Focus milik merk Ford yang ternyata tidak terdapat dalam top 3 daftar penjualan berdasarkan merk. Dimana Focus memiliki hingga 126 daftar penjualan\n",
    "- Selanjutnya model Megane yang ternyata milik merek Renault lagi sebanyak 111 daftar penjualan"
   ]
  },
  {
   "cell_type": "markdown",
   "metadata": {},
   "source": [
    "#### 4.4.5. How Many Cars That Modified Their Parts"
   ]
  },
  {
   "cell_type": "code",
   "execution_count": 146,
   "metadata": {},
   "outputs": [
    {
     "data": {
      "image/png": "[encoded data removed]",
      "text/plain": [
       "<Figure size 1296x288 with 2 Axes>"
      ]
     },
     "metadata": {},
     "output_type": "display_data"
    },
    {
     "data": {
      "image/png": "[encoded data removed]",
      "text/plain": [
       "<Figure size 1296x288 with 2 Axes>"
      ]
     },
     "metadata": {},
     "output_type": "display_data"
    }
   ],
   "source": [
    "df_changed_parts = df.copy()\n",
    "df_changed_parts['changed_parts'] = np.where(df_changed_parts['changed_parts'] >0, 'Had Changed', 'Not Changed')\n",
    "df_changed_parts['painted_parts'] = np.where(df_changed_parts['painted_parts'] >0, 'Had Painted', 'Not Painted')\n",
    "plt.figure(figsize=(18,4))\n",
    "plt.subplot(1,2,1)\n",
    "plt.pie(df_changed_parts.value_counts('changed_parts') , labels= df_changed_parts.value_counts('changed_parts').index, explode=(0, 0.1),colors = colors, autopct='%.2f%%', textprops={'fontsize': 14})\n",
    "plt.title('Cars That Changed Parts(%)')\n",
    "plt.legend()\n",
    "\n",
    "plt.subplot(1,2,2)\n",
    "ax = sns.countplot(data=df ,x='changed_parts', palette=colors)\n",
    "ax.bar_label(ax.containers[0], fontsize=12)\n",
    "plt.title('Cars That Changed Parts')\n",
    "\n",
    "plt.figure(figsize=(18,4))\n",
    "plt.subplot(1,2,1)\n",
    "plt.pie(df_changed_parts.value_counts('painted_parts') , labels= df_changed_parts.value_counts('painted_parts').index, explode=(0, 0.1),colors = colors, autopct='%.2f%%', textprops={'fontsize': 14})\n",
    "plt.title('Cars That Painted Parts(%)')\n",
    "plt.legend()\n",
    "\n",
    "plt.subplot(1,2,2)\n",
    "ax = sns.countplot(data=df ,x='painted_parts', palette=colors)\n",
    "ax.bar_label(ax.containers[0], fontsize=12)\n",
    "plt.title('Cars That Painted Parts')\n",
    "\n",
    "plt.show()\n"
   ]
  },
  {
   "cell_type": "markdown",
   "metadata": {},
   "source": [
    "- Sebanyak 1850 atau 80.30% dari total daftar penjualan mobil yang masih belum memiliki perubahan ataupun modifikasi pada bagian mobilnya\n",
    "- Sedangkan sebanyak 278 atau 12.07% yang telah melakukannya sebanyak satu kali\n",
    "- Selebihnya kurang lebih 7.6% yang telah mengganti bagian mobilnya lebih daru satu kali"
   ]
  },
  {
   "cell_type": "markdown",
   "metadata": {},
   "source": [
    "#### 4.4.6. Is Modified Parts(Changed and Painted) Really Not Affecting The Prices?"
   ]
  },
  {
   "cell_type": "markdown",
   "metadata": {},
   "source": [
    "##### A. General Cars"
   ]
  },
  {
   "cell_type": "code",
   "execution_count": 147,
   "metadata": {},
   "outputs": [
    {
     "data": {
      "text/html": [
       "<div>\n",
       "<style scoped>\n",
       "    .dataframe tbody tr th:only-of-type {\n",
       "        vertical-align: middle;\n",
       "    }\n",
       "\n",
       "    .dataframe tbody tr th {\n",
       "        vertical-align: top;\n",
       "    }\n",
       "\n",
       "    .dataframe thead th {\n",
       "        text-align: right;\n",
       "    }\n",
       "</style>\n",
       "<table border=\"1\" class=\"dataframe\">\n",
       "  <thead>\n",
       "    <tr style=\"text-align: right;\">\n",
       "      <th></th>\n",
       "      <th>age</th>\n",
       "      <th>engine_capacity</th>\n",
       "      <th>engine_power</th>\n",
       "      <th>km</th>\n",
       "      <th>changed_parts</th>\n",
       "      <th>painted_parts</th>\n",
       "      <th>price</th>\n",
       "    </tr>\n",
       "  </thead>\n",
       "  <tbody>\n",
       "    <tr>\n",
       "      <th>count</th>\n",
       "      <td>2314.000000</td>\n",
       "      <td>2314.000000</td>\n",
       "      <td>2314.000000</td>\n",
       "      <td>2314.000000</td>\n",
       "      <td>2314.000000</td>\n",
       "      <td>2314.000000</td>\n",
       "      <td>2.314000e+03</td>\n",
       "    </tr>\n",
       "    <tr>\n",
       "      <th>mean</th>\n",
       "      <td>7.012100</td>\n",
       "      <td>1487.899741</td>\n",
       "      <td>110.096802</td>\n",
       "      <td>121193.769231</td>\n",
       "      <td>0.315471</td>\n",
       "      <td>1.125756</td>\n",
       "      <td>1.745757e+05</td>\n",
       "    </tr>\n",
       "    <tr>\n",
       "      <th>std</th>\n",
       "      <td>6.106762</td>\n",
       "      <td>283.804973</td>\n",
       "      <td>33.485169</td>\n",
       "      <td>83891.614042</td>\n",
       "      <td>0.755927</td>\n",
       "      <td>1.992030</td>\n",
       "      <td>1.735131e+05</td>\n",
       "    </tr>\n",
       "    <tr>\n",
       "      <th>min</th>\n",
       "      <td>0.000000</td>\n",
       "      <td>900.000000</td>\n",
       "      <td>57.000000</td>\n",
       "      <td>0.000000</td>\n",
       "      <td>0.000000</td>\n",
       "      <td>0.000000</td>\n",
       "      <td>1.175000e+04</td>\n",
       "    </tr>\n",
       "    <tr>\n",
       "      <th>25%</th>\n",
       "      <td>3.000000</td>\n",
       "      <td>1400.000000</td>\n",
       "      <td>90.000000</td>\n",
       "      <td>57000.000000</td>\n",
       "      <td>0.000000</td>\n",
       "      <td>0.000000</td>\n",
       "      <td>1.025625e+05</td>\n",
       "    </tr>\n",
       "    <tr>\n",
       "      <th>50%</th>\n",
       "      <td>5.000000</td>\n",
       "      <td>1500.000000</td>\n",
       "      <td>105.000000</td>\n",
       "      <td>106000.000000</td>\n",
       "      <td>0.000000</td>\n",
       "      <td>0.000000</td>\n",
       "      <td>1.416250e+05</td>\n",
       "    </tr>\n",
       "    <tr>\n",
       "      <th>75%</th>\n",
       "      <td>9.000000</td>\n",
       "      <td>1600.000000</td>\n",
       "      <td>120.000000</td>\n",
       "      <td>174000.000000</td>\n",
       "      <td>0.000000</td>\n",
       "      <td>2.000000</td>\n",
       "      <td>1.930000e+05</td>\n",
       "    </tr>\n",
       "    <tr>\n",
       "      <th>max</th>\n",
       "      <td>46.000000</td>\n",
       "      <td>5500.000000</td>\n",
       "      <td>463.000000</td>\n",
       "      <td>488000.000000</td>\n",
       "      <td>6.000000</td>\n",
       "      <td>12.000000</td>\n",
       "      <td>5.050000e+06</td>\n",
       "    </tr>\n",
       "  </tbody>\n",
       "</table>\n",
       "</div>"
      ],
      "text/plain": [
       "               age  engine_capacity  engine_power             km  \\\n",
       "count  2314.000000      2314.000000   2314.000000    2314.000000   \n",
       "mean      7.012100      1487.899741    110.096802  121193.769231   \n",
       "std       6.106762       283.804973     33.485169   83891.614042   \n",
       "min       0.000000       900.000000     57.000000       0.000000   \n",
       "25%       3.000000      1400.000000     90.000000   57000.000000   \n",
       "50%       5.000000      1500.000000    105.000000  106000.000000   \n",
       "75%       9.000000      1600.000000    120.000000  174000.000000   \n",
       "max      46.000000      5500.000000    463.000000  488000.000000   \n",
       "\n",
       "       changed_parts  painted_parts         price  \n",
       "count    2314.000000    2314.000000  2.314000e+03  \n",
       "mean        0.315471       1.125756  1.745757e+05  \n",
       "std         0.755927       1.992030  1.735131e+05  \n",
       "min         0.000000       0.000000  1.175000e+04  \n",
       "25%         0.000000       0.000000  1.025625e+05  \n",
       "50%         0.000000       0.000000  1.416250e+05  \n",
       "75%         0.000000       2.000000  1.930000e+05  \n",
       "max         6.000000      12.000000  5.050000e+06  "
      ]
     },
     "execution_count": 147,
     "metadata": {},
     "output_type": "execute_result"
    }
   ],
   "source": [
    "df.describe()"
   ]
  },
  {
   "cell_type": "code",
   "execution_count": 148,
   "metadata": {},
   "outputs": [
    {
     "data": {
      "image/png": "[encoded data removed]",
      "text/plain": [
       "<Figure size 1296x288 with 2 Axes>"
      ]
     },
     "metadata": {},
     "output_type": "display_data"
    }
   ],
   "source": [
    "iqr_price = df['price'].quantile(0.75) - df['price'].quantile(0.25)\n",
    "df_changed_parts_outliers = df_changed_parts['price'].quantile(0.75) + iqr_price*1.5\n",
    "dfa_outl = df_changed_parts['age'].quantile(0.75) + ((df_changed_parts['age'].quantile(0.75) - df_changed_parts['age'].quantile(0.25))*1.5)\n",
    "dfep_outl = df_changed_parts['engine_power'].quantile(0.75) + ((df_changed_parts['engine_power'].quantile(0.75) - df_changed_parts['engine_power'].quantile(0.25))*1.5)\n",
    "dfkm_outl = df_changed_parts['km'].quantile(0.75) + ((df_changed_parts['km'].quantile(0.75) - df_changed_parts['km'].quantile(0.25))*1.5)\n",
    "df_changed_painted_parts= df_changed_parts.query('age <= @dfa_outl and engine_power <=@dfep_outl and km <= @dfkm_outl')\n",
    "df_changed_painted_parts.reset_index(drop=True, inplace=True)\n",
    "plt.figure(figsize=(18,4))\n",
    "plt.subplot(1, 2, 1)\n",
    "sns.boxplot(x='changed_parts', y='price', data=df_changed_painted_parts, showfliers=False, hue='painted_parts', hue_order=['Not Painted', 'Had Painted'], palette=colors2)\n",
    "\n",
    "plt.subplot(1, 2, 2)\n",
    "sns.violinplot(x='changed_parts', y='price', data=df_changed_painted_parts[(df_changed_painted_parts['price']<=df_changed_parts_outliers)], hue='painted_parts', hue_order=['Not Painted', 'Had Painted'], palette=colors2)\n",
    "plt.show()"
   ]
  },
  {
   "cell_type": "markdown",
   "metadata": {},
   "source": [
    "- Dari keseluruhan mobil tanpa memandang brand atau merek apapun, Didapatkan informasi bahwa:\n",
    "    - Mobil yang tidak pernah dimodifikasi sama sekali, cenderung memiliki harga yang sedikit lebih tinggi dibandingkan mobil sudah pernah dimodifikasi baik part mobilnya diganti ataupun dicat\n",
    "    - Terdapat kecenderungan juga dimana mobil yang setidaknya telah diganti part-nya (plot kanan) baik telah dicat ataupun tidak menaruh harga yang sedikit lebih rendah dibandingkan yang tidak pernah diganti sama sekali part mobilnya\n",
    "    - Mobil yang telah dicat tampaknya juga memiliki harga yang cenderung lebih rendah jika dibandingkan belum di cat sama sekali meskipun part-nya telah diganti ataupun belum diganti sama sekali"
   ]
  },
  {
   "cell_type": "code",
   "execution_count": 149,
   "metadata": {},
   "outputs": [
    {
     "data": {
      "text/html": [
       "<style  type=\"text/css\" >\n",
       "#T_2baca_row0_col0{\n",
       "            width:  10em;\n",
       "             height:  80%;\n",
       "            background:  linear-gradient(90deg,#d65f5f 89.5%, transparent 89.5%);\n",
       "        }#T_2baca_row1_col0{\n",
       "            width:  10em;\n",
       "             height:  80%;\n",
       "            background:  linear-gradient(90deg,#d65f5f 93.0%, transparent 93.0%);\n",
       "        }#T_2baca_row2_col0{\n",
       "            width:  10em;\n",
       "             height:  80%;\n",
       "            background:  linear-gradient(90deg,#d65f5f 92.6%, transparent 92.6%);\n",
       "        }#T_2baca_row3_col0{\n",
       "            width:  10em;\n",
       "             height:  80%;\n",
       "            background:  linear-gradient(90deg,#d65f5f 100.0%, transparent 100.0%);\n",
       "        }</style><table id=\"T_2baca_\" ><thead>    <tr>        <th class=\"blank\" ></th>        <th class=\"blank level0\" ></th>        <th class=\"col_heading level0 col0\" >price</th>    </tr>    <tr>        <th class=\"index_name level0\" >changed_parts</th>        <th class=\"index_name level1\" >painted_parts</th>        <th class=\"blank\" ></th>    </tr></thead><tbody>\n",
       "                <tr>\n",
       "                        <th id=\"T_2baca_level0_row0\" class=\"row_heading level0 row0\" rowspan=\"2\">Had Changed</th>\n",
       "                        <th id=\"T_2baca_level1_row0\" class=\"row_heading level1 row0\" >Had Painted</th>\n",
       "                        <td id=\"T_2baca_row0_col0\" class=\"data row0 col0\" >151,557.36 Lira</td>\n",
       "            </tr>\n",
       "            <tr>\n",
       "                                <th id=\"T_2baca_level1_row1\" class=\"row_heading level1 row1\" >Not Painted</th>\n",
       "                        <td id=\"T_2baca_row1_col0\" class=\"data row1 col0\" >157,416.47 Lira</td>\n",
       "            </tr>\n",
       "            <tr>\n",
       "                        <th id=\"T_2baca_level0_row2\" class=\"row_heading level0 row2\" rowspan=\"2\">Not Changed</th>\n",
       "                        <th id=\"T_2baca_level1_row2\" class=\"row_heading level1 row2\" >Had Painted</th>\n",
       "                        <td id=\"T_2baca_row2_col0\" class=\"data row2 col0\" >156,679.29 Lira</td>\n",
       "            </tr>\n",
       "            <tr>\n",
       "                                <th id=\"T_2baca_level1_row3\" class=\"row_heading level1 row3\" >Not Painted</th>\n",
       "                        <td id=\"T_2baca_row3_col0\" class=\"data row3 col0\" >169,252.29 Lira</td>\n",
       "            </tr>\n",
       "    </tbody></table>"
      ],
      "text/plain": [
       "<pandas.io.formats.style.Styler at 0x7ff3d134cb80>"
      ]
     },
     "execution_count": 149,
     "metadata": {},
     "output_type": "execute_result"
    }
   ],
   "source": [
    "modified_parts_pivot = df_changed_painted_parts.pivot_table(index=['changed_parts', 'painted_parts'], values='price', aggfunc='mean')\n",
    "modified_parts_pivot.style.format({'price':'{0:,.2f} Lira'}).bar(color='#d65f5f', align='mid')"
   ]
  },
  {
   "cell_type": "markdown",
   "metadata": {},
   "source": [
    "- Dari Tabel diatas terlihat bahwa rata-rata yang dipatok pada mobil yang sama sekali belum dimodifikasi, memiliki rata-rata tertinggi\n",
    "- Kemudian diikuti oleh yang sudah diganti part-nya dengan belum di cat meskipun kategori ini hanya selisih tipis dengan yang belum diganti part-nya namun sudah dicat\n",
    "- Terakhir ditempati oleh yang sudah diganti part-nya dan juga sudah di cat"
   ]
  },
  {
   "cell_type": "markdown",
   "metadata": {},
   "source": [
    "##### B. What About The Cars That Actually Have Been Modified For The Most?"
   ]
  },
  {
   "cell_type": "code",
   "execution_count": 150,
   "metadata": {},
   "outputs": [
    {
     "data": {
      "text/html": [
       "<div>\n",
       "<style scoped>\n",
       "    .dataframe tbody tr th:only-of-type {\n",
       "        vertical-align: middle;\n",
       "    }\n",
       "\n",
       "    .dataframe tbody tr th {\n",
       "        vertical-align: top;\n",
       "    }\n",
       "\n",
       "    .dataframe thead th {\n",
       "        text-align: right;\n",
       "    }\n",
       "</style>\n",
       "<table border=\"1\" class=\"dataframe\">\n",
       "  <thead>\n",
       "    <tr style=\"text-align: right;\">\n",
       "      <th></th>\n",
       "      <th></th>\n",
       "      <th>jumlah</th>\n",
       "    </tr>\n",
       "    <tr>\n",
       "      <th>brand</th>\n",
       "      <th>model</th>\n",
       "      <th></th>\n",
       "    </tr>\n",
       "  </thead>\n",
       "  <tbody>\n",
       "    <tr>\n",
       "      <th>Opel</th>\n",
       "      <th>Astra</th>\n",
       "      <td>65</td>\n",
       "    </tr>\n",
       "    <tr>\n",
       "      <th>Ford</th>\n",
       "      <th>Focus</th>\n",
       "      <td>59</td>\n",
       "    </tr>\n",
       "    <tr>\n",
       "      <th>Renault</th>\n",
       "      <th>Clio</th>\n",
       "      <td>59</td>\n",
       "    </tr>\n",
       "    <tr>\n",
       "      <th>Toyota</th>\n",
       "      <th>Corolla</th>\n",
       "      <td>47</td>\n",
       "    </tr>\n",
       "    <tr>\n",
       "      <th>Renault</th>\n",
       "      <th>Fluence</th>\n",
       "      <td>36</td>\n",
       "    </tr>\n",
       "  </tbody>\n",
       "</table>\n",
       "</div>"
      ],
      "text/plain": [
       "                 jumlah\n",
       "brand   model          \n",
       "Opel    Astra        65\n",
       "Ford    Focus        59\n",
       "Renault Clio         59\n",
       "Toyota  Corolla      47\n",
       "Renault Fluence      36"
      ]
     },
     "execution_count": 150,
     "metadata": {},
     "output_type": "execute_result"
    }
   ],
   "source": [
    "df_changed_parts.query('changed_parts!=\"Not Changed\" or painted_parts!=\"Not Painted\"').groupby(['brand', 'model']).count().sort_values('age', ascending=False).iloc[:,0:1].head(5).rename(columns=dict(age=\"jumlah\"))"
   ]
  },
  {
   "cell_type": "code",
   "execution_count": 151,
   "metadata": {},
   "outputs": [
    {
     "data": {
      "text/html": [
       "<div>\n",
       "<style scoped>\n",
       "    .dataframe tbody tr th:only-of-type {\n",
       "        vertical-align: middle;\n",
       "    }\n",
       "\n",
       "    .dataframe tbody tr th {\n",
       "        vertical-align: top;\n",
       "    }\n",
       "\n",
       "    .dataframe thead th {\n",
       "        text-align: right;\n",
       "    }\n",
       "</style>\n",
       "<table border=\"1\" class=\"dataframe\">\n",
       "  <thead>\n",
       "    <tr style=\"text-align: right;\">\n",
       "      <th></th>\n",
       "      <th>brand</th>\n",
       "      <th>model</th>\n",
       "      <th>age</th>\n",
       "      <th>fuel_type</th>\n",
       "      <th>gear_type</th>\n",
       "      <th>engine_capacity</th>\n",
       "      <th>engine_power</th>\n",
       "      <th>km</th>\n",
       "      <th>changed_parts</th>\n",
       "      <th>painted_parts</th>\n",
       "      <th>price</th>\n",
       "    </tr>\n",
       "  </thead>\n",
       "  <tbody>\n",
       "    <tr>\n",
       "      <th>0</th>\n",
       "      <td>Renault</td>\n",
       "      <td>Fluence</td>\n",
       "      <td>8</td>\n",
       "      <td>Dizel</td>\n",
       "      <td>Otomatik</td>\n",
       "      <td>1500</td>\n",
       "      <td>110</td>\n",
       "      <td>217000</td>\n",
       "      <td>Not Changed</td>\n",
       "      <td>Had Painted</td>\n",
       "      <td>128000</td>\n",
       "    </tr>\n",
       "    <tr>\n",
       "      <th>1</th>\n",
       "      <td>Opel</td>\n",
       "      <td>Corsa</td>\n",
       "      <td>8</td>\n",
       "      <td>Dizel</td>\n",
       "      <td>Manuel</td>\n",
       "      <td>1200</td>\n",
       "      <td>75</td>\n",
       "      <td>108000</td>\n",
       "      <td>Had Changed</td>\n",
       "      <td>Had Painted</td>\n",
       "      <td>90000</td>\n",
       "    </tr>\n",
       "    <tr>\n",
       "      <th>2</th>\n",
       "      <td>Ford</td>\n",
       "      <td>Focus</td>\n",
       "      <td>9</td>\n",
       "      <td>Dizel</td>\n",
       "      <td>Manuel</td>\n",
       "      <td>1600</td>\n",
       "      <td>110</td>\n",
       "      <td>98420</td>\n",
       "      <td>Not Changed</td>\n",
       "      <td>Not Painted</td>\n",
       "      <td>130500</td>\n",
       "    </tr>\n",
       "    <tr>\n",
       "      <th>3</th>\n",
       "      <td>Toyota</td>\n",
       "      <td>Corolla</td>\n",
       "      <td>3</td>\n",
       "      <td>Benzin</td>\n",
       "      <td>Manuel</td>\n",
       "      <td>1300</td>\n",
       "      <td>99</td>\n",
       "      <td>78000</td>\n",
       "      <td>Not Changed</td>\n",
       "      <td>Had Painted</td>\n",
       "      <td>154000</td>\n",
       "    </tr>\n",
       "    <tr>\n",
       "      <th>4</th>\n",
       "      <td>Opel</td>\n",
       "      <td>Corsa</td>\n",
       "      <td>10</td>\n",
       "      <td>Dizel</td>\n",
       "      <td>Manuel</td>\n",
       "      <td>1200</td>\n",
       "      <td>75</td>\n",
       "      <td>125000</td>\n",
       "      <td>Not Changed</td>\n",
       "      <td>Had Painted</td>\n",
       "      <td>100000</td>\n",
       "    </tr>\n",
       "    <tr>\n",
       "      <th>...</th>\n",
       "      <td>...</td>\n",
       "      <td>...</td>\n",
       "      <td>...</td>\n",
       "      <td>...</td>\n",
       "      <td>...</td>\n",
       "      <td>...</td>\n",
       "      <td>...</td>\n",
       "      <td>...</td>\n",
       "      <td>...</td>\n",
       "      <td>...</td>\n",
       "      <td>...</td>\n",
       "    </tr>\n",
       "    <tr>\n",
       "      <th>2035</th>\n",
       "      <td>Hyundai</td>\n",
       "      <td>Accent</td>\n",
       "      <td>5</td>\n",
       "      <td>Dizel</td>\n",
       "      <td>Otomatik</td>\n",
       "      <td>1600</td>\n",
       "      <td>75</td>\n",
       "      <td>27550</td>\n",
       "      <td>Not Changed</td>\n",
       "      <td>Not Painted</td>\n",
       "      <td>145750</td>\n",
       "    </tr>\n",
       "    <tr>\n",
       "      <th>2036</th>\n",
       "      <td>Renault</td>\n",
       "      <td>Clio</td>\n",
       "      <td>1</td>\n",
       "      <td>Dizel</td>\n",
       "      <td>Manuel</td>\n",
       "      <td>1500</td>\n",
       "      <td>122</td>\n",
       "      <td>17000</td>\n",
       "      <td>Not Changed</td>\n",
       "      <td>Had Painted</td>\n",
       "      <td>271500</td>\n",
       "    </tr>\n",
       "    <tr>\n",
       "      <th>2037</th>\n",
       "      <td>Dacia</td>\n",
       "      <td>Sandero</td>\n",
       "      <td>1</td>\n",
       "      <td>Dizel</td>\n",
       "      <td>Manuel</td>\n",
       "      <td>1500</td>\n",
       "      <td>120</td>\n",
       "      <td>81500</td>\n",
       "      <td>Not Changed</td>\n",
       "      <td>Not Painted</td>\n",
       "      <td>186500</td>\n",
       "    </tr>\n",
       "    <tr>\n",
       "      <th>2038</th>\n",
       "      <td>Toyota</td>\n",
       "      <td>Corolla</td>\n",
       "      <td>0</td>\n",
       "      <td>Benzin</td>\n",
       "      <td>Otomatik</td>\n",
       "      <td>1800</td>\n",
       "      <td>112</td>\n",
       "      <td>15285</td>\n",
       "      <td>Not Changed</td>\n",
       "      <td>Not Painted</td>\n",
       "      <td>145900</td>\n",
       "    </tr>\n",
       "    <tr>\n",
       "      <th>2039</th>\n",
       "      <td>Ford</td>\n",
       "      <td>Focus</td>\n",
       "      <td>3</td>\n",
       "      <td>Dizel</td>\n",
       "      <td>Otomatik</td>\n",
       "      <td>1500</td>\n",
       "      <td>120</td>\n",
       "      <td>90536</td>\n",
       "      <td>Had Changed</td>\n",
       "      <td>Not Painted</td>\n",
       "      <td>184500</td>\n",
       "    </tr>\n",
       "  </tbody>\n",
       "</table>\n",
       "<p>2040 rows × 11 columns</p>\n",
       "</div>"
      ],
      "text/plain": [
       "        brand    model  age fuel_type gear_type  engine_capacity  \\\n",
       "0     Renault  Fluence    8     Dizel  Otomatik             1500   \n",
       "1        Opel    Corsa    8     Dizel    Manuel             1200   \n",
       "2        Ford    Focus    9     Dizel    Manuel             1600   \n",
       "3      Toyota  Corolla    3    Benzin    Manuel             1300   \n",
       "4        Opel    Corsa   10     Dizel    Manuel             1200   \n",
       "...       ...      ...  ...       ...       ...              ...   \n",
       "2035  Hyundai   Accent    5     Dizel  Otomatik             1600   \n",
       "2036  Renault     Clio    1     Dizel    Manuel             1500   \n",
       "2037    Dacia  Sandero    1     Dizel    Manuel             1500   \n",
       "2038   Toyota  Corolla    0    Benzin  Otomatik             1800   \n",
       "2039     Ford    Focus    3     Dizel  Otomatik             1500   \n",
       "\n",
       "      engine_power      km changed_parts painted_parts   price  \n",
       "0              110  217000   Not Changed   Had Painted  128000  \n",
       "1               75  108000   Had Changed   Had Painted   90000  \n",
       "2              110   98420   Not Changed   Not Painted  130500  \n",
       "3               99   78000   Not Changed   Had Painted  154000  \n",
       "4               75  125000   Not Changed   Had Painted  100000  \n",
       "...            ...     ...           ...           ...     ...  \n",
       "2035            75   27550   Not Changed   Not Painted  145750  \n",
       "2036           122   17000   Not Changed   Had Painted  271500  \n",
       "2037           120   81500   Not Changed   Not Painted  186500  \n",
       "2038           112   15285   Not Changed   Not Painted  145900  \n",
       "2039           120   90536   Had Changed   Not Painted  184500  \n",
       "\n",
       "[2040 rows x 11 columns]"
      ]
     },
     "execution_count": 151,
     "metadata": {},
     "output_type": "execute_result"
    }
   ],
   "source": [
    "df_changed_painted_parts"
   ]
  },
  {
   "cell_type": "code",
   "execution_count": 152,
   "metadata": {},
   "outputs": [],
   "source": [
    "top_model_list = ['Astra', 'Focus', 'Clio', 'Corolla', 'Fluence']\n",
    "for i,row in enumerate(df_changed_painted_parts.itertuples()):\n",
    "    if df_changed_painted_parts.loc[i, 'model'] in top_model_list:\n",
    "        df_changed_painted_parts.loc[i, 'top_model'] = True\n",
    "    else:\n",
    "        df_changed_painted_parts.loc[i, 'top_model'] = False\n",
    "\n",
    "df_top_modified_model = df_changed_painted_parts.query('top_model==True')\n"
   ]
  },
  {
   "cell_type": "code",
   "execution_count": 153,
   "metadata": {},
   "outputs": [
    {
     "data": {
      "image/png": "[encoded data removed]",
      "text/plain": [
       "<Figure size 1296x360 with 2 Axes>"
      ]
     },
     "metadata": {},
     "output_type": "display_data"
    },
    {
     "name": "stdout",
     "output_type": "stream",
     "text": [
      "========================= All Model =========================\n"
     ]
    },
    {
     "data": {
      "image/png": "[encoded data removed]",
      "text/plain": [
       "<Figure size 1296x288 with 2 Axes>"
      ]
     },
     "metadata": {},
     "output_type": "display_data"
    }
   ],
   "source": [
    "iqr_price = df_top_modified_model['price'].quantile(0.75) - df_top_modified_model['price'].quantile(0.25)\n",
    "df_top_modified_outliers = df_top_modified_model['price'].quantile(0.75) + iqr_price*1.5\n",
    "plt.figure(figsize=(18,5))\n",
    "plt.subplot(1, 3, 1)\n",
    "sns.boxplot(x='changed_parts', y='price', data=df_top_modified_model, showfliers=False, hue='painted_parts', hue_order=['Not Painted', 'Had Painted'], palette=colors2)\n",
    "plt.title('Top Model')\n",
    "plt.subplot(1, 3, 2)\n",
    "sns.violinplot(x='changed_parts', y='price', data=df_top_modified_model[(df_top_modified_model['price']<=df_top_modified_outliers)], hue='painted_parts', hue_order=['Not Painted', 'Had Painted'], palette=colors2)\n",
    "# sns.histplot(x='price', hue='changed_parts', data=df_top_modified_model[(df_top_modified_model['price']<=df_top_modified_outliers)])\n",
    "plt.show()\n",
    "print('='*25,'All Model','='*25)\n",
    "plt.figure(figsize=(18,4))\n",
    "plt.subplot(1, 2, 1)\n",
    "sns.boxplot(x='changed_parts', y='price', data=df_changed_painted_parts, showfliers=False, hue='painted_parts', hue_order=['Not Painted', 'Had Painted'], palette=colors2)\n",
    "\n",
    "plt.subplot(1, 2, 2)\n",
    "sns.violinplot(x='changed_parts', y='price', data=df_changed_painted_parts[(df_changed_painted_parts['price']<=df_changed_parts_outliers)], hue='painted_parts', hue_order=['Not Painted', 'Had Painted'], palette=colors2)\n",
    "plt.show()"
   ]
  },
  {
   "cell_type": "markdown",
   "metadata": {},
   "source": [
    "- Dari hasil visual yang ditampilkan, terlihat untuk mobil top modified model, memiliki pola penentuan harga yang sama jika dibandingkan dengan pola penentuan harga pada keseluruhan model mobil"
   ]
  },
  {
   "cell_type": "code",
   "execution_count": 154,
   "metadata": {},
   "outputs": [
    {
     "data": {
      "text/html": [
       "<style  type=\"text/css\" >\n",
       "#T_c4d45_row0_col0{\n",
       "            width:  10em;\n",
       "             height:  80%;\n",
       "            background:  linear-gradient(90deg,#d65f5f 94.8%, transparent 94.8%);\n",
       "        }#T_c4d45_row1_col0{\n",
       "            width:  10em;\n",
       "             height:  80%;\n",
       "            background:  linear-gradient(90deg,#d65f5f 91.7%, transparent 91.7%);\n",
       "        }#T_c4d45_row2_col0{\n",
       "            width:  10em;\n",
       "             height:  80%;\n",
       "            background:  linear-gradient(90deg,#d65f5f 92.0%, transparent 92.0%);\n",
       "        }#T_c4d45_row3_col0{\n",
       "            width:  10em;\n",
       "             height:  80%;\n",
       "            background:  linear-gradient(90deg,#d65f5f 100.0%, transparent 100.0%);\n",
       "        }</style><table id=\"T_c4d45_\" ><thead>    <tr>        <th class=\"blank\" ></th>        <th class=\"blank level0\" ></th>        <th class=\"col_heading level0 col0\" >price</th>    </tr>    <tr>        <th class=\"index_name level0\" >changed_parts</th>        <th class=\"index_name level1\" >painted_parts</th>        <th class=\"blank\" ></th>    </tr></thead><tbody>\n",
       "                <tr>\n",
       "                        <th id=\"T_c4d45_level0_row0\" class=\"row_heading level0 row0\" rowspan=\"2\">Had Changed</th>\n",
       "                        <th id=\"T_c4d45_level1_row0\" class=\"row_heading level1 row0\" >Had Painted</th>\n",
       "                        <td id=\"T_c4d45_row0_col0\" class=\"data row0 col0\" >154,114.18 Lira</td>\n",
       "            </tr>\n",
       "            <tr>\n",
       "                                <th id=\"T_c4d45_level1_row1\" class=\"row_heading level1 row1\" >Not Painted</th>\n",
       "                        <td id=\"T_c4d45_row1_col0\" class=\"data row1 col0\" >149,080.77 Lira</td>\n",
       "            </tr>\n",
       "            <tr>\n",
       "                        <th id=\"T_c4d45_level0_row2\" class=\"row_heading level0 row2\" rowspan=\"2\">Not Changed</th>\n",
       "                        <th id=\"T_c4d45_level1_row2\" class=\"row_heading level1 row2\" >Had Painted</th>\n",
       "                        <td id=\"T_c4d45_row2_col0\" class=\"data row2 col0\" >149,440.08 Lira</td>\n",
       "            </tr>\n",
       "            <tr>\n",
       "                                <th id=\"T_c4d45_level1_row3\" class=\"row_heading level1 row3\" >Not Painted</th>\n",
       "                        <td id=\"T_c4d45_row3_col0\" class=\"data row3 col0\" >162,499.02 Lira</td>\n",
       "            </tr>\n",
       "    </tbody></table>"
      ],
      "text/plain": [
       "<pandas.io.formats.style.Styler at 0x7ff3d16137f0>"
      ]
     },
     "execution_count": 154,
     "metadata": {},
     "output_type": "execute_result"
    }
   ],
   "source": [
    "top_modified_parts_pivot = df_top_modified_model.pivot_table(index=['changed_parts', 'painted_parts'], values='price', aggfunc='mean')\n",
    "top_modified_parts_pivot.style.format({'price':'{0:,.2f} Lira'}).bar(color='#d65f5f', align='mid')"
   ]
  },
  {
   "cell_type": "markdown",
   "metadata": {},
   "source": [
    "- Begitupun juga dengan harga rata-rata yang dipatok oleh para penjual mobil ini, pola hampir mirip meskipun terdapat perbedaan dimana justru pada segmen mobil ini, mobil yang telah dicat dan dimodifikasi(diganti part dan telah dicat) memiliki harga rata-rata yang justru lebih tinggi dibandingkan dengan yang belum diganti partn=ya ataupun sudah diganti namun belum di cat mobilnya"
   ]
  },
  {
   "cell_type": "code",
   "execution_count": 155,
   "metadata": {},
   "outputs": [
    {
     "data": {
      "text/html": [
       "<style  type=\"text/css\" >\n",
       "#T_77c84_row0_col0{\n",
       "            width:  10em;\n",
       "             height:  80%;\n",
       "            background:  linear-gradient(90deg,#d65f5f 89.5%, transparent 89.5%);\n",
       "        }#T_77c84_row1_col0{\n",
       "            width:  10em;\n",
       "             height:  80%;\n",
       "            background:  linear-gradient(90deg,#d65f5f 93.0%, transparent 93.0%);\n",
       "        }#T_77c84_row2_col0{\n",
       "            width:  10em;\n",
       "             height:  80%;\n",
       "            background:  linear-gradient(90deg,#d65f5f 92.6%, transparent 92.6%);\n",
       "        }#T_77c84_row3_col0{\n",
       "            width:  10em;\n",
       "             height:  80%;\n",
       "            background:  linear-gradient(90deg,#d65f5f 100.0%, transparent 100.0%);\n",
       "        }</style><table id=\"T_77c84_\" ><thead>    <tr>        <th class=\"blank\" ></th>        <th class=\"blank level0\" ></th>        <th class=\"col_heading level0 col0\" >price</th>    </tr>    <tr>        <th class=\"index_name level0\" >changed_parts</th>        <th class=\"index_name level1\" >painted_parts</th>        <th class=\"blank\" ></th>    </tr></thead><tbody>\n",
       "                <tr>\n",
       "                        <th id=\"T_77c84_level0_row0\" class=\"row_heading level0 row0\" rowspan=\"2\">Had Changed</th>\n",
       "                        <th id=\"T_77c84_level1_row0\" class=\"row_heading level1 row0\" >Had Painted</th>\n",
       "                        <td id=\"T_77c84_row0_col0\" class=\"data row0 col0\" >151,557.36 Lira</td>\n",
       "            </tr>\n",
       "            <tr>\n",
       "                                <th id=\"T_77c84_level1_row1\" class=\"row_heading level1 row1\" >Not Painted</th>\n",
       "                        <td id=\"T_77c84_row1_col0\" class=\"data row1 col0\" >157,416.47 Lira</td>\n",
       "            </tr>\n",
       "            <tr>\n",
       "                        <th id=\"T_77c84_level0_row2\" class=\"row_heading level0 row2\" rowspan=\"2\">Not Changed</th>\n",
       "                        <th id=\"T_77c84_level1_row2\" class=\"row_heading level1 row2\" >Had Painted</th>\n",
       "                        <td id=\"T_77c84_row2_col0\" class=\"data row2 col0\" >156,679.29 Lira</td>\n",
       "            </tr>\n",
       "            <tr>\n",
       "                                <th id=\"T_77c84_level1_row3\" class=\"row_heading level1 row3\" >Not Painted</th>\n",
       "                        <td id=\"T_77c84_row3_col0\" class=\"data row3 col0\" >169,252.29 Lira</td>\n",
       "            </tr>\n",
       "    </tbody></table>"
      ],
      "text/plain": [
       "<pandas.io.formats.style.Styler at 0x7ff3d14be430>"
      ]
     },
     "execution_count": 155,
     "metadata": {},
     "output_type": "execute_result"
    }
   ],
   "source": [
    "modified_parts_pivot = df_changed_painted_parts.pivot_table(index=['changed_parts', 'painted_parts'], values='price', aggfunc='mean')\n",
    "modified_parts_pivot.style.format({'price':'{0:,.2f} Lira'}).bar(color='#d65f5f', align='mid')"
   ]
  },
  {
   "cell_type": "markdown",
   "metadata": {},
   "source": [
    "- Dengan hasil yang kita dapatkan ini, kita akan menarik sebuah asumsi dimana, `mobil yang telah dimodifikasi baik yang telah diganti part-nya ataupun yang telah di cat cenderung akan memberikan harga yang lebih rendah jika dibandingkan dengan tidak pernah dimodifikasi sama sekali`"
   ]
  },
  {
   "cell_type": "markdown",
   "metadata": {},
   "source": [
    "#### 4.4.7. Let's Prepare Some Data For Specific Requirements"
   ]
  },
  {
   "cell_type": "code",
   "execution_count": 156,
   "metadata": {},
   "outputs": [
    {
     "data": {
      "text/html": [
       "<div>\n",
       "<style scoped>\n",
       "    .dataframe tbody tr th:only-of-type {\n",
       "        vertical-align: middle;\n",
       "    }\n",
       "\n",
       "    .dataframe tbody tr th {\n",
       "        vertical-align: top;\n",
       "    }\n",
       "\n",
       "    .dataframe thead th {\n",
       "        text-align: right;\n",
       "    }\n",
       "</style>\n",
       "<table border=\"1\" class=\"dataframe\">\n",
       "  <thead>\n",
       "    <tr style=\"text-align: right;\">\n",
       "      <th></th>\n",
       "      <th>brand</th>\n",
       "      <th>model</th>\n",
       "      <th>age</th>\n",
       "      <th>fuel_type</th>\n",
       "      <th>gear_type</th>\n",
       "      <th>engine_capacity</th>\n",
       "      <th>engine_power</th>\n",
       "      <th>km</th>\n",
       "      <th>changed_parts</th>\n",
       "      <th>painted_parts</th>\n",
       "      <th>price</th>\n",
       "    </tr>\n",
       "  </thead>\n",
       "  <tbody>\n",
       "  </tbody>\n",
       "</table>\n",
       "</div>"
      ],
      "text/plain": [
       "Empty DataFrame\n",
       "Columns: [brand, model, age, fuel_type, gear_type, engine_capacity, engine_power, km, changed_parts, painted_parts, price]\n",
       "Index: []"
      ]
     },
     "execution_count": 156,
     "metadata": {},
     "output_type": "execute_result"
    }
   ],
   "source": [
    "df_testing = df.query('model==\"Astra\" and engine_capacity==1600 and engine_power==115 and fuel_type==\"Gasoline\"').head(1)\n",
    "df_testing"
   ]
  },
  {
   "cell_type": "markdown",
   "metadata": {},
   "source": [
    "## **5. Data Preprocessing**"
   ]
  },
  {
   "cell_type": "markdown",
   "metadata": {},
   "source": [
    "### 5.1 Renaming Value"
   ]
  },
  {
   "cell_type": "markdown",
   "metadata": {},
   "source": [
    "- Untuk memudahkan penggunaan istilah, maka penamaan yang awalnya menggunakan basis nama dari negara asalnya yaitu turki, akan diubah ke dalam bentuk bahasa inggris"
   ]
  },
  {
   "cell_type": "code",
   "execution_count": 157,
   "metadata": {},
   "outputs": [],
   "source": [
    "df['fuel_type'] = df['fuel_type'].replace({'Dizel': 'Diesel', 'Benzin': 'Gasoline'})\n",
    "df['gear_type'] = df['gear_type'].replace({'Manuel': 'Manual', 'Otomatik': 'Automatic'})"
   ]
  },
  {
   "cell_type": "code",
   "execution_count": 158,
   "metadata": {},
   "outputs": [],
   "source": [
    "# df['changed_parts'] = np.where(df['changed_parts'] >0, 'Had Changed', 'Not Changed')\n",
    "# df['painted_parts'] = np.where(df['painted_parts'] >0, 'Had Painted', 'Not Painted')"
   ]
  },
  {
   "cell_type": "code",
   "execution_count": 159,
   "metadata": {},
   "outputs": [
    {
     "data": {
      "text/html": [
       "<div>\n",
       "<style scoped>\n",
       "    .dataframe tbody tr th:only-of-type {\n",
       "        vertical-align: middle;\n",
       "    }\n",
       "\n",
       "    .dataframe tbody tr th {\n",
       "        vertical-align: top;\n",
       "    }\n",
       "\n",
       "    .dataframe thead th {\n",
       "        text-align: right;\n",
       "    }\n",
       "</style>\n",
       "<table border=\"1\" class=\"dataframe\">\n",
       "  <thead>\n",
       "    <tr style=\"text-align: right;\">\n",
       "      <th></th>\n",
       "      <th>brand</th>\n",
       "      <th>model</th>\n",
       "      <th>age</th>\n",
       "      <th>fuel_type</th>\n",
       "      <th>gear_type</th>\n",
       "      <th>engine_capacity</th>\n",
       "      <th>engine_power</th>\n",
       "      <th>km</th>\n",
       "      <th>changed_parts</th>\n",
       "      <th>painted_parts</th>\n",
       "      <th>price</th>\n",
       "    </tr>\n",
       "  </thead>\n",
       "  <tbody>\n",
       "    <tr>\n",
       "      <th>0</th>\n",
       "      <td>Renault</td>\n",
       "      <td>Fluence</td>\n",
       "      <td>8</td>\n",
       "      <td>Diesel</td>\n",
       "      <td>Automatic</td>\n",
       "      <td>1500</td>\n",
       "      <td>110</td>\n",
       "      <td>217000</td>\n",
       "      <td>0</td>\n",
       "      <td>4</td>\n",
       "      <td>128000</td>\n",
       "    </tr>\n",
       "    <tr>\n",
       "      <th>1</th>\n",
       "      <td>Opel</td>\n",
       "      <td>Corsa</td>\n",
       "      <td>8</td>\n",
       "      <td>Diesel</td>\n",
       "      <td>Manual</td>\n",
       "      <td>1200</td>\n",
       "      <td>75</td>\n",
       "      <td>108000</td>\n",
       "      <td>2</td>\n",
       "      <td>2</td>\n",
       "      <td>90000</td>\n",
       "    </tr>\n",
       "    <tr>\n",
       "      <th>2</th>\n",
       "      <td>Mercedes</td>\n",
       "      <td>E</td>\n",
       "      <td>8</td>\n",
       "      <td>Diesel</td>\n",
       "      <td>Automatic</td>\n",
       "      <td>3000</td>\n",
       "      <td>265</td>\n",
       "      <td>155000</td>\n",
       "      <td>1</td>\n",
       "      <td>1</td>\n",
       "      <td>450000</td>\n",
       "    </tr>\n",
       "    <tr>\n",
       "      <th>3</th>\n",
       "      <td>Ford</td>\n",
       "      <td>Focus</td>\n",
       "      <td>9</td>\n",
       "      <td>Diesel</td>\n",
       "      <td>Manual</td>\n",
       "      <td>1600</td>\n",
       "      <td>110</td>\n",
       "      <td>98420</td>\n",
       "      <td>0</td>\n",
       "      <td>0</td>\n",
       "      <td>130500</td>\n",
       "    </tr>\n",
       "    <tr>\n",
       "      <th>4</th>\n",
       "      <td>Toyota</td>\n",
       "      <td>Corolla</td>\n",
       "      <td>3</td>\n",
       "      <td>Gasoline</td>\n",
       "      <td>Manual</td>\n",
       "      <td>1300</td>\n",
       "      <td>99</td>\n",
       "      <td>78000</td>\n",
       "      <td>0</td>\n",
       "      <td>1</td>\n",
       "      <td>154000</td>\n",
       "    </tr>\n",
       "  </tbody>\n",
       "</table>\n",
       "</div>"
      ],
      "text/plain": [
       "      brand    model  age fuel_type  gear_type  engine_capacity  engine_power  \\\n",
       "0   Renault  Fluence    8    Diesel  Automatic             1500           110   \n",
       "1      Opel    Corsa    8    Diesel     Manual             1200            75   \n",
       "2  Mercedes        E    8    Diesel  Automatic             3000           265   \n",
       "3      Ford    Focus    9    Diesel     Manual             1600           110   \n",
       "4    Toyota  Corolla    3  Gasoline     Manual             1300            99   \n",
       "\n",
       "       km  changed_parts  painted_parts   price  \n",
       "0  217000              0              4  128000  \n",
       "1  108000              2              2   90000  \n",
       "2  155000              1              1  450000  \n",
       "3   98420              0              0  130500  \n",
       "4   78000              0              1  154000  "
      ]
     },
     "execution_count": 159,
     "metadata": {},
     "output_type": "execute_result"
    }
   ],
   "source": [
    "df.head()"
   ]
  },
  {
   "cell_type": "markdown",
   "metadata": {},
   "source": [
    "### 5.2. Set Data Inference"
   ]
  },
  {
   "cell_type": "markdown",
   "metadata": {},
   "source": [
    "- Kita akan mengambil sampel secara acak dari dataset utama, yang nantinya akan dijadikan sebagai dataset `inference` atau dataset asing. Hal ini berguna agar pada tahap pengujian `inference` kita dapat mengetahui apakah model juga sudah cukup baik menentukan apakah nasabah akan berlangganan `deposito berjangka` dengan nilai parameter/variabel yang belum pernah `dikenal` sebelumnya."
   ]
  },
  {
   "cell_type": "code",
   "execution_count": 160,
   "metadata": {},
   "outputs": [],
   "source": [
    "df_inf = df.sample(10, random_state=40)"
   ]
  },
  {
   "cell_type": "code",
   "execution_count": 161,
   "metadata": {},
   "outputs": [],
   "source": [
    "df = df.drop(df_inf.index)"
   ]
  },
  {
   "cell_type": "code",
   "execution_count": 162,
   "metadata": {},
   "outputs": [],
   "source": [
    "# reset index\n",
    "\n",
    "df.reset_index(drop=True, inplace=True)\n",
    "df_inf.reset_index(drop=True, inplace=True)"
   ]
  },
  {
   "cell_type": "markdown",
   "metadata": {},
   "source": [
    "### 5.3 Split Dataset"
   ]
  },
  {
   "cell_type": "code",
   "execution_count": 163,
   "metadata": {},
   "outputs": [],
   "source": [
    "X = df.drop('price', axis=1)\n",
    "y = df['price']"
   ]
  },
  {
   "cell_type": "markdown",
   "metadata": {},
   "source": [
    "#### 5.3.1 Split into Data Train and Dataset"
   ]
  },
  {
   "cell_type": "code",
   "execution_count": 164,
   "metadata": {},
   "outputs": [],
   "source": [
    "# Splitting Dataset\n",
    "from sklearn.model_selection import train_test_split\n",
    "\n",
    "X_train, X_test, y_train, y_test = train_test_split(X, y, test_size=0.20, random_state=80)"
   ]
  },
  {
   "cell_type": "markdown",
   "metadata": {},
   "source": [
    "#### 5.3.2 Checking Data and Column Distributions"
   ]
  },
  {
   "cell_type": "code",
   "execution_count": 165,
   "metadata": {},
   "outputs": [],
   "source": [
    "preprocess_handling = pd.DataFrame({'columns':X_train.describe().columns, 'skew' : X_train.skew(axis=0)})\n",
    "preprocess_handling.reset_index(drop=True, inplace=True)\n",
    "\n",
    "preprocess_handling['status'] = np.where(preprocess_handling['skew'].abs()>0.5, 'Skewed', 'Normal')"
   ]
  },
  {
   "cell_type": "code",
   "execution_count": 166,
   "metadata": {},
   "outputs": [
    {
     "data": {
      "text/html": [
       "<div>\n",
       "<style scoped>\n",
       "    .dataframe tbody tr th:only-of-type {\n",
       "        vertical-align: middle;\n",
       "    }\n",
       "\n",
       "    .dataframe tbody tr th {\n",
       "        vertical-align: top;\n",
       "    }\n",
       "\n",
       "    .dataframe thead th {\n",
       "        text-align: right;\n",
       "    }\n",
       "</style>\n",
       "<table border=\"1\" class=\"dataframe\">\n",
       "  <thead>\n",
       "    <tr style=\"text-align: right;\">\n",
       "      <th></th>\n",
       "      <th>columns</th>\n",
       "      <th>skew</th>\n",
       "      <th>status</th>\n",
       "    </tr>\n",
       "  </thead>\n",
       "  <tbody>\n",
       "    <tr>\n",
       "      <th>0</th>\n",
       "      <td>age</td>\n",
       "      <td>1.496360</td>\n",
       "      <td>Skewed</td>\n",
       "    </tr>\n",
       "    <tr>\n",
       "      <th>1</th>\n",
       "      <td>engine_capacity</td>\n",
       "      <td>4.796550</td>\n",
       "      <td>Skewed</td>\n",
       "    </tr>\n",
       "    <tr>\n",
       "      <th>2</th>\n",
       "      <td>engine_power</td>\n",
       "      <td>3.293209</td>\n",
       "      <td>Skewed</td>\n",
       "    </tr>\n",
       "    <tr>\n",
       "      <th>3</th>\n",
       "      <td>km</td>\n",
       "      <td>0.749897</td>\n",
       "      <td>Skewed</td>\n",
       "    </tr>\n",
       "    <tr>\n",
       "      <th>4</th>\n",
       "      <td>changed_parts</td>\n",
       "      <td>2.926438</td>\n",
       "      <td>Skewed</td>\n",
       "    </tr>\n",
       "    <tr>\n",
       "      <th>5</th>\n",
       "      <td>painted_parts</td>\n",
       "      <td>2.254903</td>\n",
       "      <td>Skewed</td>\n",
       "    </tr>\n",
       "  </tbody>\n",
       "</table>\n",
       "</div>"
      ],
      "text/plain": [
       "           columns      skew  status\n",
       "0              age  1.496360  Skewed\n",
       "1  engine_capacity  4.796550  Skewed\n",
       "2     engine_power  3.293209  Skewed\n",
       "3               km  0.749897  Skewed\n",
       "4    changed_parts  2.926438  Skewed\n",
       "5    painted_parts  2.254903  Skewed"
      ]
     },
     "execution_count": 166,
     "metadata": {},
     "output_type": "execute_result"
    }
   ],
   "source": [
    "preprocess_handling"
   ]
  },
  {
   "cell_type": "markdown",
   "metadata": {},
   "source": [
    "- Pendistribusian data tiap kolom fitur akan digunakan sebagai acuan saat memperlakukan kolom dalam tahap `handling outlier`"
   ]
  },
  {
   "cell_type": "code",
   "execution_count": 167,
   "metadata": {},
   "outputs": [
    {
     "data": {
      "text/html": [
       "<div>\n",
       "<style scoped>\n",
       "    .dataframe tbody tr th:only-of-type {\n",
       "        vertical-align: middle;\n",
       "    }\n",
       "\n",
       "    .dataframe tbody tr th {\n",
       "        vertical-align: top;\n",
       "    }\n",
       "\n",
       "    .dataframe thead th {\n",
       "        text-align: right;\n",
       "    }\n",
       "</style>\n",
       "<table border=\"1\" class=\"dataframe\">\n",
       "  <thead>\n",
       "    <tr style=\"text-align: right;\">\n",
       "      <th></th>\n",
       "      <th>age</th>\n",
       "      <th>engine_capacity</th>\n",
       "      <th>engine_power</th>\n",
       "      <th>km</th>\n",
       "      <th>changed_parts</th>\n",
       "      <th>painted_parts</th>\n",
       "    </tr>\n",
       "  </thead>\n",
       "  <tbody>\n",
       "    <tr>\n",
       "      <th>count</th>\n",
       "      <td>1843.000000</td>\n",
       "      <td>1843.000000</td>\n",
       "      <td>1843.000000</td>\n",
       "      <td>1843.000000</td>\n",
       "      <td>1843.000000</td>\n",
       "      <td>1843.000000</td>\n",
       "    </tr>\n",
       "    <tr>\n",
       "      <th>mean</th>\n",
       "      <td>7.004341</td>\n",
       "      <td>1489.690722</td>\n",
       "      <td>110.504612</td>\n",
       "      <td>119028.936517</td>\n",
       "      <td>0.308193</td>\n",
       "      <td>1.105263</td>\n",
       "    </tr>\n",
       "    <tr>\n",
       "      <th>std</th>\n",
       "      <td>6.060497</td>\n",
       "      <td>293.897509</td>\n",
       "      <td>34.247223</td>\n",
       "      <td>82531.354334</td>\n",
       "      <td>0.740831</td>\n",
       "      <td>1.953251</td>\n",
       "    </tr>\n",
       "    <tr>\n",
       "      <th>min</th>\n",
       "      <td>0.000000</td>\n",
       "      <td>900.000000</td>\n",
       "      <td>57.000000</td>\n",
       "      <td>0.000000</td>\n",
       "      <td>0.000000</td>\n",
       "      <td>0.000000</td>\n",
       "    </tr>\n",
       "    <tr>\n",
       "      <th>25%</th>\n",
       "      <td>3.000000</td>\n",
       "      <td>1400.000000</td>\n",
       "      <td>90.000000</td>\n",
       "      <td>55379.000000</td>\n",
       "      <td>0.000000</td>\n",
       "      <td>0.000000</td>\n",
       "    </tr>\n",
       "    <tr>\n",
       "      <th>50%</th>\n",
       "      <td>5.000000</td>\n",
       "      <td>1500.000000</td>\n",
       "      <td>107.000000</td>\n",
       "      <td>104302.000000</td>\n",
       "      <td>0.000000</td>\n",
       "      <td>0.000000</td>\n",
       "    </tr>\n",
       "    <tr>\n",
       "      <th>75%</th>\n",
       "      <td>9.000000</td>\n",
       "      <td>1600.000000</td>\n",
       "      <td>120.000000</td>\n",
       "      <td>170000.000000</td>\n",
       "      <td>0.000000</td>\n",
       "      <td>2.000000</td>\n",
       "    </tr>\n",
       "    <tr>\n",
       "      <th>max</th>\n",
       "      <td>46.000000</td>\n",
       "      <td>5500.000000</td>\n",
       "      <td>463.000000</td>\n",
       "      <td>420000.000000</td>\n",
       "      <td>6.000000</td>\n",
       "      <td>11.000000</td>\n",
       "    </tr>\n",
       "  </tbody>\n",
       "</table>\n",
       "</div>"
      ],
      "text/plain": [
       "               age  engine_capacity  engine_power             km  \\\n",
       "count  1843.000000      1843.000000   1843.000000    1843.000000   \n",
       "mean      7.004341      1489.690722    110.504612  119028.936517   \n",
       "std       6.060497       293.897509     34.247223   82531.354334   \n",
       "min       0.000000       900.000000     57.000000       0.000000   \n",
       "25%       3.000000      1400.000000     90.000000   55379.000000   \n",
       "50%       5.000000      1500.000000    107.000000  104302.000000   \n",
       "75%       9.000000      1600.000000    120.000000  170000.000000   \n",
       "max      46.000000      5500.000000    463.000000  420000.000000   \n",
       "\n",
       "       changed_parts  painted_parts  \n",
       "count    1843.000000    1843.000000  \n",
       "mean        0.308193       1.105263  \n",
       "std         0.740831       1.953251  \n",
       "min         0.000000       0.000000  \n",
       "25%         0.000000       0.000000  \n",
       "50%         0.000000       0.000000  \n",
       "75%         0.000000       2.000000  \n",
       "max         6.000000      11.000000  "
      ]
     },
     "execution_count": 167,
     "metadata": {},
     "output_type": "execute_result"
    }
   ],
   "source": [
    "X_train.describe()"
   ]
  },
  {
   "cell_type": "code",
   "execution_count": 168,
   "metadata": {},
   "outputs": [
    {
     "name": "stdout",
     "output_type": "stream",
     "text": [
      "Numeric Columns:  ['age', 'engine_capacity', 'engine_power', 'km', 'changed_parts', 'painted_parts']\n",
      "==================================================\n",
      "Categorical Columns:  ['brand', 'model', 'fuel_type', 'gear_type']\n"
     ]
    }
   ],
   "source": [
    "num_columns = X_train.select_dtypes(include=np.number).columns.tolist()\n",
    "cat_columns = X_train.select_dtypes(include=['object']).columns.tolist()\n",
    "\n",
    "print('Numeric Columns: ', num_columns)\n",
    "print('='*50)\n",
    "print('Categorical Columns: ', cat_columns)"
   ]
  },
  {
   "cell_type": "markdown",
   "metadata": {},
   "source": [
    "### 5.4 Handling Outliers"
   ]
  },
  {
   "cell_type": "markdown",
   "metadata": {},
   "source": [
    "- Fungsi untuk menangani baik kolom yang terdistribusi `normal` dan juga kolom yang terdistribusi `skewed`"
   ]
  },
  {
   "cell_type": "code",
   "execution_count": 169,
   "metadata": {},
   "outputs": [],
   "source": [
    "# Function to find upper and lower boundaries for normally distributed variables\n",
    "# Calculate the boundaries outside which sit the outliers for a Gaussian distribution\n",
    "\n",
    "def find_normal_boundaries(df, variable):\n",
    "    upper_boundary = df[variable].mean() + 3 * df[variable].std()\n",
    "    lower_boundary = df[variable].mean() - 3 * df[variable].std()\n",
    "\n",
    "    return upper_boundary, lower_boundary\n",
    "    \n",
    "# Since it's skewed, we are using IQR to handle outliers\n",
    "\n",
    "def find_skewed_boundaries(df, variable, distance):\n",
    "    IQR = df[variable].quantile(0.75) - df[variable].quantile(0.25)\n",
    "\n",
    "    lower = df[variable].quantile(0.25) - distance * IQR\n",
    "    upper = df[variable].quantile(0.75) + distance * IQR\n",
    "\n",
    "    return upper, lower"
   ]
  },
  {
   "cell_type": "markdown",
   "metadata": {},
   "source": [
    "- Fungsi untuk menampilkan visual pendistrbusian data tiap-tiap kolom fitur baik sebelum ditangani maupun setelah ditangani `outlier`-nya "
   ]
  },
  {
   "cell_type": "code",
   "execution_count": 170,
   "metadata": {},
   "outputs": [],
   "source": [
    "\n",
    "# Function to create histogram and boxplot for each features\n",
    "\n",
    "def diagnostic_plots(df, df_trim, variable):\n",
    "    #Define figure size\n",
    "    plt.figure(figsize=(16,4))\n",
    "\n",
    "    #Histogram\n",
    "    plt.subplot(1, 3, 1)\n",
    "    sns.histplot(df_trim[variable], bins=30, kde=True, color='#006699')\n",
    "    plt.title(f'Histogram of {variable}')\n",
    "\n",
    "    #Boxplot Before\n",
    "    plt.subplot(1,3, 2)\n",
    "    sns.boxplot(y=df[variable])\n",
    "    plt.title(f'Before Handling in {variable}')\n",
    "\n",
    "    #Boxplot After\n",
    "    plt.subplot(1,3, 3)\n",
    "    sns.boxplot(y=df_trim[variable])\n",
    "    plt.title(f'After Handling in {variable}')\n",
    "\n",
    "    plt.show()"
   ]
  },
  {
   "cell_type": "markdown",
   "metadata": {},
   "source": [
    "#### 5.4.1 Detect Outliers\n",
    "- Sebelum melakukan penanganan pada `outliers`, alangkah baiknya kita check terlebih dahulu apakah kolom tersebut memiliki `outlier` dan seberapa banyak `outlier` tersebut dibandingkan dengan total keseluruhan data yang terdapat pada data `Training`."
   ]
  },
  {
   "cell_type": "code",
   "execution_count": 171,
   "metadata": {},
   "outputs": [
    {
     "name": "stdout",
     "output_type": "stream",
     "text": [
      "Batas lower dan upper untuk age:(-6.0, 18.0)\n",
      "==============================\n",
      "Batas lower dan upper untuk engine_capacity:(1100.0, 1900.0)\n",
      "==============================\n",
      "Batas lower dan upper untuk engine_power:(45.0, 165.0)\n",
      "==============================\n",
      "Batas lower dan upper untuk km:(-116552.5, 341931.5)\n",
      "==============================\n",
      "Batas lower dan upper untuk changed_parts:(0.0, 0.0)\n",
      "==============================\n",
      "Batas lower dan upper untuk painted_parts:(-3.0, 5.0)\n",
      "==============================\n"
     ]
    }
   ],
   "source": [
    "j = 0\n",
    "outliers={}\n",
    "for i in X_train.describe().columns:\n",
    "    if preprocess_handling['status'].loc[(preprocess_handling['columns']==i)].values[0]== 'Normal':\n",
    "        upper_boundary, lower_boundary = find_normal_boundaries(X_train, i)\n",
    "        print(f\"Batas lower dan upper untuk {i}:{lower_boundary, upper_boundary}\")\n",
    "        outliers[f\"outliers{j}\"] = np.where(X_train[i] > upper_boundary, True, np.where(X_train[i] < lower_boundary, True, False))\n",
    "    else:\n",
    "        upper_boundary, lower_boundary = find_skewed_boundaries(X_train, i, 1.5)\n",
    "        print(f\"Batas lower dan upper untuk {i}:{lower_boundary, upper_boundary}\")\n",
    "        outliers[f\"outliers{j}\"] = np.where(X_train[i] > upper_boundary, True, np.where(X_train[i] < lower_boundary, True, False))\n",
    "    print(\"=\"*30)\n",
    "    j+=1"
   ]
  },
  {
   "cell_type": "markdown",
   "metadata": {},
   "source": [
    "- Pada proses handling outlier ini, saya menetapkan sikap bahwa:\n",
    "    - `Trimming`: Jika outlier dibawah 5%\n",
    "    - `Capping`: Jika outlier berada direntang 5-15%\n",
    "    - `Keep`: Jika outlier berada di atas 15%"
   ]
  },
  {
   "cell_type": "markdown",
   "metadata": {},
   "source": [
    "- Khusus pada kolom `changed_parts` terlepas seberapa banyak persentase outlier-nya kita akan tetap membiarkan kolom ini\n",
    "- Hal ini dikarenakan pada kolom ini outlier yang terdeteksi batas atas maupun bawah sama-sama bernilai 0, ini akan sangat berdampak pada data mobil lainnya yang memiliki nilai diatas dari outlier ini sehingga pada pengujian data test nanti, model akan tidak cukup mengenali data mobil yang memiliki nilai selain dari 0"
   ]
  },
  {
   "cell_type": "code",
   "execution_count": 172,
   "metadata": {},
   "outputs": [],
   "source": [
    "for i, (k, v) in enumerate(outliers.items()):\n",
    "    X_train_trimmed_sim = X_train.loc[~outliers[k]]\n",
    "    preprocess_handling.loc[i,'trimmed_row'] = X_train.shape[0] - X_train_trimmed_sim.shape[0]\n",
    "    preprocess_handling.loc[i,'percentage'] = np.round(100-(X_train_trimmed_sim.shape[0]/X_train.shape[0]*100), 2)\n",
    "    preprocess_handling.loc[i,'action'] = np.where(preprocess_handling.loc[i,'percentage']>15, 'Keep', \n",
    "                                        np.where(preprocess_handling.loc[i,'percentage']>5, 'Capping', np.where(preprocess_handling.loc[i,'percentage']>0, 'Trim', 'None')))\n",
    "\n",
    "\n",
    "preprocess_handling.loc[4,'action'] = \"Keep\""
   ]
  },
  {
   "cell_type": "code",
   "execution_count": 173,
   "metadata": {},
   "outputs": [
    {
     "data": {
      "text/html": [
       "<div>\n",
       "<style scoped>\n",
       "    .dataframe tbody tr th:only-of-type {\n",
       "        vertical-align: middle;\n",
       "    }\n",
       "\n",
       "    .dataframe tbody tr th {\n",
       "        vertical-align: top;\n",
       "    }\n",
       "\n",
       "    .dataframe thead th {\n",
       "        text-align: right;\n",
       "    }\n",
       "</style>\n",
       "<table border=\"1\" class=\"dataframe\">\n",
       "  <thead>\n",
       "    <tr style=\"text-align: right;\">\n",
       "      <th></th>\n",
       "      <th>columns</th>\n",
       "      <th>skew</th>\n",
       "      <th>status</th>\n",
       "      <th>trimmed_row</th>\n",
       "      <th>percentage</th>\n",
       "      <th>action</th>\n",
       "    </tr>\n",
       "  </thead>\n",
       "  <tbody>\n",
       "    <tr>\n",
       "      <th>0</th>\n",
       "      <td>age</td>\n",
       "      <td>1.496360</td>\n",
       "      <td>Skewed</td>\n",
       "      <td>124.0</td>\n",
       "      <td>6.73</td>\n",
       "      <td>Capping</td>\n",
       "    </tr>\n",
       "    <tr>\n",
       "      <th>1</th>\n",
       "      <td>engine_capacity</td>\n",
       "      <td>4.796550</td>\n",
       "      <td>Skewed</td>\n",
       "      <td>126.0</td>\n",
       "      <td>6.84</td>\n",
       "      <td>Capping</td>\n",
       "    </tr>\n",
       "    <tr>\n",
       "      <th>2</th>\n",
       "      <td>engine_power</td>\n",
       "      <td>3.293209</td>\n",
       "      <td>Skewed</td>\n",
       "      <td>89.0</td>\n",
       "      <td>4.83</td>\n",
       "      <td>Trim</td>\n",
       "    </tr>\n",
       "    <tr>\n",
       "      <th>3</th>\n",
       "      <td>km</td>\n",
       "      <td>0.749897</td>\n",
       "      <td>Skewed</td>\n",
       "      <td>24.0</td>\n",
       "      <td>1.30</td>\n",
       "      <td>Trim</td>\n",
       "    </tr>\n",
       "    <tr>\n",
       "      <th>4</th>\n",
       "      <td>changed_parts</td>\n",
       "      <td>2.926438</td>\n",
       "      <td>Skewed</td>\n",
       "      <td>355.0</td>\n",
       "      <td>19.26</td>\n",
       "      <td>Keep</td>\n",
       "    </tr>\n",
       "    <tr>\n",
       "      <th>5</th>\n",
       "      <td>painted_parts</td>\n",
       "      <td>2.254903</td>\n",
       "      <td>Skewed</td>\n",
       "      <td>82.0</td>\n",
       "      <td>4.45</td>\n",
       "      <td>Trim</td>\n",
       "    </tr>\n",
       "  </tbody>\n",
       "</table>\n",
       "</div>"
      ],
      "text/plain": [
       "           columns      skew  status  trimmed_row  percentage   action\n",
       "0              age  1.496360  Skewed        124.0        6.73  Capping\n",
       "1  engine_capacity  4.796550  Skewed        126.0        6.84  Capping\n",
       "2     engine_power  3.293209  Skewed         89.0        4.83     Trim\n",
       "3               km  0.749897  Skewed         24.0        1.30     Trim\n",
       "4    changed_parts  2.926438  Skewed        355.0       19.26     Keep\n",
       "5    painted_parts  2.254903  Skewed         82.0        4.45     Trim"
      ]
     },
     "execution_count": 173,
     "metadata": {},
     "output_type": "execute_result"
    }
   ],
   "source": [
    "preprocess_handling"
   ]
  },
  {
   "cell_type": "markdown",
   "metadata": {},
   "source": [
    "- Dari rangkuman hasil pendeteksian `outlier`, kita mendapatkan informasi bahwa:\n",
    "    - Terdapat satu kolom yang memiliki persentase outlier yang tinggi, hingga 19.53% pada kolom `changed_parts`\n",
    "    - Terdapat tiga kolom yang memenuhi kriteria untuk `capping` dan dua kolom untuk `trimming`"
   ]
  },
  {
   "cell_type": "markdown",
   "metadata": {},
   "source": [
    "#### 5.4.2 Handling Outliers"
   ]
  },
  {
   "cell_type": "markdown",
   "metadata": {},
   "source": [
    "##### A. Trimming Outliers"
   ]
  },
  {
   "cell_type": "code",
   "execution_count": 174,
   "metadata": {},
   "outputs": [],
   "source": [
    "found=0\n",
    "\n",
    "for i, (k, v) in enumerate(outliers.items()):\n",
    "    if preprocess_handling.loc[i,'action']=='Trim' and found==0:\n",
    "        outliers_tot = outliers[k]\n",
    "        found=1\n",
    "    if preprocess_handling.loc[i,'action']=='Trim' and found==1:\n",
    "        outliers_tot += outliers[k]"
   ]
  },
  {
   "cell_type": "code",
   "execution_count": 175,
   "metadata": {},
   "outputs": [
    {
     "name": "stdout",
     "output_type": "stream",
     "text": [
      "Jumlah baris pada X_train SEBELUM di Trimming: 1843\n",
      "Jumlah baris pada X_train SETELAH di Trimming: 1659\n",
      "% Outlier dari Keseluruhan Data: 9.98%\n"
     ]
    }
   ],
   "source": [
    "if found!=0:\n",
    "    X_train_trimmed = X_train.loc[~outliers_tot]\n",
    "    y_train_trimmed = y_train.loc[~outliers_tot]\n",
    "else:\n",
    "    X_train_trimmed = X_train.copy()\n",
    "    y_train_trimmed = y_train.copy()\n",
    "\n",
    "print(f\"Jumlah baris pada X_train SEBELUM di Trimming: {X_train.shape[0]}\")\n",
    "print(f\"Jumlah baris pada X_train SETELAH di Trimming: {X_train_trimmed.shape[0]}\")\n",
    "print(f\"% Outlier dari Keseluruhan Data: {100-(X_train_trimmed.shape[0]/X_train.shape[0]*100):.2f}%\")"
   ]
  },
  {
   "cell_type": "code",
   "execution_count": 176,
   "metadata": {},
   "outputs": [],
   "source": [
    "# Reset Index\n",
    "\n",
    "X_train_trimmed.reset_index(drop=True, inplace=True)"
   ]
  },
  {
   "cell_type": "markdown",
   "metadata": {},
   "source": [
    "##### B. Capping Outliers"
   ]
  },
  {
   "cell_type": "code",
   "execution_count": 177,
   "metadata": {},
   "outputs": [],
   "source": [
    "cap_columns = []\n",
    "# Create the capper\n",
    "for i,row in enumerate(preprocess_handling.itertuples()):\n",
    "    if preprocess_handling.loc[i,'action']=='Capping':\n",
    "        cap_columns.append(preprocess_handling.loc[i,'columns'])\n",
    "\n",
    "if cap_columns:\n",
    "    windsoriser = Winsorizer(capping_method='iqr', # choose iqr for IQR rule boundaries or gaussian for mean and std\n",
    "                            tail='both', # cap left, right or both tails \n",
    "                            fold=1.5,\n",
    "                            variables=cap_columns,\n",
    "                            missing_values='ignore')\n",
    "\n",
    "    windsoriser.fit(X_train_trimmed)\n",
    "\n",
    "    X_train_capped = windsoriser.transform(X_train_trimmed)\n",
    "else:\n",
    "    X_train_capped = X_train_trimmed.copy()\n"
   ]
  },
  {
   "cell_type": "markdown",
   "metadata": {},
   "source": [
    "##### C. Handling Outliers Result"
   ]
  },
  {
   "cell_type": "code",
   "execution_count": 178,
   "metadata": {},
   "outputs": [
    {
     "data": {
      "image/png": "[encoded data removed]",
      "text/plain": [
       "<Figure size 1152x288 with 3 Axes>"
      ]
     },
     "metadata": {},
     "output_type": "display_data"
    },
    {
     "data": {
      "image/png": "[encoded data removed]",
      "text/plain": [
       "<Figure size 1152x288 with 3 Axes>"
      ]
     },
     "metadata": {},
     "output_type": "display_data"
    },
    {
     "data": {
      "image/png": "[encoded data removed]",
      "text/plain": [
       "<Figure size 1152x288 with 3 Axes>"
      ]
     },
     "metadata": {},
     "output_type": "display_data"
    },
    {
     "data": {
      "image/png": "[encoded data removed]",
      "text/plain": [
       "<Figure size 1152x288 with 3 Axes>"
      ]
     },
     "metadata": {},
     "output_type": "display_data"
    },
    {
     "data": {
      "image/png": "[encoded data removed]",
      "text/plain": [
       "<Figure size 1152x288 with 3 Axes>"
      ]
     },
     "metadata": {},
     "output_type": "display_data"
    },
    {
     "data": {
      "image/png": "[encoded data removed]",
      "text/plain": [
       "<Figure size 1152x288 with 3 Axes>"
      ]
     },
     "metadata": {},
     "output_type": "display_data"
    }
   ],
   "source": [
    "for i in X_train_capped.describe().columns:\n",
    "    diagnostic_plots(X_train, X_train_capped, i)"
   ]
  },
  {
   "cell_type": "markdown",
   "metadata": {},
   "source": [
    "- Setelah melalui tahap handling outlier, beberapa kolom masih memiliki outlier seperti km, engine power namun jumlah yang dimiliki sudah sangat banyak berkurang\n",
    "- Sedangkan pada changed parts dikarenakan tidak dilakukan penanganan, maka tidak terjadi perubahan pada tahap ini"
   ]
  },
  {
   "cell_type": "code",
   "execution_count": 179,
   "metadata": {},
   "outputs": [
    {
     "data": {
      "text/html": [
       "<div>\n",
       "<style scoped>\n",
       "    .dataframe tbody tr th:only-of-type {\n",
       "        vertical-align: middle;\n",
       "    }\n",
       "\n",
       "    .dataframe tbody tr th {\n",
       "        vertical-align: top;\n",
       "    }\n",
       "\n",
       "    .dataframe thead th {\n",
       "        text-align: right;\n",
       "    }\n",
       "</style>\n",
       "<table border=\"1\" class=\"dataframe\">\n",
       "  <thead>\n",
       "    <tr style=\"text-align: right;\">\n",
       "      <th></th>\n",
       "      <th>age</th>\n",
       "      <th>engine_capacity</th>\n",
       "      <th>engine_power</th>\n",
       "      <th>km</th>\n",
       "      <th>changed_parts</th>\n",
       "      <th>painted_parts</th>\n",
       "    </tr>\n",
       "  </thead>\n",
       "  <tbody>\n",
       "    <tr>\n",
       "      <th>count</th>\n",
       "      <td>1659.000000</td>\n",
       "      <td>1659.000000</td>\n",
       "      <td>1659.000000</td>\n",
       "      <td>1659.000000</td>\n",
       "      <td>1659.000000</td>\n",
       "      <td>1659.000000</td>\n",
       "    </tr>\n",
       "    <tr>\n",
       "      <th>mean</th>\n",
       "      <td>6.395419</td>\n",
       "      <td>1461.965039</td>\n",
       "      <td>105.077155</td>\n",
       "      <td>112629.078963</td>\n",
       "      <td>0.283906</td>\n",
       "      <td>0.810729</td>\n",
       "    </tr>\n",
       "    <tr>\n",
       "      <th>std</th>\n",
       "      <td>5.016655</td>\n",
       "      <td>180.820396</td>\n",
       "      <td>21.145001</td>\n",
       "      <td>75407.241436</td>\n",
       "      <td>0.716546</td>\n",
       "      <td>1.354653</td>\n",
       "    </tr>\n",
       "    <tr>\n",
       "      <th>min</th>\n",
       "      <td>0.000000</td>\n",
       "      <td>1100.000000</td>\n",
       "      <td>57.000000</td>\n",
       "      <td>0.000000</td>\n",
       "      <td>0.000000</td>\n",
       "      <td>0.000000</td>\n",
       "    </tr>\n",
       "    <tr>\n",
       "      <th>25%</th>\n",
       "      <td>3.000000</td>\n",
       "      <td>1400.000000</td>\n",
       "      <td>90.000000</td>\n",
       "      <td>53950.000000</td>\n",
       "      <td>0.000000</td>\n",
       "      <td>0.000000</td>\n",
       "    </tr>\n",
       "    <tr>\n",
       "      <th>50%</th>\n",
       "      <td>5.000000</td>\n",
       "      <td>1500.000000</td>\n",
       "      <td>105.000000</td>\n",
       "      <td>100000.000000</td>\n",
       "      <td>0.000000</td>\n",
       "      <td>0.000000</td>\n",
       "    </tr>\n",
       "    <tr>\n",
       "      <th>75%</th>\n",
       "      <td>9.000000</td>\n",
       "      <td>1600.000000</td>\n",
       "      <td>116.000000</td>\n",
       "      <td>162500.000000</td>\n",
       "      <td>0.000000</td>\n",
       "      <td>1.000000</td>\n",
       "    </tr>\n",
       "    <tr>\n",
       "      <th>max</th>\n",
       "      <td>18.000000</td>\n",
       "      <td>1900.000000</td>\n",
       "      <td>165.000000</td>\n",
       "      <td>340000.000000</td>\n",
       "      <td>6.000000</td>\n",
       "      <td>5.000000</td>\n",
       "    </tr>\n",
       "  </tbody>\n",
       "</table>\n",
       "</div>"
      ],
      "text/plain": [
       "               age  engine_capacity  engine_power             km  \\\n",
       "count  1659.000000      1659.000000   1659.000000    1659.000000   \n",
       "mean      6.395419      1461.965039    105.077155  112629.078963   \n",
       "std       5.016655       180.820396     21.145001   75407.241436   \n",
       "min       0.000000      1100.000000     57.000000       0.000000   \n",
       "25%       3.000000      1400.000000     90.000000   53950.000000   \n",
       "50%       5.000000      1500.000000    105.000000  100000.000000   \n",
       "75%       9.000000      1600.000000    116.000000  162500.000000   \n",
       "max      18.000000      1900.000000    165.000000  340000.000000   \n",
       "\n",
       "       changed_parts  painted_parts  \n",
       "count    1659.000000    1659.000000  \n",
       "mean        0.283906       0.810729  \n",
       "std         0.716546       1.354653  \n",
       "min         0.000000       0.000000  \n",
       "25%         0.000000       0.000000  \n",
       "50%         0.000000       0.000000  \n",
       "75%         0.000000       1.000000  \n",
       "max         6.000000       5.000000  "
      ]
     },
     "execution_count": 179,
     "metadata": {},
     "output_type": "execute_result"
    }
   ],
   "source": [
    "X_train_capped.describe()"
   ]
  },
  {
   "cell_type": "markdown",
   "metadata": {},
   "source": [
    "### 5.5 Handling Missing Value"
   ]
  },
  {
   "cell_type": "markdown",
   "metadata": {},
   "source": [
    "- Tidak ditemukannya `missing value`, oleh karena itu kita akan melewati tahap ini"
   ]
  },
  {
   "cell_type": "code",
   "execution_count": 180,
   "metadata": {},
   "outputs": [
    {
     "data": {
      "text/plain": [
       "0"
      ]
     },
     "execution_count": 180,
     "metadata": {},
     "output_type": "execute_result"
    }
   ],
   "source": [
    "X_train_capped.isnull().sum().sum()"
   ]
  },
  {
   "cell_type": "markdown",
   "metadata": {},
   "source": [
    "### 5.6 Handling High Cardinality"
   ]
  },
  {
   "cell_type": "markdown",
   "metadata": {},
   "source": [
    "- Seperti yang telah dijelaskan sebelumnya pada tahap EDA, ditemukannya daftar merek/brand yang hanya terdaftar sekali di website penjualan\n",
    "- Maka kita akan pastikan bahwa data mobil tersebut tidak termasuk dalam Test set agar tidak mengakibatkan error pada tahap feature encoding\n",
    "- Data mobil yang terdeteksi pada test set akan kita hapus untuk menyederhanakan data yang akan kita gunakan dalam permodelan machine learning"
   ]
  },
  {
   "cell_type": "code",
   "execution_count": 181,
   "metadata": {},
   "outputs": [],
   "source": [
    "brand_name_train = X_train_capped['brand'].unique().tolist()\n",
    "model_name_train = X_train_capped['model'].unique().tolist()\n",
    "brand_name_test = X_test['brand'].unique().tolist()\n",
    "model_name_test = X_test['model'].unique().tolist()\n",
    "# X_test['brand'][(X_test['brand'].isin(brand_name_train))==False]"
   ]
  },
  {
   "cell_type": "code",
   "execution_count": 182,
   "metadata": {},
   "outputs": [
    {
     "name": "stdout",
     "output_type": "stream",
     "text": [
      "Brand yang hanya terdapat pada Test set:  0\n"
     ]
    }
   ],
   "source": [
    "print(\"Brand yang hanya terdapat pada Test set: \",X_test['brand'][(X_test['brand'].isin(brand_name_train))==False].shape[0])"
   ]
  },
  {
   "cell_type": "code",
   "execution_count": 183,
   "metadata": {},
   "outputs": [
    {
     "name": "stdout",
     "output_type": "stream",
     "text": [
      "Model yang hanya terdapat pada Test set:  13\n"
     ]
    }
   ],
   "source": [
    "print(\"Model yang hanya terdapat pada Test set: \",X_test['model'][(X_test['model'].isin(model_name_train))==False].shape[0])"
   ]
  },
  {
   "cell_type": "code",
   "execution_count": 184,
   "metadata": {},
   "outputs": [],
   "source": [
    "for i in brand_name_test:\n",
    "    if i not in brand_name_train:\n",
    "        brand_ind = X_test[X_test['brand']==i].index\n",
    "        X_test= X_test.drop(brand_ind)\n",
    "        y_test= y_test.drop(brand_ind)\n",
    "\n",
    "for i in model_name_test:\n",
    "    if i not in model_name_train:\n",
    "        model_ind = X_test[X_test['model']==i].index\n",
    "        X_test = X_test.drop(model_ind)\n",
    "        y_test = y_test.drop(model_ind)"
   ]
  },
  {
   "cell_type": "code",
   "execution_count": 185,
   "metadata": {},
   "outputs": [
    {
     "data": {
      "text/plain": [
       "Series([], Name: brand, dtype: object)"
      ]
     },
     "execution_count": 185,
     "metadata": {},
     "output_type": "execute_result"
    }
   ],
   "source": [
    "X_test['brand'][(X_test['brand'].isin(brand_name_train))==False]"
   ]
  },
  {
   "cell_type": "code",
   "execution_count": 186,
   "metadata": {},
   "outputs": [
    {
     "data": {
      "text/plain": [
       "Series([], Name: model, dtype: object)"
      ]
     },
     "execution_count": 186,
     "metadata": {},
     "output_type": "execute_result"
    }
   ],
   "source": [
    "X_test['model'][(X_test['model'].isin(model_name_train))==False]"
   ]
  },
  {
   "cell_type": "markdown",
   "metadata": {},
   "source": [
    "- Setelah melalui tahap ini sudah tidak ditemukannya lagi merk ataupun model yang hanya terdapat pada Test set"
   ]
  },
  {
   "cell_type": "markdown",
   "metadata": {},
   "source": [
    "### 5.6 Feature Selection"
   ]
  },
  {
   "cell_type": "code",
   "execution_count": 187,
   "metadata": {},
   "outputs": [
    {
     "data": {
      "text/html": [
       "<div>\n",
       "<style scoped>\n",
       "    .dataframe tbody tr th:only-of-type {\n",
       "        vertical-align: middle;\n",
       "    }\n",
       "\n",
       "    .dataframe tbody tr th {\n",
       "        vertical-align: top;\n",
       "    }\n",
       "\n",
       "    .dataframe thead th {\n",
       "        text-align: right;\n",
       "    }\n",
       "</style>\n",
       "<table border=\"1\" class=\"dataframe\">\n",
       "  <thead>\n",
       "    <tr style=\"text-align: right;\">\n",
       "      <th></th>\n",
       "      <th>age</th>\n",
       "      <th>engine_capacity</th>\n",
       "      <th>engine_power</th>\n",
       "      <th>km</th>\n",
       "      <th>changed_parts</th>\n",
       "      <th>painted_parts</th>\n",
       "    </tr>\n",
       "  </thead>\n",
       "  <tbody>\n",
       "    <tr>\n",
       "      <th>age</th>\n",
       "      <td>1.000000</td>\n",
       "      <td>0.195580</td>\n",
       "      <td>-0.102769</td>\n",
       "      <td>0.444978</td>\n",
       "      <td>0.166236</td>\n",
       "      <td>0.194912</td>\n",
       "    </tr>\n",
       "    <tr>\n",
       "      <th>engine_capacity</th>\n",
       "      <td>0.195580</td>\n",
       "      <td>1.000000</td>\n",
       "      <td>0.178375</td>\n",
       "      <td>0.137216</td>\n",
       "      <td>0.026601</td>\n",
       "      <td>0.069085</td>\n",
       "    </tr>\n",
       "    <tr>\n",
       "      <th>engine_power</th>\n",
       "      <td>-0.102769</td>\n",
       "      <td>0.178375</td>\n",
       "      <td>1.000000</td>\n",
       "      <td>-0.108314</td>\n",
       "      <td>-0.025888</td>\n",
       "      <td>0.008806</td>\n",
       "    </tr>\n",
       "    <tr>\n",
       "      <th>km</th>\n",
       "      <td>0.444978</td>\n",
       "      <td>0.137216</td>\n",
       "      <td>-0.108314</td>\n",
       "      <td>1.000000</td>\n",
       "      <td>0.119834</td>\n",
       "      <td>0.106546</td>\n",
       "    </tr>\n",
       "    <tr>\n",
       "      <th>changed_parts</th>\n",
       "      <td>0.166236</td>\n",
       "      <td>0.026601</td>\n",
       "      <td>-0.025888</td>\n",
       "      <td>0.119834</td>\n",
       "      <td>1.000000</td>\n",
       "      <td>0.300829</td>\n",
       "    </tr>\n",
       "    <tr>\n",
       "      <th>painted_parts</th>\n",
       "      <td>0.194912</td>\n",
       "      <td>0.069085</td>\n",
       "      <td>0.008806</td>\n",
       "      <td>0.106546</td>\n",
       "      <td>0.300829</td>\n",
       "      <td>1.000000</td>\n",
       "    </tr>\n",
       "  </tbody>\n",
       "</table>\n",
       "</div>"
      ],
      "text/plain": [
       "                      age  engine_capacity  engine_power        km  \\\n",
       "age              1.000000         0.195580     -0.102769  0.444978   \n",
       "engine_capacity  0.195580         1.000000      0.178375  0.137216   \n",
       "engine_power    -0.102769         0.178375      1.000000 -0.108314   \n",
       "km               0.444978         0.137216     -0.108314  1.000000   \n",
       "changed_parts    0.166236         0.026601     -0.025888  0.119834   \n",
       "painted_parts    0.194912         0.069085      0.008806  0.106546   \n",
       "\n",
       "                 changed_parts  painted_parts  \n",
       "age                   0.166236       0.194912  \n",
       "engine_capacity       0.026601       0.069085  \n",
       "engine_power         -0.025888       0.008806  \n",
       "km                    0.119834       0.106546  \n",
       "changed_parts         1.000000       0.300829  \n",
       "painted_parts         0.300829       1.000000  "
      ]
     },
     "execution_count": 187,
     "metadata": {},
     "output_type": "execute_result"
    }
   ],
   "source": [
    "X_train_capped.corr()"
   ]
  },
  {
   "cell_type": "code",
   "execution_count": 188,
   "metadata": {},
   "outputs": [],
   "source": [
    "vif_data = pd.DataFrame()\n",
    "vif_data[\"feature\"] = X_train_capped[num_columns].columns\n",
    "  \n",
    "# calculating VIF for each feature\n",
    "vif_data[\"VIF\"] = [variance_inflation_factor(X_train_capped[num_columns].values, i)\n",
    "                          for i in range(len(X_train_capped[num_columns].columns))]"
   ]
  },
  {
   "cell_type": "code",
   "execution_count": 189,
   "metadata": {},
   "outputs": [
    {
     "data": {
      "text/html": [
       "<div>\n",
       "<style scoped>\n",
       "    .dataframe tbody tr th:only-of-type {\n",
       "        vertical-align: middle;\n",
       "    }\n",
       "\n",
       "    .dataframe tbody tr th {\n",
       "        vertical-align: top;\n",
       "    }\n",
       "\n",
       "    .dataframe thead th {\n",
       "        text-align: right;\n",
       "    }\n",
       "</style>\n",
       "<table border=\"1\" class=\"dataframe\">\n",
       "  <thead>\n",
       "    <tr style=\"text-align: right;\">\n",
       "      <th></th>\n",
       "      <th>feature</th>\n",
       "      <th>VIF</th>\n",
       "    </tr>\n",
       "  </thead>\n",
       "  <tbody>\n",
       "    <tr>\n",
       "      <th>0</th>\n",
       "      <td>age</td>\n",
       "      <td>3.494201</td>\n",
       "    </tr>\n",
       "    <tr>\n",
       "      <th>1</th>\n",
       "      <td>engine_capacity</td>\n",
       "      <td>27.978308</td>\n",
       "    </tr>\n",
       "    <tr>\n",
       "      <th>2</th>\n",
       "      <td>engine_power</td>\n",
       "      <td>22.800991</td>\n",
       "    </tr>\n",
       "    <tr>\n",
       "      <th>3</th>\n",
       "      <td>km</td>\n",
       "      <td>4.044768</td>\n",
       "    </tr>\n",
       "    <tr>\n",
       "      <th>4</th>\n",
       "      <td>changed_parts</td>\n",
       "      <td>1.291946</td>\n",
       "    </tr>\n",
       "    <tr>\n",
       "      <th>5</th>\n",
       "      <td>painted_parts</td>\n",
       "      <td>1.532911</td>\n",
       "    </tr>\n",
       "  </tbody>\n",
       "</table>\n",
       "</div>"
      ],
      "text/plain": [
       "           feature        VIF\n",
       "0              age   3.494201\n",
       "1  engine_capacity  27.978308\n",
       "2     engine_power  22.800991\n",
       "3               km   4.044768\n",
       "4    changed_parts   1.291946\n",
       "5    painted_parts   1.532911"
      ]
     },
     "execution_count": 189,
     "metadata": {},
     "output_type": "execute_result"
    }
   ],
   "source": [
    "vif_data"
   ]
  },
  {
   "cell_type": "markdown",
   "metadata": {},
   "source": [
    "- Kita hanya akan sekedar melihat nilai `collinearity` antar kolom dimana hanya kolom `engine_capacity` dan `engine_power` saja yang memiliki keterkaitan erat satu sama lain\n",
    "- Kolom lainnya bersifat independen atau mewakili parameter dari masing-masing kolom itu sendiri"
   ]
  },
  {
   "cell_type": "code",
   "execution_count": 190,
   "metadata": {},
   "outputs": [],
   "source": [
    "# X_train_capped.drop(['brand'], axis=1, inplace=True)\n",
    "# X_test.drop(['brand'], axis=1, inplace=True)\n",
    "# cat_columns.remove('brand')\n",
    "# X_train_capped.drop(['model'], axis=1, inplace=True)\n",
    "# X_test.drop(['model'], axis=1, inplace=True)\n",
    "# cat_columns.remove('model')"
   ]
  },
  {
   "cell_type": "markdown",
   "metadata": {},
   "source": [
    "### 5.7 Feature Scaling & Encoding\n",
    "\n",
    "#### 5.7.1 Splitting Columns (Numerical and Categorical)"
   ]
  },
  {
   "cell_type": "code",
   "execution_count": 191,
   "metadata": {},
   "outputs": [],
   "source": [
    "from sklearn.compose import ColumnTransformer"
   ]
  },
  {
   "cell_type": "code",
   "execution_count": 192,
   "metadata": {},
   "outputs": [],
   "source": [
    "# Split on X_train\n",
    "\n",
    "X_train_num = X_train_capped[num_columns]\n",
    "X_train_cat = X_train_capped[cat_columns]\n",
    "\n",
    "# Split on X_test\n",
    "\n",
    "X_test_num = X_test[num_columns]\n",
    "X_test_cat = X_test[cat_columns]"
   ]
  },
  {
   "cell_type": "markdown",
   "metadata": {},
   "source": [
    "#### 5.7.2 Feature Scaling"
   ]
  },
  {
   "cell_type": "code",
   "execution_count": 193,
   "metadata": {},
   "outputs": [],
   "source": [
    "# Feature Scaling Using Standard Scaler\n",
    "\n",
    "from sklearn.preprocessing import StandardScaler\n",
    "\n",
    "scaler = StandardScaler()\n",
    "scaler.fit(X_train_num)\n",
    "\n",
    "X_train_num_scaled = scaler.transform(X_train_num)\n",
    "X_test_num_scaled = scaler.transform(X_test_num)"
   ]
  },
  {
   "cell_type": "code",
   "execution_count": 194,
   "metadata": {},
   "outputs": [],
   "source": [
    "cat_brand = X_train_capped['brand'].value_counts().sort_values(ascending=True).index.tolist()"
   ]
  },
  {
   "cell_type": "markdown",
   "metadata": {},
   "source": [
    "#### 5.7.3 Feature Encoding"
   ]
  },
  {
   "cell_type": "markdown",
   "metadata": {},
   "source": [
    "- Seperti yang telah dijelaskan pada tahap EDA, kita akan memilih asumsi bahwa mobil yang paling banyak terdaftar berarti memiliki bias/favorit oleh pembeli sehingga mobil ini lebih baik diantara mobil lainnya\n",
    "- Sehingga kolom kategorik lainya yang merupakan bagian dari spesifikasi mobil tersebut, mengikuti asumsi dari kategori ataupun kolom ini"
   ]
  },
  {
   "cell_type": "code",
   "execution_count": 195,
   "metadata": {},
   "outputs": [],
   "source": [
    "# Feature Encoding\n",
    "\n",
    "from sklearn.preprocessing import OrdinalEncoder\n",
    "\n",
    "cat_brand = X_train_capped['brand'].value_counts().sort_values(ascending=True).index.tolist()\n",
    "cat_model= X_train_capped['model'].value_counts().sort_values(ascending=True).index.tolist()\n",
    "cat_fuel = X_train_capped['fuel_type'].value_counts().sort_values(ascending=True).index.tolist()\n",
    "cat_gear = X_train_capped['gear_type'].value_counts().sort_values(ascending=True).index.tolist()\n",
    "# cat_changed = X_train_capped['changed_parts'].value_counts().sort_values(ascending=True).index.tolist()\n",
    "# cat_painted = X_train_capped['painted_parts'].value_counts().sort_values(ascending=True).index.tolist()\n",
    "\n",
    "encoder = OrdinalEncoder(categories=[cat_brand, cat_model, cat_fuel, cat_gear])\n",
    "encoder.fit(X_train_cat)\n",
    "\n",
    "X_train_cat_encoded = encoder.transform(X_train_cat)\n",
    "X_test_cat_encoded = encoder.transform(X_test_cat)\n"
   ]
  },
  {
   "cell_type": "code",
   "execution_count": 196,
   "metadata": {},
   "outputs": [],
   "source": [
    "# # Feature Encoding\n",
    "\n",
    "# from sklearn.preprocessing import OrdinalEncoder\n",
    "\n",
    "# encoder = OrdinalEncoder()\n",
    "# encoder.fit(X_train_cat)\n",
    "\n",
    "# X_train_cat_encoded = encoder.transform(X_train_cat)\n",
    "# X_test_cat_encoded = encoder.transform(X_test_cat)\n"
   ]
  },
  {
   "cell_type": "markdown",
   "metadata": {},
   "source": [
    "#### 5.7.4 Concatenate Numerical & Categorical"
   ]
  },
  {
   "cell_type": "code",
   "execution_count": 197,
   "metadata": {},
   "outputs": [],
   "source": [
    "# Concate Data\n",
    "\n",
    "X_train_final = np.concatenate([X_train_num_scaled, X_train_cat_encoded], axis=1)\n",
    "X_test_final = np.concatenate([X_test_num_scaled, X_test_cat_encoded], axis=1)"
   ]
  },
  {
   "cell_type": "markdown",
   "metadata": {},
   "source": [
    "## **6. Model Definition**"
   ]
  },
  {
   "cell_type": "code",
   "execution_count": 198,
   "metadata": {},
   "outputs": [],
   "source": [
    "lin_reg = LinearRegression()"
   ]
  },
  {
   "cell_type": "markdown",
   "metadata": {},
   "source": [
    "## 7. Model Training"
   ]
  },
  {
   "cell_type": "code",
   "execution_count": 199,
   "metadata": {},
   "outputs": [
    {
     "data": {
      "text/plain": [
       "LinearRegression()"
      ]
     },
     "execution_count": 199,
     "metadata": {},
     "output_type": "execute_result"
    }
   ],
   "source": [
    "# Train\n",
    "\n",
    "lin_reg.fit(X_train_final, y_train_trimmed)"
   ]
  },
  {
   "cell_type": "markdown",
   "metadata": {},
   "source": [
    "## **8. Model Evaluation**"
   ]
  },
  {
   "cell_type": "markdown",
   "metadata": {},
   "source": [
    "### 8.1. Base Model"
   ]
  },
  {
   "cell_type": "code",
   "execution_count": 200,
   "metadata": {},
   "outputs": [],
   "source": [
    "evaluation_metrics = pd.DataFrame({'Model':[], 'Details' : [], 'MAE(Train)': [], 'RMSE(Train)': [], 'R2 Score(Train)': [], 'MAE(Test)': [], 'RMSE(Test)': [], 'R2 Score(Test)': []})"
   ]
  },
  {
   "cell_type": "code",
   "execution_count": 201,
   "metadata": {},
   "outputs": [
    {
     "name": "stdout",
     "output_type": "stream",
     "text": [
      "MAE Train-set: 41991.90509140038\n",
      "RMSE Train-Set: 59119.7391854706\n",
      "R2 Score Train-Set: 0.5416280991100018\n",
      "MAE Train-set: 45994.832115979996\n",
      "RMSE Test-Set:  73633.69409997904\n",
      "R2 Score Test-set:  0.5380817050429998\n"
     ]
    }
   ],
   "source": [
    "# Model Evaluation\n",
    "\n",
    "# Predict Error on Train-Set and Test-Set\n",
    "y_pred_train_lin_reg = lin_reg.predict(X_train_final)\n",
    "y_pred_test_lin_reg = lin_reg.predict(X_test_final)\n",
    "\n",
    "# Evaluation of Error\n",
    "from sklearn.metrics import mean_absolute_error, mean_squared_error, r2_score\n",
    "mae_model1_train = mean_absolute_error(y_train_trimmed, y_pred_train_lin_reg)\n",
    "rmse_model1_train =mean_squared_error(y_train_trimmed, y_pred_train_lin_reg, squared=False)\n",
    "r2_model1_train =r2_score(y_train_trimmed, y_pred_train_lin_reg)\n",
    "mae_model1_test = mean_absolute_error(y_test, y_pred_test_lin_reg)\n",
    "rmse_model1_test = mean_squared_error(y_test, y_pred_test_lin_reg, squared=False)\n",
    "r2_model1_test = r2_score(y_test, y_pred_test_lin_reg)\n",
    "i = evaluation_metrics.shape[0]\n",
    "evaluation_metrics.loc[i] = ['Linear Regression', 'Original, All features', mae_model1_train, rmse_model1_train, r2_model1_train, mae_model1_test, rmse_model1_test, r2_model1_test]\n",
    "\n",
    "print('MAE Train-set:', mae_model1_train)\n",
    "print('RMSE Train-Set:', rmse_model1_train)\n",
    "print('R2 Score Train-Set:', r2_model1_train)\n",
    "print('MAE Train-set:', mae_model1_test)\n",
    "print('RMSE Test-Set: ', rmse_model1_test)\n",
    "print('R2 Score Test-set: ', r2_model1_test)\n"
   ]
  },
  {
   "cell_type": "code",
   "execution_count": 202,
   "metadata": {},
   "outputs": [
    {
     "name": "stdout",
     "output_type": "stream",
     "text": [
      "MAE Train-set: 41991.39098380912\n",
      "RMSE Train-Set: 59119.73935962949\n",
      "R2 Score Train-Set: 0.5416280964093965\n",
      "MAE Train-set: 45994.3196406493\n",
      "RMSE Test-Set:  73633.78083809861\n",
      "R2 Score Test-set:  0.5380806167926169\n"
     ]
    }
   ],
   "source": [
    "from sklearn.linear_model import Ridge, Lasso\n",
    "\n",
    "ridge_reg = Ridge(alpha=0.1, fit_intercept=True)\n",
    "ridge_reg.fit(X_train_final, y_train_trimmed)\n",
    "\n",
    "y_pred_train_ridge = ridge_reg.predict(X_train_final)\n",
    "y_pred_test_ridge = ridge_reg.predict(X_test_final)\n",
    "\n",
    "mae_model1_train = mean_absolute_error(y_train_trimmed, y_pred_train_ridge)\n",
    "rmse_model1_train =mean_squared_error(y_train_trimmed, y_pred_train_ridge, squared=False)\n",
    "r2_model1_train =r2_score(y_train_trimmed, y_pred_train_ridge)\n",
    "mae_model1_test = mean_absolute_error(y_test, y_pred_test_ridge)\n",
    "rmse_model1_test = mean_squared_error(y_test, y_pred_test_ridge, squared=False)\n",
    "r2_model1_test = r2_score(y_test, y_pred_test_ridge)\n",
    "evaluation_metrics.loc[i+1] = ['Linear with Ridge', 'All features, ridge for regularization', mae_model1_train, rmse_model1_train, r2_model1_train, mae_model1_test, rmse_model1_test, r2_model1_test]\n",
    "print('MAE Train-set:', mae_model1_train)\n",
    "print('RMSE Train-Set:', rmse_model1_train)\n",
    "print('R2 Score Train-Set:', r2_model1_train)\n",
    "print('MAE Train-set:', mae_model1_test)\n",
    "print('RMSE Test-Set: ', rmse_model1_test)\n",
    "print('R2 Score Test-set: ', r2_model1_test)"
   ]
  },
  {
   "cell_type": "code",
   "execution_count": 203,
   "metadata": {},
   "outputs": [
    {
     "name": "stdout",
     "output_type": "stream",
     "text": [
      "MAE Train-set: 41991.88290289406\n",
      "RMSE Train-Set: 59119.73918689233\n",
      "R2 Score Train-Set: 0.5416280990879557\n",
      "MAE Train-set: 45994.80650258232\n",
      "RMSE Test-Set:  73633.69494599174\n",
      "R2 Score Test-set:  0.5380816944285998\n"
     ]
    }
   ],
   "source": [
    "lasso_reg = Lasso(alpha=0.1, fit_intercept=True)\n",
    "lasso_reg.fit(X_train_final, y_train_trimmed)\n",
    "\n",
    "y_pred_train_lasso = lasso_reg.predict(X_train_final)\n",
    "y_pred_test_lasso = lasso_reg.predict(X_test_final)\n",
    "\n",
    "mae_model1_train = mean_absolute_error(y_train_trimmed, y_pred_train_lasso)\n",
    "rmse_model1_train =mean_squared_error(y_train_trimmed, y_pred_train_lasso, squared=False)\n",
    "r2_model1_train =r2_score(y_train_trimmed, y_pred_train_lasso)\n",
    "mae_model1_test = mean_absolute_error(y_test, y_pred_test_lasso)\n",
    "rmse_model1_test = mean_squared_error(y_test, y_pred_test_lasso, squared=False)\n",
    "r2_model1_test = r2_score(y_test, y_pred_test_lasso)\n",
    "evaluation_metrics.loc[i+2] = ['Linear with Lasso', 'All features, Lasso for regularization', mae_model1_train, rmse_model1_train, r2_model1_train, mae_model1_test, rmse_model1_test, r2_model1_test]\n",
    "print('MAE Train-set:', mae_model1_train)\n",
    "print('RMSE Train-Set:', rmse_model1_train)\n",
    "print('R2 Score Train-Set:', r2_model1_train)\n",
    "print('MAE Train-set:', mae_model1_test)\n",
    "print('RMSE Test-Set: ', rmse_model1_test)\n",
    "print('R2 Score Test-set: ', r2_model1_test)"
   ]
  },
  {
   "cell_type": "code",
   "execution_count": 204,
   "metadata": {},
   "outputs": [
    {
     "name": "stdout",
     "output_type": "stream",
     "text": [
      "MAE Train-set: 38422.8337175759\n",
      "RMSE Train-Set: 55742.14853833931\n",
      "R2 Score Train-Sert: 0.5925067902663574\n",
      "MAE Train-set: 44824.914787980444\n",
      "RMSE Test-Set:  69811.7216477545\n",
      "R2 Score Test-str:  0.5847891608451768\n"
     ]
    },
    {
     "name": "stderr",
     "output_type": "stream",
     "text": [
      "/Users/krisbiantoroprabowo/opt/anaconda3/lib/python3.8/site-packages/sklearn/linear_model/_coordinate_descent.py:647: ConvergenceWarning: Objective did not converge. You might want to increase the number of iterations, check the scale of the features or consider increasing regularisation. Duality gap: 2.576e+12, tolerance: 1.265e+09\n",
      "  model = cd_fast.enet_coordinate_descent(\n"
     ]
    }
   ],
   "source": [
    "from sklearn.preprocessing import PolynomialFeatures\n",
    "\n",
    "poly = PolynomialFeatures(degree=2)\n",
    "X_train_poly = poly.fit_transform(X_train_final)\n",
    "X_test_poly = poly.transform(X_test_final)\n",
    "\n",
    "poly_reg = Lasso(alpha=1,fit_intercept=True)\n",
    "poly_reg.fit(X_train_poly, y_train_trimmed)\n",
    "\n",
    "y_pred_train_poly = poly_reg.predict(X_train_poly)\n",
    "y_pred_test_poly = poly_reg.predict(X_test_poly)\n",
    "\n",
    "mae_model1_train = mean_absolute_error(y_train_trimmed, y_pred_train_poly)\n",
    "rmse_model1_train =mean_squared_error(y_train_trimmed, y_pred_train_poly, squared=False)\n",
    "r2_model1_train =r2_score(y_train_trimmed, y_pred_train_poly)\n",
    "mae_model1_test = mean_absolute_error(y_test, y_pred_test_poly)\n",
    "rmse_model1_test = mean_squared_error(y_test, y_pred_test_poly, squared=False)\n",
    "r2_model1_test = r2_score(y_test, y_pred_test_poly)\n",
    "evaluation_metrics.loc[i+3] = ['Linear with Polynomial Features', 'All Features, degree=2 for Polynomial', mae_model1_train, rmse_model1_train, r2_model1_train, mae_model1_test, rmse_model1_test, r2_model1_test]\n",
    "\n",
    "print('MAE Train-set:', mae_model1_train)\n",
    "print('RMSE Train-Set:', rmse_model1_train)\n",
    "print('R2 Score Train-Sert:', r2_model1_train)\n",
    "print('MAE Train-set:', mae_model1_test)\n",
    "print('RMSE Test-Set: ', rmse_model1_test)\n",
    "print('R2 Score Test-str: ', r2_model1_test)"
   ]
  },
  {
   "cell_type": "code",
   "execution_count": 205,
   "metadata": {},
   "outputs": [],
   "source": [
    "from xgboost import XGBRegressor\n",
    "\n",
    "xgb_reg = XGBRegressor(n_estimators = 5)"
   ]
  },
  {
   "cell_type": "code",
   "execution_count": 206,
   "metadata": {},
   "outputs": [
    {
     "data": {
      "text/plain": [
       "XGBRegressor(base_score=0.5, booster='gbtree', colsample_bylevel=1,\n",
       "             colsample_bynode=1, colsample_bytree=1, gamma=0, gpu_id=-1,\n",
       "             importance_type='gain', interaction_constraints='',\n",
       "             learning_rate=0.300000012, max_delta_step=0, max_depth=6,\n",
       "             min_child_weight=1, missing=nan, monotone_constraints='()',\n",
       "             n_estimators=5, n_jobs=8, num_parallel_tree=1, random_state=0,\n",
       "             reg_alpha=0, reg_lambda=1, scale_pos_weight=1, subsample=1,\n",
       "             tree_method='exact', validate_parameters=1, verbosity=None)"
      ]
     },
     "execution_count": 206,
     "metadata": {},
     "output_type": "execute_result"
    }
   ],
   "source": [
    "xgb_reg.fit(X_train_final, y_train_trimmed)"
   ]
  },
  {
   "cell_type": "code",
   "execution_count": 207,
   "metadata": {},
   "outputs": [
    {
     "name": "stdout",
     "output_type": "stream",
     "text": [
      "MAE Train-set: 36043.676093231996\n",
      "RMSE Train-Set: 54301.349141059814\n",
      "R2 Score Train-Set: 0.6132999682818894\n",
      "MAE Train-set: 44129.35768345424\n",
      "RMSE Test-Set:  76552.76860858835\n",
      "R2 Score Test-set:  0.5007319330868425\n"
     ]
    }
   ],
   "source": [
    "# Model Evaluation\n",
    "\n",
    "# Predict Error on Train-Set and Test-Set\n",
    "y_pred_train_xgb = xgb_reg.predict(X_train_final)\n",
    "y_pred_test_xgb = xgb_reg.predict(X_test_final)\n",
    "\n",
    "# Evaluation of Error\n",
    "from sklearn.metrics import mean_absolute_error, mean_squared_error, r2_score\n",
    "mae_model1_train = mean_absolute_error(y_train_trimmed, y_pred_train_xgb)\n",
    "rmse_model1_train =mean_squared_error(y_train_trimmed, y_pred_train_xgb, squared=False)\n",
    "r2_model1_train =r2_score(y_train_trimmed, y_pred_train_xgb)\n",
    "mae_model1_test = mean_absolute_error(y_test, y_pred_test_xgb)\n",
    "rmse_model1_test = mean_squared_error(y_test, y_pred_test_xgb, squared=False)\n",
    "r2_model1_test = r2_score(y_test, y_pred_test_xgb)\n",
    "evaluation_metrics.loc[i+4] = ['XGBoost Regression', 'Original, All features', mae_model1_train, rmse_model1_train, r2_model1_train, mae_model1_test, rmse_model1_test, r2_model1_test]\n",
    "\n",
    "print('MAE Train-set:', mae_model1_train)\n",
    "print('RMSE Train-Set:', rmse_model1_train)\n",
    "print('R2 Score Train-Set:', r2_model1_train)\n",
    "print('MAE Train-set:', mae_model1_test)\n",
    "print('RMSE Test-Set: ', rmse_model1_test)\n",
    "print('R2 Score Test-set: ', r2_model1_test)\n"
   ]
  },
  {
   "cell_type": "code",
   "execution_count": 208,
   "metadata": {},
   "outputs": [
    {
     "data": {
      "text/html": [
       "<div>\n",
       "<style scoped>\n",
       "    .dataframe tbody tr th:only-of-type {\n",
       "        vertical-align: middle;\n",
       "    }\n",
       "\n",
       "    .dataframe tbody tr th {\n",
       "        vertical-align: top;\n",
       "    }\n",
       "\n",
       "    .dataframe thead th {\n",
       "        text-align: right;\n",
       "    }\n",
       "</style>\n",
       "<table border=\"1\" class=\"dataframe\">\n",
       "  <thead>\n",
       "    <tr style=\"text-align: right;\">\n",
       "      <th></th>\n",
       "      <th>Model</th>\n",
       "      <th>Details</th>\n",
       "      <th>MAE(Train)</th>\n",
       "      <th>RMSE(Train)</th>\n",
       "      <th>R2 Score(Train)</th>\n",
       "      <th>MAE(Test)</th>\n",
       "      <th>RMSE(Test)</th>\n",
       "      <th>R2 Score(Test)</th>\n",
       "    </tr>\n",
       "  </thead>\n",
       "  <tbody>\n",
       "    <tr>\n",
       "      <th>0</th>\n",
       "      <td>Linear Regression</td>\n",
       "      <td>Original, All features</td>\n",
       "      <td>41991.905091</td>\n",
       "      <td>59119.739185</td>\n",
       "      <td>0.541628</td>\n",
       "      <td>45994.832116</td>\n",
       "      <td>73633.694100</td>\n",
       "      <td>0.538082</td>\n",
       "    </tr>\n",
       "    <tr>\n",
       "      <th>1</th>\n",
       "      <td>Linear with Ridge</td>\n",
       "      <td>All features, ridge for regularization</td>\n",
       "      <td>41991.390984</td>\n",
       "      <td>59119.739360</td>\n",
       "      <td>0.541628</td>\n",
       "      <td>45994.319641</td>\n",
       "      <td>73633.780838</td>\n",
       "      <td>0.538081</td>\n",
       "    </tr>\n",
       "    <tr>\n",
       "      <th>2</th>\n",
       "      <td>Linear with Lasso</td>\n",
       "      <td>All features, Lasso for regularization</td>\n",
       "      <td>41991.882903</td>\n",
       "      <td>59119.739187</td>\n",
       "      <td>0.541628</td>\n",
       "      <td>45994.806503</td>\n",
       "      <td>73633.694946</td>\n",
       "      <td>0.538082</td>\n",
       "    </tr>\n",
       "    <tr>\n",
       "      <th>3</th>\n",
       "      <td>Linear with Polynomial Features</td>\n",
       "      <td>All Features, degree=2 for Polynomial</td>\n",
       "      <td>38422.833718</td>\n",
       "      <td>55742.148538</td>\n",
       "      <td>0.592507</td>\n",
       "      <td>44824.914788</td>\n",
       "      <td>69811.721648</td>\n",
       "      <td>0.584789</td>\n",
       "    </tr>\n",
       "    <tr>\n",
       "      <th>4</th>\n",
       "      <td>XGBoost Regression</td>\n",
       "      <td>Original, All features</td>\n",
       "      <td>36043.676093</td>\n",
       "      <td>54301.349141</td>\n",
       "      <td>0.613300</td>\n",
       "      <td>44129.357683</td>\n",
       "      <td>76552.768609</td>\n",
       "      <td>0.500732</td>\n",
       "    </tr>\n",
       "  </tbody>\n",
       "</table>\n",
       "</div>"
      ],
      "text/plain": [
       "                             Model                                 Details  \\\n",
       "0                Linear Regression                  Original, All features   \n",
       "1                Linear with Ridge  All features, ridge for regularization   \n",
       "2                Linear with Lasso  All features, Lasso for regularization   \n",
       "3  Linear with Polynomial Features   All Features, degree=2 for Polynomial   \n",
       "4               XGBoost Regression                  Original, All features   \n",
       "\n",
       "     MAE(Train)   RMSE(Train)  R2 Score(Train)     MAE(Test)    RMSE(Test)  \\\n",
       "0  41991.905091  59119.739185         0.541628  45994.832116  73633.694100   \n",
       "1  41991.390984  59119.739360         0.541628  45994.319641  73633.780838   \n",
       "2  41991.882903  59119.739187         0.541628  45994.806503  73633.694946   \n",
       "3  38422.833718  55742.148538         0.592507  44824.914788  69811.721648   \n",
       "4  36043.676093  54301.349141         0.613300  44129.357683  76552.768609   \n",
       "\n",
       "   R2 Score(Test)  \n",
       "0        0.538082  \n",
       "1        0.538081  \n",
       "2        0.538082  \n",
       "3        0.584789  \n",
       "4        0.500732  "
      ]
     },
     "execution_count": 208,
     "metadata": {},
     "output_type": "execute_result"
    }
   ],
   "source": [
    "evaluation_metrics"
   ]
  },
  {
   "cell_type": "markdown",
   "metadata": {},
   "source": [
    "### 8.2. Model Improvement"
   ]
  },
  {
   "cell_type": "markdown",
   "metadata": {},
   "source": [
    "#### 8.2.2. Hyperparameter List For Tuning"
   ]
  },
  {
   "cell_type": "code",
   "execution_count": 209,
   "metadata": {},
   "outputs": [],
   "source": [
    "param_ridge = {'alpha': [0.001, 0.01, 0.1, 1, 10, 100, 1000],\n",
    "                'fit_intercept': [True, False],\n",
    "                'solver': ['svd', 'cholesky', 'lsqr', 'sparse_cg', 'sag', 'saga']}\n",
    "param_lasso = {'alpha': [1, 10, 100, 1000, 5000, 8000, 10000],\n",
    "                'fit_intercept': [True, False]}\n",
    "param_xgb = {'n_estimators': [120, 130],\n",
    "            'max_depth': [1, 2],\n",
    "            'learning_rate': [0.01, 0.08],\n",
    "            'subsample': [0.7],\n",
    "            'colsample_bytree': [0.8],\n",
    "            }\n",
    "\n"
   ]
  },
  {
   "cell_type": "markdown",
   "metadata": {},
   "source": [
    "#### 8.2.1 Hyperparameter Tuning With GridSearchCV"
   ]
  },
  {
   "cell_type": "markdown",
   "metadata": {},
   "source": [
    "##### A. Ridge Regularization"
   ]
  },
  {
   "cell_type": "code",
   "execution_count": 210,
   "metadata": {},
   "outputs": [],
   "source": [
    "from sklearn.model_selection import GridSearchCV"
   ]
  },
  {
   "cell_type": "code",
   "execution_count": 211,
   "metadata": {},
   "outputs": [
    {
     "data": {
      "text/plain": [
       "GridSearchCV(cv=5, estimator=Ridge(alpha=0.1),\n",
       "             param_grid={'alpha': [0.001, 0.01, 0.1, 1, 10, 100, 1000],\n",
       "                         'fit_intercept': [True, False],\n",
       "                         'solver': ['svd', 'cholesky', 'lsqr', 'sparse_cg',\n",
       "                                    'sag', 'saga']},\n",
       "             scoring='neg_mean_absolute_error')"
      ]
     },
     "execution_count": 211,
     "metadata": {},
     "output_type": "execute_result"
    }
   ],
   "source": [
    "ridge_grid = GridSearchCV(ridge_reg, param_grid=param_ridge, cv=5, scoring='neg_mean_absolute_error') \n",
    "ridge_grid.fit(X_train_final, y_train_trimmed)"
   ]
  },
  {
   "cell_type": "code",
   "execution_count": 212,
   "metadata": {},
   "outputs": [
    {
     "data": {
      "text/plain": [
       "{'alpha': 100, 'fit_intercept': True, 'solver': 'sparse_cg'}"
      ]
     },
     "execution_count": 212,
     "metadata": {},
     "output_type": "execute_result"
    }
   ],
   "source": [
    "ridge_grid.best_params_"
   ]
  },
  {
   "cell_type": "code",
   "execution_count": 213,
   "metadata": {},
   "outputs": [
    {
     "data": {
      "text/plain": [
       "Ridge(alpha=100, solver='sparse_cg')"
      ]
     },
     "execution_count": 213,
     "metadata": {},
     "output_type": "execute_result"
    }
   ],
   "source": [
    "ridge_best= ridge_grid.best_estimator_\n",
    "ridge_best"
   ]
  },
  {
   "cell_type": "code",
   "execution_count": 214,
   "metadata": {},
   "outputs": [
    {
     "name": "stdout",
     "output_type": "stream",
     "text": [
      "MAE Train-set: 41593.54577557957\n",
      "MAE Train-set: 41593.54577557957\n",
      "RMSE Train-Set: 59244.79577904366\n",
      "R2 Score Train-Set: 0.5396868504960056\n",
      "MAE Train-set: 45543.31451906094\n",
      "RMSE Test-Set:  73846.43507984316\n",
      "R2 Score Test-set:  0.5354087192524137\n"
     ]
    }
   ],
   "source": [
    "y_pred_train_tuning_ridge = ridge_best.predict(X_train_final)\n",
    "y_pred_test_tuning_ridge = ridge_best.predict(X_test_final)\n",
    "print('MAE Train-set:', mean_absolute_error(y_train_trimmed, y_pred_train_tuning_ridge))\n",
    "\n",
    "mae_model1_train = mean_absolute_error(y_train_trimmed, y_pred_train_tuning_ridge)\n",
    "rmse_model1_train =mean_squared_error(y_train_trimmed, y_pred_train_tuning_ridge, squared=False)\n",
    "r2_model1_train =r2_score(y_train_trimmed, y_pred_train_tuning_ridge)\n",
    "mae_model1_test = mean_absolute_error(y_test, y_pred_test_tuning_ridge)\n",
    "rmse_model1_test = mean_squared_error(y_test, y_pred_test_tuning_ridge, squared=False)\n",
    "r2_model1_test = r2_score(y_test, y_pred_test_tuning_ridge)\n",
    "evaluation_metrics.loc[i+5] = ['Ridge Tuned', 'All features, Ridge(alpha=100, solver=\"svd\")', mae_model1_train, rmse_model1_train, r2_model1_train, mae_model1_test, rmse_model1_test, r2_model1_test]\n",
    "print('MAE Train-set:', mae_model1_train)\n",
    "print('RMSE Train-Set:', rmse_model1_train)\n",
    "print('R2 Score Train-Set:', r2_model1_train)\n",
    "print('MAE Train-set:', mae_model1_test)\n",
    "print('RMSE Test-Set: ', rmse_model1_test)\n",
    "print('R2 Score Test-set: ', r2_model1_test)\n"
   ]
  },
  {
   "cell_type": "markdown",
   "metadata": {},
   "source": [
    "##### B. Lasso Regularization"
   ]
  },
  {
   "cell_type": "code",
   "execution_count": 215,
   "metadata": {},
   "outputs": [
    {
     "data": {
      "text/plain": [
       "GridSearchCV(cv=5, estimator=Lasso(alpha=0.1),\n",
       "             param_grid={'alpha': [1, 10, 100, 1000, 5000, 8000, 10000],\n",
       "                         'fit_intercept': [True, False]},\n",
       "             scoring='neg_mean_absolute_error')"
      ]
     },
     "execution_count": 215,
     "metadata": {},
     "output_type": "execute_result"
    }
   ],
   "source": [
    "lasso_grid = GridSearchCV(lasso_reg, param_grid=param_lasso, cv=5, scoring='neg_mean_absolute_error') \n",
    "lasso_grid.fit(X_train_final, y_train_trimmed)"
   ]
  },
  {
   "cell_type": "code",
   "execution_count": 216,
   "metadata": {},
   "outputs": [
    {
     "data": {
      "text/plain": [
       "Lasso(alpha=8000)"
      ]
     },
     "execution_count": 216,
     "metadata": {},
     "output_type": "execute_result"
    }
   ],
   "source": [
    "lasso_best= lasso_grid.best_estimator_\n",
    "lasso_best"
   ]
  },
  {
   "cell_type": "code",
   "execution_count": 217,
   "metadata": {},
   "outputs": [
    {
     "name": "stdout",
     "output_type": "stream",
     "text": [
      "MAE Train-set: 41751.48218239121\n",
      "RMSE Train-Set: 60927.94458796659\n",
      "R2 Score Train-Set: 0.5131602591697209\n",
      "MAE Train-set: 45716.10657106476\n",
      "RMSE Test-Set:  75898.66954196387\n",
      "R2 Score Test-set:  0.5092273958482672\n"
     ]
    }
   ],
   "source": [
    "y_pred_train_tuning_lasso = lasso_best.predict(X_train_final)\n",
    "y_pred_test_tuning_lasso = lasso_best.predict(X_test_final)\n",
    "\n",
    "mae_model1_train = mean_absolute_error(y_train_trimmed, y_pred_train_tuning_lasso)\n",
    "rmse_model1_train =mean_squared_error(y_train_trimmed, y_pred_train_tuning_lasso, squared=False)\n",
    "r2_model1_train =r2_score(y_train_trimmed, y_pred_train_tuning_lasso)\n",
    "mae_model1_test = mean_absolute_error(y_test, y_pred_test_tuning_lasso)\n",
    "rmse_model1_test = mean_squared_error(y_test, y_pred_test_tuning_lasso, squared=False)\n",
    "r2_model1_test = r2_score(y_test, y_pred_test_tuning_lasso)\n",
    "evaluation_metrics.loc[i+6] = ['Lasso Tuned', 'All features, Lasso(alpha=5000)', mae_model1_train, rmse_model1_train, r2_model1_train, mae_model1_test, rmse_model1_test, r2_model1_test]\n",
    "print('MAE Train-set:', mae_model1_train)\n",
    "print('RMSE Train-Set:', rmse_model1_train)\n",
    "print('R2 Score Train-Set:', r2_model1_train)\n",
    "print('MAE Train-set:', mae_model1_test)\n",
    "print('RMSE Test-Set: ', rmse_model1_test)\n",
    "print('R2 Score Test-set: ', r2_model1_test)\n"
   ]
  },
  {
   "cell_type": "markdown",
   "metadata": {},
   "source": [
    "##### C. XGBoost Regression"
   ]
  },
  {
   "cell_type": "code",
   "execution_count": 218,
   "metadata": {},
   "outputs": [
    {
     "data": {
      "text/plain": [
       "GridSearchCV(cv=3,\n",
       "             estimator=XGBRegressor(base_score=0.5, booster='gbtree',\n",
       "                                    colsample_bylevel=1, colsample_bynode=1,\n",
       "                                    colsample_bytree=1, gamma=0, gpu_id=-1,\n",
       "                                    importance_type='gain',\n",
       "                                    interaction_constraints='',\n",
       "                                    learning_rate=0.300000012, max_delta_step=0,\n",
       "                                    max_depth=6, min_child_weight=1,\n",
       "                                    missing=nan, monotone_constraints='()',\n",
       "                                    n_estimators=5, n_jobs=8,\n",
       "                                    num_parallel_tree=1, random_state=0,\n",
       "                                    reg_alpha=0, reg_lambda=1,\n",
       "                                    scale_pos_weight=1, subsample=1,\n",
       "                                    tree_method='exact', validate_parameters=1,\n",
       "                                    verbosity=None),\n",
       "             param_grid={'colsample_bytree': [0.8],\n",
       "                         'learning_rate': [0.01, 0.08], 'max_depth': [1, 2],\n",
       "                         'n_estimators': [120, 130], 'subsample': [0.7]},\n",
       "             scoring='neg_mean_absolute_error')"
      ]
     },
     "execution_count": 218,
     "metadata": {},
     "output_type": "execute_result"
    }
   ],
   "source": [
    "xgb_grid = GridSearchCV(xgb_reg, param_grid=param_xgb, cv=3, scoring='neg_mean_absolute_error') \n",
    "xgb_grid.fit(X_train_final, y_train_trimmed)"
   ]
  },
  {
   "cell_type": "code",
   "execution_count": 219,
   "metadata": {},
   "outputs": [
    {
     "data": {
      "text/plain": [
       "{'colsample_bytree': 0.8,\n",
       " 'learning_rate': 0.08,\n",
       " 'max_depth': 2,\n",
       " 'n_estimators': 120,\n",
       " 'subsample': 0.7}"
      ]
     },
     "execution_count": 219,
     "metadata": {},
     "output_type": "execute_result"
    }
   ],
   "source": [
    "xgb_grid.best_params_"
   ]
  },
  {
   "cell_type": "code",
   "execution_count": 220,
   "metadata": {},
   "outputs": [
    {
     "data": {
      "text/plain": [
       "XGBRegressor(base_score=0.5, booster='gbtree', colsample_bylevel=1,\n",
       "             colsample_bynode=1, colsample_bytree=0.8, gamma=0, gpu_id=-1,\n",
       "             importance_type='gain', interaction_constraints='',\n",
       "             learning_rate=0.08, max_delta_step=0, max_depth=2,\n",
       "             min_child_weight=1, missing=nan, monotone_constraints='()',\n",
       "             n_estimators=120, n_jobs=8, num_parallel_tree=1, random_state=0,\n",
       "             reg_alpha=0, reg_lambda=1, scale_pos_weight=1, subsample=0.7,\n",
       "             tree_method='exact', validate_parameters=1, verbosity=None)"
      ]
     },
     "execution_count": 220,
     "metadata": {},
     "output_type": "execute_result"
    }
   ],
   "source": [
    "xgb_best= xgb_grid.best_estimator_\n",
    "xgb_best"
   ]
  },
  {
   "cell_type": "code",
   "execution_count": 221,
   "metadata": {},
   "outputs": [
    {
     "name": "stdout",
     "output_type": "stream",
     "text": [
      "MAE Train-set: 33283.26920867239\n",
      "RMSE Train-Set: 48758.19114169808\n",
      "R2 Score Train-Set: 0.6882200817279378\n",
      "MAE Train-set: 36900.90526471819\n",
      "RMSE Test-Set:  62775.19036472244\n",
      "R2 Score Test-set:  0.6642716142634475\n"
     ]
    }
   ],
   "source": [
    "y_pred_train_tuning_xgb = xgb_best.predict(X_train_final)\n",
    "y_pred_test_tuning_xgb = xgb_best.predict(X_test_final)\n",
    "\n",
    "mae_model1_train = mean_absolute_error(y_train_trimmed, y_pred_train_tuning_xgb)\n",
    "rmse_model1_train = mean_squared_error(y_train_trimmed, y_pred_train_tuning_xgb, squared=False)\n",
    "r2_model1_train =r2_score(y_train_trimmed, y_pred_train_tuning_xgb)\n",
    "mae_model1_test = mean_absolute_error(y_test, y_pred_test_tuning_xgb)\n",
    "rmse_model1_test = mean_squared_error(y_test, y_pred_test_tuning_xgb, squared=False)\n",
    "r2_model1_test = r2_score(y_test, y_pred_test_tuning_xgb)\n",
    "evaluation_metrics.loc[i+7] = ['XGBoost Reg Tuned', 'All features, colsample_bytree: 0.7, learning_rate: 0.05, max_depth: 2, n_estimators: 120, subsample: 0.8', mae_model1_train, rmse_model1_train, r2_model1_train, mae_model1_test, rmse_model1_test, r2_model1_test]\n",
    "print('MAE Train-set:', mae_model1_train)\n",
    "print('RMSE Train-Set:', rmse_model1_train)\n",
    "print('R2 Score Train-Set:', r2_model1_train)\n",
    "print('MAE Train-set:', mae_model1_test)\n",
    "print('RMSE Test-Set: ', rmse_model1_test)\n",
    "print('R2 Score Test-set: ', r2_model1_test)\n",
    "\n"
   ]
  },
  {
   "cell_type": "markdown",
   "metadata": {},
   "source": [
    "### 8.3. Choosing The Best Model"
   ]
  },
  {
   "cell_type": "markdown",
   "metadata": {},
   "source": [
    "- Setelah melalui berbagai tahap evaluasi dari berbagai model baik model dasar ataupun model yang telah di-tuning\n",
    "- Kita akan memilih salah satu yang paling terbaik diantara-nya dengan skor metrik yang digunakan ialah `Mean Absolute Error` atau MAE\n",
    "- Pemilihan metrik ini dikarenakan kita akan melihat model mana yang memiliki rata-rata selisih harga yang paling rendah dari harga yang seharusnya dari keseluruhan saat prediksi train set ataupun pada test set\n",
    "- Model ini juga tidak mengkuadratkan selisih, sehingga jarak error/selisih pada `MAE` tidak akan terlalu jauh jika dibandingkan dengan hasil `RMSE`. Jika kita kembali ke atas pada saat melihat statistika deskriptif khususnya pada kolom `price`, Q3-Q4 pada model ini perbedaan nilainya sangat berbanding jauh sekali dengan nilai IQR-nya. Sehingga harga-harga mobil yang sangat mahal cenderung akan menghasilkan selisih harga yang tinggi juga dan tentunya memberikan dampak pada harga-harga yang jauh berada di bawahnya dimana kebetulan mobil-mobil ini menjadi bagian mayoritas dari daftar penjualan mobil"
   ]
  },
  {
   "cell_type": "code",
   "execution_count": 222,
   "metadata": {},
   "outputs": [
    {
     "data": {
      "text/html": [
       "<div>\n",
       "<style scoped>\n",
       "    .dataframe tbody tr th:only-of-type {\n",
       "        vertical-align: middle;\n",
       "    }\n",
       "\n",
       "    .dataframe tbody tr th {\n",
       "        vertical-align: top;\n",
       "    }\n",
       "\n",
       "    .dataframe thead th {\n",
       "        text-align: right;\n",
       "    }\n",
       "</style>\n",
       "<table border=\"1\" class=\"dataframe\">\n",
       "  <thead>\n",
       "    <tr style=\"text-align: right;\">\n",
       "      <th></th>\n",
       "      <th>Model</th>\n",
       "      <th>Details</th>\n",
       "      <th>MAE(Train)</th>\n",
       "      <th>RMSE(Train)</th>\n",
       "      <th>R2 Score(Train)</th>\n",
       "      <th>MAE(Test)</th>\n",
       "      <th>RMSE(Test)</th>\n",
       "      <th>R2 Score(Test)</th>\n",
       "    </tr>\n",
       "  </thead>\n",
       "  <tbody>\n",
       "    <tr>\n",
       "      <th>0</th>\n",
       "      <td>Linear Regression</td>\n",
       "      <td>Original, All features</td>\n",
       "      <td>41991.905091</td>\n",
       "      <td>59119.739185</td>\n",
       "      <td>0.541628</td>\n",
       "      <td>45994.832116</td>\n",
       "      <td>73633.694100</td>\n",
       "      <td>0.538082</td>\n",
       "    </tr>\n",
       "    <tr>\n",
       "      <th>1</th>\n",
       "      <td>Linear with Ridge</td>\n",
       "      <td>All features, ridge for regularization</td>\n",
       "      <td>41991.390984</td>\n",
       "      <td>59119.739360</td>\n",
       "      <td>0.541628</td>\n",
       "      <td>45994.319641</td>\n",
       "      <td>73633.780838</td>\n",
       "      <td>0.538081</td>\n",
       "    </tr>\n",
       "    <tr>\n",
       "      <th>2</th>\n",
       "      <td>Linear with Lasso</td>\n",
       "      <td>All features, Lasso for regularization</td>\n",
       "      <td>41991.882903</td>\n",
       "      <td>59119.739187</td>\n",
       "      <td>0.541628</td>\n",
       "      <td>45994.806503</td>\n",
       "      <td>73633.694946</td>\n",
       "      <td>0.538082</td>\n",
       "    </tr>\n",
       "    <tr>\n",
       "      <th>3</th>\n",
       "      <td>Linear with Polynomial Features</td>\n",
       "      <td>All Features, degree=2 for Polynomial</td>\n",
       "      <td>38422.833718</td>\n",
       "      <td>55742.148538</td>\n",
       "      <td>0.592507</td>\n",
       "      <td>44824.914788</td>\n",
       "      <td>69811.721648</td>\n",
       "      <td>0.584789</td>\n",
       "    </tr>\n",
       "    <tr>\n",
       "      <th>4</th>\n",
       "      <td>XGBoost Regression</td>\n",
       "      <td>Original, All features</td>\n",
       "      <td>36043.676093</td>\n",
       "      <td>54301.349141</td>\n",
       "      <td>0.613300</td>\n",
       "      <td>44129.357683</td>\n",
       "      <td>76552.768609</td>\n",
       "      <td>0.500732</td>\n",
       "    </tr>\n",
       "    <tr>\n",
       "      <th>5</th>\n",
       "      <td>Ridge Tuned</td>\n",
       "      <td>All features, Ridge(alpha=100, solver=\"svd\")</td>\n",
       "      <td>41593.545776</td>\n",
       "      <td>59244.795779</td>\n",
       "      <td>0.539687</td>\n",
       "      <td>45543.314519</td>\n",
       "      <td>73846.435080</td>\n",
       "      <td>0.535409</td>\n",
       "    </tr>\n",
       "    <tr>\n",
       "      <th>6</th>\n",
       "      <td>Lasso Tuned</td>\n",
       "      <td>All features, Lasso(alpha=5000)</td>\n",
       "      <td>41751.482182</td>\n",
       "      <td>60927.944588</td>\n",
       "      <td>0.513160</td>\n",
       "      <td>45716.106571</td>\n",
       "      <td>75898.669542</td>\n",
       "      <td>0.509227</td>\n",
       "    </tr>\n",
       "    <tr>\n",
       "      <th>7</th>\n",
       "      <td>XGBoost Reg Tuned</td>\n",
       "      <td>All features, colsample_bytree: 0.7, learning_...</td>\n",
       "      <td>33283.269209</td>\n",
       "      <td>48758.191142</td>\n",
       "      <td>0.688220</td>\n",
       "      <td>36900.905265</td>\n",
       "      <td>62775.190365</td>\n",
       "      <td>0.664272</td>\n",
       "    </tr>\n",
       "  </tbody>\n",
       "</table>\n",
       "</div>"
      ],
      "text/plain": [
       "                             Model  \\\n",
       "0                Linear Regression   \n",
       "1                Linear with Ridge   \n",
       "2                Linear with Lasso   \n",
       "3  Linear with Polynomial Features   \n",
       "4               XGBoost Regression   \n",
       "5                      Ridge Tuned   \n",
       "6                      Lasso Tuned   \n",
       "7                XGBoost Reg Tuned   \n",
       "\n",
       "                                             Details    MAE(Train)  \\\n",
       "0                             Original, All features  41991.905091   \n",
       "1             All features, ridge for regularization  41991.390984   \n",
       "2             All features, Lasso for regularization  41991.882903   \n",
       "3              All Features, degree=2 for Polynomial  38422.833718   \n",
       "4                             Original, All features  36043.676093   \n",
       "5       All features, Ridge(alpha=100, solver=\"svd\")  41593.545776   \n",
       "6                    All features, Lasso(alpha=5000)  41751.482182   \n",
       "7  All features, colsample_bytree: 0.7, learning_...  33283.269209   \n",
       "\n",
       "    RMSE(Train)  R2 Score(Train)     MAE(Test)    RMSE(Test)  R2 Score(Test)  \n",
       "0  59119.739185         0.541628  45994.832116  73633.694100        0.538082  \n",
       "1  59119.739360         0.541628  45994.319641  73633.780838        0.538081  \n",
       "2  59119.739187         0.541628  45994.806503  73633.694946        0.538082  \n",
       "3  55742.148538         0.592507  44824.914788  69811.721648        0.584789  \n",
       "4  54301.349141         0.613300  44129.357683  76552.768609        0.500732  \n",
       "5  59244.795779         0.539687  45543.314519  73846.435080        0.535409  \n",
       "6  60927.944588         0.513160  45716.106571  75898.669542        0.509227  \n",
       "7  48758.191142         0.688220  36900.905265  62775.190365        0.664272  "
      ]
     },
     "execution_count": 222,
     "metadata": {},
     "output_type": "execute_result"
    }
   ],
   "source": [
    "evaluation_metrics"
   ]
  },
  {
   "cell_type": "markdown",
   "metadata": {},
   "source": [
    "- XGBoost yang telah dituning hyperparameternya dipilih sebagai model terbaik dan akan digunakan saat penggunaan prediksi data inference baik pada pengerjaan notebook ini maupun pada masukkkan informasi dari pengguna saat mengakses web prediksi harga mobil bekas\n",
    "- Ini dikarenakan nilai MAE yang dihasilkan baik pada prediksi  Train set ataupun Test set lebih rendah dibandingkan dengan model lainnya\n",
    "- Nilai MAE yang dihasilkan pada model ini adalah 32474 untuk Train set dan 39701 untuk Test set\n",
    "- Selisih antara Train set ataupun Test set berkisar 4000-an terbilang tidak terlalu jauh jika kita berpatokan pada nilai central tendency ataupun measure of variability pada Train maupun Test set"
   ]
  },
  {
   "cell_type": "code",
   "execution_count": 223,
   "metadata": {},
   "outputs": [
    {
     "data": {
      "text/plain": [
       "count      1659.000000\n",
       "mean     159761.467752\n",
       "std       87348.297786\n",
       "min       20000.000000\n",
       "25%      105825.000000\n",
       "50%      142000.000000\n",
       "75%      189000.000000\n",
       "max      740000.000000\n",
       "Name: price, dtype: float64"
      ]
     },
     "execution_count": 223,
     "metadata": {},
     "output_type": "execute_result"
    }
   ],
   "source": [
    "y_train_trimmed.describe()"
   ]
  },
  {
   "cell_type": "code",
   "execution_count": 224,
   "metadata": {},
   "outputs": [
    {
     "data": {
      "text/plain": [
       "count       448.000000\n",
       "mean     163140.178571\n",
       "std      108462.410645\n",
       "min       17500.000000\n",
       "25%      100000.000000\n",
       "50%      138375.000000\n",
       "75%      189187.500000\n",
       "max      875900.000000\n",
       "Name: price, dtype: float64"
      ]
     },
     "execution_count": 224,
     "metadata": {},
     "output_type": "execute_result"
    }
   ],
   "source": [
    "y_test.describe()"
   ]
  },
  {
   "cell_type": "markdown",
   "metadata": {},
   "source": [
    "### 8.4. Build Pipeline"
   ]
  },
  {
   "cell_type": "markdown",
   "metadata": {},
   "source": [
    "- Pipeline akan digunakan untuk membungkus tahapan yang sekiranya dilakukan pada proses prediksi untuk data inference(data yang berada diluar dari tahapan train ataupun evaluasi model)\n",
    "- Tahapan tersebut berarti akan dimulai dari tahap Feaure scaling & Encoding kemudian dilanjutkan ke tahap prediksi model machine learning\n",
    "- Tahapan Pipeline kemudian akan disimpan ke dalam file .pkl agar nantinya bisa digunakan diluar dari file notebook ini sekaligus memprediksi harga berdasarkan masukkan/input dari pengguna melalui website prediksi harga mobil bekas yang nantinya akan dibuat"
   ]
  },
  {
   "cell_type": "code",
   "execution_count": 225,
   "metadata": {},
   "outputs": [],
   "source": [
    "num_pipeline = make_pipeline(StandardScaler())\n",
    "cat_pipeline = make_pipeline(OrdinalEncoder(categories=[cat_brand, cat_model, cat_fuel, cat_gear]))\n",
    "\n",
    "data_pipeline = ColumnTransformer([\n",
    "    ('pipe_num', num_pipeline, num_columns),\n",
    "    ('pipe_cat', cat_pipeline, cat_columns)\n",
    "])\n",
    "\n",
    "# Final pipeline\n",
    "pipe_xgb_reg = make_pipeline(data_pipeline, xgb_best)"
   ]
  },
  {
   "cell_type": "code",
   "execution_count": 226,
   "metadata": {},
   "outputs": [
    {
     "name": "stdout",
     "output_type": "stream",
     "text": [
      "MAE Train-set: 33283.26920867239\n",
      "RMSE Train-Set: 48758.19114169808\n",
      "R2 Score Train-Set: 0.6882200817279378\n",
      "MAE Train-set: 36900.90526471819\n",
      "RMSE Test-Set:  62775.19036472244\n",
      "R2 Score Test-set:  0.6642716142634475\n"
     ]
    }
   ],
   "source": [
    "\n",
    "pipe_xgb_reg.fit(X_train_capped, y_train_trimmed)\n",
    "\n",
    "# Predict Error on Train-Set and Test-Set\n",
    "y_pred_train_lin_reg_pipe = pipe_xgb_reg.predict(X_train_capped)\n",
    "y_pred_test_lin_reg_pipe = pipe_xgb_reg.predict(X_test)\n",
    "\n",
    "# Evaluation of Error\n",
    "from sklearn.metrics import mean_absolute_error, mean_squared_error, r2_score\n",
    "mae_model1_train = mean_absolute_error(y_train_trimmed, y_pred_train_lin_reg_pipe)\n",
    "rmse_model1_train =mean_squared_error(y_train_trimmed, y_pred_train_lin_reg_pipe, squared=False)\n",
    "r2_model1_train =r2_score(y_train_trimmed, y_pred_train_lin_reg_pipe)\n",
    "mae_model1_test = mean_absolute_error(y_test, y_pred_test_lin_reg_pipe)\n",
    "rmse_model1_test = mean_squared_error(y_test, y_pred_test_lin_reg_pipe, squared=False)\n",
    "r2_model1_test = r2_score(y_test, y_pred_test_lin_reg_pipe)\n",
    "\n",
    "print('MAE Train-set:', mae_model1_train)\n",
    "print('RMSE Train-Set:', rmse_model1_train)\n",
    "print('R2 Score Train-Set:', r2_model1_train)\n",
    "print('MAE Train-set:', mae_model1_test)\n",
    "print('RMSE Test-Set: ', rmse_model1_test)\n",
    "print('R2 Score Test-set: ', r2_model1_test)\n",
    "\n"
   ]
  },
  {
   "cell_type": "markdown",
   "metadata": {},
   "source": [
    "- Simpan hasil pipeline kedalam file .pkl"
   ]
  },
  {
   "cell_type": "code",
   "execution_count": 227,
   "metadata": {},
   "outputs": [],
   "source": [
    "with open(\"full_pipe.pkl\", \"wb\") as f:\n",
    "    pickle.dump(pipe_xgb_reg, f)"
   ]
  },
  {
   "cell_type": "markdown",
   "metadata": {},
   "source": [
    "## **9. Model Inference**"
   ]
  },
  {
   "cell_type": "code",
   "execution_count": 228,
   "metadata": {},
   "outputs": [
    {
     "data": {
      "text/plain": [
       "0"
      ]
     },
     "execution_count": 228,
     "metadata": {},
     "output_type": "execute_result"
    }
   ],
   "source": [
    "df_inf.isnull().sum().sum()"
   ]
  },
  {
   "cell_type": "markdown",
   "metadata": {},
   "source": [
    "- Sebelum diaplikasikan lansung menggunakan file python yang khusus menangani masukkan dari user, kita akan menguji coba pipeline yang tersimpan dari file .pkl yang telah kita buat sebelumnya"
   ]
  },
  {
   "cell_type": "code",
   "execution_count": 229,
   "metadata": {},
   "outputs": [],
   "source": [
    "with open(\"full_pipe.pkl\", \"rb\") as f:\n",
    "    pipeline = pickle.load(f)"
   ]
  },
  {
   "cell_type": "code",
   "execution_count": 230,
   "metadata": {},
   "outputs": [],
   "source": [
    "y_pred_inf = pipeline.predict(df_inf)\n",
    "y_pred_inf = pd.DataFrame(y_pred_inf, columns=['predicted_price'])"
   ]
  },
  {
   "cell_type": "code",
   "execution_count": 231,
   "metadata": {},
   "outputs": [],
   "source": [
    "# Concate to Original Dataframe\n",
    "df_inf_result = pd.concat([df_inf, y_pred_inf], axis=1)"
   ]
  },
  {
   "cell_type": "code",
   "execution_count": 232,
   "metadata": {},
   "outputs": [
    {
     "data": {
      "text/html": [
       "<div>\n",
       "<style scoped>\n",
       "    .dataframe tbody tr th:only-of-type {\n",
       "        vertical-align: middle;\n",
       "    }\n",
       "\n",
       "    .dataframe tbody tr th {\n",
       "        vertical-align: top;\n",
       "    }\n",
       "\n",
       "    .dataframe thead th {\n",
       "        text-align: right;\n",
       "    }\n",
       "</style>\n",
       "<table border=\"1\" class=\"dataframe\">\n",
       "  <thead>\n",
       "    <tr style=\"text-align: right;\">\n",
       "      <th></th>\n",
       "      <th>brand</th>\n",
       "      <th>model</th>\n",
       "      <th>age</th>\n",
       "      <th>fuel_type</th>\n",
       "      <th>gear_type</th>\n",
       "      <th>engine_capacity</th>\n",
       "      <th>engine_power</th>\n",
       "      <th>km</th>\n",
       "      <th>changed_parts</th>\n",
       "      <th>painted_parts</th>\n",
       "      <th>price</th>\n",
       "    </tr>\n",
       "  </thead>\n",
       "  <tbody>\n",
       "    <tr>\n",
       "      <th>0</th>\n",
       "      <td>Renault</td>\n",
       "      <td>Clio</td>\n",
       "      <td>1</td>\n",
       "      <td>Diesel</td>\n",
       "      <td>Manual</td>\n",
       "      <td>1500</td>\n",
       "      <td>152</td>\n",
       "      <td>79000</td>\n",
       "      <td>0</td>\n",
       "      <td>0</td>\n",
       "      <td>278000</td>\n",
       "    </tr>\n",
       "    <tr>\n",
       "      <th>1</th>\n",
       "      <td>Skoda</td>\n",
       "      <td>Octavia</td>\n",
       "      <td>3</td>\n",
       "      <td>Diesel</td>\n",
       "      <td>Automatic</td>\n",
       "      <td>1600</td>\n",
       "      <td>100</td>\n",
       "      <td>219000</td>\n",
       "      <td>0</td>\n",
       "      <td>0</td>\n",
       "      <td>59900</td>\n",
       "    </tr>\n",
       "    <tr>\n",
       "      <th>2</th>\n",
       "      <td>Skoda</td>\n",
       "      <td>Fabia</td>\n",
       "      <td>5</td>\n",
       "      <td>Gasoline</td>\n",
       "      <td>Automatic</td>\n",
       "      <td>1200</td>\n",
       "      <td>83</td>\n",
       "      <td>230000</td>\n",
       "      <td>0</td>\n",
       "      <td>0</td>\n",
       "      <td>57000</td>\n",
       "    </tr>\n",
       "    <tr>\n",
       "      <th>3</th>\n",
       "      <td>Opel</td>\n",
       "      <td>Astra</td>\n",
       "      <td>9</td>\n",
       "      <td>Diesel</td>\n",
       "      <td>Manual</td>\n",
       "      <td>1200</td>\n",
       "      <td>90</td>\n",
       "      <td>145000</td>\n",
       "      <td>0</td>\n",
       "      <td>0</td>\n",
       "      <td>145500</td>\n",
       "    </tr>\n",
       "    <tr>\n",
       "      <th>4</th>\n",
       "      <td>Volkswagen</td>\n",
       "      <td>Golf</td>\n",
       "      <td>5</td>\n",
       "      <td>Gasoline</td>\n",
       "      <td>Manual</td>\n",
       "      <td>1400</td>\n",
       "      <td>122</td>\n",
       "      <td>120000</td>\n",
       "      <td>2</td>\n",
       "      <td>5</td>\n",
       "      <td>199900</td>\n",
       "    </tr>\n",
       "    <tr>\n",
       "      <th>5</th>\n",
       "      <td>Renault</td>\n",
       "      <td>Clio</td>\n",
       "      <td>6</td>\n",
       "      <td>Gasoline</td>\n",
       "      <td>Manual</td>\n",
       "      <td>1100</td>\n",
       "      <td>75</td>\n",
       "      <td>145000</td>\n",
       "      <td>1</td>\n",
       "      <td>0</td>\n",
       "      <td>110000</td>\n",
       "    </tr>\n",
       "    <tr>\n",
       "      <th>6</th>\n",
       "      <td>Mercedes</td>\n",
       "      <td>C</td>\n",
       "      <td>5</td>\n",
       "      <td>Gasoline</td>\n",
       "      <td>Automatic</td>\n",
       "      <td>1400</td>\n",
       "      <td>93</td>\n",
       "      <td>119694</td>\n",
       "      <td>0</td>\n",
       "      <td>0</td>\n",
       "      <td>128000</td>\n",
       "    </tr>\n",
       "    <tr>\n",
       "      <th>7</th>\n",
       "      <td>Volvo</td>\n",
       "      <td>V40</td>\n",
       "      <td>0</td>\n",
       "      <td>Diesel</td>\n",
       "      <td>Automatic</td>\n",
       "      <td>1800</td>\n",
       "      <td>113</td>\n",
       "      <td>17805</td>\n",
       "      <td>0</td>\n",
       "      <td>0</td>\n",
       "      <td>301500</td>\n",
       "    </tr>\n",
       "    <tr>\n",
       "      <th>8</th>\n",
       "      <td>BMW</td>\n",
       "      <td>1</td>\n",
       "      <td>6</td>\n",
       "      <td>Diesel</td>\n",
       "      <td>Manual</td>\n",
       "      <td>2000</td>\n",
       "      <td>105</td>\n",
       "      <td>165000</td>\n",
       "      <td>0</td>\n",
       "      <td>0</td>\n",
       "      <td>219000</td>\n",
       "    </tr>\n",
       "    <tr>\n",
       "      <th>9</th>\n",
       "      <td>Fiat</td>\n",
       "      <td>Egea</td>\n",
       "      <td>1</td>\n",
       "      <td>Diesel</td>\n",
       "      <td>Manual</td>\n",
       "      <td>1200</td>\n",
       "      <td>75</td>\n",
       "      <td>134000</td>\n",
       "      <td>0</td>\n",
       "      <td>0</td>\n",
       "      <td>134000</td>\n",
       "    </tr>\n",
       "  </tbody>\n",
       "</table>\n",
       "</div>"
      ],
      "text/plain": [
       "        brand    model  age fuel_type  gear_type  engine_capacity  \\\n",
       "0     Renault     Clio    1    Diesel     Manual             1500   \n",
       "1       Skoda  Octavia    3    Diesel  Automatic             1600   \n",
       "2       Skoda    Fabia    5  Gasoline  Automatic             1200   \n",
       "3        Opel    Astra    9    Diesel     Manual             1200   \n",
       "4  Volkswagen     Golf    5  Gasoline     Manual             1400   \n",
       "5     Renault     Clio    6  Gasoline     Manual             1100   \n",
       "6    Mercedes        C    5  Gasoline  Automatic             1400   \n",
       "7       Volvo      V40    0    Diesel  Automatic             1800   \n",
       "8         BMW        1    6    Diesel     Manual             2000   \n",
       "9        Fiat     Egea    1    Diesel     Manual             1200   \n",
       "\n",
       "   engine_power      km  changed_parts  painted_parts   price  \n",
       "0           152   79000              0              0  278000  \n",
       "1           100  219000              0              0   59900  \n",
       "2            83  230000              0              0   57000  \n",
       "3            90  145000              0              0  145500  \n",
       "4           122  120000              2              5  199900  \n",
       "5            75  145000              1              0  110000  \n",
       "6            93  119694              0              0  128000  \n",
       "7           113   17805              0              0  301500  \n",
       "8           105  165000              0              0  219000  \n",
       "9            75  134000              0              0  134000  "
      ]
     },
     "execution_count": 232,
     "metadata": {},
     "output_type": "execute_result"
    }
   ],
   "source": [
    "df_inf"
   ]
  },
  {
   "cell_type": "code",
   "execution_count": 233,
   "metadata": {},
   "outputs": [
    {
     "data": {
      "text/html": [
       "<div>\n",
       "<style scoped>\n",
       "    .dataframe tbody tr th:only-of-type {\n",
       "        vertical-align: middle;\n",
       "    }\n",
       "\n",
       "    .dataframe tbody tr th {\n",
       "        vertical-align: top;\n",
       "    }\n",
       "\n",
       "    .dataframe thead th {\n",
       "        text-align: right;\n",
       "    }\n",
       "</style>\n",
       "<table border=\"1\" class=\"dataframe\">\n",
       "  <thead>\n",
       "    <tr style=\"text-align: right;\">\n",
       "      <th></th>\n",
       "      <th>brand</th>\n",
       "      <th>model</th>\n",
       "      <th>engine_capacity</th>\n",
       "      <th>km</th>\n",
       "      <th>price</th>\n",
       "      <th>predicted_price</th>\n",
       "    </tr>\n",
       "  </thead>\n",
       "  <tbody>\n",
       "    <tr>\n",
       "      <th>0</th>\n",
       "      <td>Renault</td>\n",
       "      <td>Clio</td>\n",
       "      <td>1500</td>\n",
       "      <td>79000</td>\n",
       "      <td>278000</td>\n",
       "      <td>323330.468750</td>\n",
       "    </tr>\n",
       "    <tr>\n",
       "      <th>1</th>\n",
       "      <td>Skoda</td>\n",
       "      <td>Octavia</td>\n",
       "      <td>1600</td>\n",
       "      <td>219000</td>\n",
       "      <td>59900</td>\n",
       "      <td>99496.109375</td>\n",
       "    </tr>\n",
       "    <tr>\n",
       "      <th>2</th>\n",
       "      <td>Skoda</td>\n",
       "      <td>Fabia</td>\n",
       "      <td>1200</td>\n",
       "      <td>230000</td>\n",
       "      <td>57000</td>\n",
       "      <td>86437.882812</td>\n",
       "    </tr>\n",
       "    <tr>\n",
       "      <th>3</th>\n",
       "      <td>Opel</td>\n",
       "      <td>Astra</td>\n",
       "      <td>1200</td>\n",
       "      <td>145000</td>\n",
       "      <td>145500</td>\n",
       "      <td>116818.382812</td>\n",
       "    </tr>\n",
       "    <tr>\n",
       "      <th>4</th>\n",
       "      <td>Volkswagen</td>\n",
       "      <td>Golf</td>\n",
       "      <td>1400</td>\n",
       "      <td>120000</td>\n",
       "      <td>199900</td>\n",
       "      <td>176025.953125</td>\n",
       "    </tr>\n",
       "    <tr>\n",
       "      <th>5</th>\n",
       "      <td>Renault</td>\n",
       "      <td>Clio</td>\n",
       "      <td>1100</td>\n",
       "      <td>145000</td>\n",
       "      <td>110000</td>\n",
       "      <td>101956.414062</td>\n",
       "    </tr>\n",
       "    <tr>\n",
       "      <th>6</th>\n",
       "      <td>Mercedes</td>\n",
       "      <td>C</td>\n",
       "      <td>1400</td>\n",
       "      <td>119694</td>\n",
       "      <td>128000</td>\n",
       "      <td>144441.453125</td>\n",
       "    </tr>\n",
       "    <tr>\n",
       "      <th>7</th>\n",
       "      <td>Volvo</td>\n",
       "      <td>V40</td>\n",
       "      <td>1800</td>\n",
       "      <td>17805</td>\n",
       "      <td>301500</td>\n",
       "      <td>266124.437500</td>\n",
       "    </tr>\n",
       "    <tr>\n",
       "      <th>8</th>\n",
       "      <td>BMW</td>\n",
       "      <td>1</td>\n",
       "      <td>2000</td>\n",
       "      <td>165000</td>\n",
       "      <td>219000</td>\n",
       "      <td>136319.359375</td>\n",
       "    </tr>\n",
       "    <tr>\n",
       "      <th>9</th>\n",
       "      <td>Fiat</td>\n",
       "      <td>Egea</td>\n",
       "      <td>1200</td>\n",
       "      <td>134000</td>\n",
       "      <td>134000</td>\n",
       "      <td>108865.695312</td>\n",
       "    </tr>\n",
       "  </tbody>\n",
       "</table>\n",
       "</div>"
      ],
      "text/plain": [
       "        brand    model  engine_capacity      km   price  predicted_price\n",
       "0     Renault     Clio             1500   79000  278000    323330.468750\n",
       "1       Skoda  Octavia             1600  219000   59900     99496.109375\n",
       "2       Skoda    Fabia             1200  230000   57000     86437.882812\n",
       "3        Opel    Astra             1200  145000  145500    116818.382812\n",
       "4  Volkswagen     Golf             1400  120000  199900    176025.953125\n",
       "5     Renault     Clio             1100  145000  110000    101956.414062\n",
       "6    Mercedes        C             1400  119694  128000    144441.453125\n",
       "7       Volvo      V40             1800   17805  301500    266124.437500\n",
       "8         BMW        1             2000  165000  219000    136319.359375\n",
       "9        Fiat     Egea             1200  134000  134000    108865.695312"
      ]
     },
     "execution_count": 233,
     "metadata": {},
     "output_type": "execute_result"
    }
   ],
   "source": [
    "df_inf_result.loc[:,['brand', 'model', 'engine_capacity', 'km', 'price', 'predicted_price']]"
   ]
  },
  {
   "cell_type": "markdown",
   "metadata": {},
   "source": [
    "- Ternyata pipeline yang berada di dalam file `full_pipe.pkl` berjalan dengan baik dan menghasilkan prediksi pada sampel data inference\n",
    "- Sehingga file ini sudah siap untuk digunakan secara external"
   ]
  },
  {
   "cell_type": "code",
   "execution_count": 234,
   "metadata": {},
   "outputs": [
    {
     "data": {
      "text/plain": [
       "array([323330.47], dtype=float32)"
      ]
     },
     "execution_count": 234,
     "metadata": {},
     "output_type": "execute_result"
    }
   ],
   "source": [
    "new_data =['Renault', 'Clio', 1, 'Diesel', 'Manual', 1500, 152, 79000, 0, 0]\n",
    "columns = X_train_capped.columns\n",
    "new_data = pd.DataFrame([new_data], columns=columns)\n",
    "pipeline.predict(new_data)"
   ]
  },
  {
   "cell_type": "markdown",
   "metadata": {},
   "source": [
    "<hr>"
   ]
  },
  {
   "cell_type": "markdown",
   "metadata": {},
   "source": [
    "## **10. Conclusions**"
   ]
  },
  {
   "cell_type": "code",
   "execution_count": 235,
   "metadata": {},
   "outputs": [
    {
     "data": {
      "text/html": [
       "<style  type=\"text/css\" >\n",
       "</style><table id=\"T_cebc2_\" ><thead>    <tr>        <th class=\"blank level0\" ></th>        <th class=\"col_heading level0 col0\" >Model</th>        <th class=\"col_heading level0 col1\" >Details</th>        <th class=\"col_heading level0 col2\" >MAE(Train)</th>        <th class=\"col_heading level0 col3\" >RMSE(Train)</th>        <th class=\"col_heading level0 col4\" >R2 Score(Train)</th>        <th class=\"col_heading level0 col5\" >MAE(Test)</th>        <th class=\"col_heading level0 col6\" >RMSE(Test)</th>        <th class=\"col_heading level0 col7\" >R2 Score(Test)</th>    </tr></thead><tbody>\n",
       "                <tr>\n",
       "                        <th id=\"T_cebc2_level0_row0\" class=\"row_heading level0 row0\" >0</th>\n",
       "                        <td id=\"T_cebc2_row0_col0\" class=\"data row0 col0\" >Linear Regression</td>\n",
       "                        <td id=\"T_cebc2_row0_col1\" class=\"data row0 col1\" >Original, All features</td>\n",
       "                        <td id=\"T_cebc2_row0_col2\" class=\"data row0 col2\" >41991.91</td>\n",
       "                        <td id=\"T_cebc2_row0_col3\" class=\"data row0 col3\" >59119.74</td>\n",
       "                        <td id=\"T_cebc2_row0_col4\" class=\"data row0 col4\" >0.5416</td>\n",
       "                        <td id=\"T_cebc2_row0_col5\" class=\"data row0 col5\" >45994.83</td>\n",
       "                        <td id=\"T_cebc2_row0_col6\" class=\"data row0 col6\" >73633.69</td>\n",
       "                        <td id=\"T_cebc2_row0_col7\" class=\"data row0 col7\" >0.5381</td>\n",
       "            </tr>\n",
       "            <tr>\n",
       "                        <th id=\"T_cebc2_level0_row1\" class=\"row_heading level0 row1\" >1</th>\n",
       "                        <td id=\"T_cebc2_row1_col0\" class=\"data row1 col0\" >Linear with Ridge</td>\n",
       "                        <td id=\"T_cebc2_row1_col1\" class=\"data row1 col1\" >All features, ridge for regularization</td>\n",
       "                        <td id=\"T_cebc2_row1_col2\" class=\"data row1 col2\" >41991.39</td>\n",
       "                        <td id=\"T_cebc2_row1_col3\" class=\"data row1 col3\" >59119.74</td>\n",
       "                        <td id=\"T_cebc2_row1_col4\" class=\"data row1 col4\" >0.5416</td>\n",
       "                        <td id=\"T_cebc2_row1_col5\" class=\"data row1 col5\" >45994.32</td>\n",
       "                        <td id=\"T_cebc2_row1_col6\" class=\"data row1 col6\" >73633.78</td>\n",
       "                        <td id=\"T_cebc2_row1_col7\" class=\"data row1 col7\" >0.5381</td>\n",
       "            </tr>\n",
       "            <tr>\n",
       "                        <th id=\"T_cebc2_level0_row2\" class=\"row_heading level0 row2\" >2</th>\n",
       "                        <td id=\"T_cebc2_row2_col0\" class=\"data row2 col0\" >Linear with Lasso</td>\n",
       "                        <td id=\"T_cebc2_row2_col1\" class=\"data row2 col1\" >All features, Lasso for regularization</td>\n",
       "                        <td id=\"T_cebc2_row2_col2\" class=\"data row2 col2\" >41991.88</td>\n",
       "                        <td id=\"T_cebc2_row2_col3\" class=\"data row2 col3\" >59119.74</td>\n",
       "                        <td id=\"T_cebc2_row2_col4\" class=\"data row2 col4\" >0.5416</td>\n",
       "                        <td id=\"T_cebc2_row2_col5\" class=\"data row2 col5\" >45994.81</td>\n",
       "                        <td id=\"T_cebc2_row2_col6\" class=\"data row2 col6\" >73633.69</td>\n",
       "                        <td id=\"T_cebc2_row2_col7\" class=\"data row2 col7\" >0.5381</td>\n",
       "            </tr>\n",
       "            <tr>\n",
       "                        <th id=\"T_cebc2_level0_row3\" class=\"row_heading level0 row3\" >3</th>\n",
       "                        <td id=\"T_cebc2_row3_col0\" class=\"data row3 col0\" >Linear with Polynomial Features</td>\n",
       "                        <td id=\"T_cebc2_row3_col1\" class=\"data row3 col1\" >All Features, degree=2 for Polynomial</td>\n",
       "                        <td id=\"T_cebc2_row3_col2\" class=\"data row3 col2\" >38422.83</td>\n",
       "                        <td id=\"T_cebc2_row3_col3\" class=\"data row3 col3\" >55742.15</td>\n",
       "                        <td id=\"T_cebc2_row3_col4\" class=\"data row3 col4\" >0.5925</td>\n",
       "                        <td id=\"T_cebc2_row3_col5\" class=\"data row3 col5\" >44824.91</td>\n",
       "                        <td id=\"T_cebc2_row3_col6\" class=\"data row3 col6\" >69811.72</td>\n",
       "                        <td id=\"T_cebc2_row3_col7\" class=\"data row3 col7\" >0.5848</td>\n",
       "            </tr>\n",
       "            <tr>\n",
       "                        <th id=\"T_cebc2_level0_row4\" class=\"row_heading level0 row4\" >4</th>\n",
       "                        <td id=\"T_cebc2_row4_col0\" class=\"data row4 col0\" >XGBoost Regression</td>\n",
       "                        <td id=\"T_cebc2_row4_col1\" class=\"data row4 col1\" >Original, All features</td>\n",
       "                        <td id=\"T_cebc2_row4_col2\" class=\"data row4 col2\" >36043.68</td>\n",
       "                        <td id=\"T_cebc2_row4_col3\" class=\"data row4 col3\" >54301.35</td>\n",
       "                        <td id=\"T_cebc2_row4_col4\" class=\"data row4 col4\" >0.6133</td>\n",
       "                        <td id=\"T_cebc2_row4_col5\" class=\"data row4 col5\" >44129.36</td>\n",
       "                        <td id=\"T_cebc2_row4_col6\" class=\"data row4 col6\" >76552.77</td>\n",
       "                        <td id=\"T_cebc2_row4_col7\" class=\"data row4 col7\" >0.5007</td>\n",
       "            </tr>\n",
       "            <tr>\n",
       "                        <th id=\"T_cebc2_level0_row5\" class=\"row_heading level0 row5\" >5</th>\n",
       "                        <td id=\"T_cebc2_row5_col0\" class=\"data row5 col0\" >Ridge Tuned</td>\n",
       "                        <td id=\"T_cebc2_row5_col1\" class=\"data row5 col1\" >All features, Ridge(alpha=100, solver=\"svd\")</td>\n",
       "                        <td id=\"T_cebc2_row5_col2\" class=\"data row5 col2\" >41593.55</td>\n",
       "                        <td id=\"T_cebc2_row5_col3\" class=\"data row5 col3\" >59244.80</td>\n",
       "                        <td id=\"T_cebc2_row5_col4\" class=\"data row5 col4\" >0.5397</td>\n",
       "                        <td id=\"T_cebc2_row5_col5\" class=\"data row5 col5\" >45543.31</td>\n",
       "                        <td id=\"T_cebc2_row5_col6\" class=\"data row5 col6\" >73846.44</td>\n",
       "                        <td id=\"T_cebc2_row5_col7\" class=\"data row5 col7\" >0.5354</td>\n",
       "            </tr>\n",
       "            <tr>\n",
       "                        <th id=\"T_cebc2_level0_row6\" class=\"row_heading level0 row6\" >6</th>\n",
       "                        <td id=\"T_cebc2_row6_col0\" class=\"data row6 col0\" >Lasso Tuned</td>\n",
       "                        <td id=\"T_cebc2_row6_col1\" class=\"data row6 col1\" >All features, Lasso(alpha=5000)</td>\n",
       "                        <td id=\"T_cebc2_row6_col2\" class=\"data row6 col2\" >41751.48</td>\n",
       "                        <td id=\"T_cebc2_row6_col3\" class=\"data row6 col3\" >60927.94</td>\n",
       "                        <td id=\"T_cebc2_row6_col4\" class=\"data row6 col4\" >0.5132</td>\n",
       "                        <td id=\"T_cebc2_row6_col5\" class=\"data row6 col5\" >45716.11</td>\n",
       "                        <td id=\"T_cebc2_row6_col6\" class=\"data row6 col6\" >75898.67</td>\n",
       "                        <td id=\"T_cebc2_row6_col7\" class=\"data row6 col7\" >0.5092</td>\n",
       "            </tr>\n",
       "            <tr>\n",
       "                        <th id=\"T_cebc2_level0_row7\" class=\"row_heading level0 row7\" >7</th>\n",
       "                        <td id=\"T_cebc2_row7_col0\" class=\"data row7 col0\" >XGBoost Reg Tuned</td>\n",
       "                        <td id=\"T_cebc2_row7_col1\" class=\"data row7 col1\" >All features, colsample_bytree: 0.7, learning_rate: 0.05, max_depth: 2, n_estimators: 120, subsample: 0.8</td>\n",
       "                        <td id=\"T_cebc2_row7_col2\" class=\"data row7 col2\" >33283.27</td>\n",
       "                        <td id=\"T_cebc2_row7_col3\" class=\"data row7 col3\" >48758.19</td>\n",
       "                        <td id=\"T_cebc2_row7_col4\" class=\"data row7 col4\" >0.6882</td>\n",
       "                        <td id=\"T_cebc2_row7_col5\" class=\"data row7 col5\" >36900.91</td>\n",
       "                        <td id=\"T_cebc2_row7_col6\" class=\"data row7 col6\" >62775.19</td>\n",
       "                        <td id=\"T_cebc2_row7_col7\" class=\"data row7 col7\" >0.6643</td>\n",
       "            </tr>\n",
       "    </tbody></table>"
      ],
      "text/plain": [
       "<pandas.io.formats.style.Styler at 0x7ff3b1e1a0a0>"
      ]
     },
     "execution_count": 235,
     "metadata": {},
     "output_type": "execute_result"
    }
   ],
   "source": [
    "evaluation_metrics.style.format({'MAE(Train)': '{:.2f}', 'RMSE(Train)': '{:.2f}', 'R2 Score(Train)': '{:.4f}', 'MAE(Test)': '{:.2f}', 'RMSE(Test)': '{:.2f}', 'R2 Score(Test)': '{:.4f}'})"
   ]
  },
  {
   "cell_type": "markdown",
   "metadata": {},
   "source": [
    "- Dari hasil evaluasi model baik model dasar ataupun yang telah di-tuning, kita dapat tarik kesimpulan bahwa:\n",
    "    - Model masih belum mencukupi standar `Goodfit` jika kita berpatokan pada nilai r2-nya dimana umumnya model yang good fit berada di atas 0.80++\n",
    "    - Namun keseluruhan model kecuali base XGBoost tidak mengalami `overfitting`, dimana selisih baik MAE yang menjadi faktor penilaian utama kita maupun r2 skor tidak terlalu jauh\n",
    "    - Model XGBoost yang telah ditemukan hyperparameternya yaitu `colsample_bytree: 0.7, learning_rate: 0.05, max_depth: 2, n_estimators: 120, subsample: 0.8` menjadi model terbaik dimana menghasilkan nilai MAE 32474 untuk Train dan 39701 untuk Test set\n",
    "    - Model XGboost tuned akan digunakan sebagai basis prediksi harga melalui input atau masukkan user dari website yang nantinya akan kita kembangkan yang sebelumnya telah dibuat pipeline dan simpan dalam bentuk file `full_pipe.pkl` agar bisa digunakan secara external\n",
    "\n"
   ]
  },
  {
   "cell_type": "markdown",
   "metadata": {},
   "source": [
    "- Dari sisi dataset:\n",
    "    - Sampel yang digunakan masih dianggap kurang cukup untuk memenuhi kebutuhan permodelan machine learning ini\n",
    "    - Alangkah lebih baiknya, dataset dihimpun dari daftar pada tahun-tahun sebelumnya ataupun dari berbagai situs jual beli mobil bekas yang berada di wilayah turki. Dengan hal ini diharapkan permodelan machine learning semakin mengenal lebih baik karakteristik mobil yang akan dijual dan dapat memmberikan saran ataupun prediksi harga yang jauh lebih baik"
   ]
  },
  {
   "cell_type": "markdown",
   "metadata": {},
   "source": [
    "- Saran untuk tahap pengembangan selanjutnya:\n",
    "    - Pada pasar mobil, pada dasarnya terdapat segmentasi pasar yang juga turut mempengaruhi harga-harga mobil baik baru maupun bekas. \n",
    "    - Kedepannya akan lebih baik jika dibuat lebih dari satu model machine learning dalam memprediksi harga berdasarkan segmentasi tersebut. Dimana sistem awalnya mampu mendeteksi mobil mana yang masuk ke segmentasi apa, kemudian digunakan permodelan prediksi harga yang telah disesuaikan, sehingga selisih harga yang dihasilkan model machine learning diharapkan mampu meminimalkan selisih harga yang diprediksi\n",
    "    - Namun hal ini juga tentu membutuhkan bahan data yang jauh lebih banyak dari apa yang telah ada saat ini"
   ]
  },
  {
   "cell_type": "markdown",
   "metadata": {},
   "source": [
    "<hr>"
   ]
  },
  {
   "cell_type": "markdown",
   "metadata": {},
   "source": [
    "# **4. Extras**"
   ]
  },
  {
   "cell_type": "code",
   "execution_count": 236,
   "metadata": {},
   "outputs": [],
   "source": [
    "# dfa_q1 = df_changed_parts['age'].quantile(0.25)\n",
    "# dfa_q3 = df_changed_parts['age'].quantile(0.75)\n",
    "# dfep_q1 = df_changed_parts['engine_power'].quantile(0.25)\n",
    "# dfep_q3 = df_changed_parts['engine_power'].quantile(0.75)\n",
    "# dfkm_q1 = df_changed_parts['km'].quantile(0.25)\n",
    "# # dfkm_q3 = df_changed_parts['km'].quantile(0.75)\n",
    "# df_changed_painted_parts = df_changed_parts.query('age>=@dfa_q1 and age<=@dfa_q3 and engine_power>=@dfep_q1 and engine_power<=@dfep_q3 and km>=@dfkm_q1 and km<=@dfkm_q3')"
   ]
  },
  {
   "cell_type": "code",
   "execution_count": 237,
   "metadata": {},
   "outputs": [],
   "source": [
    "# df['brand'] = df['brand'].replace('Tofa�', 'Tofas')\n",
    "# # df['model'] = df['model'].replace('�ahin', 'Sahin')\n",
    "# # df['model'] = df['model'].replace('Do�an', 'Dogan')"
   ]
  }
 ],
 "metadata": {
  "interpreter": {
   "hash": "14ea365952bdbae89a416bf9fb6d228665283457abcf209a32480eface1362a4"
  },
  "kernelspec": {
   "display_name": "Python 3",
   "language": "python",
   "name": "python3"
  },
  "language_info": {
   "codemirror_mode": {
    "name": "ipython",
    "version": 3
   },
   "file_extension": ".py",
   "mimetype": "text/x-python",
   "name": "python",
   "nbconvert_exporter": "python",
   "pygments_lexer": "ipython3",
   "version": "3.8.8"
  }
 },
 "nbformat": 4,
 "nbformat_minor": 2
}
